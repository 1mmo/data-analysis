{
 "cells": [
  {
   "cell_type": "markdown",
   "id": "a46f8e37",
   "metadata": {},
   "source": [
    "<br>\n",
    "<font size=6>Intro to Machine Learning</font>\n",
    "<br>\n",
    "<br>\n",
    "<i>\"Надо много учиться, чтобы знать хоть немного\".</i><br>\n",
    "<br>\n",
    "Первым и обязательным шагом к освоению machine learning должна стать статья <a href='https://vas3k.ru/blog/machine_learning/'>Машинное обучение для людей</a>.<br>\n",
    "Именно с неё я советую каждому начать изучение. Она даст необходимое понимание и представление о направление ML.<br> \n",
    "Статья большая и не обязательно читать её за один раз, посмотрите на несколько алгоритмов и можете возвращаться сюда.<br>\n",
    "Но после следует обязательно дочитать статью.<br><br>\n",
    "  \n",
    "\n",
    "Материалы занятия:\n",
    "- Курс по machine learning на kaggle https://www.kaggle.com/learn"
   ]
  },
  {
   "cell_type": "markdown",
   "id": "e4b3a448",
   "metadata": {},
   "source": [
    "<br>\n",
    "<font size=6>Эпизод Ⅰ</font><br>\n",
    "<br>\n",
    "<font size=5>First model</font>\n",
    "<hr>\n",
    "Возьмем датасет <a href='https://www.kaggle.com/datasets/dansbecker/melbourne-housing-snapshot'>Melbourne Housing Snapshot</a> и будем предсказывать цены на жилье.<br>\n",
    "<br>"
   ]
  },
  {
   "cell_type": "code",
   "execution_count": 1,
   "id": "687a7135",
   "metadata": {},
   "outputs": [],
   "source": [
    "import pandas as pd"
   ]
  },
  {
   "cell_type": "code",
   "execution_count": 2,
   "id": "e5bf684a",
   "metadata": {},
   "outputs": [
    {
     "data": {
      "text/html": [
       "<div>\n",
       "<style scoped>\n",
       "    .dataframe tbody tr th:only-of-type {\n",
       "        vertical-align: middle;\n",
       "    }\n",
       "\n",
       "    .dataframe tbody tr th {\n",
       "        vertical-align: top;\n",
       "    }\n",
       "\n",
       "    .dataframe thead th {\n",
       "        text-align: right;\n",
       "    }\n",
       "</style>\n",
       "<table border=\"1\" class=\"dataframe\">\n",
       "  <thead>\n",
       "    <tr style=\"text-align: right;\">\n",
       "      <th></th>\n",
       "      <th>Suburb</th>\n",
       "      <th>Address</th>\n",
       "      <th>Rooms</th>\n",
       "      <th>Type</th>\n",
       "      <th>Price</th>\n",
       "      <th>Method</th>\n",
       "      <th>SellerG</th>\n",
       "      <th>Date</th>\n",
       "      <th>Distance</th>\n",
       "      <th>Postcode</th>\n",
       "      <th>...</th>\n",
       "      <th>Bathroom</th>\n",
       "      <th>Car</th>\n",
       "      <th>Landsize</th>\n",
       "      <th>BuildingArea</th>\n",
       "      <th>YearBuilt</th>\n",
       "      <th>CouncilArea</th>\n",
       "      <th>Lattitude</th>\n",
       "      <th>Longtitude</th>\n",
       "      <th>Regionname</th>\n",
       "      <th>Propertycount</th>\n",
       "    </tr>\n",
       "  </thead>\n",
       "  <tbody>\n",
       "    <tr>\n",
       "      <th>0</th>\n",
       "      <td>Abbotsford</td>\n",
       "      <td>85 Turner St</td>\n",
       "      <td>2</td>\n",
       "      <td>h</td>\n",
       "      <td>1480000.0</td>\n",
       "      <td>S</td>\n",
       "      <td>Biggin</td>\n",
       "      <td>3/12/2016</td>\n",
       "      <td>2.5</td>\n",
       "      <td>3067.0</td>\n",
       "      <td>...</td>\n",
       "      <td>1.0</td>\n",
       "      <td>1.0</td>\n",
       "      <td>202.0</td>\n",
       "      <td>NaN</td>\n",
       "      <td>NaN</td>\n",
       "      <td>Yarra</td>\n",
       "      <td>-37.7996</td>\n",
       "      <td>144.9984</td>\n",
       "      <td>Northern Metropolitan</td>\n",
       "      <td>4019.0</td>\n",
       "    </tr>\n",
       "    <tr>\n",
       "      <th>1</th>\n",
       "      <td>Abbotsford</td>\n",
       "      <td>25 Bloomburg St</td>\n",
       "      <td>2</td>\n",
       "      <td>h</td>\n",
       "      <td>1035000.0</td>\n",
       "      <td>S</td>\n",
       "      <td>Biggin</td>\n",
       "      <td>4/02/2016</td>\n",
       "      <td>2.5</td>\n",
       "      <td>3067.0</td>\n",
       "      <td>...</td>\n",
       "      <td>1.0</td>\n",
       "      <td>0.0</td>\n",
       "      <td>156.0</td>\n",
       "      <td>79.0</td>\n",
       "      <td>1900.0</td>\n",
       "      <td>Yarra</td>\n",
       "      <td>-37.8079</td>\n",
       "      <td>144.9934</td>\n",
       "      <td>Northern Metropolitan</td>\n",
       "      <td>4019.0</td>\n",
       "    </tr>\n",
       "    <tr>\n",
       "      <th>2</th>\n",
       "      <td>Abbotsford</td>\n",
       "      <td>5 Charles St</td>\n",
       "      <td>3</td>\n",
       "      <td>h</td>\n",
       "      <td>1465000.0</td>\n",
       "      <td>SP</td>\n",
       "      <td>Biggin</td>\n",
       "      <td>4/03/2017</td>\n",
       "      <td>2.5</td>\n",
       "      <td>3067.0</td>\n",
       "      <td>...</td>\n",
       "      <td>2.0</td>\n",
       "      <td>0.0</td>\n",
       "      <td>134.0</td>\n",
       "      <td>150.0</td>\n",
       "      <td>1900.0</td>\n",
       "      <td>Yarra</td>\n",
       "      <td>-37.8093</td>\n",
       "      <td>144.9944</td>\n",
       "      <td>Northern Metropolitan</td>\n",
       "      <td>4019.0</td>\n",
       "    </tr>\n",
       "    <tr>\n",
       "      <th>3</th>\n",
       "      <td>Abbotsford</td>\n",
       "      <td>40 Federation La</td>\n",
       "      <td>3</td>\n",
       "      <td>h</td>\n",
       "      <td>850000.0</td>\n",
       "      <td>PI</td>\n",
       "      <td>Biggin</td>\n",
       "      <td>4/03/2017</td>\n",
       "      <td>2.5</td>\n",
       "      <td>3067.0</td>\n",
       "      <td>...</td>\n",
       "      <td>2.0</td>\n",
       "      <td>1.0</td>\n",
       "      <td>94.0</td>\n",
       "      <td>NaN</td>\n",
       "      <td>NaN</td>\n",
       "      <td>Yarra</td>\n",
       "      <td>-37.7969</td>\n",
       "      <td>144.9969</td>\n",
       "      <td>Northern Metropolitan</td>\n",
       "      <td>4019.0</td>\n",
       "    </tr>\n",
       "    <tr>\n",
       "      <th>4</th>\n",
       "      <td>Abbotsford</td>\n",
       "      <td>55a Park St</td>\n",
       "      <td>4</td>\n",
       "      <td>h</td>\n",
       "      <td>1600000.0</td>\n",
       "      <td>VB</td>\n",
       "      <td>Nelson</td>\n",
       "      <td>4/06/2016</td>\n",
       "      <td>2.5</td>\n",
       "      <td>3067.0</td>\n",
       "      <td>...</td>\n",
       "      <td>1.0</td>\n",
       "      <td>2.0</td>\n",
       "      <td>120.0</td>\n",
       "      <td>142.0</td>\n",
       "      <td>2014.0</td>\n",
       "      <td>Yarra</td>\n",
       "      <td>-37.8072</td>\n",
       "      <td>144.9941</td>\n",
       "      <td>Northern Metropolitan</td>\n",
       "      <td>4019.0</td>\n",
       "    </tr>\n",
       "  </tbody>\n",
       "</table>\n",
       "<p>5 rows × 21 columns</p>\n",
       "</div>"
      ],
      "text/plain": [
       "       Suburb           Address  Rooms Type      Price Method SellerG  \\\n",
       "0  Abbotsford      85 Turner St      2    h  1480000.0      S  Biggin   \n",
       "1  Abbotsford   25 Bloomburg St      2    h  1035000.0      S  Biggin   \n",
       "2  Abbotsford      5 Charles St      3    h  1465000.0     SP  Biggin   \n",
       "3  Abbotsford  40 Federation La      3    h   850000.0     PI  Biggin   \n",
       "4  Abbotsford       55a Park St      4    h  1600000.0     VB  Nelson   \n",
       "\n",
       "        Date  Distance  Postcode  ...  Bathroom  Car  Landsize  BuildingArea  \\\n",
       "0  3/12/2016       2.5    3067.0  ...       1.0  1.0     202.0           NaN   \n",
       "1  4/02/2016       2.5    3067.0  ...       1.0  0.0     156.0          79.0   \n",
       "2  4/03/2017       2.5    3067.0  ...       2.0  0.0     134.0         150.0   \n",
       "3  4/03/2017       2.5    3067.0  ...       2.0  1.0      94.0           NaN   \n",
       "4  4/06/2016       2.5    3067.0  ...       1.0  2.0     120.0         142.0   \n",
       "\n",
       "   YearBuilt  CouncilArea Lattitude  Longtitude             Regionname  \\\n",
       "0        NaN        Yarra  -37.7996    144.9984  Northern Metropolitan   \n",
       "1     1900.0        Yarra  -37.8079    144.9934  Northern Metropolitan   \n",
       "2     1900.0        Yarra  -37.8093    144.9944  Northern Metropolitan   \n",
       "3        NaN        Yarra  -37.7969    144.9969  Northern Metropolitan   \n",
       "4     2014.0        Yarra  -37.8072    144.9941  Northern Metropolitan   \n",
       "\n",
       "  Propertycount  \n",
       "0        4019.0  \n",
       "1        4019.0  \n",
       "2        4019.0  \n",
       "3        4019.0  \n",
       "4        4019.0  \n",
       "\n",
       "[5 rows x 21 columns]"
      ]
     },
     "execution_count": 2,
     "metadata": {},
     "output_type": "execute_result"
    }
   ],
   "source": [
    "data = pd.read_csv('data/melb_data.csv')\n",
    "data.head()"
   ]
  },
  {
   "cell_type": "markdown",
   "id": "e453dcdf",
   "metadata": {},
   "source": [
    "<br>\n",
    "Мы говорили, что при работе с данными важно понимать с какими признаками мы работаем.<br>\n",
    "Иногда в них бывает нехватка и начинаются проблемы, но зачастую при определение нашей задачи, некоторые признаки бывают лишними либо влияют на нашу задачу сильнее других. Например, <b>CouncilArea: Управляющий совет области</b> не так влияет на задачу предсказывать цену жилья, нежели признак <b>Rooms: количество комнат</b>.<br>\n",
    "Для определения наиболее важных признаков применяют различные статистические методы, о них мы узнаем позже, сейчас же попробуем интуиктивно отобрать полезные признаки.<br>\n",
    "<br>"
   ]
  },
  {
   "cell_type": "code",
   "execution_count": 3,
   "id": "d293cf39",
   "metadata": {},
   "outputs": [
    {
     "data": {
      "text/plain": [
       "Index(['Suburb', 'Address', 'Rooms', 'Type', 'Price', 'Method', 'SellerG',\n",
       "       'Date', 'Distance', 'Postcode', 'Bedroom2', 'Bathroom', 'Car',\n",
       "       'Landsize', 'BuildingArea', 'YearBuilt', 'CouncilArea', 'Lattitude',\n",
       "       'Longtitude', 'Regionname', 'Propertycount'],\n",
       "      dtype='object')"
      ]
     },
     "execution_count": 3,
     "metadata": {},
     "output_type": "execute_result"
    }
   ],
   "source": [
    "data.columns"
   ]
  },
  {
   "cell_type": "markdown",
   "id": "7ab90228",
   "metadata": {},
   "source": [
    "<br>\n",
    "Нам следует подробней изучить каждый признак.<br>\n",
    "Но для простаты мы отлижим разведывательный анализ и просто посмотрим на пропуски и описание.<br>\n",
    "<br>"
   ]
  },
  {
   "cell_type": "code",
   "execution_count": 4,
   "id": "c5b56255",
   "metadata": {},
   "outputs": [
    {
     "data": {
      "text/plain": [
       "Suburb              0\n",
       "Address             0\n",
       "Rooms               0\n",
       "Type                0\n",
       "Price               0\n",
       "Method              0\n",
       "SellerG             0\n",
       "Date                0\n",
       "Distance            0\n",
       "Postcode            0\n",
       "Bedroom2            0\n",
       "Bathroom            0\n",
       "Car                62\n",
       "Landsize            0\n",
       "BuildingArea     6450\n",
       "YearBuilt        5375\n",
       "CouncilArea      1369\n",
       "Lattitude           0\n",
       "Longtitude          0\n",
       "Regionname          0\n",
       "Propertycount       0\n",
       "dtype: int64"
      ]
     },
     "execution_count": 4,
     "metadata": {},
     "output_type": "execute_result"
    }
   ],
   "source": [
    "data.isnull().sum()"
   ]
  },
  {
   "cell_type": "markdown",
   "id": "8aa1e51c",
   "metadata": {},
   "source": [
    "<br>\n",
    "В данных Мельбурна есть некоторые отсутствующие значения.<br>\n",
    "Возьмем самый простой вариант для работы с пропусками и выкинем дома из наших данных:<br>\n",
    "<br>"
   ]
  },
  {
   "cell_type": "code",
   "execution_count": 5,
   "id": "13eaee21",
   "metadata": {},
   "outputs": [],
   "source": [
    "data = data.dropna(axis=0)"
   ]
  },
  {
   "cell_type": "code",
   "execution_count": 6,
   "id": "86e503fe",
   "metadata": {},
   "outputs": [
    {
     "data": {
      "text/plain": [
       "Suburb           0\n",
       "Address          0\n",
       "Rooms            0\n",
       "Type             0\n",
       "Price            0\n",
       "Method           0\n",
       "SellerG          0\n",
       "Date             0\n",
       "Distance         0\n",
       "Postcode         0\n",
       "Bedroom2         0\n",
       "Bathroom         0\n",
       "Car              0\n",
       "Landsize         0\n",
       "BuildingArea     0\n",
       "YearBuilt        0\n",
       "CouncilArea      0\n",
       "Lattitude        0\n",
       "Longtitude       0\n",
       "Regionname       0\n",
       "Propertycount    0\n",
       "dtype: int64"
      ]
     },
     "execution_count": 6,
     "metadata": {},
     "output_type": "execute_result"
    }
   ],
   "source": [
    "data.isnull().sum()"
   ]
  },
  {
   "cell_type": "markdown",
   "id": "e193bcf8",
   "metadata": {},
   "source": [
    "<br>\n",
    "Хорошо, данные обработаны и условно проанализированы<br>\n",
    "<br>\n",
    "Наша задача в предсказании цены или признака <b>price</b>.<br>\n",
    "Такой признак называют целевой переменной(признак) и обычно записывают в перменную y<br>\n",
    "<br>"
   ]
  },
  {
   "cell_type": "code",
   "execution_count": 7,
   "id": "9a97e635",
   "metadata": {},
   "outputs": [],
   "source": [
    "y = data.Price"
   ]
  },
  {
   "cell_type": "markdown",
   "id": "03c8947f",
   "metadata": {},
   "source": [
    "<br>\n",
    "Большинство алгоритмов принимают только числовые признаки.<br>\n",
    "Возьмем наиболее важные числовые признаки<br>\n",
    "<br>"
   ]
  },
  {
   "cell_type": "code",
   "execution_count": 8,
   "id": "b9d91233",
   "metadata": {},
   "outputs": [],
   "source": [
    "data_features = ['Rooms', 'Bathroom', 'Landsize', 'Lattitude', 'Longtitude']\n",
    "X = data[data_features]"
   ]
  },
  {
   "cell_type": "markdown",
   "id": "32880ac1",
   "metadata": {},
   "source": [
    "Датасет, по которому будет обучаться наш алгоритм, записывается в переменную X"
   ]
  },
  {
   "cell_type": "code",
   "execution_count": 9,
   "id": "c2a78c79",
   "metadata": {},
   "outputs": [
    {
     "data": {
      "text/html": [
       "<div>\n",
       "<style scoped>\n",
       "    .dataframe tbody tr th:only-of-type {\n",
       "        vertical-align: middle;\n",
       "    }\n",
       "\n",
       "    .dataframe tbody tr th {\n",
       "        vertical-align: top;\n",
       "    }\n",
       "\n",
       "    .dataframe thead th {\n",
       "        text-align: right;\n",
       "    }\n",
       "</style>\n",
       "<table border=\"1\" class=\"dataframe\">\n",
       "  <thead>\n",
       "    <tr style=\"text-align: right;\">\n",
       "      <th></th>\n",
       "      <th>Rooms</th>\n",
       "      <th>Bathroom</th>\n",
       "      <th>Landsize</th>\n",
       "      <th>Lattitude</th>\n",
       "      <th>Longtitude</th>\n",
       "    </tr>\n",
       "  </thead>\n",
       "  <tbody>\n",
       "    <tr>\n",
       "      <th>count</th>\n",
       "      <td>6196.000000</td>\n",
       "      <td>6196.000000</td>\n",
       "      <td>6196.000000</td>\n",
       "      <td>6196.000000</td>\n",
       "      <td>6196.000000</td>\n",
       "    </tr>\n",
       "    <tr>\n",
       "      <th>mean</th>\n",
       "      <td>2.931407</td>\n",
       "      <td>1.576340</td>\n",
       "      <td>471.006940</td>\n",
       "      <td>-37.807904</td>\n",
       "      <td>144.990201</td>\n",
       "    </tr>\n",
       "    <tr>\n",
       "      <th>std</th>\n",
       "      <td>0.971079</td>\n",
       "      <td>0.711362</td>\n",
       "      <td>897.449881</td>\n",
       "      <td>0.075850</td>\n",
       "      <td>0.099165</td>\n",
       "    </tr>\n",
       "    <tr>\n",
       "      <th>min</th>\n",
       "      <td>1.000000</td>\n",
       "      <td>1.000000</td>\n",
       "      <td>0.000000</td>\n",
       "      <td>-38.164920</td>\n",
       "      <td>144.542370</td>\n",
       "    </tr>\n",
       "    <tr>\n",
       "      <th>25%</th>\n",
       "      <td>2.000000</td>\n",
       "      <td>1.000000</td>\n",
       "      <td>152.000000</td>\n",
       "      <td>-37.855438</td>\n",
       "      <td>144.926198</td>\n",
       "    </tr>\n",
       "    <tr>\n",
       "      <th>50%</th>\n",
       "      <td>3.000000</td>\n",
       "      <td>1.000000</td>\n",
       "      <td>373.000000</td>\n",
       "      <td>-37.802250</td>\n",
       "      <td>144.995800</td>\n",
       "    </tr>\n",
       "    <tr>\n",
       "      <th>75%</th>\n",
       "      <td>4.000000</td>\n",
       "      <td>2.000000</td>\n",
       "      <td>628.000000</td>\n",
       "      <td>-37.758200</td>\n",
       "      <td>145.052700</td>\n",
       "    </tr>\n",
       "    <tr>\n",
       "      <th>max</th>\n",
       "      <td>8.000000</td>\n",
       "      <td>8.000000</td>\n",
       "      <td>37000.000000</td>\n",
       "      <td>-37.457090</td>\n",
       "      <td>145.526350</td>\n",
       "    </tr>\n",
       "  </tbody>\n",
       "</table>\n",
       "</div>"
      ],
      "text/plain": [
       "             Rooms     Bathroom      Landsize    Lattitude   Longtitude\n",
       "count  6196.000000  6196.000000   6196.000000  6196.000000  6196.000000\n",
       "mean      2.931407     1.576340    471.006940   -37.807904   144.990201\n",
       "std       0.971079     0.711362    897.449881     0.075850     0.099165\n",
       "min       1.000000     1.000000      0.000000   -38.164920   144.542370\n",
       "25%       2.000000     1.000000    152.000000   -37.855438   144.926198\n",
       "50%       3.000000     1.000000    373.000000   -37.802250   144.995800\n",
       "75%       4.000000     2.000000    628.000000   -37.758200   145.052700\n",
       "max       8.000000     8.000000  37000.000000   -37.457090   145.526350"
      ]
     },
     "execution_count": 9,
     "metadata": {},
     "output_type": "execute_result"
    }
   ],
   "source": [
    "X.describe()"
   ]
  },
  {
   "cell_type": "code",
   "execution_count": 10,
   "id": "2a5f6970",
   "metadata": {},
   "outputs": [
    {
     "data": {
      "text/html": [
       "<div>\n",
       "<style scoped>\n",
       "    .dataframe tbody tr th:only-of-type {\n",
       "        vertical-align: middle;\n",
       "    }\n",
       "\n",
       "    .dataframe tbody tr th {\n",
       "        vertical-align: top;\n",
       "    }\n",
       "\n",
       "    .dataframe thead th {\n",
       "        text-align: right;\n",
       "    }\n",
       "</style>\n",
       "<table border=\"1\" class=\"dataframe\">\n",
       "  <thead>\n",
       "    <tr style=\"text-align: right;\">\n",
       "      <th></th>\n",
       "      <th>Rooms</th>\n",
       "      <th>Bathroom</th>\n",
       "      <th>Landsize</th>\n",
       "      <th>Lattitude</th>\n",
       "      <th>Longtitude</th>\n",
       "    </tr>\n",
       "  </thead>\n",
       "  <tbody>\n",
       "    <tr>\n",
       "      <th>1</th>\n",
       "      <td>2</td>\n",
       "      <td>1.0</td>\n",
       "      <td>156.0</td>\n",
       "      <td>-37.8079</td>\n",
       "      <td>144.9934</td>\n",
       "    </tr>\n",
       "    <tr>\n",
       "      <th>2</th>\n",
       "      <td>3</td>\n",
       "      <td>2.0</td>\n",
       "      <td>134.0</td>\n",
       "      <td>-37.8093</td>\n",
       "      <td>144.9944</td>\n",
       "    </tr>\n",
       "    <tr>\n",
       "      <th>4</th>\n",
       "      <td>4</td>\n",
       "      <td>1.0</td>\n",
       "      <td>120.0</td>\n",
       "      <td>-37.8072</td>\n",
       "      <td>144.9941</td>\n",
       "    </tr>\n",
       "    <tr>\n",
       "      <th>6</th>\n",
       "      <td>3</td>\n",
       "      <td>2.0</td>\n",
       "      <td>245.0</td>\n",
       "      <td>-37.8024</td>\n",
       "      <td>144.9993</td>\n",
       "    </tr>\n",
       "    <tr>\n",
       "      <th>7</th>\n",
       "      <td>2</td>\n",
       "      <td>1.0</td>\n",
       "      <td>256.0</td>\n",
       "      <td>-37.8060</td>\n",
       "      <td>144.9954</td>\n",
       "    </tr>\n",
       "  </tbody>\n",
       "</table>\n",
       "</div>"
      ],
      "text/plain": [
       "   Rooms  Bathroom  Landsize  Lattitude  Longtitude\n",
       "1      2       1.0     156.0   -37.8079    144.9934\n",
       "2      3       2.0     134.0   -37.8093    144.9944\n",
       "4      4       1.0     120.0   -37.8072    144.9941\n",
       "6      3       2.0     245.0   -37.8024    144.9993\n",
       "7      2       1.0     256.0   -37.8060    144.9954"
      ]
     },
     "execution_count": 10,
     "metadata": {},
     "output_type": "execute_result"
    }
   ],
   "source": [
    "X.head()"
   ]
  },
  {
   "cell_type": "markdown",
   "id": "8b9183e5",
   "metadata": {},
   "source": [
    "<br>\n",
    "<font size=4><b>Building Model</b></font><br>\n",
    "<br>\n",
    "Мы будем использовать библиотеку <b>scikit-learn</b> для создания своих моделей. При кодировании эта библиотека записывается как sklearn, как вы увидите в примере кода. Scikit-learn — это, пожалуй, самая популярная библиотека в ML.<br>\n",
    "<br>\n",
    "Шаги построения и использования модели:\n",
    "\n",
    " - Define: какой тип модели это будет? Дерево решений? Какой-то другой тип модели?\n",
    " - fit: Тренировка или обучение модели. Это сердце ML.\n",
    " - Predict: получить прогноз от модели\n",
    " - Evaluate: оценить насколько точны прогнозы модели.\n",
    "    \n",
    "    \n",
    " <br>\n",
    " Вот пример определения модели \"дерево решений\" с помощью scikit-learn и ее сопоставления с функциями и целевой переменной:"
   ]
  },
  {
   "cell_type": "code",
   "execution_count": 11,
   "id": "da5ab0d0",
   "metadata": {},
   "outputs": [
    {
     "name": "stdout",
     "output_type": "stream",
     "text": [
      "Requirement already satisfied: scikit-learn in /home/yunost/Desktop/github/data-analysis-handbook/venv/lib/python3.10/site-packages (1.1.3)\n",
      "Requirement already satisfied: threadpoolctl>=2.0.0 in /home/yunost/Desktop/github/data-analysis-handbook/venv/lib/python3.10/site-packages (from scikit-learn) (3.1.0)\n",
      "Requirement already satisfied: scipy>=1.3.2 in /home/yunost/Desktop/github/data-analysis-handbook/venv/lib/python3.10/site-packages (from scikit-learn) (1.9.3)\n",
      "Requirement already satisfied: joblib>=1.0.0 in /home/yunost/Desktop/github/data-analysis-handbook/venv/lib/python3.10/site-packages (from scikit-learn) (1.2.0)\n",
      "Requirement already satisfied: numpy>=1.17.3 in /home/yunost/Desktop/github/data-analysis-handbook/venv/lib/python3.10/site-packages (from scikit-learn) (1.23.2)\n"
     ]
    }
   ],
   "source": [
    "!pip install scikit-learn"
   ]
  },
  {
   "cell_type": "code",
   "execution_count": 12,
   "id": "f09c0671",
   "metadata": {},
   "outputs": [
    {
     "data": {
      "text/html": [
       "<style>#sk-container-id-1 {color: black;background-color: white;}#sk-container-id-1 pre{padding: 0;}#sk-container-id-1 div.sk-toggleable {background-color: white;}#sk-container-id-1 label.sk-toggleable__label {cursor: pointer;display: block;width: 100%;margin-bottom: 0;padding: 0.3em;box-sizing: border-box;text-align: center;}#sk-container-id-1 label.sk-toggleable__label-arrow:before {content: \"▸\";float: left;margin-right: 0.25em;color: #696969;}#sk-container-id-1 label.sk-toggleable__label-arrow:hover:before {color: black;}#sk-container-id-1 div.sk-estimator:hover label.sk-toggleable__label-arrow:before {color: black;}#sk-container-id-1 div.sk-toggleable__content {max-height: 0;max-width: 0;overflow: hidden;text-align: left;background-color: #f0f8ff;}#sk-container-id-1 div.sk-toggleable__content pre {margin: 0.2em;color: black;border-radius: 0.25em;background-color: #f0f8ff;}#sk-container-id-1 input.sk-toggleable__control:checked~div.sk-toggleable__content {max-height: 200px;max-width: 100%;overflow: auto;}#sk-container-id-1 input.sk-toggleable__control:checked~label.sk-toggleable__label-arrow:before {content: \"▾\";}#sk-container-id-1 div.sk-estimator input.sk-toggleable__control:checked~label.sk-toggleable__label {background-color: #d4ebff;}#sk-container-id-1 div.sk-label input.sk-toggleable__control:checked~label.sk-toggleable__label {background-color: #d4ebff;}#sk-container-id-1 input.sk-hidden--visually {border: 0;clip: rect(1px 1px 1px 1px);clip: rect(1px, 1px, 1px, 1px);height: 1px;margin: -1px;overflow: hidden;padding: 0;position: absolute;width: 1px;}#sk-container-id-1 div.sk-estimator {font-family: monospace;background-color: #f0f8ff;border: 1px dotted black;border-radius: 0.25em;box-sizing: border-box;margin-bottom: 0.5em;}#sk-container-id-1 div.sk-estimator:hover {background-color: #d4ebff;}#sk-container-id-1 div.sk-parallel-item::after {content: \"\";width: 100%;border-bottom: 1px solid gray;flex-grow: 1;}#sk-container-id-1 div.sk-label:hover label.sk-toggleable__label {background-color: #d4ebff;}#sk-container-id-1 div.sk-serial::before {content: \"\";position: absolute;border-left: 1px solid gray;box-sizing: border-box;top: 0;bottom: 0;left: 50%;z-index: 0;}#sk-container-id-1 div.sk-serial {display: flex;flex-direction: column;align-items: center;background-color: white;padding-right: 0.2em;padding-left: 0.2em;position: relative;}#sk-container-id-1 div.sk-item {position: relative;z-index: 1;}#sk-container-id-1 div.sk-parallel {display: flex;align-items: stretch;justify-content: center;background-color: white;position: relative;}#sk-container-id-1 div.sk-item::before, #sk-container-id-1 div.sk-parallel-item::before {content: \"\";position: absolute;border-left: 1px solid gray;box-sizing: border-box;top: 0;bottom: 0;left: 50%;z-index: -1;}#sk-container-id-1 div.sk-parallel-item {display: flex;flex-direction: column;z-index: 1;position: relative;background-color: white;}#sk-container-id-1 div.sk-parallel-item:first-child::after {align-self: flex-end;width: 50%;}#sk-container-id-1 div.sk-parallel-item:last-child::after {align-self: flex-start;width: 50%;}#sk-container-id-1 div.sk-parallel-item:only-child::after {width: 0;}#sk-container-id-1 div.sk-dashed-wrapped {border: 1px dashed gray;margin: 0 0.4em 0.5em 0.4em;box-sizing: border-box;padding-bottom: 0.4em;background-color: white;}#sk-container-id-1 div.sk-label label {font-family: monospace;font-weight: bold;display: inline-block;line-height: 1.2em;}#sk-container-id-1 div.sk-label-container {text-align: center;}#sk-container-id-1 div.sk-container {/* jupyter's `normalize.less` sets `[hidden] { display: none; }` but bootstrap.min.css set `[hidden] { display: none !important; }` so we also need the `!important` here to be able to override the default hidden behavior on the sphinx rendered scikit-learn.org. See: https://github.com/scikit-learn/scikit-learn/issues/21755 */display: inline-block !important;position: relative;}#sk-container-id-1 div.sk-text-repr-fallback {display: none;}</style><div id=\"sk-container-id-1\" class=\"sk-top-container\"><div class=\"sk-text-repr-fallback\"><pre>DecisionTreeRegressor(random_state=1)</pre><b>In a Jupyter environment, please rerun this cell to show the HTML representation or trust the notebook. <br />On GitHub, the HTML representation is unable to render, please try loading this page with nbviewer.org.</b></div><div class=\"sk-container\" hidden><div class=\"sk-item\"><div class=\"sk-estimator sk-toggleable\"><input class=\"sk-toggleable__control sk-hidden--visually\" id=\"sk-estimator-id-1\" type=\"checkbox\" checked><label for=\"sk-estimator-id-1\" class=\"sk-toggleable__label sk-toggleable__label-arrow\">DecisionTreeRegressor</label><div class=\"sk-toggleable__content\"><pre>DecisionTreeRegressor(random_state=1)</pre></div></div></div></div></div>"
      ],
      "text/plain": [
       "DecisionTreeRegressor(random_state=1)"
      ]
     },
     "execution_count": 12,
     "metadata": {},
     "output_type": "execute_result"
    }
   ],
   "source": [
    "from sklearn.tree import DecisionTreeRegressor\n",
    "\n",
    "# Определение модели. Укажите число для random_state, чтобы обеспечить одинаковые результаты при каждом запуске.\n",
    "model = DecisionTreeRegressor(random_state=1)\n",
    "# Обучение модели\n",
    "model.fit(X, y)"
   ]
  },
  {
   "cell_type": "markdown",
   "id": "4672c77b",
   "metadata": {},
   "source": [
    "<br>\n",
    "Многие модели машинного обучения допускают некоторую случайность при обучении модели. Указание числа для random_state гарантирует получение одинаковых результатов при каждом запуске. Это считается хорошей практикой. Вы используете любое число, и качество модели не будет существенно зависеть от того, какое именно значение вы выберете.<br>\n",
    "<br>\n",
    "Теперь у нас есть подогнанная модель, которую мы можем использовать для прогнозирования.<br>\n",
    "<br>\n",
    "На практике вы захотите делать прогнозы для новых домов, которые появятся на рынке, а не для домов, на которые у нас уже есть цены. Но мы сделаем прогнозы для первых нескольких строк обучающих данных, чтобы увидеть, как работает функция прогнозирования.<br>\n",
    "<br>"
   ]
  },
  {
   "cell_type": "code",
   "execution_count": 13,
   "id": "dc0caf85",
   "metadata": {},
   "outputs": [
    {
     "name": "stdout",
     "output_type": "stream",
     "text": [
      "Предсказание цены для домов:\n",
      "   Rooms  Bathroom  Landsize  Lattitude  Longtitude\n",
      "1      2       1.0     156.0   -37.8079    144.9934\n",
      "2      3       2.0     134.0   -37.8093    144.9944\n",
      "4      4       1.0     120.0   -37.8072    144.9941\n",
      "6      3       2.0     245.0   -37.8024    144.9993\n",
      "7      2       1.0     256.0   -37.8060    144.9954\n",
      "Цена:\n",
      "[1035000.0, 1465000.0, 1600000.0, 1876000.0, 1636000.0]\n"
     ]
    }
   ],
   "source": [
    "print(\"Предсказание цены для домов:\")\n",
    "print(X.head())\n",
    "print(\"Цена:\")\n",
    "predict = list(model.predict(X.head()))\n",
    "print(predict)"
   ]
  },
  {
   "cell_type": "markdown",
   "id": "57eca578",
   "metadata": {},
   "source": [
    "<br>\n",
    "<font size=6>Эпизод Ⅱ</font><br>\n",
    "<br>\n",
    "<font size=5>Model Validation</font>\n",
    "<hr>\n",
    "Модель построена и готова предсказывать цены, но как узнать хорошо ли она их предсказывает?<br>\n",
    "<br>\n",
    "В этом эпизоде мы научимся измерять качество модели. Такой показатель является основным для улучшения работы модели.<br>\n",
    "Первая мысль, которая могла вас посетить, так это взять набор с домами и их ценами, закинуть дома в обученную модель, но не говорить ей цены.<br>\n",
    "Она предскажет цену для каждого дома и мы просто сравним с фактической ценой. Примерно так все и работает. Но с этим есть множество проблем, <br>\n",
    "одна из них - для 10 000 домов вы не захотите проверять схожесть цены и предсказания, плюс к этому забудете сколько было хороший, а сколько плохих.<br>\n",
    "Такая проблема решается обобщенной оценкой.<br>\n",
    "<br>\n",
    "Существует много показателей для обобщения качества модели, но мы начнем с показателя, называемого <b>средней абсолютной ошибкой (также называемого MAE)</b>.<br>\n",
    "Давайте разберем эту метрику, начиная с последнего слова «ошибка».<br>\n",
    "<br>\n",
    "Ошибка прогноза для каждого дома:<br>\n",
    "<br>\n",
    "ошибка = фактический прогноз<br>\n",
    "Итак, если дом стоит 150 000 долларов, а вы предсказали, что он будет стоить 100 000 долларов, ошибка составит 50 000 долларов.<br>\n",
    "<br>\n",
    "С метрикой MAE мы берем абсолютное значение каждой ошибки. Это преобразует каждую ошибку в положительное число. Затем мы берем среднее значение этих абсолютных ошибок.<br>\n",
    "<br>\n",
    "В среднем наши прогнозы отличаются примерно на Х.<br>\n",
    "<Br>"
   ]
  },
  {
   "cell_type": "code",
   "execution_count": 14,
   "id": "ba453b4c",
   "metadata": {},
   "outputs": [
    {
     "data": {
      "text/html": [
       "<div>\n",
       "<style scoped>\n",
       "    .dataframe tbody tr th:only-of-type {\n",
       "        vertical-align: middle;\n",
       "    }\n",
       "\n",
       "    .dataframe tbody tr th {\n",
       "        vertical-align: top;\n",
       "    }\n",
       "\n",
       "    .dataframe thead th {\n",
       "        text-align: right;\n",
       "    }\n",
       "</style>\n",
       "<table border=\"1\" class=\"dataframe\">\n",
       "  <thead>\n",
       "    <tr style=\"text-align: right;\">\n",
       "      <th></th>\n",
       "      <th>Rooms</th>\n",
       "      <th>Bathroom</th>\n",
       "      <th>Landsize</th>\n",
       "      <th>Lattitude</th>\n",
       "      <th>Longtitude</th>\n",
       "    </tr>\n",
       "  </thead>\n",
       "  <tbody>\n",
       "    <tr>\n",
       "      <th>1</th>\n",
       "      <td>2</td>\n",
       "      <td>1.0</td>\n",
       "      <td>156.0</td>\n",
       "      <td>-37.80790</td>\n",
       "      <td>144.99340</td>\n",
       "    </tr>\n",
       "    <tr>\n",
       "      <th>2</th>\n",
       "      <td>3</td>\n",
       "      <td>2.0</td>\n",
       "      <td>134.0</td>\n",
       "      <td>-37.80930</td>\n",
       "      <td>144.99440</td>\n",
       "    </tr>\n",
       "    <tr>\n",
       "      <th>4</th>\n",
       "      <td>4</td>\n",
       "      <td>1.0</td>\n",
       "      <td>120.0</td>\n",
       "      <td>-37.80720</td>\n",
       "      <td>144.99410</td>\n",
       "    </tr>\n",
       "    <tr>\n",
       "      <th>6</th>\n",
       "      <td>3</td>\n",
       "      <td>2.0</td>\n",
       "      <td>245.0</td>\n",
       "      <td>-37.80240</td>\n",
       "      <td>144.99930</td>\n",
       "    </tr>\n",
       "    <tr>\n",
       "      <th>7</th>\n",
       "      <td>2</td>\n",
       "      <td>1.0</td>\n",
       "      <td>256.0</td>\n",
       "      <td>-37.80600</td>\n",
       "      <td>144.99540</td>\n",
       "    </tr>\n",
       "    <tr>\n",
       "      <th>...</th>\n",
       "      <td>...</td>\n",
       "      <td>...</td>\n",
       "      <td>...</td>\n",
       "      <td>...</td>\n",
       "      <td>...</td>\n",
       "    </tr>\n",
       "    <tr>\n",
       "      <th>12205</th>\n",
       "      <td>3</td>\n",
       "      <td>2.0</td>\n",
       "      <td>972.0</td>\n",
       "      <td>-37.51232</td>\n",
       "      <td>145.13282</td>\n",
       "    </tr>\n",
       "    <tr>\n",
       "      <th>12206</th>\n",
       "      <td>3</td>\n",
       "      <td>1.0</td>\n",
       "      <td>179.0</td>\n",
       "      <td>-37.86558</td>\n",
       "      <td>144.90474</td>\n",
       "    </tr>\n",
       "    <tr>\n",
       "      <th>12207</th>\n",
       "      <td>1</td>\n",
       "      <td>1.0</td>\n",
       "      <td>0.0</td>\n",
       "      <td>-37.85588</td>\n",
       "      <td>144.89936</td>\n",
       "    </tr>\n",
       "    <tr>\n",
       "      <th>12209</th>\n",
       "      <td>2</td>\n",
       "      <td>1.0</td>\n",
       "      <td>0.0</td>\n",
       "      <td>-37.85581</td>\n",
       "      <td>144.99025</td>\n",
       "    </tr>\n",
       "    <tr>\n",
       "      <th>12212</th>\n",
       "      <td>6</td>\n",
       "      <td>3.0</td>\n",
       "      <td>1087.0</td>\n",
       "      <td>-37.81038</td>\n",
       "      <td>144.89389</td>\n",
       "    </tr>\n",
       "  </tbody>\n",
       "</table>\n",
       "<p>6196 rows × 5 columns</p>\n",
       "</div>"
      ],
      "text/plain": [
       "       Rooms  Bathroom  Landsize  Lattitude  Longtitude\n",
       "1          2       1.0     156.0  -37.80790   144.99340\n",
       "2          3       2.0     134.0  -37.80930   144.99440\n",
       "4          4       1.0     120.0  -37.80720   144.99410\n",
       "6          3       2.0     245.0  -37.80240   144.99930\n",
       "7          2       1.0     256.0  -37.80600   144.99540\n",
       "...      ...       ...       ...        ...         ...\n",
       "12205      3       2.0     972.0  -37.51232   145.13282\n",
       "12206      3       1.0     179.0  -37.86558   144.90474\n",
       "12207      1       1.0       0.0  -37.85588   144.89936\n",
       "12209      2       1.0       0.0  -37.85581   144.99025\n",
       "12212      6       3.0    1087.0  -37.81038   144.89389\n",
       "\n",
       "[6196 rows x 5 columns]"
      ]
     },
     "execution_count": 14,
     "metadata": {},
     "output_type": "execute_result"
    }
   ],
   "source": [
    "X"
   ]
  },
  {
   "cell_type": "code",
   "execution_count": 15,
   "id": "e39515c6",
   "metadata": {},
   "outputs": [
    {
     "data": {
      "text/plain": [
       "1115.7467183128902"
      ]
     },
     "execution_count": 15,
     "metadata": {},
     "output_type": "execute_result"
    }
   ],
   "source": [
    "from sklearn.metrics import mean_absolute_error\n",
    "\n",
    "\n",
    "predict = model.predict(X)\n",
    "mean_absolute_error(y, predict)"
   ]
  },
  {
   "cell_type": "markdown",
   "id": "a7449e39",
   "metadata": {},
   "source": [
    "<br>\n",
    "<b>Средняя абсолютная ошибка</b> составляет 1115 долларов, довольно неплохой результат для стоимости дома.<br>\n",
    "Но есть проблема: <i>при обучение и проверки использовался один и тот же набор данных.</i><br>\n",
    "<br>\n",
    "Тоже самое, что боксер будет тренироваться каждый день с боксерами из своей команды и в день соревнований выйдет на бой с одним из них.<br>\n",
    "Его шансы победить(показать высокий результат) необычайно высоки. Но дать ему соперника из другой команды, шансы победить уже не такие высокие.<br>\n",
    "<br>\n",
    "Точно также работают данные:<br> \n",
    "Представьте себе, что на большом рынке недвижимости цвет двери не связан со стоимостью дома.<br>\n",
    "<br>\n",
    "Однако в выборке данных, которую вы использовали для обучения модели, все дома с зелеными дверями были очень дорогими. Задача модели состоит в том, чтобы в наборе данных найти закономерности, которые предсказывают цены на жилье, поэтому она увидит эту закономерность и всегда будет предсказывать высокие цены на дома с зелеными дверями.<br>\n",
    "<br>\n",
    "Поскольку этот шаблон(зеленные двери = дорогой дом) был получен из обучающих данных, модель будет выглядеть точной в обучающих данных.<br>\n",
    "<br>\n",
    "Но если этот шаблон не выполняется, когда модель видит новые данные, модель будет очень неточной при использовании на практике.<br>\n",
    "<br>\n",
    "<br>\n",
    "Поскольку ценность модели заключается в прогнозировании новых данных, важно проверять её работу на данных, которые не участвовали в обучение.<br>\n",
    "Данные - самая важная часть ML, они приносят нам немало проблем, одной из которых является их нехватка. Нам нужны данные, которые не будут участвовать в обучение.\n",
    "Ехать в Мельбурн и собирать новые - не вариант. Самым простым способом будем разбить имеющиеся данные на <b>тренировачные</b> и <b>тестирующие</b><br>\n",
    "<br>\n",
    "В библиотеке scikit-learn есть функция train_test_split для разбиения данных на две части. Мы будем использовать некоторые из этих данных в качестве обучающих данных для соответствия модели, а другие данные будем использовать в качестве проверочных данных для вычисления mean_absolute_error.<br>\n",
    "<br>"
   ]
  },
  {
   "cell_type": "code",
   "execution_count": 16,
   "id": "588a6247",
   "metadata": {},
   "outputs": [
    {
     "name": "stdout",
     "output_type": "stream",
     "text": [
      "255540.16785022596\n"
     ]
    }
   ],
   "source": [
    "from sklearn.model_selection import train_test_split\n",
    "\n",
    "\n",
    "train_X, val_X, train_y, val_y = train_test_split(X, y, random_state=1)\n",
    "model = DecisionTreeRegressor()\n",
    "model.fit(train_X, train_y)\n",
    "predict = model.predict(val_X)\n",
    "print(mean_absolute_error(val_y, predict))"
   ]
  },
  {
   "cell_type": "code",
   "execution_count": 17,
   "id": "3d5c1e5f",
   "metadata": {},
   "outputs": [
    {
     "data": {
      "text/plain": [
       "4.18262307275425"
      ]
     },
     "execution_count": 17,
     "metadata": {},
     "output_type": "execute_result"
    }
   ],
   "source": [
    "data.Price.mean() / mean_absolute_error(val_y, predict) # отношение средней цены на ошибку"
   ]
  },
  {
   "cell_type": "markdown",
   "id": "e451a198",
   "metadata": {},
   "source": [
    "<br>\n",
    "Ошибка сильно изменилась. В этом разница между почти совершенно правильной моделью и моделью, непригодной для большинства практических целей. Для справки: средняя стоимость дома в данных проверки составляет 1,1 миллиона долларов. Таким образом, ошибка в новых данных составляет около четверти средней стоимости дома.<br>\n",
    "<br>"
   ]
  },
  {
   "cell_type": "markdown",
   "id": "a7cd2d04",
   "metadata": {},
   "source": [
    "<br>\n",
    "<font size=6>Эпизод III</font><br>\n",
    "<br>\n",
    "<font size=5>Underfitting and Overfitting</font>\n",
    "<hr>\n",
    "Модель обучается, используя набор данных, который мы ей дали. <br>\n",
    "Что означает <i>обучается на данных?</i><br>\n",
    "Модель пытается найти закономернности в данных, понять почему тот или иной дом стоит столько сколько стоит.<br>\n",
    "Она смотрим на признаки и сопоставляет их с целевой переменной - ценой. <br>\n",
    "Важно при этом не дать ей <b>переобучиться(overfitting)</b>, если позволить ей \"долго\" изучать данные, она найдет закономерности, которые ничего общего с нашей задачей не имеют.<br>\n",
    "При переобучение модель отлично показывает себя на обучающих данных, но при это плохо на данных проверки. Почему так?<br>\n",
    "Дело в том, что теперь модель не умеет обобщать свои данные, ей нужно узнать про исследуемый объект ту информацию, которая была в обучение. Например, при обучение она всегда смотрела на улицу, где находится дом, но теперь на реальном наборе данных, где нет улицы или все улицы одинаковые, она выдает плохие результаты, потому что не понимает как оценить стоимость дома, если нет улиц, которые она видела раньше. Когда мы читаем информацию про дом, мы примерно можем обобщить его цену, посмотрев на кол-во комнат, площадь, район, но что если бы мы всю жизнь видели дома только одного вида? У нас не было бы возможности сравнивать и оценивать новые дома. Хороший пример с животные есть <a href='https://newtechaudit.ru/overfitting/'>здесь</a>.<br>\n",
    "<br>\n",
    "Что делать? Ну, приходится либо увеличивать разнообразие данных, либо ограничивать обучение. Увеличение данных - это всегда хорошо, но не всегда возможно. Тогда мы ограничим обучение модели и будем получать обобщенные выводы. Но тут возникает проблема со слишком обобщенными выводами. Модель настолько плохо выучила свой датасет, что ничего не знает и выдает результаты с большой ошибкой - это называется <b>недооснащение</b> или <b>недообучение</b>, что уже не так круто звучит, лучше уже просто <b>underfitting</b>.<br>\n",
    "<br>\n",
    "Необходимо искать середину между <b>underfitting и overfitting</b>. Поиск нужной точки происходит на графике:<br>\n",
    "<br>\n",
    "<img src='data/u-o.png' width=\"700\" height=\"500\">\n",
    "<br>\n",
    "<br>\n",
    "На графике зависимость MAE от глубины алгоритма \"дерево решений\". Глубину можно задавать в качестве аргумента.<br>\n",
    "Рассмотрим синию линию - <b>training</b>. Линия показывает величину ошибки на обучающем наборе данных, видно, что ошибка с ростом глубины падает и все с ней хорошо.<br>\n",
    "Но если посмотреть на красную линию - <b>validation</b>, которая показывает ошибку на тестовом наборе, она ведет себя как парабола, с самого начала падает, а потом возрастает.<br>\n",
    "Вот как раз в точне минимума, мы должны остановиться и взять ту глубину алгоритма, которая нам нужна.<br>\n",
    "<br>"
   ]
  },
  {
   "cell_type": "code",
   "execution_count": 54,
   "id": "796db527",
   "metadata": {},
   "outputs": [
    {
     "name": "stdout",
     "output_type": "stream",
     "text": [
      "leaf nodes: 5   MAE: 369673.0400167675\n",
      "leaf nodes: 50   MAE: 266644.21831092256\n",
      "leaf nodes: 500   MAE: 239476.85556340555\n",
      "leaf nodes: 5000   MAE: 253125.2872821175\n",
      "leaf nodes: 50000   MAE: 253261.35958683022\n"
     ]
    }
   ],
   "source": [
    "from sklearn.metrics import mean_absolute_error\n",
    "from sklearn.tree import DecisionTreeRegressor\n",
    "\n",
    "\n",
    "def get_mae(max_leaf_nodes, train_X, val_X, train_y, val_y):\n",
    "    model = DecisionTreeRegressor(max_leaf_nodes=max_leaf_nodes)\n",
    "    model.fit(train_X, train_y)\n",
    "    predict = model.predict(val_X)\n",
    "    mae = mean_absolute_error(predict, val_y)\n",
    "    print(f'leaf nodes: {max_leaf_nodes}   MAE: {mae}')\n",
    "\n",
    "for leaf in [5, 50, 500, 5000, 50000]:\n",
    "    get_mae(leaf, train_X, val_X, train_y, val_y)"
   ]
  },
  {
   "cell_type": "markdown",
   "id": "41ec5679",
   "metadata": {},
   "source": [
    "<br>\n",
    "Лучший результат показывает количество листьев = 500, после уже идет переобучение.<br>\n",
    "<br>"
   ]
  },
  {
   "cell_type": "markdown",
   "id": "813bf139",
   "metadata": {},
   "source": [
    "<br>\n",
    "<font size=6>Эпизод IV</font><br>\n",
    "<br>\n",
    "<font size=5>Random Forest</font>\n",
    "<hr>\n",
    "Случайный лес использует множество деревьев и делает прогноз, усредняя прогнозы каждого дерева компонентов. Как правило, он имеет гораздо лучшую точность прогнозирования, чем одно дерево решений, и хорошо работает с параметрами по умолчанию. Если вы продолжите моделирование, вы сможете изучить больше моделей с еще более высокой производительностью, но многие из них чувствительны к получению правильных параметров.<br>\n",
    "<br>"
   ]
  },
  {
   "cell_type": "code",
   "execution_count": 62,
   "id": "39bc3346",
   "metadata": {},
   "outputs": [
    {
     "name": "stdout",
     "output_type": "stream",
     "text": [
      "192287.89755541208\n"
     ]
    }
   ],
   "source": [
    "from sklearn.ensemble import RandomForestRegressor\n",
    "\n",
    "\n",
    "model = RandomForestRegressor(random_state=0)\n",
    "model.fit(train_X, train_y)\n",
    "predict = model.predict(val_X)\n",
    "mae = mean_absolute_error(predict, val_y)\n",
    "print(mae)"
   ]
  },
  {
   "cell_type": "markdown",
   "id": "0d98f033",
   "metadata": {},
   "source": [
    "<br>\n",
    "Есть параметры, которые позволяют изменить производительность случайного леса так же, как мы изменили максимальную глубину одиночного дерева решений. Но одна из лучших особенностей моделей Random Forest заключается в том, что они обычно работают разумно даже без этой настройки.<br>\n",
    "<br>\n",
    "SimpleImputer для замены отсутствующих значений средним значением по каждому столбцу.\n",
    "\n",
    "Хотя это просто, заполнение среднего значения обычно работает достаточно хорошо (но это зависит от набора данных). Хотя статистики экспериментировали с более сложными способами определения вмененных значений (например, вменение регрессии), сложные стратегии обычно не дают дополнительных преимуществ после включения результатов в сложные модели машинного обучения."
   ]
  },
  {
   "cell_type": "code",
   "execution_count": null,
   "id": "e2fc9020",
   "metadata": {},
   "outputs": [],
   "source": []
  }
 ],
 "metadata": {
  "kernelspec": {
   "display_name": "Python 3 (ipykernel)",
   "language": "python",
   "name": "python3"
  },
  "language_info": {
   "codemirror_mode": {
    "name": "ipython",
    "version": 3
   },
   "file_extension": ".py",
   "mimetype": "text/x-python",
   "name": "python",
   "nbconvert_exporter": "python",
   "pygments_lexer": "ipython3",
   "version": "3.10.4"
  }
 },
 "nbformat": 4,
 "nbformat_minor": 5
}
