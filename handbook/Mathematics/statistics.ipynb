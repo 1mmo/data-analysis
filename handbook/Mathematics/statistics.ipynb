{
 "cells": [
  {
   "cell_type": "markdown",
   "id": "7f03a634",
   "metadata": {},
   "source": [
    "<br>\n",
    "<font size=6>Statistics</font>\n",
    "<br>\n",
    "<br>\n",
    "<i>\"Важно не то, насколько редко мы ошибаемся, а какова суммарная погрешность\"</i>.<br>\n",
    "<br>\n",
    "<b>Стати́стика</b> — отрасль знаний, наука, в которой излагаются общие вопросы сбора, измерения, мониторинга, анализа массовых статистических (количественных или качественных) данных и их сравнение; изучение количественной стороны массовых общественных явлений в числовой форме.<br>\n",
    "   <ul>\n",
    "     <li>Рассчитать численность населения - статистика</li>\n",
    "     <li>Сколько потратить денег на праздники - статистика</li>\n",
    "     <li>Сколько купить кг шашлыка на вечер - статистика</li>\n",
    "   </ul>\n",
    "Если у вас есть данные и вы хотите получить от них пользу - вы статистик:)<br>\n",
    "\n",
    "<b>Более нормальное описание статистики</b>:\n",
    "\n",
    "<b>Статистика</b> опирается на математику и приемы, с помощью которых мы проникаем в сущность данных. Она представляет собой богатую и обширную область знаний, для которой больше подошла бы книжная полка или целая комната в библиотеке, а не глава в книге, поэтому наше изложение, конечно же, будет кратким. Тем не менее представленного в этой главе материала вам будет достаточно для \n",
    "того, чтобы стать опасным человеком, и пробудить в вас интерес к самостоятельному изучению статистики.<br><br>\n",
    "   \n",
    "МАТЕРИАЛЫ ЗАНЯТИЯ:\n",
    "- курс занятий по статистике на сайте mathprofi: http://mathprofi.ru/matematicheskaya_statistika.html\n",
    "- Книга \"Data Science наука о данных с нуля\", Джоэл Грас, 2е издание.<br><br>\n"
   ]
  },
  {
   "cell_type": "markdown",
   "id": "e26aef92",
   "metadata": {},
   "source": [
    "<br>\n",
    "- <b>Качественная, дискретная, или категориальная переменная</b> — переменная, которая может принимать одно из ограниченного и обычно фиксированного числа возможных значений, например, переменная \"первый\" или \"кассир\" являются качественными переменными,<br>\n",
    "- \"первый\" - означает в наших данных, что человек первый раз берет кредит.<br>\n",
    "- \"кассир\" - профессия человека. <br>\n",
    "Такие данные обычно кодируются числами.<br>\n",
    "<br>\n",
    "- <b>Колличественные данные или числовые</b> - данные, которые представлены числами.<br>\n",
    "- 32000 - зарплата <br>\n",
    "- 25 - возраст\n",
    "<br>\n",
    "<br>"
   ]
  },
  {
   "cell_type": "code",
   "execution_count": 1,
   "id": "81393ec1",
   "metadata": {},
   "outputs": [
    {
     "data": {
      "text/plain": [
       "Text(0.5, 1.0, 'Количество приглашений')"
      ]
     },
     "execution_count": 1,
     "metadata": {},
     "output_type": "execute_result"
    },
    {
     "data": {
      "image/png": "[encoded data removed]",
      "text/plain": [
       "<Figure size 640x480 with 1 Axes>"
      ]
     },
     "metadata": {},
     "output_type": "display_data"
    }
   ],
   "source": [
    "# Сколько hr'ы в нашей компании пригласили людей\n",
    "import numpy as np\n",
    "import matplotlib.pyplot as plt\n",
    "from collections import Counter\n",
    "\n",
    "invite_people = [np.random.randint(0, 30) for i in range(20)] # Создаем список сколько людей пригласил каждый hr\n",
    "\n",
    "people_counter = Counter(invite_people)\n",
    "xs = [num_people for num_people in people_counter]\n",
    "ys = [people_counter[num_people] for num_people in people_counter]\n",
    "plt.bar(xs, ys, color='black', edgecolor='green')\n",
    "plt.xticks([2 * i for i in range(16)])\n",
    "plt.xlabel('Число приглашенных людей')\n",
    "plt.ylabel('Число hr')\n",
    "plt.title('Количество приглашений')"
   ]
  },
  {
   "cell_type": "markdown",
   "id": "74119d7d",
   "metadata": {},
   "source": [
    "<br>\n",
    "Хорошо, есть диаграмма, которая покажет нам как hr отработали свой день.<br>\n",
    "Но график нужно либо распечатать, либо таскать за собой ноутбук.<br>\n",
    "Почему бы нам не собрать некоторую статистику и хвалиться перед всеми числами.\n",
    "<br>\n",
    "<br>"
   ]
  },
  {
   "cell_type": "markdown",
   "id": "17e4ed0d",
   "metadata": {},
   "source": [
    "\n",
    "1)Самым простым показателем является число точек данных:\n"
   ]
  },
  {
   "cell_type": "code",
   "execution_count": 2,
   "id": "51c0f6f6",
   "metadata": {},
   "outputs": [
    {
     "name": "stdout",
     "output_type": "stream",
     "text": [
      "Кол-во точек:  20\n"
     ]
    }
   ],
   "source": [
    "num_points = len(invite_people)\n",
    "print('Кол-во точек: ', num_points) # Интерпретируется, как кол-во hr в нашей команде"
   ]
  },
  {
   "cell_type": "markdown",
   "id": "07f6003b",
   "metadata": {},
   "source": [
    "2) Наибольшие и наименьшие значения:"
   ]
  },
  {
   "cell_type": "code",
   "execution_count": 3,
   "id": "ee4829bd",
   "metadata": {},
   "outputs": [
    {
     "name": "stdout",
     "output_type": "stream",
     "text": [
      "Наибольшее число приглашенных людей:  29\n",
      "Наименьшее число приглашенных людей:  0\n"
     ]
    }
   ],
   "source": [
    "largest_value = max(invite_people)\n",
    "smallest_value = min(invite_people)\n",
    "print('Наибольшее число приглашенных людей: ', largest_value)\n",
    "print('Наименьшее число приглашенных людей: ', smallest_value)"
   ]
  },
  {
   "cell_type": "code",
   "execution_count": 4,
   "id": "37a574f4",
   "metadata": {},
   "outputs": [
    {
     "name": "stdout",
     "output_type": "stream",
     "text": [
      "Второй минимум: 1\n",
      "Второй максимум: 28\n"
     ]
    }
   ],
   "source": [
    "sorted_values = sorted(list(set(invite_people))) # избавляемся от повторяющихся значений\n",
    "print(f'Второй минимум: {sorted_values[1]}')\n",
    "print(f'Второй максимум: {sorted_values[-2]}')"
   ]
  },
  {
   "cell_type": "markdown",
   "id": "231139ca",
   "metadata": {},
   "source": [
    "<br>\n",
    "<font size=5>Центральные тенденции</font>\n",
    "<hr>\n",
    "Обычно мы хотим иметь некое представление о том, где наши данные центрированы.<br>\n",
    "Чаще всего для этих целей используется среднее (или среднее арифметическое) <br>\n",
    "значение, которое берется как сумма данных, деленная на их количество<br><br>"
   ]
  },
  {
   "cell_type": "markdown",
   "id": "f09440b3",
   "metadata": {},
   "source": [
    "<br>\n",
    "<font size=4>Среднее число</font>\n",
    "<br>\n",
    "<br>"
   ]
  },
  {
   "cell_type": "code",
   "execution_count": 5,
   "id": "aba0aac8",
   "metadata": {},
   "outputs": [
    {
     "name": "stdout",
     "output_type": "stream",
     "text": [
      "Среднее кол-во приглашенных людей: 14.15\n"
     ]
    }
   ],
   "source": [
    "def mean(xs: list[float]) -> float:\n",
    "    return sum(xs) / len(xs)\n",
    "\n",
    "print(f'Среднее кол-во приглашенных людей: {mean(invite_people)}')"
   ]
  },
  {
   "cell_type": "code",
   "execution_count": null,
   "id": "e15f941c",
   "metadata": {},
   "outputs": [],
   "source": []
  },
  {
   "cell_type": "markdown",
   "id": "995263f5",
   "metadata": {},
   "source": [
    "<br>\n",
    "<font size=5>Медиана</font>\n",
    "<hr>\n",
    "<b>Медиана</b> - ближайшее к центру значение<br>\n",
    "Медиана в отличе от среднего - не зависит от каждого значения в наборе данных.<br>\n",
    "Например, если сделать наибольшую точку еще больше(или наименьшую еще меньше), то<br>\n",
    "срединные точки останутся неизменными, следовательно, и медиана тоже не изменится<br>\n",
    "<br>\n",
    "  "
   ]
  },
  {
   "cell_type": "code",
   "execution_count": 6,
   "id": "c74bbde1",
   "metadata": {},
   "outputs": [],
   "source": [
    "def _median_odd(xs: list[float]) -> float: \n",
    "    \"\"\"Если len(xs) является нечетной, \n",
    "    то медиана - это срединный элемент\"\"\" \n",
    "    return sorted(xs) [len(xs) // 2] \n",
    "\n",
    "def _median_even(xs: list[float]) -> float: \n",
    "    \"\"\"Если len(xs) является четной, то она является средним значением \n",
    "    двух срединных элементов\"\"\" \n",
    "    sorted_xs = sorted(xs) \n",
    "    hi_midpoint = len(xs) // 2 #напр. длина 4 => hi_midpoint 2 \n",
    "    return (sorted_xs[hi_midpoint - 1] + sorted_xs[hi_midpoint]) / 2 \n",
    "\n",
    "def median(v: list[float]) -> float: \n",
    "    \"\"\"Отыскивает 'ближайшее к середине' значение v\"\"\" \n",
    "    return _median_even(v) if len(v) % 2 == 0 else _median_odd(v)\n",
    "\n",
    "assert median([1, 10, 2, 9, 5]) == 5 \n",
    "assert median([1, 9, 2, 10]) == (2 + 9) / 2"
   ]
  },
  {
   "cell_type": "code",
   "execution_count": 7,
   "id": "70f74eb0",
   "metadata": {},
   "outputs": [
    {
     "name": "stdout",
     "output_type": "stream",
     "text": [
      "Центральное число приглашений: 11.5\n"
     ]
    }
   ],
   "source": [
    "median = median(sorted(invite_people))\n",
    "print(f'Центральное число приглашений: {median}')"
   ]
  },
  {
   "cell_type": "markdown",
   "id": "931b9b43",
   "metadata": {},
   "source": [
    "<br>\n",
    "<font size=3><b>Среднее значение</b> вычисляется проще, и оно плавно варьирует по мере изменения данных.<br></font>\n",
    "Если у нас есть <i>n</i> точек и одна из них увеличилась на любое малое число <i>e</i>, то среднее<br> \n",
    "обязательно увеличится на <i>e/n</i>.(Этот факт делает среднее число подверженным разным хитростям при калькуляции).<br><br>\n",
    "А для того чтобы найти <b>медиану</b>, данные нужно отсортировать, и изменение одной из точек на <br>\n",
    "любое малое число <i>e</i> может увеличить медиана на величину, равную <i>e</i>, меньшую чем <i>e</i>, либо не изменить совсем.<br>\n",
    "<br><br>\n",
    "\n",
    "\n",
    "<font size=3><b>Среднее значение очень чувствительно к <i>выбросам</i>.</b></font>\n",
    "<br>Если бы один из hr пригласил 100 человек, когда другие не выше 30, то среднее увеличилось бы на 5. <br>\n",
    "Средний показатель приглашений стал бы больше и мы могли бы сказать начальнику, что рабочий день прошел отлично.<br>\n",
    "Но посмотрев на данные, мы увидим, что 100 человек - это скорее выброс, чем правда, и вероятно человек схитрил и поставил себе лишних приглашений.<br>\n",
    "В то время как медиана осталась бы на прежнем уровне.\n",
    "<br>"
   ]
  },
  {
   "cell_type": "markdown",
   "id": "5f5b579f",
   "metadata": {},
   "source": [
    "<br>\n",
    "<font size=5>Квантиль</font>\n",
    "<hr>\n",
    "<b>Квантиль</b> - значение, которое заданная случайная величина(число, которое мы получаем после эксперимента) не превышает с фиксированной вероятностью.<br>\n",
    "Если вероятность задана в процентах, то квантиль называется <b>процентилем</b> или <b>перцентилем</b><br>\n",
    "Например, фраза \"90-й процентиль массы тела у новорожденных мальчиков составляет 4 кг\" <br>\n",
    "означает, что 90% мальчиков рождаются с весом, меньшим либо равным 4 кг, <br>\n",
    "а 10% мальчиков рождаются с весом, большим 4кг.<br><br>\n",
    "\n",
    "Обобщением <b>медианы</b> является <b><i>квантиль</i></b>, который представляет значение, ниже<br>\n",
    "которого располагается определенный процентиль данных.(медиана представляет значение, ниже которого расположены 50% данных)\n",
    "<br>"
   ]
  },
  {
   "cell_type": "code",
   "execution_count": 8,
   "id": "4ca3bb39",
   "metadata": {},
   "outputs": [
    {
     "name": "stdout",
     "output_type": "stream",
     "text": [
      "1\n",
      "4 Нижний квантиль\n",
      "21 Верхний квантиль\n",
      "28\n"
     ]
    }
   ],
   "source": [
    "def quantile(x: list[float], p: float) -> float:\n",
    "    \"\"\"Возвращает значение p-го процентиля в x\"\"\"\n",
    "    p_index = int(p * len(x)) # Преобразает % в индекс списка\n",
    "    return sorted(x)[p_index-1]\n",
    "\n",
    "print(quantile(invite_people, 0.10))\n",
    "print(quantile(invite_people, 0.25), 'Нижний квантиль')\n",
    "print(quantile(invite_people, 0.75), 'Верхний квантиль')\n",
    "print(quantile(invite_people, 0.90))"
   ]
  },
  {
   "cell_type": "markdown",
   "id": "4fedf590",
   "metadata": {},
   "source": [
    "<br>\n",
    "<font size=5>Мода</font>\n",
    "<hr>\n",
    "<b>Мода</b> - значение или значения, которые встречаются наиболее часто\n",
    "<br><br>"
   ]
  },
  {
   "cell_type": "code",
   "execution_count": 9,
   "id": "7780e457",
   "metadata": {},
   "outputs": [
    {
     "data": {
      "text/plain": [
       "[3, 21, 11, 29]"
      ]
     },
     "execution_count": 9,
     "metadata": {},
     "output_type": "execute_result"
    }
   ],
   "source": [
    "def mode(x: list[float]) -> list[float]:\n",
    "    \"\"\"Возвращает список, т. к. может быть более одной моды\"\"\"\n",
    "    counts = Counter(x)\n",
    "    max_count = max(counts.values())\n",
    "    return [x_i for x_i, count in counts.items()\n",
    "            if count == max_count]\n",
    "    \n",
    "mode(invite_people)"
   ]
  },
  {
   "cell_type": "markdown",
   "id": "bed3fb02",
   "metadata": {},
   "source": [
    "<br>\n",
    "<font size=6>Вариация</font>\n",
    "<hr>\n",
    "<b>Вариация</b> служит мерой разброса наших данных. Как правило, это статистические показатели,<br>\n",
    "у которых значения, близкие к нулю, означают полное отсутствие разброса, а большие значения - большой разброс.<br><br>\n"
   ]
  },
  {
   "cell_type": "markdown",
   "id": "54346b36",
   "metadata": {},
   "source": [
    "<br>\n",
    "<font size=5>Размах(range)</font>\n",
    "<hr>\n",
    "<b>Размах</b> является самым простым показателем вариации. Определяется как разница между max и min значениями данных:<br><br>\n",
    "$$R = X_{max} - X_{min}$$\n",
    "<br>\n",
    "Как и медиана, размах не особо зависит от всего набора данных.\n",
    "<br>\n",
    "<br>"
   ]
  },
  {
   "cell_type": "code",
   "execution_count": 10,
   "id": "bf6afab8",
   "metadata": {},
   "outputs": [
    {
     "name": "stdout",
     "output_type": "stream",
     "text": [
      "29 - Разница между максимальным и минимальным кол-во приглашений\n"
     ]
    }
   ],
   "source": [
    "def data_range(x: list[float]) -> float:\n",
    "    return max(x) - min(x)\n",
    "\n",
    "print(data_range(invite_people), '- Разница между максимальным и минимальным кол-во приглашений')"
   ]
  },
  {
   "cell_type": "markdown",
   "id": "46d9bd58",
   "metadata": {},
   "source": [
    "<br>\n",
    "Более точным показателем вариации является <b><i>дисперсия.</b></i><br>\n",
    "<br>"
   ]
  },
  {
   "cell_type": "markdown",
   "id": "bee970db",
   "metadata": {},
   "source": [
    "<br>\n",
    "<font size=5>Дисперсия(variance)</font>\n",
    "<hr>\n",
    "<b>Дисперсия случайной величины</b> - мера разброса значений случайной величины относительно её математического ожидания(среднее значение случайной величины):<br><br>\n",
    "$$σ^2 = 1/n\\sum\\limits_{i=1}^n(X_{i} - <X>)^2$$\n",
    "<br>\n",
    "$$Где\\ X_i - случайная\\ величина,\\ <X> - среднее\\ значение$$\n",
    "$$Иногда\\ 1/n\\ записывают,\\ как\\ (n-1)$$\n",
    "<br>\n",
    "Использование <i>$n-1$</i> вместо <i>$n$</i> известно как поправка <a href=\"https://en.wikipedia.org/wiki/Bessel%27s_correction\">Бесселя.</a><br>\n",
    "Когда имеют дело с выборкой из более крупной популяции(генеральной совокупности), переменная $<X>$ является лишь <b><i>приближенной оценкой среднего</i></b>, где<br>\n",
    "<i>$(X_i - <X>)^2$</i> в среднем дает заниженную оценку квадрата отклонения от среднего для <i>$X_i$</i>. Поэтому делят не на <i>$n$</i>, а на <i>$(n - 1)$</i>.<br>\n",
    "На практике при $n > 30$ уже нет разницы, какое число стоит в знаменателе: <i>$n$</i> или <i>$n-1$</i>.\n",
    "<br><br>"
   ]
  },
  {
   "cell_type": "code",
   "execution_count": 11,
   "id": "e0922227",
   "metadata": {},
   "outputs": [],
   "source": [
    "def de_mean(xs: list[float]) -> list[float]:\n",
    "    \"\"\"К каждому элементу списка xs применить вычитание среднего\"\"\"\n",
    "    x_bar = mean(xs)\n",
    "    return [x - x_bar for x in xs]\n",
    "\n",
    "def variance(xs: list[float]) -> float:\n",
    "    \"\"\"Дисперсия\"\"\"\n",
    "    assert len(xs) >= 2, 'Дисперсия требует наличия не менее двух элементов'\n",
    "    n = len(xs)\n",
    "    deviations = de_mean(xs)\n",
    "    return sum([deviation**2 for deviation in deviations]) / (n - 1)"
   ]
  },
  {
   "cell_type": "code",
   "execution_count": 12,
   "id": "3a7e6022",
   "metadata": {},
   "outputs": [
    {
     "data": {
      "text/plain": [
       "102.02894736842106"
      ]
     },
     "execution_count": 12,
     "metadata": {},
     "output_type": "execute_result"
    }
   ],
   "source": [
    "variance(invite_people)"
   ]
  },
  {
   "cell_type": "markdown",
   "id": "4a017d53",
   "metadata": {},
   "source": [
    "<br>\n",
    "<b>Проблема дисперсии</b> в том, что она измеряется в единицах, которые представляют собой <i>квадрат</i> исходных единиц (\"кандидаты в квадрате\")<br>\n",
    "Поскольку такие единицы измерения трудно интерпретировать, то вместо дисперсии мы будем чаще использовать \"<b><i>Среднеквадратическое отклонение</i></b>\".\n",
    "<br>\n",
    "<br>"
   ]
  },
  {
   "cell_type": "markdown",
   "id": "75dd855f",
   "metadata": {},
   "source": [
    "<br>\n",
    "<font size=5>Среднеквадратическое отклонение</font>\n",
    "<hr>\n",
    "<b>Среднеквадратическое отклонение</b> - наиболее распространенный показатель рассеивания значений случайной величины<br>\n",
    "относительно её математического ожидания(аналог среднего арифметического с бесконечным числом исходов).<br><br>\n",
    "$$σ = \\sqrt{1/n\\sum\\limits_{i=1}^n(X_{i} - <X>)^2}$$\n",
    "<br>\n",
    "Встречаются также синонимы словосочетания <b>Среднеквадратическое отклонение</b>:<br>\n",
    "<ul>\n",
    "    <li><b>среднееквадратичное отклонение;</li>\n",
    "    <li><b>квадратичное отклонение;</li>\n",
    "    <li><b>стандартное отклонение;</li>\n",
    "    <li><b>стандартный разброс;</li> \n",
    "    <li><b>стандартная неопределенность.</li>\n",
    "</ul>\n",
    "<br>\n",
    "<font size=4><b>Интерпретация величины среднеквадратического отклонения.</b><br></font>\n",
    "Если <b>стандартное отклонение</b> в результате дает <b>большее значение</b>, то оно показывает, что и <b>разброс больший;</b><br>\n",
    "<b>меньшее значение</b>, соответственно, показывает, что значения в списке сгруппированы вокруг среднего значения, то есть, <b>разброс меньший</b>.<br><br>\n",
    "\n",
    "\n",
    "Например, если у нас есть три списка [0, 0, 14, 14], [0. 6, 8, 14] и [6, 6, 8, 8].<br>\n",
    "У все трех списков средние значения - 7, а среднееквадратичное отклонение, соответственно, равны 7, 5, и 1. <br>\n",
    "У последнего списка среднеквадратичное отклонение маленькое, так как значения сгруппированы вокруг среднего значения,<br>\n",
    "следовательно у такого списка меньший разброс. <br>\n",
    "У первого списка самый большой показатель среднеквадратичного отклонения, следовательно, значения<br>\n",
    "внутри списка сильно расходятся со средним значением, а это значит, больший разброс.\n",
    "<br>\n"
   ]
  },
  {
   "cell_type": "code",
   "execution_count": 13,
   "id": "767671ff",
   "metadata": {},
   "outputs": [
    {
     "data": {
      "text/plain": [
       "10.100937944984171"
      ]
     },
     "execution_count": 13,
     "metadata": {},
     "output_type": "execute_result"
    }
   ],
   "source": [
    "import math\n",
    "\n",
    "def standard_deviation(xs: list[float]) -> float:\n",
    "    \"\"\"Стандартное отклонение - корень из дисперсии\"\"\"\n",
    "    return math.sqrt(variance(xs))\n",
    "\n",
    "standard_deviation(invite_people)"
   ]
  },
  {
   "cell_type": "markdown",
   "id": "f42a75b2",
   "metadata": {},
   "source": [
    "<br>\n",
    "Размах и стандартное отклонение имеют ту же проблему с выбросами, что и среднее,<br>\n",
    "ведь по сути страндартное отклонение показывает <b>СРЕДНИЙ</b> показатель отклонения(насколько в среднем числа отклоняются от среднего).<br>\n",
    "Если бы у одного из наших hr'ов приглашений было бы 100, то ,конечно, стандартное отклонение увеличилось бы.<br>\n",
    "И из-за этого мы бы сделали неверные выводы по поводу наших hr'ов.<br><br>\n",
    "Более надежной альтернативой является <b>интерквартильный размах</b>.<br>\n",
    "Разность между значением, соответствующим 75% данных, и значением, соответствующим 25% данных:\n",
    "<br>\n",
    "<br>"
   ]
  },
  {
   "cell_type": "code",
   "execution_count": 14,
   "id": "46c0471c",
   "metadata": {},
   "outputs": [
    {
     "data": {
      "text/plain": [
       "17"
      ]
     },
     "execution_count": 14,
     "metadata": {},
     "output_type": "execute_result"
    }
   ],
   "source": [
    "def interquartile_range(xs: list[float]) -> float:\n",
    "    \"\"\"Возвращает разницу между 75%-ным и 25%-ным квартилями\"\"\"\n",
    "    return quantile(xs, 0.75) - quantile(xs, 0.25)\n",
    "\n",
    "interquartile_range(invite_people)"
   ]
  },
  {
   "cell_type": "markdown",
   "id": "2538d840",
   "metadata": {},
   "source": [
    "<br>\n",
    "Мы уже рассмотрели несколько понятий для описания наших данных, но мы все равно не получили всех ответов.<br>\n",
    "Что нам делать, если мы зададимся такими вопросами?\n",
    "<ul>\n",
    "<li>Как получить зависимость одной велечины от другой? <br></li>\n",
    "<li>Если ли связи между ними и если есть, то какая она?<br></li>\n",
    "<li>Как 0.5 литров пива влияют на настроение человека?<br></li>\n",
    "<li>Эта связь сильная или слабая, она больше, чем связь между хорошим климатом в городе и числом проданных пуховиков.<br></li>\n",
    "</ul>\n",
    "<br>\n",
    "Как насчет рассчитать зависимость между работай наших hr'ов?<br>\n",
    "Их работа оценивается в количестве приглашенных людей и временем проведенным за рабочим местом.\n",
    "<br><br>"
   ]
  },
  {
   "cell_type": "code",
   "execution_count": 16,
   "id": "9c906659",
   "metadata": {},
   "outputs": [],
   "source": [
    "invite_people = [2, 27, 15,  2, 17, 28, 24,  3, 18, 25,  8, 16, 26,  5, 19, 14, 18, 21, 21, 23] # сколько каждый hr пригласил людей: первый - 2 человека, второй - 27 человек и тд. \n",
    "work_time = [3, 8, 5, 1, 4, 7, 7, 2, 5, 6, 4, 5, 6, 3, 5, 4, 5, 5, 4, 5] # сколько часов каждый hr работал: первый - 3 часа, второй - 8 часов и тд. "
   ]
  },
  {
   "cell_type": "markdown",
   "id": "f4129190",
   "metadata": {},
   "source": [
    "<br>\n",
    "<font size=5>Ковариация</font>\n",
    "<hr>\n",
    "<b>Ковариация<i>(covariance)</i></b> - парный аналог дисперсии.<br>\n",
    "В отличие от дисперсии, которая измеряет отклонение одной-единственной переменной от ее среднего, <b>ковариация</b> измеряет <b>отклонение двух переменных</b> в тандеме от своих средних.<br>\n",
    "<br><br>\n",
    "$$cov(X, Y) = 1/n\\sum\\limits_{i=1}^n(X_{i}Y_{i} - <X><Y>),$$<br><br>\n",
    "$$где$$\n",
    "$$<X> = 1/n\\sum\\limits_{i=1}^n(X_{i})\\\\ <Y> = 1/n\\sum\\limits_{i=1}^n(Y_{i})$$<br>\n",
    "<font size=3><b>Свойства:</b></font>\n",
    "<ul>\n",
    "    <li>Если <i>X,Y</i> - <b>независимые</b> случайные величины, то <br>\n",
    "        <p>&nbsp;&nbsp;&nbsp;&nbsp;$cov(X, Y) = 0$</p></li>\n",
    "    <li>Ковариация случайной величины с собой равна дисперсии:\n",
    "        <p>&nbsp;&nbsp;&nbsp;&nbsp;$cov(X, X) = D[X]$</p></li>\n",
    "    <li>Ковариация симметрична:\n",
    "        <p>&nbsp;&nbsp;&nbsp;&nbsp;$cov(X, Y) = cov(Y, X)$</p></li></ul><br>\n",
    "    \n",
    "<font size=3><b>Интерпретация:</b></font><br>\n",
    "<p>&nbsp;&nbsp;&nbsp;&nbsp;Если <b>ковариация положительна</b>, то с ростом значений одной случайной величины, значения второй имеют тенденцию <b>возрастать</b>,<br>\n",
    "&nbsp;&nbsp;&nbsp;&nbsp;если знак <b>отрицательный</b>, то убывать. <b>\"Большая\" положительная ковариация</b> означает, что X стремится принимать большие значения<br>\n",
    "&nbsp;&nbsp;&nbsp;&nbsp;при больших значениях Y и малые значения - при малых Y. <b>\"Большая\" отрицательная ковариация</b> означает обратное - X стремится принимать<br>\n",
    "    &nbsp;&nbsp;&nbsp;&nbsp;малые значения при большом Y, и наоборот. <b>Ковариация</b>, <i>близкая к нулю</i>, означает, что такой <b>связи не существует.</b></p>\n",
    "    \n",
    "Но при этом все равно возникает проблема с интерпретацией результата.\n",
    "<ul>\n",
    "    <li>Единицами измерения ковариации являются произведения единиц входящих пременных(например, число приглашенных людей и часы в день),<br> \n",
    "        что такое \"люди в час в день\"?</li>\n",
    "    <li>Если бы у каждого hr было в 2 раза больше приглашений(но такое же количество отработанных часов), то ковариация была бы в 2 раза больше.<br>\n",
    "    Однако в некотором смысле степень взаимосвязи между ними осталась бы на прежнем уровне. Другими словами, трудно понять, что считать \"большой\" ковариацией.</ul>\n",
    "<br>\n",
    "<br>"
   ]
  },
  {
   "cell_type": "markdown",
   "id": "d47f54ab",
   "metadata": {},
   "source": [
    "Для вычисления ковариации нам потребуется функция <b>dot</b> из занятия по линейной алгебре:"
   ]
  },
  {
   "cell_type": "code",
   "execution_count": 17,
   "id": "a3a95dff",
   "metadata": {},
   "outputs": [],
   "source": [
    "def dot(v: list[float], w: list[float]) -> float:\n",
    "    \"\"\"Вычисление (v_i * w_i) + ... + (v_n + w_n)\"\"\"\n",
    "    assert len(v) == len(w), 'Вектора должны иметь одинаковую длину'\n",
    "    return sum([v_i * w_i for v_i, w_i in zip(v, w)])"
   ]
  },
  {
   "cell_type": "code",
   "execution_count": 18,
   "id": "4eeb01c2",
   "metadata": {},
   "outputs": [
    {
     "name": "stdout",
     "output_type": "stream",
     "text": [
      "Ковариация: 12.873684210526312\n"
     ]
    }
   ],
   "source": [
    "def covariance(xs: list[float], ys: list[float]) -> float:\n",
    "    \"\"\"Вычисление ковариации\"\"\"\n",
    "    assert len(xs) == len(ys), 'Вектора должны иметь одинаковое количество элементов'\n",
    "    return dot(de_mean(xs), de_mean(ys)) / (len(xs) - 1)\n",
    "\n",
    "print(f'Ковариация: {covariance(invite_people, work_time)}')"
   ]
  },
  {
   "cell_type": "markdown",
   "id": "a4d62135",
   "metadata": {},
   "source": [
    "<br>\n",
    "Вспомните, что функция dot суммирует произведения соответствующих элементов векторов.<br>\n",
    "Когда элементы обоих векторов x и y одновременно выше или ниже своих средних, например, $X_i$ стремится(->) к уменьшению и $Y_i$ тоже -> к уменьшению, то в сумму входит положительное число.<br> \n",
    "Когда один из элементов находится выше своего среднего, а другой - ниже, например, $X_i$ -> к увеличению, а $Y_i$ -> к уменьшению, то в сумму входит отрицательное число:<br>\n",
    "Если $X_i = 5$, а $Y_i = -2$, то их произведение $-10$, следовательно связь обратнопропорциональна.<br><br>"
   ]
  },
  {
   "cell_type": "markdown",
   "id": "f1e9b2f7",
   "metadata": {},
   "source": [
    "<br>\n",
    "Ковариация получилась положительной, следовательно, чем больше X, тем больше Y или чем меньше X, тем меньше Y.<br>\n",
    "Но что значит 12? Вроде, не близко к нулю, значит связь и правда есть, но насколько она сильная сложно сказать.<br>\n",
    "Нам нужен показатель, у которого будет придел и, дойдя до него, мы поймем, что связь максимально сильная.\n",
    "<br>\n",
    "<br>"
   ]
  },
  {
   "cell_type": "markdown",
   "id": "97c9a6d8",
   "metadata": {},
   "source": [
    "<br>\n",
    "<font size=5>Корреляция</font>\n",
    "<hr>\n",
    "<b>Корреля́ция</b> (от лат. correlatio «соотношение»), или корреляцио́нная зави́симость — статистическая взаимосвязь двух или более случайных величин (либо величин, которые можно с некоторой допустимой степенью точности считать таковыми), при этом изменения значений одной или нескольких из этих величин сопутствуют систематическому изменению значений другой или других величин.<br><br>\n",
    "Впервые в научный оборот термин корреляция ввёл французский палеонтолог Жорж Кювье в XVIII веке. Он разработал «закон корреляции» частей и органов живых существ, с помощью которого можно восстановить облик ископаемого животного, имея в распоряжении лишь часть его останков.<br><br>\n",
    "\n",
    "<b>Корреляции полезны</b>, потому что они могут указывать на <b>прогностическую взаимосвязь</b>, которую можно использовать на практике. Например, электроэнергетическая компания может вырабатывать меньше энергии в теплый день на основе корреляции между спросом на электроэнергию и погодой. В этом примере существует причинно-следственная связь, поскольку экстремальные погодные условия заставляют людей использовать больше электроэнергии для обогрева или охлаждения. Однако, в целом, наличие корреляции недостаточно для вывода о наличии причинно-следственной связи (т.е. корреляция не подразумевает причинно-следственную связь).<br><br>\n",
    "\n",
    "Значительная <b>корреляция</b> между двумя случайными величинами всегда является свидетельством <b>существования некоторой статистической связи</b> в данной выборке, но эта связь не обязательно должна наблюдаться для другой выборки и иметь причинно-следственный характер. Часто заманчивая простота корреляционного исследования подталкивает исследователя делать ложные интуитивные выводы о наличии причинно-следственной связи между парами признаков, в то время как коэффициенты корреляции устанавливают лишь статистические взаимосвязи. Например, рассматривая пожары в конкретном городе, можно выявить весьма высокую корреляцию между ущербом, который нанёс пожар, и количеством пожарных, участвовавших в ликвидации пожара, причём эта корреляция будет положительной. Из этого, однако, не следует вывод «увеличение количества пожарных приводит к увеличению причинённого ущерба», и тем более не будет успешной попытка минимизировать ущерб от пожаров путём ликвидации пожарных бригад. Корреляция двух величин может свидетельствовать о существовании общей причины, хотя сами явления напрямую не взаимодействуют. Например, обледенение становится причиной как роста травматизма из-за падений, так и увеличения аварийности среди автотранспорта. В этом случае две величины (травматизм из-за падений пешеходов и аварийность автотранспорта) будут коррелировать, хотя они не связаны причинно-следственно друг с другом, а лишь имеют стороннюю общую причину — гололедицу.<br><br>\n",
    "\n",
    "В то же время, <b>отсутствие корреляции</b> между двумя величинами ещё не значит, что между ними нет никакой связи. Например, зависимость может иметь сложный нелинейный характер, который корреляция не выявляет.\n",
    "<br><br>\n",
    "Некоторые виды коэффициентов корреляции могут быть положительными или отрицательными. В первом случае предполагается, что мы можем определить только наличие или отсутствие связи, а во втором — также и её направление. <b><i>Отрицательная корреляция</i></b> — корреляция, при которой увеличение одной переменной связано с уменьшением другой. При этом коэффициент корреляции будет отрицательным. <b><i>Положительная корреляция</i></b> в таких условиях — это такая связь, при которой увеличение одной переменной связано с увеличением другой переменной. Возможна также ситуация отсутствия статистической взаимосвязи — например, для независимых случайных величин.<br><br>\n",
    "\n",
    "По сути, <b>корреляция</b> - это мера того, как две или более переменных связаны друг с другом. Существует несколько <b>коэффициентов корреляции</b>, которые измеряют степень <i>корреляции</i>. Наиболее распространенным из них явялется <b><i>коэффициент корреляции Пирсона</i></b>. Этот коэффициент получается путем взятия отношения ковариации двух рассматриваемых переменных нашего числового набора данных,\n",
    "нормализованного(что такое нормализация можно прочитать <a href='https://www.bigdataschool.ru/blog/%d0%bd%d0%be%d1%80%d0%bc%d0%b0%d0%bb%d0%b8%d0%b7%d0%b0%d1%86%d0%b8%d1%8f-%d0%bc%d0%b5%d1%82%d0%be%d0%b4%d1%8b-%d1%81%d1%80%d0%b5%d0%b4%d1%81%d1%82%d0%b2%d0%b0-data-preparation.html'>здесь</a>) к квадратному корню из дисперсии(стандартное отклонение). Математически ковариацию двух переменных просто делят на произведение их стандартных отклонений.<br><br>\n",
    " \n",
    "$$corr(X, Y) = cov(X, Y)/(σ_x*σ_y)$$<br><br>\n"
   ]
  },
  {
   "cell_type": "code",
   "execution_count": 21,
   "id": "bcd61251",
   "metadata": {},
   "outputs": [
    {
     "name": "stdout",
     "output_type": "stream",
     "text": [
      "Корреляция: 0.897366311760987\n"
     ]
    }
   ],
   "source": [
    "def correlation(xs: list[float], ys: list[float]) -> float:\n",
    "    \"\"\"Измеряет связь между xs-выборкой и ys-выборкой\n",
    "       Коэффициент корреляции находится в диапазоне [-1;1]\"\"\"\n",
    "    stdev_x = standard_deviation(xs)\n",
    "    stdev_y = standard_deviation(ys)\n",
    "    if stdev_x > 0 and stdev_y > 0:\n",
    "        return covariance(xs, ys) / (stdev_x * stdev_y)\n",
    "    else:\n",
    "        return 0 # если вариации нет, то корреляция равна\n",
    "\n",
    "print(f'Корреляция: {correlation(invite_people, work_time)}')"
   ]
  },
  {
   "cell_type": "markdown",
   "id": "a854ecdc",
   "metadata": {},
   "source": [
    "<br>\n",
    "Корреляция является безрамерной величиной, её значения всегда лежат между -1(идеальная антикорреляция) и 1(идеальная корреляция).<br>\n",
    "Значение 0.89 является высокой корреляцией.<br><br>\n",
    "\n",
    "Мы забыли проверить наши данные перед тем, как получать статистические показатели.<br><br>\n"
   ]
  },
  {
   "cell_type": "code",
   "execution_count": 29,
   "id": "2018f864",
   "metadata": {},
   "outputs": [
    {
     "data": {
      "text/plain": [
       "Text(0, 0.5, 'Время работы')"
      ]
     },
     "execution_count": 29,
     "metadata": {},
     "output_type": "execute_result"
    },
    {
     "data": {
      "image/png": "[encoded data removed]",
      "text/plain": [
       "<Figure size 640x480 with 1 Axes>"
      ]
     },
     "metadata": {},
     "output_type": "display_data"
    }
   ],
   "source": [
    "plt.scatter(invite_people, work_time, color='black', edgecolor='green')\n",
    "plt.xlabel('Число приглашений')\n",
    "plt.ylabel('Время работы')"
   ]
  },
  {
   "cell_type": "markdown",
   "id": "18052edd",
   "metadata": {},
   "source": [
    "<br>\n",
    "С нашими данными на первый взгляд все хорошо, больше приглашений набирает тот, кто больше работает, выбросов нет.<br>\n",
    "Попробуем немного изменить наши данные, добавим в них выброс и посмотрим как изменится корреляция.<br>\n",
    "<br>\n"
   ]
  },
  {
   "cell_type": "code",
   "execution_count": 41,
   "id": "317d94a2",
   "metadata": {},
   "outputs": [],
   "source": [
    "invite_people = [2, 27, 15,  2, 17, 28, 24,  3, 18, 25,  8, 16, 26,  5, 19, 14, 18, 21, 21, 100] # Последний hr пригласил 100 человек \n",
    "work_time = [3, 8, 5, 1, 4, 7, 7, 2, 5, 6, 4, 5, 6, 3, 5, 4, 5, 5, 4, 1] # последний hr отработал всего 1 час"
   ]
  },
  {
   "cell_type": "code",
   "execution_count": 42,
   "id": "a696d62f",
   "metadata": {},
   "outputs": [
    {
     "data": {
      "text/plain": [
       "Text(0, 0.5, 'Время работы')"
      ]
     },
     "execution_count": 42,
     "metadata": {},
     "output_type": "execute_result"
    },
    {
     "data": {
      "image/png": "[encoded data removed]",
      "text/plain": [
       "<Figure size 640x480 with 1 Axes>"
      ]
     },
     "metadata": {},
     "output_type": "display_data"
    }
   ],
   "source": [
    "plt.scatter(invite_people, work_time, color='black', edgecolor='green')\n",
    "plt.xticks([5 * i for i in range(21)])\n",
    "plt.xlabel('Число приглашений')\n",
    "plt.ylabel('Время работы')"
   ]
  },
  {
   "cell_type": "code",
   "execution_count": 46,
   "id": "4c766df9",
   "metadata": {},
   "outputs": [
    {
     "name": "stdout",
     "output_type": "stream",
     "text": [
      "Корреляция: -0.06902543070514797\n"
     ]
    }
   ],
   "source": [
    "print(f'Корреляция: {correlation(invite_people, work_time)}')"
   ]
  },
  {
   "cell_type": "markdown",
   "id": "4dc064ba",
   "metadata": {},
   "source": [
    "Корреляция значительно поменялась."
   ]
  },
  {
   "cell_type": "markdown",
   "id": "cbd793bb",
   "metadata": {},
   "source": [
    "<br>\n",
    "<font size=5>Парадокс симпсона</font>\n",
    "<hr>\n",
    "Прочитать подробно <a href='https://ru.m.wikipedia.org/wiki/%D0%9F%D0%B0%D1%80%D0%B0%D0%B4%D0%BE%D0%BA%D1%81_%D0%A1%D0%B8%D0%BC%D0%BF%D1%81%D0%BE%D0%BD%D0%B0'>парадокс симпсона</a><br><br>\n",
    "<b>Парадокс Симпсона (также Парадокс Юла — Симпсона или парадокс объединения)</b>  — эффект, явление в статистике, когда при наличии двух групп данных, в каждой из которых наблюдается одинаково направленная зависимость, при объединении этих групп направление зависимости меняется на противоположное.<br><br>\n",
    "\n",
    "<font size=4><b>Причины</b></font><br>\n",
    "<i>Причина парадокса</i> заключается в некорректном усреднении двух групп данных с различной долей контрольных наблюдений (нерепрезентативная выборка).<br>\n",
    "Поскольку интуитивно предполагается, что при применении найденных зависимостей доля контрольных будет одинаковой в обеих группах, но если в исходных данных это не выполняется,<br>\n",
    "то к ним нельзя применять арифметическое усреднение.<br><br>\n",
    "\n",
    "<font size=4><b>Практическая значимость</b></font><br>\n",
    "Парадокс Симпсона иллюстрирует неправомерность обобщений по нерепрезентативным выборкам, иногда опасных для жизни. Так, например, в ходе эксперимента в группе мужчин и группе женщин, больных одной и той же болезнью, к стандартному лечению прибавили новый лекарственный препарат. Результат по обеим группам в отдельности подтверждал эффективность нового средства.<br><br>\n",
    "\n",
    "<img src='data/man_woman.jpg'></img><br><br>\n",
    "Интуитивно предполагается, что если в обеих группах прослеживается зависимость, она должна проявиться и при объединении этих групп. Но хотя соотношение выздоровевших и больных среди и женщин, и мужчин, принимавших лекарство, больше, чем среди тех из них, кто его не использовал, в связи с нерепрезентативностью контрольной группы в агрегированных данных эта закономерность не сохраняется.<br><br>\n",
    "<img src='data/mw.jpg'></img><br><br>\n",
    "Соотношение в агрегированных данных 850/870<480/410, то есть 0,977<1,171. Следовательно, доля выздоровевших среди принимавших лекарство меньше той же доли среди не принимавших.<br>\n",
    "\n",
    "Для устранения парадокса нужно обратить внимание, что отношение контрольной группы к группе воздействия в приведённых группах резко различается: у мужчин составляет (80+130)/(700+800) = 14 %, а у женщин (400+280)/(150+70) = 309 %.<br>\n",
    "\n",
    "Для корректного усреднения нужно обеспечить репрезентативность контрольной группы в обеих выборках, введя весовые коэффициенты так, чтобы взвешенная доля контрольных в обеих группах стала одинаковой. В данном случае достаточно количество мужчин, не принимавших лекарства, умножить на весовой коэффициент 22.07. Измененные таблицы будут выглядеть так:<br><br>\n",
    "<img src='data/mwf.jpg'></img><br><br>\n",
    "\n",
    "<br>\n",
    "<font size=5>Корреляционные ловушки</font>\n",
    "<hr>\n",
    "Корреляция, равная нулю, означает отсутствие линейной связи между двумя переменными. Однако могут быть совсем другие виды зависимостей. <br>\n",
    "Например, если: <br>\n",
    "х = [-2, -1, о, 1, 2] <br>\n",
    "у = [ 2, 1, о, 1, 2] <br>\n",
    "то переменные х и у имеют нулевую корреляцию, но связь между ними определенно существует - каждый элемент у равен абсолютному значению соответствующего элемента х.<br> \n",
    "Но в них отсутствует связь, при которой знание о том, как х _ i соотносится со средним mean (х), дает нам информацию о том, как у_ i соотносится со средним mean (у). <br>\n",
    "Это как раз тот тип связи, который корреляция пытается найти. <br><br>\n",
    "Кроме того, корреляция ничего не говорит о величине связи. Переменные: <br>\n",
    "х = [-2, 1, о, 1, 2] <br>\n",
    "у= [99.98, 99.99, 100, 100.01, 100.02] <br>\n",
    "имеют очень хорошую корреляцию, но в зависимости от того, что вы измеряете, вполне возможно, что эта связь не представляет какого-то интереса.<br><br>"
   ]
  },
  {
   "cell_type": "code",
   "execution_count": null,
   "id": "fa3f07ea",
   "metadata": {},
   "outputs": [],
   "source": []
  }
 ],
 "metadata": {
  "kernelspec": {
   "display_name": "Python 3 (ipykernel)",
   "language": "python",
   "name": "python3"
  },
  "language_info": {
   "codemirror_mode": {
    "name": "ipython",
    "version": 3
   },
   "file_extension": ".py",
   "mimetype": "text/x-python",
   "name": "python",
   "nbconvert_exporter": "python",
   "pygments_lexer": "ipython3",
   "version": "3.10.4"
  }
 },
 "nbformat": 4,
 "nbformat_minor": 5
}
