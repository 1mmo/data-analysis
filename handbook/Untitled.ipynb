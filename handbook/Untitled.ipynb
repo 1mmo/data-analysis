{
 "cells": [
  {
   "cell_type": "markdown",
   "id": "a8914f39",
   "metadata": {},
   "source": [
    "<br>\n",
    "<br>\n",
    "<font size=6>Домашняя работа по Pandas</font><br>\n",
    "<br><br>"
   ]
  },
  {
   "cell_type": "markdown",
   "id": "10080cc8",
   "metadata": {},
   "source": [
    "<br>\n",
    "<font size=5>Эпизод Ⅰ. Создание данных.</font><br>\n",
    "<br>"
   ]
  },
  {
   "cell_type": "markdown",
   "id": "69d5bad1",
   "metadata": {},
   "source": [
    "<br>\n",
    "1.Создайте DataFrame:<br>\n",
    "<img src='data/apb.jpg'><br>\n",
    "<br>"
   ]
  },
  {
   "cell_type": "code",
   "execution_count": null,
   "id": "17ad8752",
   "metadata": {},
   "outputs": [],
   "source": []
  },
  {
   "cell_type": "markdown",
   "id": "08b1da72",
   "metadata": {},
   "source": [
    "<br>\n",
    "2.Создайте DataFrame:<br>\n",
    "<img src='data/apb2.jpg'><br>\n",
    "<br>"
   ]
  },
  {
   "cell_type": "code",
   "execution_count": null,
   "id": "5e42b5f0",
   "metadata": {},
   "outputs": [],
   "source": []
  },
  {
   "cell_type": "markdown",
   "id": "d54bdea9",
   "metadata": {},
   "source": [
    "<br>\n",
    "3.Создайте Series:<br>\n",
    "<br>\n",
    "<img src='data/sr.jpg'><br>\n",
    "<br>"
   ]
  },
  {
   "cell_type": "code",
   "execution_count": null,
   "id": "9a31221e",
   "metadata": {},
   "outputs": [],
   "source": []
  },
  {
   "cell_type": "markdown",
   "id": "4e5d56a3",
   "metadata": {},
   "source": [
    "<br>\n",
    "4.Создайте DataFrame: Cows': [12, 20], 'Goats': [22, 19]} index=['Year 1', 'Year 2']\n",
    "И сохраните его, как animal.csv<br>\n",
    "<br>"
   ]
  },
  {
   "cell_type": "code",
   "execution_count": null,
   "id": "643376cd",
   "metadata": {},
   "outputs": [],
   "source": []
  },
  {
   "cell_type": "markdown",
   "id": "5172fa37",
   "metadata": {},
   "source": [
    "<br>\n",
    "5.Загрузите датасет wine-reviews с kallge:<br>\n",
    "https://www.kaggle.com/datasets/zynicide/wine-reviews<br>\n",
    "<br>\n",
    "5.1 Выведите 5 первых элементов из датасета.<br>\n",
    "5.2 Напиши размеры вашего датасета: сколько строк и столбцов.<br>\n",
    "5.3 Какой признак(столбец) является самым важным для покупателя<br>\n",
    "5.4 В каком признаке нужно искать информацию о дегустаторе?<br>\n",
    "<br>"
   ]
  },
  {
   "cell_type": "code",
   "execution_count": null,
   "id": "e167f420",
   "metadata": {},
   "outputs": [],
   "source": []
  },
  {
   "cell_type": "markdown",
   "id": "d7cfafe1",
   "metadata": {},
   "source": [
    "<br>\n",
    "<font size=5>Эпизод 2. Индексирование, выбор и назначение.</font><br>\n",
    "<br>"
   ]
  },
  {
   "cell_type": "markdown",
   "id": "bd84d2a1",
   "metadata": {},
   "source": [
    "<br>\n",
    "1. Загрузите датасет wine-reviews с kallge:<br>\n",
    "https://www.kaggle.com/datasets/zynicide/wine-reviews<br>\n",
    "<br>"
   ]
  },
  {
   "cell_type": "code",
   "execution_count": null,
   "id": "ed13833e",
   "metadata": {},
   "outputs": [],
   "source": []
  },
  {
   "cell_type": "markdown",
   "id": "a10bb176",
   "metadata": {},
   "source": [
    "<br>\n",
    "2. Покажите какие страны участвуют в выборке.<br>\n",
    "2.1 Какие пять стран были добавлены последними?<br>\n",
    "<br>"
   ]
  },
  {
   "cell_type": "code",
   "execution_count": null,
   "id": "1f107dad",
   "metadata": {},
   "outputs": [],
   "source": []
  },
  {
   "cell_type": "markdown",
   "id": "f2d4423a",
   "metadata": {},
   "source": [
    "<br>\n",
    "3.Выберите первое значение из столбца description, присвоив его переменной first_description.<br>\n",
    "<br>"
   ]
  },
  {
   "cell_type": "code",
   "execution_count": null,
   "id": "d742b6e6",
   "metadata": {},
   "outputs": [],
   "source": [
    "first_descrtiption = 'your code here'"
   ]
  },
  {
   "cell_type": "markdown",
   "id": "00bf86ee",
   "metadata": {},
   "source": [
    "<br>\n",
    "4.Выберите первую строку данных (первую запись), присвоив ее переменной first_row.<br>\n",
    "<br>"
   ]
  },
  {
   "cell_type": "code",
   "execution_count": null,
   "id": "482fbdb0",
   "metadata": {},
   "outputs": [],
   "source": [
    "firs_row = 'your code here'"
   ]
  },
  {
   "cell_type": "markdown",
   "id": "a1b41eaa",
   "metadata": {},
   "source": [
    "<br>\n",
    "5.Выберите первые 10 значений из столбца description, присвоив результат переменной first_descriptions.<br>\n",
    "<br>"
   ]
  },
  {
   "cell_type": "code",
   "execution_count": 1,
   "id": "2936d7a4",
   "metadata": {},
   "outputs": [],
   "source": [
    "first_descriptions = 'your code here'"
   ]
  },
  {
   "cell_type": "markdown",
   "id": "5ad5fc23",
   "metadata": {},
   "source": [
    "<br>\n",
    "6.Выберите записи с индексными метками 1, 2, 3, 5 и 8, присвоив результат переменной sample_reviews.<br>\n",
    "<br>"
   ]
  },
  {
   "cell_type": "code",
   "execution_count": 2,
   "id": "547f06b3",
   "metadata": {},
   "outputs": [],
   "source": [
    "sample_reviews = 'your code here'"
   ]
  },
  {
   "cell_type": "markdown",
   "id": "45d704aa",
   "metadata": {},
   "source": [
    "<br>\n",
    "Создайте переменную df, содержащую столбцы страны, провинции, региона_1 и региона_2 с метками индекса 0, 1, 10 и 100. Другими словами, создайте следующий кадр данных:<br>\n",
    "<img src='data/ind.jpg'>\n",
    "<br>"
   ]
  },
  {
   "cell_type": "markdown",
   "id": "2acd0f65",
   "metadata": {},
   "source": [
    "<br>\n",
    "7.Постройте график зависимости цены от оценок вина.<br>\n",
    "7.1 Сделайте вывод на основе данных<br>\n",
    "<br>"
   ]
  },
  {
   "cell_type": "code",
   "execution_count": null,
   "id": "41516625",
   "metadata": {},
   "outputs": [],
   "source": []
  },
  {
   "cell_type": "markdown",
   "id": "a76f7651",
   "metadata": {},
   "source": [
    "<br>\n",
    "8. Вычислите среднее значение, максимум, минимум, стандартное отклонение у price и points.<br>\n",
    "<br>"
   ]
  },
  {
   "cell_type": "code",
   "execution_count": null,
   "id": "c88415d2",
   "metadata": {},
   "outputs": [],
   "source": []
  },
  {
   "cell_type": "markdown",
   "id": "ebccc9df",
   "metadata": {},
   "source": [
    "<br>\n",
    "9.Постройте график распределения price и points<br>\n",
    "<br>"
   ]
  },
  {
   "cell_type": "code",
   "execution_count": null,
   "id": "db2dcf8c",
   "metadata": {},
   "outputs": [],
   "source": []
  }
 ],
 "metadata": {
  "kernelspec": {
   "display_name": "Python 3 (ipykernel)",
   "language": "python",
   "name": "python3"
  },
  "language_info": {
   "codemirror_mode": {
    "name": "ipython",
    "version": 3
   },
   "file_extension": ".py",
   "mimetype": "text/x-python",
   "name": "python",
   "nbconvert_exporter": "python",
   "pygments_lexer": "ipython3",
   "version": "3.10.4"
  }
 },
 "nbformat": 4,
 "nbformat_minor": 5
}
