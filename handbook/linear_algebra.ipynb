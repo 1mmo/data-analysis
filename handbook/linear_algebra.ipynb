{
 "cells": [
  {
   "cell_type": "markdown",
   "id": "cab7f6ac",
   "metadata": {},
   "source": [
    "<br>\n",
    "<font size=6>Linear algebra</font>\n",
    "<br>\n",
    "<br>\n",
    "<i>\"Числа  не управляют миром, но показывают, как  управляется мир\"</i>.\n",
    "<br>\n",
    "<br>\n",
    "Раздел алгебры, изучающий объекты линейной природы: векторные пространства, линейные отображения, системы линейных уравнений, среди основных инструментов, используемых в линейной алгебре - определители, матрицы, сопряжение.<br><br>\n",
    "\n",
    "МАТЕРИАЛЫ ЗАНЯТИЯ:\n",
    "- курс занятий на сайте mathprofi: http://mathprofi.ru/vektory_dlya_chainikov.html\n",
    "- курс очень понятных видосов по линейной алгебре: https://www.youtube.com/watch?v=RNTRYicPvWQ&list=PLVjLpKXnAGLXPaS7FRBjd5yZeXwJxZil2\n",
    "- Некоторые свойства операций над матрицами.\n",
    "Матричные выражения: http://mathprofi.ru/svoistva_operacij_nad_matricami_matrichnye_vyrazheniya.html\n",
    "<br>\n",
    "<br>"
   ]
  },
  {
   "cell_type": "code",
   "execution_count": 1,
   "id": "e1cd94f3",
   "metadata": {},
   "outputs": [],
   "source": [
    "import math"
   ]
  },
  {
   "cell_type": "markdown",
   "id": "75da08f3",
   "metadata": {},
   "source": [
    "<br>\n",
    "<font size=6>Векторы</font>\n",
    "<br>\n",
    "<br>\n",
    "В абстрактном смысле <b>векторы</b> - это объекты, которые можно складывать между <br>\n",
    "собой, формируя новые векторы, и умножать на скалярные величины (т. е. на числа), опять же формируя новые векторы<br>\n",
    "- В Физике понятие вектора применяется, чтобы задать направление, например, силе трения. <br>\n",
    "- Для математиков вектор - объект, который характеризуется величиной и направлением. Направленный отрезок - это и есть вектор.<br>\n",
    "- В случае data science под вектором подразумевается набор точек в некотором пространстве. Например стоимость дома в разные периоды времени можно записать в вектор\n",
    "<code>price = [2540000, 2670000, 2875000, 2950000]</code>\n",
    "переменная price - одномерный вектор"
   ]
  },
  {
   "cell_type": "markdown",
   "id": "ae42836c",
   "metadata": {},
   "source": [
    "<br>\n",
    "<font size=3>Сложение векторов</font>\n",
    "<br>\n",
    "<br>\n",
    "Например, сложение векторов v = [1, 2] и w = [4, 5] даст: v + w = [1 + 4, 2 + 5] или [5, 7]\n",
    "<br>\n",
    "<br>\n",
    "<img src='data/plus_vector.jpg' width='350'></img>\n",
    "<br>\n",
    "<br>"
   ]
  },
  {
   "cell_type": "code",
   "execution_count": 29,
   "id": "196113d0",
   "metadata": {},
   "outputs": [],
   "source": [
    "Vector = list[float]"
   ]
  },
  {
   "cell_type": "code",
   "execution_count": 30,
   "id": "8dd4b00b",
   "metadata": {},
   "outputs": [],
   "source": [
    "def add(v: Vector, w: Vector) -> Vector:\n",
    "    \"\"\"Складывает соответствующие элементы\"\"\" \n",
    "    assert len(v) == len(w), \"векторы должны иметь одинаковую длину\" \n",
    "    return [v_i + w_i for v_i, w_i in zip(v, w)]\n",
    "\n",
    "assert add([ 1 , 2, 3 ] , [ 4 , 5, 6]) == [ 5, 7, 9]"
   ]
  },
  {
   "cell_type": "code",
   "execution_count": 31,
   "id": "c06d4746",
   "metadata": {},
   "outputs": [],
   "source": [
    "def subtract(v: Vector, w: Vector) -> Vector:\n",
    "    \"\"\"Вычитает соответствующие элементы\"\"\" \n",
    "    assert len(v) == len(w), \"векторы должны иметь одинаковую длину\" \n",
    "    return [v_i - w_i for v_i, w_i in zip(v, w)]\n",
    "\n",
    "assert subtract([ 6, 7, 9] , [4, 5, 6]) == [2, 2, 3]"
   ]
  },
  {
   "cell_type": "markdown",
   "id": "a087d48c",
   "metadata": {},
   "source": [
    "Покомпонентная сумма списка векторов"
   ]
  },
  {
   "cell_type": "code",
   "execution_count": 32,
   "id": "f41f497a",
   "metadata": {},
   "outputs": [],
   "source": [
    "def vector_sum(vectors: list[Vector]) -> Vector: \n",
    "    \"\"\"Суммирует все соответствующие элементы\"\"\" \n",
    "    # Проверить, что векторы не пустые \n",
    "    assert vectors, \"векторы не предоставлены!\" \n",
    "    # Проверить, что векторы имеют одинаковый размер \n",
    "    num_elements = len(vectors[0]) \n",
    "    assert all(len(v) == num_elements for v in vectors), \"разные размеры!\" \n",
    "    # i-й элемент результата является суммой каждого элемента vector[i] \n",
    "    return [sum(vector[i] for vector in vectors) \n",
    "            for i in range(num_elements)]\n",
    "\n",
    "assert vector_sum([[1, 2], [3, 4], [5, 6], [7, 8]]) == [16, 20]"
   ]
  },
  {
   "cell_type": "markdown",
   "id": "cfc0ac8a",
   "metadata": {},
   "source": [
    "<br>\n",
    "<font size=3>Умножение на скаляр</font>\n",
    "<br>\n",
    "<br>\n",
    "Например, умножение вектора v = [4, 50] на число k = 2 даст: k * v = [4 * 2, 50 * 2] или [8, 100]\n",
    "<br>\n",
    "<br>\n",
    "<img src='data/scalar.jpg' width='350'></img>\n",
    "<br>\n",
    "<br>"
   ]
  },
  {
   "cell_type": "code",
   "execution_count": 33,
   "id": "5c980d74",
   "metadata": {},
   "outputs": [],
   "source": [
    "def scalar_multiply(c: float, v: Vector) -> Vector: \n",
    "    \"\"\"Умножает каждый элемент на с\"\"\" \n",
    "    return [c * v_i for v_i in v] \n",
    "\n",
    "assert scalar_multiply(2, [1, 2, 3]) == [2, 4, 6]"
   ]
  },
  {
   "cell_type": "markdown",
   "id": "4bb944b5",
   "metadata": {},
   "source": [
    "Эта функция позволяет нам вычислять покомпонентные средние значения списка \n",
    "векторов (одинакового размера):"
   ]
  },
  {
   "cell_type": "code",
   "execution_count": 35,
   "id": "87bc0954",
   "metadata": {},
   "outputs": [],
   "source": [
    "def vector_mean(vectors: list[Vector]) -> Vector: \n",
    "    \"\"\"Вычисляет поэлементное среднее арифметическое\"\"\" \n",
    "    n = len(vectors) \n",
    "    return scalar_multiply(1/n, vector_sum(vectors)) \n",
    "\n",
    "assert vector_mean([[1, 2], [3, 4], [5, 6]]) == [3, 4]"
   ]
  },
  {
   "cell_type": "markdown",
   "id": "a01211be",
   "metadata": {},
   "source": [
    "<br>\n",
    "<font size=3>Скалярное произведение векторов</font>\n",
    "<br>\n",
    "<br>\n",
    "Используется когда мы хотим количественно описать связь между векторами.\n",
    "Например, в физике можно найти работу с помощью скалярного умножения вектора силы на вектор пути: A = FScosα\n",
    "Если A = 0 - угол между векторами 90°.\n",
    "Если A < 0 - вектора направлены в разные стороны, работа будет выполняться в противоположную сторону от оси\n",
    "Если A > 0 - все ок, работа выполняется в сторону оси\n",
    "<br>\n",
    "<br>\n",
    "<img src='data/scalar_multi.jpg' width='350'></img>\n",
    "<br>\n",
    "<br>"
   ]
  },
  {
   "cell_type": "code",
   "execution_count": 36,
   "id": "35affa17",
   "metadata": {},
   "outputs": [],
   "source": [
    "def dot(v: Vector, w: Vector) -> float:\n",
    "    \"\"\" Вычисляет v_i * w_i + ... + v_n * w_n \"\"\"\n",
    "    assert len(v) == len(w), \"векторы должны иметь одинаковую длину\"\n",
    "\n",
    "    return sum(v_i * w_i for v_i, w_i in zip(v, w))\n",
    "\n",
    "assert dot([1, 2, 3], [4, 5, 6]) == 32"
   ]
  },
  {
   "cell_type": "code",
   "execution_count": 37,
   "id": "88729b0b",
   "metadata": {},
   "outputs": [],
   "source": [
    "def sum_of_squares(v: Vector) -> float:\n",
    "    \"\"\" Возвращает v_i * v_i + ... + v_n * v_n \"\"\"\n",
    "    return dot(v, v)\n",
    "\n",
    "assert sum_of_squares([1, 2, 3]) == 14"
   ]
  },
  {
   "cell_type": "markdown",
   "id": "ff77508a",
   "metadata": {},
   "source": [
    "Длина вектора находится так"
   ]
  },
  {
   "cell_type": "markdown",
   "id": "4b0cefc5",
   "metadata": {},
   "source": [
    "<br>\n",
    "$$v = [1, 5, 7]$$ $$|v| = \\sqrt{(1^2 + 5^2 + 7^2)} = \\sqrt{(1 + 25 + 49)} = \\sqrt75$$\n",
    "<br>"
   ]
  },
  {
   "cell_type": "code",
   "execution_count": 38,
   "id": "99762cd0",
   "metadata": {},
   "outputs": [
    {
     "data": {
      "text/plain": [
       "8.660254037844387"
      ]
     },
     "execution_count": 38,
     "metadata": {},
     "output_type": "execute_result"
    }
   ],
   "source": [
    "def magnitude(v: Vector) -> float:\n",
    "    \"\"\" Возвращает магнитуду (или длину) вектора v \"\"\"\n",
    "    # math.sqrt - это функция квадратного корня\n",
    "    return math.sqrt(sum_of_squares(v))\n",
    "\n",
    "magnitude([1, 5, 7])"
   ]
  },
  {
   "cell_type": "markdown",
   "id": "22fe678a",
   "metadata": {},
   "source": [
    "<br>\n",
    "Теперь есть все части, необходимые для вычисления расстояния между двумя векторами по формуле:\n",
    "\n",
    "$$\n",
    "\\sqrt{(v_{1}-w_{1})^2 + ... + (v_{n} - w_{n})^2}$$"
   ]
  },
  {
   "cell_type": "code",
   "execution_count": 39,
   "id": "1f9bcde0",
   "metadata": {},
   "outputs": [],
   "source": [
    "# Квадрат расстояния между двумя векторами\n",
    "def squared_distance(v: Vector, w: Vector) -> float:\n",
    "    \"\"\" Вычисляет (v_i - w_i) ** 2 + ... + (v_n - w_n) ** 2 \"\"\"\n",
    "    return sum_of_squares(subtract(v, w))"
   ]
  },
  {
   "cell_type": "code",
   "execution_count": 40,
   "id": "b0fa9a06",
   "metadata": {},
   "outputs": [],
   "source": [
    "# Расстояние между двумя векторами\n",
    "def distance(v: Vector, w:Vector) -> float:\n",
    "    return math.sqrt(squared_distance(v, w))"
   ]
  },
  {
   "cell_type": "markdown",
   "id": "aa9d4be2",
   "metadata": {},
   "source": [
    "<br>\n",
    "<font size=6>Матрицы</font>\n",
    "<br>\n",
    "<br>\n",
    "<b>Матрица</b> - это прямоугольная таблица каких-либо элементов\n",
    "Когда матрицы умножается на вектор, происходит трансформация вектора. 1-столбец показывает куда будет направлен базис i,\n",
    "2-столбец показывает куда будет направлен базис j и тд.\n",
    "\n",
    "<br>\n",
    "<br>\n",
    "<img src='data/matr.jpg' width='350'></img>\n",
    "<br>\n",
    "<br>\n",
    "Статья для изучения матриц "
   ]
  },
  {
   "cell_type": "markdown",
   "id": "9907317f",
   "metadata": {},
   "source": [
    "<br>\n",
    "<font size=3>1) Вынесение минуса из матрицы</font>\n",
    "<br>\n",
    "<br>\n",
    "<img src='data/minus.jpg' width='350'></img>\n",
    "<br>"
   ]
  },
  {
   "cell_type": "markdown",
   "id": "b2aa6e79",
   "metadata": {},
   "source": [
    "<br>\n",
    "<font size=3>2) Умножение матрицы на число</font>\n",
    "<br>\n",
    "<br>\n",
    "<img src='data/matr_multi.jpg' width='350'></img>\n",
    "<br>"
   ]
  },
  {
   "cell_type": "markdown",
   "id": "5cc04537",
   "metadata": {},
   "source": [
    "<br>\n",
    "<font size=3>3) Транспонирование матрицы</font>\n",
    "<br>\n",
    "<br>\n",
    "<img src='data/trans.jpg' width='350'></img>\n",
    "<br>\n",
    "$$B^T_{ji} = B_{ij}$$<br>\n",
    "То есть транспонирование применяется, чтобы расположение индексов i j поменять местами\n",
    "<br>\n",
    "<br>"
   ]
  },
  {
   "cell_type": "markdown",
   "id": "cf44491f",
   "metadata": {},
   "source": [
    "<br>\n",
    "<font size=3>4) Сумма(разность) матриц </font>\n",
    "<br>\n",
    "Не все матрицы можно складывать. Размеры матриц должны быть одинаковыми nхm у первой и nxm  у второй\n",
    "<br>\n",
    "<img src='data/matr_plus.jpg' width='350'></img>\n",
    "<br>"
   ]
  },
  {
   "cell_type": "markdown",
   "id": "507ea24a",
   "metadata": {},
   "source": [
    "<br>\n",
    "<font size=3>5) Умножение матриц (Композиция) </font>\n",
    "<br>\n",
    "Композиция - трансформация по отдельности\n",
    "Применяется правило справа на лево f(g(x))\n",
    "\n",
    "Смысл: применяется сначало одна трансформация, например разворот, \n",
    "а затем другая скос.<br>\n",
    "Есть объяснение получше: https://www.youtube.com/watch?v=tnjBY4Yq6mY <br><br>\n",
    "<b>Какие матрицы можно умножать?</b><br>\n",
    "Чтобы матрицу K можно было умножить на матрицу L нужно, <b>чтобы число столбцов матрицы K равнялось числу строк матрицы L</b>\n",
    "<br><br>\n",
    "<b>Как умножить матрицы?</b><br>\n",
    "<img src='data/compos.jpg' width='500'></img>\n",
    "<br>\n",
    "<img src='data/compos3x.jpg' width='500'></img>\n",
    "<br>"
   ]
  },
  {
   "cell_type": "markdown",
   "id": "52e392fb",
   "metadata": {},
   "source": [
    "<br>\n",
    "<font size=3>6) Нахождение обратной матрицы</font><br>\n",
    "обратная матрица: http://mathprofi.ru/kak_naiti_obratnuyu_matricu.html\n",
    "<br>\n",
    "<br>\n",
    "Для нахождения обратной матрицы нужно уметь находить определитель<br>\n",
    "определитель: http://www.mathprofi.ru/kak_vychislit_opredelitel.html\n",
    "<br>\n",
    "\n",
    "<b>Определитель можно вычислить только для квадратной матрицы</b><br><br>\n",
    "<b>Определитель или детерминант</b> - это коээфициент масштабирования, он показывает<br>\n",
    "насколько меняется площадь квадрата после трансформации\n",
    "<br>\n",
    "<img src='data/determ.jpg' width='500'></img>\n",
    "<br>\n",
    "<br>\n",
    "<img src='data/opr.jpg' width='500'></img>\n",
    "<br>\n",
    "Для матрицы 3x3 существует много способов, лучше о них узнать по ссылкам выше.\n",
    "<br>\n",
    "Вернемся к обратной матрицы \n",
    "<br>\n",
    "<br>\n",
    "<b>Найдем обратную двухмерную матрицу</b>\n",
    "<br>\n",
    "<img src='data/revers1.jpg' width='500'></img>\n",
    "<br>\n",
    "<br>\n",
    "<img src='data/revers2.jpg' width='500'></img>\n",
    "<br>\n",
    "<br>\n",
    "<b>Найдем обратную трехмерную матрицу</b>\n",
    "<br>\n",
    "<br>\n",
    "<img src='data/revers3.jpg' width='500'></img>\n",
    "<br>"
   ]
  },
  {
   "cell_type": "code",
   "execution_count": null,
   "id": "2a4712c7",
   "metadata": {},
   "outputs": [],
   "source": []
  }
 ],
 "metadata": {
  "kernelspec": {
   "display_name": "Python 3 (ipykernel)",
   "language": "python",
   "name": "python3"
  },
  "language_info": {
   "codemirror_mode": {
    "name": "ipython",
    "version": 3
   },
   "file_extension": ".py",
   "mimetype": "text/x-python",
   "name": "python",
   "nbconvert_exporter": "python",
   "pygments_lexer": "ipython3",
   "version": "3.10.4"
  }
 },
 "nbformat": 4,
 "nbformat_minor": 5
}
