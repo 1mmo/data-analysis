{
 "cells": [
  {
   "cell_type": "markdown",
   "id": "c7c52d01",
   "metadata": {},
   "source": [
    "<br>\n",
    "<font size=6>Probability</font>\n",
    "<br>\n",
    "<br>\n",
    "<i>\"Теория вероятности и закон больших чисел утверждают: иногда нужно пытаться снова и снова, чтобы получить желаемый результат.\"</i>\n",
    "<br><br>\n",
    "<b>Тео́рия вероя́тностей</b> — раздел математики, изучающий случайные события, случайные величины, их свойства и операции над ними.\n",
    "<br><br>\n",
    "<b>История теории вероятностей</b>  отмечена многими уникальными особенностями. Прежде всего, в отличие от появившихся примерно в то же время других разделов математики (например, математического анализа или аналитической геометрии), у теории вероятностей по существу не было античных или средневековых предшественников, она целиком — создание Нового времени. Долгое время теория вероятностей считалась чисто опытной наукой и «не совсем математикой», её строгое обоснование было разработано только в 1929 году, то есть даже позже, чем аксиоматика теории множеств (1922). В наши дни теория вероятностей занимает одно из первых мест в прикладных науках по широте своей области применения; «нет почти ни одной естественной науки, в которой так или иначе не применялись бы вероятностные методы».\n",
    "<br><br>\n",
    "Для наших целей мы будем представлять <b>вероятность</b> как способ количественной <b>оценки неопределенности</b>, ассоциированной с <i>событиями</i> из некоторого <i>вероятностного пространства</i>.\n",
    "Представим бросание кубика. <b>Вероятностное пространство</b> состоит из множества всех возможных исходово, в случае кубика исходов шесть. Каждый исход представляет собой случайное событие, например, такое \n",
    "как 'выпала грань с единицей' или 'выпала грань с четным число'.\n",
    "<br><br>\n",
    "Вероятность случайного события $Е$ будем обозначать через $P(E)$.\n",
    "<br><br>\n",
    "\n",
    "МАТЕРИАЛЫ ЗАНЯТИЯ: \n",
    " - курс занятий по теории вероятности на сайте mathprofi: http://mathprofi.ru/teorija_verojatnostei.html\n",
    " - Книга \"Data Science наука о данных с нуля\", Джоэл Грас, 2е издание.\n",
    " - Много примеров и понятий взято из wikipedia."
   ]
  },
  {
   "cell_type": "markdown",
   "id": "697739e1",
   "metadata": {},
   "source": [
    "<br>\n",
    "<font size=5>Классическое определение вероятности</font>\n",
    "<hr>\n",
    "Вероятностью наступления события $E$ в некотором испытании называют отношение: $$P(E) =\\frac{m}{n}$$<br>\n",
    "Где <br>\n",
    "<ul>\n",
    "<li>n - общее число всех равновозможных, элементарных исходов этого испытания, которые образуют полную группу событий(вероятностное пространство).<br></li>\n",
    "<li> m - количество элементарных исходов, благоприятствующих событию $E$.</li>\n",
    "</ul><br>\n",
    "При <b>броске монеты</b> может выпасть орел, либо решка - данные события образуют вероятностное пространство, таким образом, общее число исходов n=2. <br>\n",
    "Событию $E$ благоприятствует m=1 исход(всего один исход, например, хотим, чтобы выпал орел), тогда $P(E) = \\frac{m}{n} = \\frac{1}{2}$\n",
    "<br>\n",
    "При <b>броске кубика</b> может появиться $n=6$ элементарных равновозможных исходов, образующих полную группу.<br>\n",
    "Чтобы рассчитать вероятность выпадедения грани, например, с числом 5($m=1$ единственный нужный исход), запишем это событие, как букву B, нужно:\n",
    "$P(B) = \\frac{1}{6}$"
   ]
  },
  {
   "cell_type": "markdown",
   "id": "819456df",
   "metadata": {},
   "source": [
    "<br>\n",
    "<font size=5>Взаимная зависимость и независимость</font>\n",
    "<hr>\n",
    "Грубо говоря, два события $E$ и $F$ являются взаимно <b><i>зависимыми</i></b>, если какое-то знание о наступлении события $E$ дает нам информацию о наступлении события $F$. и наоборот.\n",
    "Например, выпадение на кубике грани с единицей не говорит нам о том, что в следующий раз выпадет грань с двойкой, то есть два таких события независимы друг от друга. Но если взять два листка бумаги, на одном написать 1, а на другом 2, перевернуть их обратной стороной, так чтобы цифр не было видно и перемешать листы и если мы случайным образом достанем лист с единицей, то второй раз мы точно достанем лист с цифрой два. Так получается, что эти два события зависят друг от друга.<br><br>\n",
    "\n",
    "C точки зрения математики говорят, что два события $E$ и $F$ являются взаимно <i>независимыми</i>, если вероятность их совместного наступления равна произведению вероятностей их наступления по отдельности:\n",
    "$$P(E, F) = P(E)P(F)$$\n",
    "\n",
    "Вероятность, что произойдут события $E$ и $F$ = вероятности $E$ и вероятности $F$.\n",
    "Например, вероятность, что первый раз выпадет грань с единицей, равна $\\frac{1}{6}$. P = нужный исход/всего исходов. Вероятность, что первый раз выпадет единица, а второй раз двойка, равна $\\frac{1}{36}$.\n",
    "А вероятность того, что на первом листке будет единица и на втором тоже, равна 0, так как два события зависимы и такой исход противоречит другому(у нас на одном листе 1, а на другом 2).\n",
    "<br>\n",
    "<br>"
   ]
  },
  {
   "cell_type": "markdown",
   "id": "974662b2",
   "metadata": {},
   "source": [
    "<br>\n",
    "<font size=5>Условная вероятность</font>\n",
    "<hr>\n",
    "<b>Усло́вная вероя́тность</b> — вероятность наступления события $A$ при условии, что событие $B$ произошло. Вероятность события $A$, вычисленную в предположении, что о результате эксперимента уже что-то известно (событие $B$ произошло), мы будем обозначать через $P(A|B)$. Например, вероятность того, что у какого-то человека будет кашель в произвольный день $5$%. Но если мы знаем или предполагаем, что у человека простуда, тогда у него гораздо больше шансов начать кашлять. Таким образом, условная вероятность кашля у любого человека при условии, что он простужен, выше $75$%.\n",
    "<br>\n",
    "<br>\n",
    "Очевидный частный случай: $P(A|A)=1=100$% неплохо иллюстрируется шуткой «Интернет-опрос показал, что 100% респондентов пользуются интернетом».\n",
    "<br>\n",
    "<br>\n",
    "Условная вероятность является одним из наиболее фундаментальных и одним из наиболее важных понятий теории вероятностей.\n",
    "<br>\n",
    "<br>\n",
    "Если $P(A|B)=P(A)$, то события $A$ и $B$ называются <b>независимыми</b>, т.е наступление одного из них не изменяет вероятность наступления другого. Кроме того, в общем случае $P(A|B)\\neq P(B|A)$.Например, если у вас лихорадка денге (событие $B$), то вероятность получить положительный результат теста на лихорадку (событие $A$ $90$%}, то есть $P(A|B)=90$%. И, наоборот, если вы получили положительный результат теста на лихорадку денге, вероятность того, что она у вас есть всего $15$%. В этом случае произошло событие $B$ (наличие лихорадки денге) при условии события $A$ (тест положительный), т.е. $P(B|A)=15$%. При <i>ошибочном приравнивании двух вероятностей</i> возникают различные заблуждения.\n",
    "<br><br>\n",
    "<font size=3><b>Определение Колмогорова</b></font><br>\n",
    "Пусть два события $A$ и $B$ принадлежат $\\sigma$ - полю вероятностного пространства и $P(B)>0$. Условная вероятность $A$ при условии $B$ равняется частному от деления вероятности событий $A$ и $B$ на вероятность $B$:\n",
    "\n",
    "$$P(A|B)=\\frac {P(A, B)}{P(B)}$$\n",
    "<br>\n",
    "Часто такую формулу приводят к виду: \n",
    "$$P(A, B) = P(A|B)P(B)$$\n",
    "<br>\n",
    "<br>\n",
    "<font size=3><b>Применение</b></font>\n",
    "<br>\n",
    "Пример с семьей, где есть двое детей, чей пол нам неизвестен. При этом допустим, что:\n",
    "<ul>\n",
    "    <li>Каждый ребенок равновероятно является либо мальчиком, либо девочкой</li>\n",
    "    <li>Пол второго ребенка не зависит от пола первого</li>\n",
    "</ul>\n",
    "<br>\n",
    "Тогда событие, что оба ребенка не девочки, имеет вероятность $\\frac{1}{4}$; событие, что <br>\n",
    "одна девочка и один мальчик, имеет вероятность $\\frac{1}{2}$, а событие, что обе - девочки, имеет вероятность $\\frac{1}{4}$. <br>\n",
    "Теперь мы можем задаться вопросм: какова вероятность события, когда оба ребенка - девочки (В), при условии, что старший ребенок - девочка (G)? <br>\n",
    "Используя определение условной вероятности, мы получим:<br>\n",
    "<br>\n",
    "$P(B|G)=\\frac{P(B, G)}{P(G)}=\\frac{P(B)}{P(G)}=\\frac{1}{2}$\n",
    "<br><br>\n",
    "Так как событие $B$ и $G$(оба ребенка - девочки и старший ребенок - девочка)  - это просто событие $B$.<br>\n",
    "(Если мы знаем, что оба ребенка - девочки, то безусловно является истиной, что старший ребенок - девочка)<br>\n",
    "<br>\n",
    "Мы могли бы задаться вопросом о вероятности события, когда оба ребенка девочки при условии, что как минимум один ребенок девочка (L). <br>\n",
    "И удивительная вещь - ответ будет отличаться от ранее полученного! <br>\n",
    "Как и раньше, событие $В$ и $L$ ( оба ребенка - девочки и не менее одного ребенка - девочка) - это просто событие В. <br>\n",
    "Поэтому имеем: <br>\n",
    "<br>\n",
    "$Р(В|L) = \\frac{Р(В)}{P(L)}=\\frac{1}{3}$. <br><br>\n",
    "Как такое может быть? Все дело в том, что если известно, что как минимум один ребенок - девочка, то вероятность, что в семье имеется один мальчик и одна девочка, в два раза выше, чем вероятность, что имеются две девочки<br>\n",
    "<br>\n",
    "Осталось проверить это на опыте, сгенерировав большое число семей:\n",
    "<br><br>"
   ]
  },
  {
   "cell_type": "code",
   "execution_count": 19,
   "id": "6d60deb7",
   "metadata": {},
   "outputs": [
    {
     "name": "stdout",
     "output_type": "stream",
     "text": [
      "Старшая девочка: 4937\n",
      "Обе девочки: 2472\n",
      "Как минимум одна девочка: 7464\n",
      "==============================\n",
      "P(both | either): 0.3311897106109325 ~ 1/3\n",
      "P(both | older): 0.5007089325501317 ~ 1/2\n"
     ]
    }
   ],
   "source": [
    "import random\n",
    "\n",
    "\n",
    "class Kid():\n",
    "    BOY = 0\n",
    "    GIRL = 1\n",
    "    \n",
    "def random_kid() -> Kid:\n",
    "    return random.choice([Kid.BOY, Kid.GIRL])\n",
    "\n",
    "both_girls = 0\n",
    "older_girl = 0\n",
    "either_girl = 0\n",
    "\n",
    "random.seed(0)\n",
    "\n",
    "for _ in range(10000):\n",
    "    younger = random_kid()\n",
    "    older = random_kid()\n",
    "    if older == Kid.GIRL:\n",
    "        older_girl += 1\n",
    "    if older == Kid.GIRL and younger == Kid.GIRL:\n",
    "        both_girls += 1\n",
    "    if older == Kid.GIRL or younger == Kid.GIRL:\n",
    "        either_girl += 1\n",
    "\n",
    "print(f'Старшая девочка: {older_girl}')\n",
    "print(f'Обе девочки: {both_girls}')\n",
    "print(f'Как минимум одна девочка: {either_girl}')\n",
    "print('='*30)\n",
    "print(f'P(both | either): {both_girls/either_girl} ~ 1/3')\n",
    "print(f'P(both | older): {both_girls/older_girl} ~ 1/2')"
   ]
  },
  {
   "cell_type": "markdown",
   "id": "721d154f",
   "metadata": {},
   "source": [
    "<br>\n",
    "<font size=5>Теорема Байеса</font>\n",
    "<hr>\n",
    "<b>Теорема Байеса (или формула Байеса)</b> — одна из основных теорем элементарной теории вероятностей, которая позволяет определить вероятность события при условии, что произошло другое статистически взаимозависимое с ним событие. Другими словами, по формуле Байеса можно более точно пересчитать вероятность, взяв в расчёт как ранее известную информацию, так и данные новых наблюдений.\n",
    "<br>\n",
    "<br>\n",
    "При возникновении теоремы Байеса вероятности, используемые в теореме, подвергались целому ряду вероятностных интерпретаций. В одной из таких интерпретаций говорилось, что теорема показывает, как личный уровень доверия может кардинально измениться вследствие количества наступивших событий. Психологические эксперименты показали, что люди часто неверно оценивают реальную (математически верную) вероятность события, основываясь на некоем полученном опыте (апостериорная вероятность), поскольку игнорируют саму вероятность предположения (априорная вероятность). Поэтому правильный результат по формуле Байеса может сильно отличаться от интуитивно ожидаемого.<br>\n",
    "<br>\n",
    "Сэр Гарольд Джеффрис писал, что теорема Байеса «для теории вероятности то же, что теорема Пифагора для геометрии»<br><br><br>\n",
    "$$P(A|B) = \\frac{P(B|A)P(A)}{P(B)}$$<br>\n",
    "$$где$$\n",
    "$$P(A|B) - вероятность\\ гипотезы\\ А\\ при\\ наступлении\\ события\\ B\\ (апостериорная\\ вероятность)$$\n",
    "$$P(B|A) - вероятность\\ наступления\\ события\\ B\\ при\\ истинности\\ гипотезы\\ А$$\n",
    "$$P(A) - априорная\\ вероятность\\ гипотезы\\ A$$\n",
    "$$P(B) - полная\\ вероятность\\ наступления\\ события\\ B$$<br><br><br>\n",
    "<font size=3><b>Вычисление $P(B)$</b></font><br>\n",
    "В задачах и статистических приложениях $P(B)$ обычно вычисляется по формуле полной вероятности события, зависящего от нескольких несовместных гипотез, имеющих суммарную вероятность 1.<br>\n",
    "В теории вероятностей несколько событий называются <b>несовместными (от слова «место»), или несовместимыми</b>, если никакие из них не могут появиться одновременно в результате однократного проведения эксперимента(опыта).\n",
    "<br><br>\n",
    "$P(B) = \\sum\\limits_{i=1}^nP(B|A_i)P(A_i)$\n",
    "<br><br>\n",
    "<font size=3><b>«Физический смысл» и терминология</b></font><br>\n",
    "Формула Байеса позволяет \"переставить причину и следствие\": по известному факту события вычислить вероятность того, что оно было вызвано данной причиной. При этом необходимо понимать, для применения теоремы причинно-следственная связь между $A$ и $B$ не является обязательной.<br>\n",
    "<br>\n",
    "События, отражающие действие \"причин\", в данном случае называют <b><i>гипотезами</i></b>, так как они - <i>предполагаемые</i> события, повлекшие данное. Безусловную вероятность справедливости гипотезы называют <b><i>априорной</i></b>(насколько вероятна причина вообще), а условную - с учётом факта произошеднего события - <b><i>апостериорной</i></b>(насколько вероятна причина оказалась с учётом данных о событии).<br>\n",
    "<br>\n",
    "<font size=3><b>Применение</b></font><br>\n",
    "Пусть событие $B$ - машине не заводится, а гипотеза $A$ - в баке нет топлива. Вероятность $P(B|A)$ того, что машина не заведется, если в баке нет топлива, равняется единице.<br>\n",
    "Как следствие, апостериорная вероятность, что в баке нет топлива, если машина не заводится $P(A|B)$, равна $\\frac{P(A)}{P(B)}$, то есть отношение априорной вероятности, что в баке нет топлива, к вероятности, что машина не заводится. Например, если априорная вероятность, что в баке нет топлива, равна 0.01, а вероятность, что машина не заводится 0.02, и случайно выбранная машина не завелась, то вероятность, что в её баке нет топлива, равна 0.5.<br>\n",
    "<br>\n",
    "Остальные примеры, которые нужно обязательно рассмотреть находятся <a href='https://ru.wikipedia.org/wiki/%D0%A2%D0%B5%D0%BE%D1%80%D0%B5%D0%BC%D0%B0_%D0%91%D0%B0%D0%B9%D0%B5%D1%81%D0%B0'>тут</a>.\n",
    "<br>\n",
    "<br>"
   ]
  },
  {
   "cell_type": "markdown",
   "id": "e28de840",
   "metadata": {},
   "source": [
    "<br>\n",
    "<font size=5>Случайные величины</font>\n",
    "<hr>\n",
    "<b><i>Случайная величина</b></i> - это переменная, возможные значения которой ассоциированы с <b>распределением вероятностей</b>. То есть представим есть список чисел, и одни числа выпадают с большей вероятностью, чем другие, наша <i>случайная величина</i> примет значение, которое выпадет ей. Простая случайная величина равна 1, если подброшенная монета повернется орлом, и 0, если повернется решкой. Более сложная величина может измерять число орлов, наблюдаемых при 10 бросках, или присваивать значение из интервала range(10) # 0 1 2 3 4 5 6 7 8 9 (одно число из 10), где каждое число является равновероятным.<br>\n",
    "<br>\n",
    "То есть у нас есть распределение вероятностей, с которым наша случайная величина связана(ассоциируется). Случайная величина \"взаимодействует\" c распределением, чтобы присваивать каждое из своих ВОЗМОЖНЫХ значений(ВОЗМОЖНЫХ - как раз зависит от распределения). Случайная величина броска монеты равна 0 с вероятностью 0.5 и 1 с той же вероятностью, можно представить, словно распределение выглядит так: [0.5, 0.5]. Случайная величина range(10) имеет распределение, которое назначает вероятность 0.1 каждому числу от 0 до 9: [0.1, 0.1, 0.1, 0.1, 0.1, 0.1, 0.1, 0.1, 0.1, 0.1].<br>\n",
    "<br>\n",
    "Иногда будем говорить о <b>(среднем) ожидаемом значении</b> или <b><i>математическом ожидании</i></b> случайной величины, которое представляет собой взвешенную сумму произведений каждого ее значения на его вероятность.<br>\n",
    "Среднее ожидаемое значение броска монеты, равно $0*\\frac{1}{2}+1*\\frac{1}{2}$ = $\\frac{1}{2}$; среднее ожидаемое значение range(10) равно $4.5$. По сути математическое ожидание - это среднее арифметическое, но которое учитывает вероятности выпадения чисел. Если распределение имеет равные вероятности, то есть равномерное распределение, тогда мат. ожидание равняется среднему арифметическому<br>\n",
    "<br>\n",
    "Пусть $X$ - случайная величина, представляющая число девочек, тогда $X=0$ с вероятностью $\\frac{1}{4}$ , $X=1$ с вероятностью $\\frac{1}{2}$, $X=2$ с вероятностью $\\frac{1}{4}$.<br>\n",
    "<br>\n",
    "Можно определить новую случайную величину $У$, которая дает число девочек при условии, что как минимум один ребенок - девочка. Тогда $У$ равно 1 с вероятностью $\\frac{2}{3}$ и 2 с вероятностью $\\frac{1}{3}$. <br>\n",
    "А также определить случайную величину W, как число девочек при условии, что старший ребенок - девочка, равную 1 с вероятностью $\\frac{1}{2}$  и 2 с вероятностью $\\frac{1}{2}$.<br><br>\n",
    "\n",
    "Рассмотрим несколько примеров со случайными величинами:\n",
    " - $X$ - количество очков, которое выпадает после броска игрального кубика. В таком испытании выпадает одна и только одна грань, какая именно - не известно. При этом случайная величина $X$ может принять одно из следующий значений: $x_1=1\\ \\ x_2=2\\ \\ x_3=3\\ \\ x_4=4\\ \\ x_5=5\\ \\ x_6=6$. \n",
    " - $Y$ - количество мальчиков среди 5 новорожденных. Случайная величина $Y$ может принять: $y_0=0\\ \\ y_1=1\\ \\ y_2=2\\ \\ y_3=3\\ \\ y_4=4\\ \\ y_5=5$.\n",
    " - $W$ - дальность прыжка в длину. Как предсказать дальность прыжка? Сколько у нас есть вариантов? Ответить трудно, ведь вариантов длины прыжка бесконечное множество, то есть 3м 2см, 3м 25см. 3м 0.00000000000012 см и тд.<br>\n",
    "<br>\n",
    "\n",
    "Исходя из этого случайные величины делят на 2 большие группы:\n",
    " - <b>Дискретная(прерывная) случайная величина</b> - принимает отдельно взятые, изолированные значения. Количество этих значений <i>конечно</i> <i>либо бесконечно</i>, но <i>счетно</i>.\n",
    " - <b>Непрерывная случайная величина</b> - принимает <b>ВСЕ</b> числовые значения из некоторого конечного или бесконечного промежутка.\n",
    "<br><br>"
   ]
  },
  {
   "cell_type": "markdown",
   "id": "25dd95d0",
   "metadata": {},
   "source": [
    "<br>\n",
    "<font size=5>Дискретное распределение</font>\n",
    "<hr>\n",
    "<b>Закон распределения дискретной случайной величины</b> - это соответствие между возможными значениями этой величины и их вероятностями.<br>\n",
    "То есть это по сути то, чем мы занимались раньше. Бросая кубик, мы(точнее будет случайная величина) можем получить одно из 6 значений, которым соответствуют 6 вероятностей(при чем все $\\frac{1}{6}$).<br>\n",
    "<br>\n",
    "Поскольку случайная величина $X$ обязательно примет одно из значений $x_1, x_2, x_3, ..., x_n$, то соответствующие события образуют <b>полную </b>группу и сумма вероятностей их наступления равна единице: $p_1+p_2+p_3+...+p_n=1$ или $\\sum\\limits_{i=1}^np_i=1$.<br>\n",
    "<br>\n",
    "Закон распределения вероятностей выпавших на кубике очков имеет следующий вид:\n",
    "<br>\n",
    "<img src=\"data/dis.jpg\"></img>\n",
    "<br>\n",
    "Некоторая игра имеет следующий закон распределения выигрыша:\n",
    "<br>\n",
    "<img src=\"data/game.jpg\"></img>\n",
    "<br>\n",
    "$p_2$ тут явно равняется 0.4, следовательно получить число $-5$ вероятней всего в этой игре.<br>\n",
    "<br>\n",
    "Все остальное, что вам обязательно нужно знать по поводу дискретного распределения <a href='http://mathprofi.ru/sluchainaya_velichina.html'>тут</a>."
   ]
  },
  {
   "cell_type": "markdown",
   "id": "5d033ef5",
   "metadata": {},
   "source": [
    "<br>\n",
    "<font size=5>Непрерывные распределения</font>\n",
    "<hr>\n",
    "Бросание монеты соответствует <i>дискретному распределению</i>, т.е. такому, которое ассоциирует положительную вероятность с дискретными исходами. Однако нередко мы хотим моделировать распределения на непрерывном пространстве исходов. Например, возьмем <i>равномерное распределение</i>, которое назначает <i>одинаковый вес<i> всем числам между 0 и 1.<br>\n",
    "<br>\n",
    "Поскольку между 0 и 1 находится бесконечное количество чисел, то, значит, вес, который оно назначает индивидуальным точкам, должен с неизбежностью быть равен нулю.<br>\n",
    "Поэтому для представления непрерывного распределения используют <b>функцию плотности вероятности</b>.<br>\n",
    "<br>\n",
    "<b>Функция плотности вероятности (probability density fucntion, PDF)</b> определяет распределение случайной величины.<br>\n",
    "Попробуем написать распределение для нашего примера.<br>\n",
    "<br>"
   ]
  },
  {
   "cell_type": "code",
   "execution_count": 1,
   "id": "785a9bdb",
   "metadata": {},
   "outputs": [],
   "source": [
    "def uniform_pdf(x: float) -> float:\n",
    "    \"\"\"Плотность вероятности для равномерного распределения\n",
    "       в диапазоне [0, 1]\"\"\"\n",
    "    return 1 if x >= 0 and x < 1 else 0 "
   ]
  },
  {
   "cell_type": "markdown",
   "id": "cb118741",
   "metadata": {},
   "source": [
    "<br>\n",
    "Вероятность, что случайная величина, подчиняющаяся этому распределению, находится в интервале между 0.2 и 0.3, равна 1/10. Функция random.random() представляет собой (псевдо)случайную величину с равномерной плотностью.<br>\n",
    "<br><br>\n",
    "Дополнительный материал:\n",
    "\n",
    "- Для большего понимания <b>непрерывных распределений</b> читаем статью и решаем примеры <a href='http://mathprofi.ru/nepreryvnaya_sluchaynaya_velichina.html'>тут</a>.\n",
    "- Связанное с непрерывным распределением, <b>равномерное распределение</b> также нужно <a href='http://mathprofi.ru/ravnomernoe_raspredelenie_veroyatnostei.html'>изучить</a>.\n",
    "- Статья про самые <b>популярные распределения</b> <a href='https://habr.com/ru/post/311092/'>тут</a>.<br>\n",
    "<br>"
   ]
  },
  {
   "cell_type": "markdown",
   "id": "fff1f16d",
   "metadata": {},
   "source": [
    "<br>\n",
    "<font size=5>Нормальное распределение</font>\n",
    "<hr>\n",
    "<b>Норма́льное распределе́ние</b>, также называемое распределением Гаусса или Гаусса — Лапласа — распределение вероятностей, которое в одномерном случае задаётся функцией плотности вероятности, совпадающей с функцией Гаусса:<br>\n",
    "<br><br>\n",
    "<font size=4>$$f(x) = \\frac{1}{\\sqrt{2πσ}}e^{-\\frac{(x - μ)^2}{2σ^2}}$$</font><br>\n",
    "$$где$$\n",
    "$$\\mu\\ — математическое\\ ожидание\\ (среднее\\ значение),\\ медиана\\ и\\ мода\\ распределения$$\n",
    "$$\\sigma\\ - среднеквадратичное\\ отклонение$$\n",
    "$$\\sigma^2\\ - дисперсия\\ распределения$$\n",
    "$$x\\ - случайная\\ величина$$\n",
    "<br><br><br>\n",
    "Таким образом, <b>одномерное нормальное распределение</b> является двухпараметрическим семейством распределений, которое принадлежит экспоненциальному классу распределений.<br>\n",
    "<br>\n",
    "<i><b>Нормальное распределение</b></i> - это классическое <i>колокообразное распределение</i>. Оно польностью определяется двумя параметрами:\n",
    "\n",
    "- Cредним значением $\\mu$.\n",
    "- Стандартным отклонением $\\sigma$.\n",
    "\n",
    "<b>Среднее значение</b> указывает, где колокол центрирован, а <b>стандартное отклонение</b> -  насколько \"широким\" он является.\n",
    "<br><br>\n",
    "<img src='data/std_graf.png'></img>\n",
    "<br><br>\n",
    "Нормальное распределение хорошо моделирует величины, описывающие природные явления, шумы термодинамической природы и погрешности измерений.\n",
    "<br><br>"
   ]
  },
  {
   "cell_type": "code",
   "execution_count": 30,
   "id": "69ca7574",
   "metadata": {},
   "outputs": [],
   "source": [
    "import math\n",
    "\n",
    "\n",
    "SQRT_TWO_PI = math.sqrt(2 * math.pi)\n",
    "\n",
    "def normal_pdf(x: float, mu: float = 0, sigma: float = 1) -> float:\n",
    "    \"\"\"Функция плотности вероятности нормального распределения (функция Гаусса)\"\"\"\n",
    "    return (math.exp(-(x-mu)**2 / 2 / sigma ** 2) / (SQRT_TWO_PI * sigma))"
   ]
  },
  {
   "cell_type": "code",
   "execution_count": 31,
   "id": "26dac1ac",
   "metadata": {},
   "outputs": [
    {
     "data": {
      "text/plain": [
       "Text(0.5, 1.0, 'Различные нормальные функции плотности вероятности')"
      ]
     },
     "execution_count": 31,
     "metadata": {},
     "output_type": "execute_result"
    },
    {
     "data": {
      "image/png": "[encoded data removed]",
      "text/plain": [
       "<Figure size 640x480 with 1 Axes>"
      ]
     },
     "metadata": {},
     "output_type": "display_data"
    }
   ],
   "source": [
    "import matplotlib.pyplot as plt\n",
    "\n",
    "xs = [x / 10.0 for x in range(-50, 50)]\n",
    "f_x = [normal_pdf(x, sigma=1) for x in xs]\n",
    "plt.plot(xs, f_x, '-', label='mu=0, sigma=1')\n",
    "f_x = [normal_pdf(x, sigma=2) for x in xs]\n",
    "plt.plot(xs, f_x, '--', label='mu=0, sigma=2')\n",
    "f_x = [normal_pdf(x, sigma=0.5) for x in xs]\n",
    "plt.plot(xs, f_x, '--', label='mu=0, sigma=0.5')\n",
    "f_x = [normal_pdf(x, mu=-0.5) for x in xs]\n",
    "plt.plot(xs, f_x, '--', label='mu=-0.5, sigma=2')\n",
    "plt.legend()\n",
    "plt.title('Различные нормальные функции плотности вероятности')"
   ]
  },
  {
   "cell_type": "markdown",
   "id": "1b785867",
   "metadata": {},
   "source": [
    "<br>\n",
    "При $\\mu = 0$ и $\\sigma = 1$ распределение называется <b><i>стандартным нормальным распределением</i></b>.<br>\n",
    "На нашем графике синяя кривая показывает стандартное нормальное распределение.\n",
    "<br><br><br>\n",
    "<i>Читаем и решаем задачи</i> про <b>нормальное распределение</b> <a href='http://mathprofi.ru/normalnoe_raspredelenie_veroyatnostei.html'>тут</a>.\n",
    "<br><br>"
   ]
  },
  {
   "cell_type": "markdown",
   "id": "be05e54f",
   "metadata": {},
   "source": [
    "<br>\n",
    "<img src='data/kriv.jpg'>\n",
    "<br>\n",
    "<br>"
   ]
  },
  {
   "cell_type": "code",
   "execution_count": null,
   "id": "6a7b851d",
   "metadata": {},
   "outputs": [],
   "source": []
  }
 ],
 "metadata": {
  "kernelspec": {
   "display_name": "Python 3 (ipykernel)",
   "language": "python",
   "name": "python3"
  },
  "language_info": {
   "codemirror_mode": {
    "name": "ipython",
    "version": 3
   },
   "file_extension": ".py",
   "mimetype": "text/x-python",
   "name": "python",
   "nbconvert_exporter": "python",
   "pygments_lexer": "ipython3",
   "version": "3.10.4"
  }
 },
 "nbformat": 4,
 "nbformat_minor": 5
}
