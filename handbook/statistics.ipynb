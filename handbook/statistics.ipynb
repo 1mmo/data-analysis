{
 "cells": [
  {
   "cell_type": "markdown",
   "id": "7f03a634",
   "metadata": {},
   "source": [
    "<br>\n",
    "<font size=6>Statistics</font>\n",
    "<br>\n",
    "<br>\n",
    "Каждому знакомо это слово, но не зря же придумали определение<br>\n",
    "<br>\n",
    "<b>Стати́стика</b> — отрасль знаний, наука, в которой излагаются общие вопросы сбора, измерения, мониторинга, анализа массовых статистических (количественных или качественных) данных и их сравнение; изучение количественной стороны массовых общественных явлений в числовой форме<br>\n",
    "   <ul>\n",
    "     <li>Рассчитать численность населения - статистика</li>\n",
    "     <li>Сколько потратить денег на бесконечные праздники - статистика</li>\n",
    "     <li>Сколько купить кг шашлыка на вечер - статистика</li>\n",
    "   </ul>\n",
    "Если у вас есть данные и вы хотите получить от них пользу - вы статистик:)<br>\n",
    "\n",
    "<b>Более нормальное описание статистики</b>:\n",
    "\n",
    "<b>Статистика</b> опирается на математику и приемы, с помощью которых мы проникаем в сущность данных. Она представляет собой богатую и обширную область знаний, для которой больше подошла бы книжная полка или целая комната в библиотеке, а не глава в книге, поэтому наше изложение, конечно же, будет кратким. Тем не менее представленного в этой главе материала вам будет достаточно для \n",
    "того, чтобы стать опасным человеком, и пробудить в вас интерес к самостоятельному изучению статистики.<br><br>\n",
    "   \n",
    "МАТЕРИАЛЫ ЗАНЯТИЯ:\n",
    "- курс занятий по статистике на сайте mathprofi: http://mathprofi.ru/matematicheskaya_statistika.html\n",
    "- Книга \"Data Science наука о данных с нуля\", Джоэл Грас, 2е издание.<br><br>\n"
   ]
  },
  {
   "cell_type": "markdown",
   "id": "e26aef92",
   "metadata": {},
   "source": [
    "<br>\n",
    "- <b>Качественная, дискретная, или категориальная переменная</b> — переменная, которая может принимать одно из ограниченного и обычно фиксированного числа возможных значений, например, переменная \"первый\" или \"кассир\" являются качественными переменными,<br>\n",
    "- \"первый\" - означает в наших данных, что человек первый раз берет кредит.<br>\n",
    "- \"кассир\" - профессия человека. <br>\n",
    "Такие данные обычно кодируются числами<br>\n",
    "<br>\n",
    "- <b>Колличественные данные или числовые</b> - данные, которые представлены числами.<br>\n",
    "- 32000 - зарплата <br>\n",
    "- 25 - возраст\n",
    "<br>\n",
    "<br>"
   ]
  },
  {
   "cell_type": "code",
   "execution_count": 38,
   "id": "81393ec1",
   "metadata": {},
   "outputs": [
    {
     "data": {
      "text/plain": [
       "Text(0.5, 1.0, 'Количество приглашений')"
      ]
     },
     "execution_count": 38,
     "metadata": {},
     "output_type": "execute_result"
    },
    {
     "data": {
      "image/png": "[encoded data removed]",
      "text/plain": [
       "<Figure size 640x480 with 1 Axes>"
      ]
     },
     "metadata": {},
     "output_type": "display_data"
    }
   ],
   "source": [
    "# Сколько hr'ы в нашей компании пригласили людей\n",
    "import numpy as np\n",
    "import matplotlib.pyplot as plt\n",
    "from collections import Counter\n",
    "\n",
    "invite_people = [np.random.randint(0, 30) for i in range(20)] # Создаем список сколько людей пригласил каждый hr\n",
    "\n",
    "people_counter = Counter(invite_people)\n",
    "xs = [num_people for num_people in people_counter]\n",
    "ys = [people_counter[num_people] for num_people in people_counter]\n",
    "plt.bar(xs, ys, color='black', edgecolor='green')\n",
    "plt.xticks([2 * i for i in range(16)])\n",
    "plt.xlabel('Число приглашенных людей')\n",
    "plt.ylabel('Число hr')\n",
    "plt.title('Количество приглашений')"
   ]
  },
  {
   "cell_type": "markdown",
   "id": "74119d7d",
   "metadata": {},
   "source": [
    "<br>\n",
    "Хорошо, есть диаграмма, которая покажет нам как hr отработали свой день.<br>\n",
    "Но график нужно либо распечатать, либо таскать за собой ноутбук.<br>\n",
    "Почему бы нам не собрать некоторую статистику и хвалиться перед всеми числами.\n",
    "<br>\n",
    "<br>"
   ]
  },
  {
   "cell_type": "markdown",
   "id": "17e4ed0d",
   "metadata": {},
   "source": [
    "\n",
    "1)Самым простым показателем является число точек данных:\n"
   ]
  },
  {
   "cell_type": "code",
   "execution_count": 42,
   "id": "51c0f6f6",
   "metadata": {},
   "outputs": [
    {
     "name": "stdout",
     "output_type": "stream",
     "text": [
      "Кол-во точек:  20\n"
     ]
    }
   ],
   "source": [
    "num_points = len(invite_people)\n",
    "print('Кол-во точек: ', num_points) # Интерпретируется, как кол-во hr в нашей команде"
   ]
  },
  {
   "cell_type": "markdown",
   "id": "07f6003b",
   "metadata": {},
   "source": [
    "2) Наибольшие и наименьшие значения:"
   ]
  },
  {
   "cell_type": "code",
   "execution_count": 47,
   "id": "ee4829bd",
   "metadata": {},
   "outputs": [
    {
     "name": "stdout",
     "output_type": "stream",
     "text": [
      "Наибольшее число приглашенных людей:  29\n",
      "Наименьшее число приглашенных людей:  1\n"
     ]
    }
   ],
   "source": [
    "largest_value = max(invite_people)\n",
    "smallest_value = min(invite_people)\n",
    "print('Наибольшее число приглашенных людей: ', largest_value)\n",
    "print('Наименьшее число приглашенных людей: ', smallest_value)"
   ]
  },
  {
   "cell_type": "code",
   "execution_count": 51,
   "id": "37a574f4",
   "metadata": {},
   "outputs": [
    {
     "name": "stdout",
     "output_type": "stream",
     "text": [
      "Второй минимум: 2\n",
      "Второй максимум: 27\n"
     ]
    }
   ],
   "source": [
    "sorted_values = sorted(list(set(invite_people))) # избавляемся от повторяющихся значений\n",
    "print(f'Второй минимум: {sorted_values[1]}')\n",
    "print(f'Второй максимум: {sorted_values[-2]}')"
   ]
  },
  {
   "cell_type": "markdown",
   "id": "231139ca",
   "metadata": {},
   "source": [
    "<br>\n",
    "<br>\n",
    "<font size=5>Центральные тенденции</font>\n",
    "<br>\n",
    "<br>\n",
    "<br>\n",
    "Обычно мы хотим иметь некое представление о том, где наши данные центрированы.<br>\n",
    "Чаще всего для этих целей используется среднее (или среднее арифметическое) <br>\n",
    "значение, которое берется как сумма данных, деленная на их количество<br>"
   ]
  },
  {
   "cell_type": "markdown",
   "id": "f09440b3",
   "metadata": {},
   "source": [
    "<br>\n",
    "<font size=4>Среднее число</font>\n",
    "<br>\n",
    "<br>"
   ]
  },
  {
   "cell_type": "code",
   "execution_count": 55,
   "id": "aba0aac8",
   "metadata": {},
   "outputs": [
    {
     "name": "stdout",
     "output_type": "stream",
     "text": [
      "Среднее кол-во приглашенных людей: 15.45\n"
     ]
    }
   ],
   "source": [
    "def mean(xs: list[float]) -> float:\n",
    "    return sum(xs) / len(xs)\n",
    "\n",
    "print(f'Среднее кол-во приглашенных людей: {mean(invite_people)}')"
   ]
  },
  {
   "cell_type": "markdown",
   "id": "995263f5",
   "metadata": {},
   "source": [
    "<br>\n",
    "<font size=4>Медиана</font>\n",
    "<br>\n",
    "<br>\n",
    "<b>Медиана</b> - ближайшее к центру значение<br>\n",
    "Медиана в отличе от среднего - не зависит от каждого значения в наборе данных.\n",
    "Например, если сделать наибольшую точку еще больше(или наименьшую еще меньше), то\n",
    "срединные точки останутся неизменными, следовательно, и медиана тоже не изменится\n",
    "  "
   ]
  },
  {
   "cell_type": "code",
   "execution_count": 71,
   "id": "c74bbde1",
   "metadata": {},
   "outputs": [],
   "source": [
    "def _median_odd(xs: list[float]) -> float: \n",
    "    \"\"\"Если len(xs) является нечетной, \n",
    "    то медиана - это срединный элемент\"\"\" \n",
    "    return sorted(xs) [len(xs) // 2] \n",
    "\n",
    "def _median_even(xs: list[float]) -> float: \n",
    "    \"\"\"Если len(xs) является четной, то она является средним значением \n",
    "    двух срединных элементов\"\"\" \n",
    "    sorted_xs = sorted(xs) \n",
    "    hi_midpoint = len(xs) // 2 #напр. длина 4 => hi_midpoint 2 \n",
    "    return (sorted_xs[hi_midpoint - 1] + sorted_xs[hi_midpoint]) / 2 \n",
    "\n",
    "def median(v: list[float]) -> float: \n",
    "    \"\"\"Отыскивает 'ближайшее к середине' значение v\"\"\" \n",
    "    return _median_even(v) if len(v) % 2 == 0 else _median_odd(v)\n",
    "\n",
    "assert median([1, 10, 2, 9, 5]) == 5 \n",
    "assert median([1, 9, 2, 10]) == (2 + 9) / 2"
   ]
  },
  {
   "cell_type": "code",
   "execution_count": 74,
   "id": "70f74eb0",
   "metadata": {},
   "outputs": [
    {
     "name": "stdout",
     "output_type": "stream",
     "text": [
      "Центральное число приглашений: 14.0\n"
     ]
    }
   ],
   "source": [
    "median = median(sorted(invite_people))\n",
    "print(f'Центральное число приглашений: {median}')"
   ]
  },
  {
   "cell_type": "code",
   "execution_count": null,
   "id": "c080b755",
   "metadata": {},
   "outputs": [],
   "source": []
  }
 ],
 "metadata": {
  "kernelspec": {
   "display_name": "Python 3 (ipykernel)",
   "language": "python",
   "name": "python3"
  },
  "language_info": {
   "codemirror_mode": {
    "name": "ipython",
    "version": 3
   },
   "file_extension": ".py",
   "mimetype": "text/x-python",
   "name": "python",
   "nbconvert_exporter": "python",
   "pygments_lexer": "ipython3",
   "version": "3.10.4"
  }
 },
 "nbformat": 4,
 "nbformat_minor": 5
}
