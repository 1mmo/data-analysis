{
 "cells": [
  {
   "cell_type": "markdown",
   "id": "c3d17acb",
   "metadata": {},
   "source": [
    "<br>\n",
    "<br>\n",
    "<font size=10><b>Анализ итоговых оценок от пользователей</b></font>\n",
    "<br>\n",
    "<br>\n",
    "<br>\n",
    "<br>\n",
    "<br>\n",
    "Отдел маркетинга разработал новый дизайн посадочной страницы клиента (lending). Пользователи сайта оценили новый дизайн. Результаты итоговой оценки зафиксированы в количественной переменной Общая оценка. <b>Средняя оценка старого дизайна по результатам прошлого исследования составляет 30 баллов.</b><br><br>\n",
    "Необходимо ответить на вопрос, используя статистические методы, а также дать рекомендации отделу маркетинга по результатам проведенного анализа.\n",
    "<ul>\n",
    "<li>Значимо ли улучшился дизайн посадочной страницы сайта.</li>\n",
    "<li>Есть ли влияние возраста на оценку нового дизайна?</li>\n",
    "</ul>\n",
    "<br>"
   ]
  },
  {
   "cell_type": "markdown",
   "id": "a4c206e7",
   "metadata": {},
   "source": [
    "## Эпизод 1\n",
    "---\n",
    "### Import and Data load"
   ]
  },
  {
   "cell_type": "code",
   "execution_count": 98,
   "id": "47373020",
   "metadata": {},
   "outputs": [],
   "source": [
    "import pandas as pd\n",
    "import numpy as np\n",
    "import matplotlib.pyplot as plt\n",
    "\n",
    "import warnings\n",
    "warnings.filterwarnings('ignore')"
   ]
  },
  {
   "cell_type": "code",
   "execution_count": 99,
   "id": "cbb5399e",
   "metadata": {},
   "outputs": [],
   "source": [
    "data = pd.read_excel('data/данные.xlsx')"
   ]
  },
  {
   "cell_type": "code",
   "execution_count": 100,
   "id": "29421a3e",
   "metadata": {},
   "outputs": [
    {
     "data": {
      "text/html": [
       "<div>\n",
       "<style scoped>\n",
       "    .dataframe tbody tr th:only-of-type {\n",
       "        vertical-align: middle;\n",
       "    }\n",
       "\n",
       "    .dataframe tbody tr th {\n",
       "        vertical-align: top;\n",
       "    }\n",
       "\n",
       "    .dataframe thead th {\n",
       "        text-align: right;\n",
       "    }\n",
       "</style>\n",
       "<table border=\"1\" class=\"dataframe\">\n",
       "  <thead>\n",
       "    <tr style=\"text-align: right;\">\n",
       "      <th></th>\n",
       "      <th>Возрастная группа</th>\n",
       "      <th>Общая оценка</th>\n",
       "    </tr>\n",
       "  </thead>\n",
       "  <tbody>\n",
       "    <tr>\n",
       "      <th>0</th>\n",
       "      <td>65 и страше</td>\n",
       "      <td>38.454803</td>\n",
       "    </tr>\n",
       "    <tr>\n",
       "      <th>1</th>\n",
       "      <td>55-64</td>\n",
       "      <td>17.669677</td>\n",
       "    </tr>\n",
       "    <tr>\n",
       "      <th>2</th>\n",
       "      <td>65 и страше</td>\n",
       "      <td>31.704307</td>\n",
       "    </tr>\n",
       "    <tr>\n",
       "      <th>3</th>\n",
       "      <td>65 и страше</td>\n",
       "      <td>25.924460</td>\n",
       "    </tr>\n",
       "    <tr>\n",
       "      <th>4</th>\n",
       "      <td>До 25</td>\n",
       "      <td>30.450007</td>\n",
       "    </tr>\n",
       "    <tr>\n",
       "      <th>...</th>\n",
       "      <td>...</td>\n",
       "      <td>...</td>\n",
       "    </tr>\n",
       "    <tr>\n",
       "      <th>63</th>\n",
       "      <td>45-54</td>\n",
       "      <td>46.567682</td>\n",
       "    </tr>\n",
       "    <tr>\n",
       "      <th>64</th>\n",
       "      <td>65 и страше</td>\n",
       "      <td>23.999491</td>\n",
       "    </tr>\n",
       "    <tr>\n",
       "      <th>65</th>\n",
       "      <td>До 25</td>\n",
       "      <td>24.994419</td>\n",
       "    </tr>\n",
       "    <tr>\n",
       "      <th>66</th>\n",
       "      <td>65 и страше</td>\n",
       "      <td>33.538502</td>\n",
       "    </tr>\n",
       "    <tr>\n",
       "      <th>67</th>\n",
       "      <td>45-54</td>\n",
       "      <td>37.201829</td>\n",
       "    </tr>\n",
       "  </tbody>\n",
       "</table>\n",
       "<p>68 rows × 2 columns</p>\n",
       "</div>"
      ],
      "text/plain": [
       "   Возрастная группа  Общая оценка\n",
       "0        65 и страше     38.454803\n",
       "1              55-64     17.669677\n",
       "2        65 и страше     31.704307\n",
       "3        65 и страше     25.924460\n",
       "4              До 25     30.450007\n",
       "..               ...           ...\n",
       "63             45-54     46.567682\n",
       "64       65 и страше     23.999491\n",
       "65             До 25     24.994419\n",
       "66       65 и страше     33.538502\n",
       "67             45-54     37.201829\n",
       "\n",
       "[68 rows x 2 columns]"
      ]
     },
     "execution_count": 100,
     "metadata": {},
     "output_type": "execute_result"
    }
   ],
   "source": [
    "data"
   ]
  },
  {
   "cell_type": "markdown",
   "id": "13720b50",
   "metadata": {},
   "source": [
    "## Эпизод 2\n",
    "---\n",
    "### Преобразование данных"
   ]
  },
  {
   "cell_type": "code",
   "execution_count": 101,
   "id": "1273f386",
   "metadata": {},
   "outputs": [
    {
     "data": {
      "text/html": [
       "<div>\n",
       "<style scoped>\n",
       "    .dataframe tbody tr th:only-of-type {\n",
       "        vertical-align: middle;\n",
       "    }\n",
       "\n",
       "    .dataframe tbody tr th {\n",
       "        vertical-align: top;\n",
       "    }\n",
       "\n",
       "    .dataframe thead th {\n",
       "        text-align: right;\n",
       "    }\n",
       "</style>\n",
       "<table border=\"1\" class=\"dataframe\">\n",
       "  <thead>\n",
       "    <tr style=\"text-align: right;\">\n",
       "      <th></th>\n",
       "      <th>Возрастная группа</th>\n",
       "      <th>Общая оценка</th>\n",
       "    </tr>\n",
       "  </thead>\n",
       "  <tbody>\n",
       "    <tr>\n",
       "      <th>0</th>\n",
       "      <td>25-34</td>\n",
       "      <td>31.67801</td>\n",
       "    </tr>\n",
       "    <tr>\n",
       "      <th>1</th>\n",
       "      <td>35-44</td>\n",
       "      <td>37.018058</td>\n",
       "    </tr>\n",
       "    <tr>\n",
       "      <th>2</th>\n",
       "      <td>45-54</td>\n",
       "      <td>39.118369</td>\n",
       "    </tr>\n",
       "    <tr>\n",
       "      <th>3</th>\n",
       "      <td>55-64</td>\n",
       "      <td>28.447336</td>\n",
       "    </tr>\n",
       "    <tr>\n",
       "      <th>4</th>\n",
       "      <td>65 и страше</td>\n",
       "      <td>28.002791</td>\n",
       "    </tr>\n",
       "    <tr>\n",
       "      <th>5</th>\n",
       "      <td>До 25</td>\n",
       "      <td>28.749228</td>\n",
       "    </tr>\n",
       "  </tbody>\n",
       "</table>\n",
       "</div>"
      ],
      "text/plain": [
       "  Возрастная группа Общая оценка\n",
       "0             25-34     31.67801\n",
       "1             35-44    37.018058\n",
       "2             45-54    39.118369\n",
       "3             55-64    28.447336\n",
       "4       65 и страше    28.002791\n",
       "5             До 25    28.749228"
      ]
     },
     "execution_count": 101,
     "metadata": {},
     "output_type": "execute_result"
    }
   ],
   "source": [
    "new_data = pd.DataFrame([], columns=['Возрастная группа', 'Общая оценка'])\n",
    "\n",
    "for age in np.unique(data['Возрастная группа']):\n",
    "    data_age = data[data['Возрастная группа'] == age]\n",
    "    mean_grade = data_age['Общая оценка'].sum() / len(data_age['Общая оценка'])\n",
    "    mean_grade = round(mean_grade, 6)\n",
    "    df = pd.DataFrame([[age, mean_grade]], columns=['Возрастная группа', 'Общая оценка'])\n",
    "    new_data = pd.concat([new_data, df], ignore_index=True)\n",
    "    \n",
    "new_data"
   ]
  },
  {
   "cell_type": "markdown",
   "id": "0d390db0",
   "metadata": {},
   "source": [
    "## Эпизод 3\n",
    "---\n",
    "### Анилз данных"
   ]
  },
  {
   "cell_type": "code",
   "execution_count": 102,
   "id": "d23f8845",
   "metadata": {},
   "outputs": [
    {
     "name": "stdout",
     "output_type": "stream",
     "text": [
      "<class 'pandas.core.frame.DataFrame'>\n",
      "RangeIndex: 6 entries, 0 to 5\n",
      "Data columns (total 2 columns):\n",
      " #   Column             Non-Null Count  Dtype \n",
      "---  ------             --------------  ----- \n",
      " 0   Возрастная группа  6 non-null      object\n",
      " 1   Общая оценка       6 non-null      object\n",
      "dtypes: object(2)\n",
      "memory usage: 224.0+ bytes\n"
     ]
    }
   ],
   "source": [
    "new_data.info()"
   ]
  },
  {
   "cell_type": "code",
   "execution_count": 103,
   "id": "187e3fc5",
   "metadata": {},
   "outputs": [
    {
     "name": "stdout",
     "output_type": "stream",
     "text": [
      "<class 'pandas.core.frame.DataFrame'>\n",
      "RangeIndex: 6 entries, 0 to 5\n",
      "Data columns (total 2 columns):\n",
      " #   Column             Non-Null Count  Dtype  \n",
      "---  ------             --------------  -----  \n",
      " 0   Возрастная группа  6 non-null      object \n",
      " 1   Общая оценка       6 non-null      float64\n",
      "dtypes: float64(1), object(1)\n",
      "memory usage: 224.0+ bytes\n"
     ]
    }
   ],
   "source": [
    "new_data['Общая оценка'] = new_data['Общая оценка'].astype('float') # из object в float\n",
    "new_data.info() "
   ]
  },
  {
   "cell_type": "markdown",
   "id": "692c34e0",
   "metadata": {},
   "source": [
    "Посчитаем средную оценку дизайна"
   ]
  },
  {
   "cell_type": "code",
   "execution_count": 104,
   "id": "573e49ef",
   "metadata": {},
   "outputs": [],
   "source": [
    "mean_grade = new_data['Общая оценка'].sum() / len(new_data['Общая оценка'])"
   ]
  },
  {
   "cell_type": "code",
   "execution_count": 105,
   "id": "62b77631",
   "metadata": {},
   "outputs": [
    {
     "name": "stdout",
     "output_type": "stream",
     "text": [
      "Средняя оценка нового дизайна: 32.17\n"
     ]
    }
   ],
   "source": [
    "print(f'Средняя оценка нового дизайна: {round(mean_grade, 2)}')"
   ]
  },
  {
   "cell_type": "markdown",
   "id": "c9d67d6a",
   "metadata": {},
   "source": [
    "<br>\n",
    "Средняя оценка увеличилась только на 2 балла или на 6%, что довольно мало.<br>\n",
    "Отделу маркетинга нужно пробовать улучшать этот показатель.\n",
    "<br>\n",
    "<br>"
   ]
  },
  {
   "cell_type": "markdown",
   "id": "38d879bb",
   "metadata": {},
   "source": [
    "<br>\n",
    "<font size=5>Проверим есть ли влияние возраста на оценку</font>\n",
    "<br>\n",
    "<br>"
   ]
  },
  {
   "cell_type": "code",
   "execution_count": 107,
   "id": "8d6d979c",
   "metadata": {},
   "outputs": [
    {
     "data": {
      "text/plain": [
       "[<matplotlib.lines.Line2D at 0x7f0d429f38b0>]"
      ]
     },
     "execution_count": 107,
     "metadata": {},
     "output_type": "execute_result"
    },
    {
     "data": {
      "image/png": "[encoded data removed]",
      "text/plain": [
       "<Figure size 720x576 with 1 Axes>"
      ]
     },
     "metadata": {
      "needs_background": "light"
     },
     "output_type": "display_data"
    }
   ],
   "source": [
    "plt.figure(figsize=(10, 8))\n",
    "plt.plot(new_data['Возрастная группа'].values, new_data['Общая оценка'].values)"
   ]
  },
  {
   "cell_type": "markdown",
   "id": "4886668b",
   "metadata": {},
   "source": [
    "<br>\n",
    "Из этого графика можно сделать предположение, что от 25-34 до 45-54 оценка растет, но после 54 до 65 и старше люди занижают оценку. До 25 люди также занижают\n",
    "<br>\n",
    "<br>"
   ]
  },
  {
   "cell_type": "code",
   "execution_count": 108,
   "id": "d4c6afa0",
   "metadata": {},
   "outputs": [],
   "source": [
    "categorical_new_data = pd.get_dummies(data, columns=['Возрастная группа'])"
   ]
  },
  {
   "cell_type": "code",
   "execution_count": 109,
   "id": "f4e3e4c6",
   "metadata": {},
   "outputs": [],
   "source": [
    "def corrmat(data):\n",
    "    plt.figure(figsize=(10, 10))\n",
    "    sns.heatmap(data.corr(), cbar=True, annot=True, square=True, annot_kws={'size': 10}).set_title('Корредяционная матрица')\n",
    "    plt.show()"
   ]
  },
  {
   "cell_type": "code",
   "execution_count": 110,
   "id": "a4c3eff7",
   "metadata": {},
   "outputs": [
    {
     "data": {
      "image/png": "[encoded data removed]",
      "text/plain": [
       "<Figure size 720x720 with 2 Axes>"
      ]
     },
     "metadata": {
      "needs_background": "light"
     },
     "output_type": "display_data"
    }
   ],
   "source": [
    "corrmat(categorical_new_data)"
   ]
  },
  {
   "cell_type": "markdown",
   "id": "579a6f6a",
   "metadata": {},
   "source": [
    "<br>\n",
    "Корелляционная матрица много информации не дала.\n",
    "Относительно большой коэфициент имеют те группы, которые поставили большой бал, что в принципе логично.\n",
    "<br>\n",
    "<br>"
   ]
  },
  {
   "cell_type": "code",
   "execution_count": 111,
   "id": "4c852e95",
   "metadata": {},
   "outputs": [
    {
     "data": {
      "text/html": [
       "<div>\n",
       "<style scoped>\n",
       "    .dataframe tbody tr th:only-of-type {\n",
       "        vertical-align: middle;\n",
       "    }\n",
       "\n",
       "    .dataframe tbody tr th {\n",
       "        vertical-align: top;\n",
       "    }\n",
       "\n",
       "    .dataframe thead th {\n",
       "        text-align: right;\n",
       "    }\n",
       "</style>\n",
       "<table border=\"1\" class=\"dataframe\">\n",
       "  <thead>\n",
       "    <tr style=\"text-align: right;\">\n",
       "      <th>Возрастная группа</th>\n",
       "      <th>25-34</th>\n",
       "      <th>35-44</th>\n",
       "      <th>45-54</th>\n",
       "      <th>55-64</th>\n",
       "      <th>65 и страше</th>\n",
       "      <th>До 25</th>\n",
       "    </tr>\n",
       "    <tr>\n",
       "      <th>Общая оценка</th>\n",
       "      <th></th>\n",
       "      <th></th>\n",
       "      <th></th>\n",
       "      <th></th>\n",
       "      <th></th>\n",
       "      <th></th>\n",
       "    </tr>\n",
       "  </thead>\n",
       "  <tbody>\n",
       "    <tr>\n",
       "      <th>15.734473</th>\n",
       "      <td>0</td>\n",
       "      <td>0</td>\n",
       "      <td>0</td>\n",
       "      <td>0</td>\n",
       "      <td>1</td>\n",
       "      <td>0</td>\n",
       "    </tr>\n",
       "    <tr>\n",
       "      <th>17.669677</th>\n",
       "      <td>0</td>\n",
       "      <td>0</td>\n",
       "      <td>0</td>\n",
       "      <td>1</td>\n",
       "      <td>0</td>\n",
       "      <td>0</td>\n",
       "    </tr>\n",
       "    <tr>\n",
       "      <th>21.642742</th>\n",
       "      <td>0</td>\n",
       "      <td>0</td>\n",
       "      <td>0</td>\n",
       "      <td>0</td>\n",
       "      <td>0</td>\n",
       "      <td>1</td>\n",
       "    </tr>\n",
       "    <tr>\n",
       "      <th>21.823488</th>\n",
       "      <td>0</td>\n",
       "      <td>1</td>\n",
       "      <td>0</td>\n",
       "      <td>0</td>\n",
       "      <td>0</td>\n",
       "      <td>0</td>\n",
       "    </tr>\n",
       "    <tr>\n",
       "      <th>22.448363</th>\n",
       "      <td>0</td>\n",
       "      <td>0</td>\n",
       "      <td>0</td>\n",
       "      <td>0</td>\n",
       "      <td>0</td>\n",
       "      <td>1</td>\n",
       "    </tr>\n",
       "    <tr>\n",
       "      <th>...</th>\n",
       "      <td>...</td>\n",
       "      <td>...</td>\n",
       "      <td>...</td>\n",
       "      <td>...</td>\n",
       "      <td>...</td>\n",
       "      <td>...</td>\n",
       "    </tr>\n",
       "    <tr>\n",
       "      <th>44.476167</th>\n",
       "      <td>0</td>\n",
       "      <td>1</td>\n",
       "      <td>0</td>\n",
       "      <td>0</td>\n",
       "      <td>0</td>\n",
       "      <td>0</td>\n",
       "    </tr>\n",
       "    <tr>\n",
       "      <th>44.639186</th>\n",
       "      <td>0</td>\n",
       "      <td>1</td>\n",
       "      <td>0</td>\n",
       "      <td>0</td>\n",
       "      <td>0</td>\n",
       "      <td>0</td>\n",
       "    </tr>\n",
       "    <tr>\n",
       "      <th>45.953191</th>\n",
       "      <td>0</td>\n",
       "      <td>1</td>\n",
       "      <td>0</td>\n",
       "      <td>0</td>\n",
       "      <td>0</td>\n",
       "      <td>0</td>\n",
       "    </tr>\n",
       "    <tr>\n",
       "      <th>46.567682</th>\n",
       "      <td>0</td>\n",
       "      <td>0</td>\n",
       "      <td>1</td>\n",
       "      <td>0</td>\n",
       "      <td>0</td>\n",
       "      <td>0</td>\n",
       "    </tr>\n",
       "    <tr>\n",
       "      <th>47.501470</th>\n",
       "      <td>0</td>\n",
       "      <td>0</td>\n",
       "      <td>1</td>\n",
       "      <td>0</td>\n",
       "      <td>0</td>\n",
       "      <td>0</td>\n",
       "    </tr>\n",
       "  </tbody>\n",
       "</table>\n",
       "<p>68 rows × 6 columns</p>\n",
       "</div>"
      ],
      "text/plain": [
       "Возрастная группа  25-34  35-44  45-54  55-64  65 и страше  До 25\n",
       "Общая оценка                                                     \n",
       "15.734473              0      0      0      0            1      0\n",
       "17.669677              0      0      0      1            0      0\n",
       "21.642742              0      0      0      0            0      1\n",
       "21.823488              0      1      0      0            0      0\n",
       "22.448363              0      0      0      0            0      1\n",
       "...                  ...    ...    ...    ...          ...    ...\n",
       "44.476167              0      1      0      0            0      0\n",
       "44.639186              0      1      0      0            0      0\n",
       "45.953191              0      1      0      0            0      0\n",
       "46.567682              0      0      1      0            0      0\n",
       "47.501470              0      0      1      0            0      0\n",
       "\n",
       "[68 rows x 6 columns]"
      ]
     },
     "execution_count": 111,
     "metadata": {},
     "output_type": "execute_result"
    }
   ],
   "source": [
    "confusion_mx = pd.crosstab(data['Общая оценка'], data['Возрастная группа'])\n",
    "confusion_mx"
   ]
  },
  {
   "cell_type": "code",
   "execution_count": 112,
   "id": "4297dfb5",
   "metadata": {},
   "outputs": [
    {
     "data": {
      "text/plain": [
       "<AxesSubplot:>"
      ]
     },
     "execution_count": 112,
     "metadata": {},
     "output_type": "execute_result"
    },
    {
     "data": {
      "image/png": "[encoded data removed]",
      "text/plain": [
       "<Figure size 720x576 with 1 Axes>"
      ]
     },
     "metadata": {
      "needs_background": "light"
     },
     "output_type": "display_data"
    }
   ],
   "source": [
    "plt.figure(figsize=(10, 8))\n",
    "sns.swarmplot(data['Возрастная группа'].values, data['Общая оценка'].values)"
   ]
  },
  {
   "cell_type": "markdown",
   "id": "c11b7b39",
   "metadata": {},
   "source": [
    "<br>\n",
    "Какой-то зависимости здесь нет, человек любого возраста с примерно равной вероятностью может поставить любую оценку<br>\n",
    "Единственное - люди возрастом 55-64 склоны к оценки ~ 29-34\n",
    "<br>\n",
    "<br>"
   ]
  },
  {
   "cell_type": "code",
   "execution_count": 184,
   "id": "d80d1cd3",
   "metadata": {},
   "outputs": [],
   "source": [
    "X = data\n",
    "for index, age in enumerate(X['Возрастная группа'].values):\n",
    "    if age in ['55-64', '65 и страше']:\n",
    "        X['Возрастная группа'].values[index] = True\n",
    "    if age in ['До 25', '25-34', '35-44', '45-54']:\n",
    "        X['Возрастная группа'].values[index] = False"
   ]
  },
  {
   "cell_type": "code",
   "execution_count": 185,
   "id": "76f21635",
   "metadata": {},
   "outputs": [
    {
     "data": {
      "text/plain": [
       "(28.11875940636723, 33.90934344467306)"
      ]
     },
     "execution_count": 185,
     "metadata": {},
     "output_type": "execute_result"
    }
   ],
   "source": [
    "X_true = X[X['Возрастная группа'] == True]\n",
    "old_grade = X_true['Общая оценка'].sum() / len(X_true)\n",
    "\n",
    "X_false = X[X['Возрастная группа'] == False]\n",
    "young_grade = X_false['Общая оценка'].sum() / len(X_false)\n",
    "\n",
    "old_grade, young_grade"
   ]
  },
  {
   "cell_type": "markdown",
   "id": "8efb9f4b",
   "metadata": {},
   "source": [
    "<br>\n",
    "<br>\n",
    "Средний балл людей до 54 лет: 33.90<br>\n",
    "Средний балл людей после 54 лет: 28.11\n",
    "<br>\n",
    "<br>"
   ]
  },
  {
   "cell_type": "markdown",
   "id": "641d8c05",
   "metadata": {},
   "source": [
    "\n",
    "<br>\n",
    "<font size=5>Посмотрим на силу связи между входной переменной и целевой</font>\n",
    "<br>\n",
    "<br>"
   ]
  },
  {
   "cell_type": "code",
   "execution_count": 187,
   "id": "14b91d39",
   "metadata": {},
   "outputs": [],
   "source": [
    "from sklearn.feature_selection import SelectKBest, f_regression"
   ]
  },
  {
   "cell_type": "code",
   "execution_count": 188,
   "id": "313a33e6",
   "metadata": {},
   "outputs": [],
   "source": [
    "X = categorical_new_data.drop('Общая оценка', axis=1)\n",
    "y = categorical_new_data['Общая оценка']\n",
    "X = X.astype('float')"
   ]
  },
  {
   "cell_type": "code",
   "execution_count": 189,
   "id": "70459882",
   "metadata": {},
   "outputs": [],
   "source": [
    "fs = SelectKBest(score_func=f_regression, k='all')\n",
    "fs.fit(X, y)\n",
    "X_fs = fs.transform(X)"
   ]
  },
  {
   "cell_type": "code",
   "execution_count": 190,
   "id": "18c7d391",
   "metadata": {},
   "outputs": [
    {
     "name": "stdout",
     "output_type": "stream",
     "text": [
      "Признак 0: 0.016038928190009048\n",
      "Признак 1: 7.67894994548555\n",
      "Признак 2: 13.305688966892696\n",
      "Признак 3: 1.519096666398595\n",
      "Признак 4: 7.2040166252160285\n",
      "Признак 5: 3.1743526831650906\n"
     ]
    }
   ],
   "source": [
    "for i in range(len(fs.scores_)):\n",
    "    print(f'Признак {i}: {fs.scores_[i]}')"
   ]
  },
  {
   "cell_type": "markdown",
   "id": "c41aae7f",
   "metadata": {},
   "source": [
    "<br>\n",
    "<font size=6>Рекомендации:</font>\n",
    "<br>\n",
    "<br>\n",
    "<ul>\n",
    "    <li>Люди с категорией от 55 и старше не обладают высокими знаниям в области информационных технологий,<br>\n",
    "        поэтому им нужнен минимальный функционал сайта, только важная и основная информация. Такие люди <br>\n",
    "        могут теряться в современном дизайне.</li>\n",
    "    <li>Категория 25 и младше привыкла к быстрому ритму жизни, поэтому для них важно быстро получить от сайта информацию</li>\n",
    "</ul>\n",
    "<br>\n",
    "Решить такие проблемы может адаптивный дизайн сайта, для взрослого поколения свой дизайн, для младшего свой.\n",
    "Если такой возможности нет, то лучше придерживаться простого дизайна, либо провести аналиту посетителей\n",
    "и отталкиваться от неё.<br>\n",
    "Кроме этого можно подстраивать дизайн сайта под дневное время. Например, утром страница показывает текстовую информацию,\n",
    "которая является более подходящей для взрослой аудитории, а в обед страница показывает видео информацию, что больше \n",
    "нравится молодому поколению.\n",
    "<br>"
   ]
  },
  {
   "cell_type": "code",
   "execution_count": null,
   "id": "9fb8a04f",
   "metadata": {},
   "outputs": [],
   "source": []
  }
 ],
 "metadata": {
  "kernelspec": {
   "display_name": "Python 3 (ipykernel)",
   "language": "python",
   "name": "python3"
  },
  "language_info": {
   "codemirror_mode": {
    "name": "ipython",
    "version": 3
   },
   "file_extension": ".py",
   "mimetype": "text/x-python",
   "name": "python",
   "nbconvert_exporter": "python",
   "pygments_lexer": "ipython3",
   "version": "3.10.4"
  }
 },
 "nbformat": 4,
 "nbformat_minor": 5
}
