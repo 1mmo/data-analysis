{
 "cells": [
  {
   "cell_type": "markdown",
   "source": [
    "<font size=6>Успеваемость студентов НИТУ МИСИС</font>\n",
    "<br>\n",
    "\n",
    "Cтудент во время учебы должен получить максимальное количество полезных знаний, чтобы в дальнейшем стать специалистом в своем направление. Задачей института является предоставление этих знаний.\n",
    "\n",
    "Студенты часто теряют контроль над своей успеваемостью и \"тонут\" в пересдачах. Отдел аналитики способен контролировать обучение студента, анализируя его историю. На основе аналитики мы можем дать оценку: насколько близок студент к отчислению и насколько упал уровень успеваемости. А также каким предметам стоит уделить должное внимание.\n",
    "\n",
    "<b>Задача</b> состоит в разработке модели, способной предсказывать уровень успеваемости студента.\n",
    "\n",
    "<br>\n",
    "<br>\n",
    "<b>Данные для исследования:</b>\n",
    "\n",
    "hash - уникальный номер студента\n",
    "Номер ЛД - доп. идентификация студента\n",
    "Уровень подготовки - (Академ Бакалавр = Бакалавр, Специалист, Магистр, Аспирант)\n",
    "Учебная группа - сокращенное название (первая буквы = уровень подготовки)\n",
    "Специальность/направление\n",
    "Учебный год\n",
    "Полугодие\n",
    "Дисциплина\n",
    "Оценка (без пересдач) - промежуточная оценка с возможностью пересдачи\n",
    "Оценка (успеваемости) - итоговая оценка за предмет"
   ],
   "metadata": {
    "collapsed": false
   },
   "id": "6fbe3afab971efdf"
  },
  {
   "cell_type": "code",
   "outputs": [],
   "source": [
    "import pandas as pd\n",
    "import numpy as np\n",
    "\n",
    "from sklearn.preprocessing import StandardScaler\n",
    "from sklearn.cluster import KMeans\n",
    "from sklearn.linear_model import LinearRegression\n",
    "\n",
    "import plotly.express as px"
   ],
   "metadata": {
    "collapsed": false,
    "ExecuteTime": {
     "end_time": "2024-05-27T09:49:16.275832Z",
     "start_time": "2024-05-27T09:49:16.270675Z"
    }
   },
   "id": "590f67ca93bb9a92",
   "execution_count": 126
  },
  {
   "cell_type": "markdown",
   "source": [
    "<font size=5>Этап 1. Изучение данных EDA</font>"
   ],
   "metadata": {
    "collapsed": false
   },
   "id": "d1b03995d16d8a73"
  },
  {
   "cell_type": "code",
   "outputs": [
    {
     "data": {
      "text/plain": "                                    hash  Номер ЛД      Уровень подготовки  \\\n0       67a80fffd8d0294a596eda117d7e393c   2010218  Академический бакалавр   \n1       67a80fffd8d0294a596eda117d7e393c   2010218  Академический бакалавр   \n2       67a80fffd8d0294a596eda117d7e393c   2010218  Академический бакалавр   \n3       67a80fffd8d0294a596eda117d7e393c   2010218  Академический бакалавр   \n4       67a80fffd8d0294a596eda117d7e393c   2010218  Академический бакалавр   \n...                                  ...       ...                     ...   \n376002  53f3767de3a82def8de1e36aba70dd95   2302623                Бакалавр   \n376003  53f3767de3a82def8de1e36aba70dd95   2302623                Бакалавр   \n376004  53f3767de3a82def8de1e36aba70dd95   2302623                Бакалавр   \n376005  53f3767de3a82def8de1e36aba70dd95   2302623                Бакалавр   \n376006  53f3767de3a82def8de1e36aba70dd95   2302623                Бакалавр   \n\n       Учебная группа                      Специальность/направление  \\\n0           БИВТ-20-4           Информатика и вычислительная техника   \n1           БИВТ-20-4           Информатика и вычислительная техника   \n2           БИВТ-20-4           Информатика и вычислительная техника   \n3           БИВТ-20-4           Информатика и вычислительная техника   \n4           БИВТ-20-4           Информатика и вычислительная техника   \n...               ...                                            ...   \n376002       БЭК-23-6  Экономика и управление (Экономика,Менеджмент)   \n376003       БЭК-23-6  Экономика и управление (Экономика,Менеджмент)   \n376004       БЭК-23-6  Экономика и управление (Экономика,Менеджмент)   \n376005       БЭК-23-6  Экономика и управление (Экономика,Менеджмент)   \n376006       БЭК-23-6  Экономика и управление (Экономика,Менеджмент)   \n\n        Учебный год     Полугодие                         Дисциплина  \\\n0       2020 - 2021   I полугодие    Инженерная компьютерная графика   \n1       2020 - 2021   I полугодие                   Иностранный язык   \n2       2020 - 2021   I полугодие                            История   \n3       2020 - 2021   I полугодие                         Математика   \n4       2020 - 2021   I полугодие  Программирование и алгоритмизация   \n...             ...           ...                                ...   \n376002  2023 - 2024  II полугодие                         Математика   \n376003  2023 - 2024  II полугодие                              Право   \n376004  2023 - 2024  II полугодие           Теория отраслевых рынков   \n376005  2023 - 2024  II полугодие        Физическая культура и спорт   \n376006  2023 - 2024  II полугодие                    Экономика фирмы   \n\n       Оценка (без пересдач) Оценка (успеваемость)  \n0                     Хорошо                Хорошо  \n1          Удовлетворительно     Удовлетворительно  \n2                    зачтено               зачтено  \n3                     Хорошо                Хорошо  \n4                     Хорошо                Хорошо  \n...                      ...                   ...  \n376002                   NaN                   NaN  \n376003                   NaN                   NaN  \n376004                   NaN                   NaN  \n376005                   NaN                   NaN  \n376006                   NaN                   NaN  \n\n[376007 rows x 10 columns]",
      "text/html": "<div>\n<style scoped>\n    .dataframe tbody tr th:only-of-type {\n        vertical-align: middle;\n    }\n\n    .dataframe tbody tr th {\n        vertical-align: top;\n    }\n\n    .dataframe thead th {\n        text-align: right;\n    }\n</style>\n<table border=\"1\" class=\"dataframe\">\n  <thead>\n    <tr style=\"text-align: right;\">\n      <th></th>\n      <th>hash</th>\n      <th>Номер ЛД</th>\n      <th>Уровень подготовки</th>\n      <th>Учебная группа</th>\n      <th>Специальность/направление</th>\n      <th>Учебный год</th>\n      <th>Полугодие</th>\n      <th>Дисциплина</th>\n      <th>Оценка (без пересдач)</th>\n      <th>Оценка (успеваемость)</th>\n    </tr>\n  </thead>\n  <tbody>\n    <tr>\n      <th>0</th>\n      <td>67a80fffd8d0294a596eda117d7e393c</td>\n      <td>2010218</td>\n      <td>Академический бакалавр</td>\n      <td>БИВТ-20-4</td>\n      <td>Информатика и вычислительная техника</td>\n      <td>2020 - 2021</td>\n      <td>I полугодие</td>\n      <td>Инженерная компьютерная графика</td>\n      <td>Хорошо</td>\n      <td>Хорошо</td>\n    </tr>\n    <tr>\n      <th>1</th>\n      <td>67a80fffd8d0294a596eda117d7e393c</td>\n      <td>2010218</td>\n      <td>Академический бакалавр</td>\n      <td>БИВТ-20-4</td>\n      <td>Информатика и вычислительная техника</td>\n      <td>2020 - 2021</td>\n      <td>I полугодие</td>\n      <td>Иностранный язык</td>\n      <td>Удовлетворительно</td>\n      <td>Удовлетворительно</td>\n    </tr>\n    <tr>\n      <th>2</th>\n      <td>67a80fffd8d0294a596eda117d7e393c</td>\n      <td>2010218</td>\n      <td>Академический бакалавр</td>\n      <td>БИВТ-20-4</td>\n      <td>Информатика и вычислительная техника</td>\n      <td>2020 - 2021</td>\n      <td>I полугодие</td>\n      <td>История</td>\n      <td>зачтено</td>\n      <td>зачтено</td>\n    </tr>\n    <tr>\n      <th>3</th>\n      <td>67a80fffd8d0294a596eda117d7e393c</td>\n      <td>2010218</td>\n      <td>Академический бакалавр</td>\n      <td>БИВТ-20-4</td>\n      <td>Информатика и вычислительная техника</td>\n      <td>2020 - 2021</td>\n      <td>I полугодие</td>\n      <td>Математика</td>\n      <td>Хорошо</td>\n      <td>Хорошо</td>\n    </tr>\n    <tr>\n      <th>4</th>\n      <td>67a80fffd8d0294a596eda117d7e393c</td>\n      <td>2010218</td>\n      <td>Академический бакалавр</td>\n      <td>БИВТ-20-4</td>\n      <td>Информатика и вычислительная техника</td>\n      <td>2020 - 2021</td>\n      <td>I полугодие</td>\n      <td>Программирование и алгоритмизация</td>\n      <td>Хорошо</td>\n      <td>Хорошо</td>\n    </tr>\n    <tr>\n      <th>...</th>\n      <td>...</td>\n      <td>...</td>\n      <td>...</td>\n      <td>...</td>\n      <td>...</td>\n      <td>...</td>\n      <td>...</td>\n      <td>...</td>\n      <td>...</td>\n      <td>...</td>\n    </tr>\n    <tr>\n      <th>376002</th>\n      <td>53f3767de3a82def8de1e36aba70dd95</td>\n      <td>2302623</td>\n      <td>Бакалавр</td>\n      <td>БЭК-23-6</td>\n      <td>Экономика и управление (Экономика,Менеджмент)</td>\n      <td>2023 - 2024</td>\n      <td>II полугодие</td>\n      <td>Математика</td>\n      <td>NaN</td>\n      <td>NaN</td>\n    </tr>\n    <tr>\n      <th>376003</th>\n      <td>53f3767de3a82def8de1e36aba70dd95</td>\n      <td>2302623</td>\n      <td>Бакалавр</td>\n      <td>БЭК-23-6</td>\n      <td>Экономика и управление (Экономика,Менеджмент)</td>\n      <td>2023 - 2024</td>\n      <td>II полугодие</td>\n      <td>Право</td>\n      <td>NaN</td>\n      <td>NaN</td>\n    </tr>\n    <tr>\n      <th>376004</th>\n      <td>53f3767de3a82def8de1e36aba70dd95</td>\n      <td>2302623</td>\n      <td>Бакалавр</td>\n      <td>БЭК-23-6</td>\n      <td>Экономика и управление (Экономика,Менеджмент)</td>\n      <td>2023 - 2024</td>\n      <td>II полугодие</td>\n      <td>Теория отраслевых рынков</td>\n      <td>NaN</td>\n      <td>NaN</td>\n    </tr>\n    <tr>\n      <th>376005</th>\n      <td>53f3767de3a82def8de1e36aba70dd95</td>\n      <td>2302623</td>\n      <td>Бакалавр</td>\n      <td>БЭК-23-6</td>\n      <td>Экономика и управление (Экономика,Менеджмент)</td>\n      <td>2023 - 2024</td>\n      <td>II полугодие</td>\n      <td>Физическая культура и спорт</td>\n      <td>NaN</td>\n      <td>NaN</td>\n    </tr>\n    <tr>\n      <th>376006</th>\n      <td>53f3767de3a82def8de1e36aba70dd95</td>\n      <td>2302623</td>\n      <td>Бакалавр</td>\n      <td>БЭК-23-6</td>\n      <td>Экономика и управление (Экономика,Менеджмент)</td>\n      <td>2023 - 2024</td>\n      <td>II полугодие</td>\n      <td>Экономика фирмы</td>\n      <td>NaN</td>\n      <td>NaN</td>\n    </tr>\n  </tbody>\n</table>\n<p>376007 rows × 10 columns</p>\n</div>"
     },
     "execution_count": 127,
     "metadata": {},
     "output_type": "execute_result"
    }
   ],
   "source": [
    "data = pd.read_excel('data/students.xlsx')\n",
    "data"
   ],
   "metadata": {
    "collapsed": false,
    "ExecuteTime": {
     "end_time": "2024-05-27T09:49:33.196018Z",
     "start_time": "2024-05-27T09:49:16.603940Z"
    }
   },
   "id": "5d5c5e41eec19c4d",
   "execution_count": 127
  },
  {
   "cell_type": "code",
   "outputs": [
    {
     "name": "stdout",
     "output_type": "stream",
     "text": [
      "<class 'pandas.core.frame.DataFrame'>\n",
      "RangeIndex: 376007 entries, 0 to 376006\n",
      "Data columns (total 10 columns):\n",
      " #   Column                     Non-Null Count   Dtype \n",
      "---  ------                     --------------   ----- \n",
      " 0   hash                       376007 non-null  object\n",
      " 1   Номер ЛД                   376007 non-null  int64 \n",
      " 2   Уровень подготовки         376007 non-null  object\n",
      " 3   Учебная группа             376007 non-null  object\n",
      " 4   Специальность/направление  376007 non-null  object\n",
      " 5   Учебный год                376007 non-null  object\n",
      " 6   Полугодие                  376007 non-null  object\n",
      " 7   Дисциплина                 376007 non-null  object\n",
      " 8   Оценка (без пересдач)      189004 non-null  object\n",
      " 9   Оценка (успеваемость)      196522 non-null  object\n",
      "dtypes: int64(1), object(9)\n",
      "memory usage: 28.7+ MB\n"
     ]
    }
   ],
   "source": [
    "data.info()"
   ],
   "metadata": {
    "collapsed": false,
    "ExecuteTime": {
     "end_time": "2024-05-27T09:49:33.270568Z",
     "start_time": "2024-05-27T09:49:33.196980Z"
    }
   },
   "id": "52d406da1949a0b4",
   "execution_count": 128
  },
  {
   "cell_type": "markdown",
   "source": [
    "Проверим, что признак <b>Номер ЛД</b> также идентифицирует студента"
   ],
   "metadata": {
    "collapsed": false
   },
   "id": "1054b351713919a"
  },
  {
   "cell_type": "code",
   "outputs": [
    {
     "data": {
      "text/plain": "False"
     },
     "execution_count": 129,
     "metadata": {},
     "output_type": "execute_result"
    }
   ],
   "source": [
    "data['hash'].nunique() == data['Номер ЛД'].nunique()"
   ],
   "metadata": {
    "collapsed": false,
    "ExecuteTime": {
     "end_time": "2024-05-27T09:49:33.309422Z",
     "start_time": "2024-05-27T09:49:33.271140Z"
    }
   },
   "id": "ee4c343a829d205b",
   "execution_count": 129
  },
  {
   "cell_type": "code",
   "outputs": [
    {
     "data": {
      "text/plain": "hash\n2f41ab589489046803d432b59e8e6331    2\nc38a2fd37e008e520c954bef41b98d65    2\nbc2b18ddce3cb9fe20fb47af8d0390cf    2\n5eb84149f57391b4d71b55703e3bf496    2\nad5b37dae95b7b05b6fcebaa98a69490    2\n                                   ..\n54f412831540c9d44ed91b6a20454927    1\n54ebb737e02fcadc1a3aba0117a42da0    1\n54eb43c1ae635bca0be1b2c8ddde3192    1\n54dca6304823a20fcc7440579e02f38e    1\nffed4fe2ad8cbff97e0b3d21da23008d    1\nName: Номер ЛД, Length: 9085, dtype: int64"
     },
     "execution_count": 130,
     "metadata": {},
     "output_type": "execute_result"
    }
   ],
   "source": [
    "data.groupby('hash')['Номер ЛД'].nunique().sort_values(ascending=False)"
   ],
   "metadata": {
    "collapsed": false,
    "ExecuteTime": {
     "end_time": "2024-05-27T09:49:33.367063Z",
     "start_time": "2024-05-27T09:49:33.315793Z"
    }
   },
   "id": "e677d0bfeddbc351",
   "execution_count": 130
  },
  {
   "cell_type": "code",
   "outputs": [
    {
     "data": {
      "text/plain": "                                    hash  Номер ЛД      Уровень подготовки  \\\n275277  2f41ab589489046803d432b59e8e6331   2005639  Академический бакалавр   \n275278  2f41ab589489046803d432b59e8e6331   2005639  Академический бакалавр   \n275279  2f41ab589489046803d432b59e8e6331   2005639  Академический бакалавр   \n275280  2f41ab589489046803d432b59e8e6331   2205842                Бакалавр   \n275281  2f41ab589489046803d432b59e8e6331   2205842                Бакалавр   \n\n       Учебная группа                 Специальность/направление  Учебный год  \\\n275277      БМТМ-20-2  Материаловедение и технологии материалов  2023 - 2024   \n275278      БМТМ-20-2  Материаловедение и технологии материалов  2023 - 2024   \n275279      БМТМ-20-2  Материаловедение и технологии материалов  2023 - 2024   \n275280      БМТМ-22-2  Материаловедение и технологии материалов  2022 - 2023   \n275281      БМТМ-22-2  Материаловедение и технологии материалов  2022 - 2023   \n\n           Полугодие                                         Дисциплина  \\\n275277  II полугодие  Подготовка к процедуре защиты и защита выпускн...   \n275278  II полугодие  Преддипломная практика для выполнения выпускно...   \n275279  II полугодие  Структура и свойства металлических наноматериалов   \n275280   I полугодие                  Инженерная и компьютерная графика   \n275281   I полугодие                                   Иностранный язык   \n\n       Оценка (без пересдач) Оценка (успеваемость)  \n275277                   NaN                   NaN  \n275278                   NaN                   NaN  \n275279                   NaN                   NaN  \n275280               зачтено               зачтено  \n275281               Отлично               Отлично  ",
      "text/html": "<div>\n<style scoped>\n    .dataframe tbody tr th:only-of-type {\n        vertical-align: middle;\n    }\n\n    .dataframe tbody tr th {\n        vertical-align: top;\n    }\n\n    .dataframe thead th {\n        text-align: right;\n    }\n</style>\n<table border=\"1\" class=\"dataframe\">\n  <thead>\n    <tr style=\"text-align: right;\">\n      <th></th>\n      <th>hash</th>\n      <th>Номер ЛД</th>\n      <th>Уровень подготовки</th>\n      <th>Учебная группа</th>\n      <th>Специальность/направление</th>\n      <th>Учебный год</th>\n      <th>Полугодие</th>\n      <th>Дисциплина</th>\n      <th>Оценка (без пересдач)</th>\n      <th>Оценка (успеваемость)</th>\n    </tr>\n  </thead>\n  <tbody>\n    <tr>\n      <th>275277</th>\n      <td>2f41ab589489046803d432b59e8e6331</td>\n      <td>2005639</td>\n      <td>Академический бакалавр</td>\n      <td>БМТМ-20-2</td>\n      <td>Материаловедение и технологии материалов</td>\n      <td>2023 - 2024</td>\n      <td>II полугодие</td>\n      <td>Подготовка к процедуре защиты и защита выпускн...</td>\n      <td>NaN</td>\n      <td>NaN</td>\n    </tr>\n    <tr>\n      <th>275278</th>\n      <td>2f41ab589489046803d432b59e8e6331</td>\n      <td>2005639</td>\n      <td>Академический бакалавр</td>\n      <td>БМТМ-20-2</td>\n      <td>Материаловедение и технологии материалов</td>\n      <td>2023 - 2024</td>\n      <td>II полугодие</td>\n      <td>Преддипломная практика для выполнения выпускно...</td>\n      <td>NaN</td>\n      <td>NaN</td>\n    </tr>\n    <tr>\n      <th>275279</th>\n      <td>2f41ab589489046803d432b59e8e6331</td>\n      <td>2005639</td>\n      <td>Академический бакалавр</td>\n      <td>БМТМ-20-2</td>\n      <td>Материаловедение и технологии материалов</td>\n      <td>2023 - 2024</td>\n      <td>II полугодие</td>\n      <td>Структура и свойства металлических наноматериалов</td>\n      <td>NaN</td>\n      <td>NaN</td>\n    </tr>\n    <tr>\n      <th>275280</th>\n      <td>2f41ab589489046803d432b59e8e6331</td>\n      <td>2205842</td>\n      <td>Бакалавр</td>\n      <td>БМТМ-22-2</td>\n      <td>Материаловедение и технологии материалов</td>\n      <td>2022 - 2023</td>\n      <td>I полугодие</td>\n      <td>Инженерная и компьютерная графика</td>\n      <td>зачтено</td>\n      <td>зачтено</td>\n    </tr>\n    <tr>\n      <th>275281</th>\n      <td>2f41ab589489046803d432b59e8e6331</td>\n      <td>2205842</td>\n      <td>Бакалавр</td>\n      <td>БМТМ-22-2</td>\n      <td>Материаловедение и технологии материалов</td>\n      <td>2022 - 2023</td>\n      <td>I полугодие</td>\n      <td>Иностранный язык</td>\n      <td>Отлично</td>\n      <td>Отлично</td>\n    </tr>\n  </tbody>\n</table>\n</div>"
     },
     "execution_count": 131,
     "metadata": {},
     "output_type": "execute_result"
    }
   ],
   "source": [
    "data[data['hash'] == '2f41ab589489046803d432b59e8e6331'].iloc[65:70]"
   ],
   "metadata": {
    "collapsed": false,
    "ExecuteTime": {
     "end_time": "2024-05-27T09:49:33.386235Z",
     "start_time": "2024-05-27T09:49:33.367635Z"
    }
   },
   "id": "8f1d2032cb774b39",
   "execution_count": 131
  },
  {
   "cell_type": "markdown",
   "source": [
    "Некоторые студенты имеют одинаковый hash. Скорей всего, это ФИО.\n",
    "Поэтому идентифицировать студентов будем по признаку <b>Номер ЛД</b>"
   ],
   "metadata": {
    "collapsed": false
   },
   "id": "33e8397630e2002e"
  },
  {
   "cell_type": "markdown",
   "source": [
    "Изучим остальные признаки подробней"
   ],
   "metadata": {
    "collapsed": false
   },
   "id": "94b7050597ced4f7"
  },
  {
   "cell_type": "code",
   "outputs": [
    {
     "data": {
      "application/vnd.plotly.v1+json": {
       "data": [
        {
         "alignmentgroup": "True",
         "hovertemplate": "Уровень подготовки=%{x}<br>count=%{y}<extra></extra>",
         "legendgroup": "",
         "marker": {
          "color": "#636efa",
          "pattern": {
           "shape": ""
          }
         },
         "name": "",
         "offsetgroup": "",
         "orientation": "v",
         "showlegend": false,
         "textposition": "auto",
         "x": [
          "Бакалавр",
          "Магистр",
          "Специалист"
         ],
         "xaxis": "x",
         "y": [
          5829,
          2271,
          998
         ],
         "yaxis": "y",
         "type": "bar"
        }
       ],
       "layout": {
        "template": {
         "data": {
          "histogram2dcontour": [
           {
            "type": "histogram2dcontour",
            "colorbar": {
             "outlinewidth": 0,
             "ticks": ""
            },
            "colorscale": [
             [
              0.0,
              "#0d0887"
             ],
             [
              0.1111111111111111,
              "#46039f"
             ],
             [
              0.2222222222222222,
              "#7201a8"
             ],
             [
              0.3333333333333333,
              "#9c179e"
             ],
             [
              0.4444444444444444,
              "#bd3786"
             ],
             [
              0.5555555555555556,
              "#d8576b"
             ],
             [
              0.6666666666666666,
              "#ed7953"
             ],
             [
              0.7777777777777778,
              "#fb9f3a"
             ],
             [
              0.8888888888888888,
              "#fdca26"
             ],
             [
              1.0,
              "#f0f921"
             ]
            ]
           }
          ],
          "choropleth": [
           {
            "type": "choropleth",
            "colorbar": {
             "outlinewidth": 0,
             "ticks": ""
            }
           }
          ],
          "histogram2d": [
           {
            "type": "histogram2d",
            "colorbar": {
             "outlinewidth": 0,
             "ticks": ""
            },
            "colorscale": [
             [
              0.0,
              "#0d0887"
             ],
             [
              0.1111111111111111,
              "#46039f"
             ],
             [
              0.2222222222222222,
              "#7201a8"
             ],
             [
              0.3333333333333333,
              "#9c179e"
             ],
             [
              0.4444444444444444,
              "#bd3786"
             ],
             [
              0.5555555555555556,
              "#d8576b"
             ],
             [
              0.6666666666666666,
              "#ed7953"
             ],
             [
              0.7777777777777778,
              "#fb9f3a"
             ],
             [
              0.8888888888888888,
              "#fdca26"
             ],
             [
              1.0,
              "#f0f921"
             ]
            ]
           }
          ],
          "heatmap": [
           {
            "type": "heatmap",
            "colorbar": {
             "outlinewidth": 0,
             "ticks": ""
            },
            "colorscale": [
             [
              0.0,
              "#0d0887"
             ],
             [
              0.1111111111111111,
              "#46039f"
             ],
             [
              0.2222222222222222,
              "#7201a8"
             ],
             [
              0.3333333333333333,
              "#9c179e"
             ],
             [
              0.4444444444444444,
              "#bd3786"
             ],
             [
              0.5555555555555556,
              "#d8576b"
             ],
             [
              0.6666666666666666,
              "#ed7953"
             ],
             [
              0.7777777777777778,
              "#fb9f3a"
             ],
             [
              0.8888888888888888,
              "#fdca26"
             ],
             [
              1.0,
              "#f0f921"
             ]
            ]
           }
          ],
          "heatmapgl": [
           {
            "type": "heatmapgl",
            "colorbar": {
             "outlinewidth": 0,
             "ticks": ""
            },
            "colorscale": [
             [
              0.0,
              "#0d0887"
             ],
             [
              0.1111111111111111,
              "#46039f"
             ],
             [
              0.2222222222222222,
              "#7201a8"
             ],
             [
              0.3333333333333333,
              "#9c179e"
             ],
             [
              0.4444444444444444,
              "#bd3786"
             ],
             [
              0.5555555555555556,
              "#d8576b"
             ],
             [
              0.6666666666666666,
              "#ed7953"
             ],
             [
              0.7777777777777778,
              "#fb9f3a"
             ],
             [
              0.8888888888888888,
              "#fdca26"
             ],
             [
              1.0,
              "#f0f921"
             ]
            ]
           }
          ],
          "contourcarpet": [
           {
            "type": "contourcarpet",
            "colorbar": {
             "outlinewidth": 0,
             "ticks": ""
            }
           }
          ],
          "contour": [
           {
            "type": "contour",
            "colorbar": {
             "outlinewidth": 0,
             "ticks": ""
            },
            "colorscale": [
             [
              0.0,
              "#0d0887"
             ],
             [
              0.1111111111111111,
              "#46039f"
             ],
             [
              0.2222222222222222,
              "#7201a8"
             ],
             [
              0.3333333333333333,
              "#9c179e"
             ],
             [
              0.4444444444444444,
              "#bd3786"
             ],
             [
              0.5555555555555556,
              "#d8576b"
             ],
             [
              0.6666666666666666,
              "#ed7953"
             ],
             [
              0.7777777777777778,
              "#fb9f3a"
             ],
             [
              0.8888888888888888,
              "#fdca26"
             ],
             [
              1.0,
              "#f0f921"
             ]
            ]
           }
          ],
          "surface": [
           {
            "type": "surface",
            "colorbar": {
             "outlinewidth": 0,
             "ticks": ""
            },
            "colorscale": [
             [
              0.0,
              "#0d0887"
             ],
             [
              0.1111111111111111,
              "#46039f"
             ],
             [
              0.2222222222222222,
              "#7201a8"
             ],
             [
              0.3333333333333333,
              "#9c179e"
             ],
             [
              0.4444444444444444,
              "#bd3786"
             ],
             [
              0.5555555555555556,
              "#d8576b"
             ],
             [
              0.6666666666666666,
              "#ed7953"
             ],
             [
              0.7777777777777778,
              "#fb9f3a"
             ],
             [
              0.8888888888888888,
              "#fdca26"
             ],
             [
              1.0,
              "#f0f921"
             ]
            ]
           }
          ],
          "mesh3d": [
           {
            "type": "mesh3d",
            "colorbar": {
             "outlinewidth": 0,
             "ticks": ""
            }
           }
          ],
          "scatter": [
           {
            "marker": {
             "line": {
              "color": "#283442"
             }
            },
            "type": "scatter"
           }
          ],
          "parcoords": [
           {
            "type": "parcoords",
            "line": {
             "colorbar": {
              "outlinewidth": 0,
              "ticks": ""
             }
            }
           }
          ],
          "scatterpolargl": [
           {
            "type": "scatterpolargl",
            "marker": {
             "colorbar": {
              "outlinewidth": 0,
              "ticks": ""
             }
            }
           }
          ],
          "bar": [
           {
            "error_x": {
             "color": "#f2f5fa"
            },
            "error_y": {
             "color": "#f2f5fa"
            },
            "marker": {
             "line": {
              "color": "rgb(17,17,17)",
              "width": 0.5
             },
             "pattern": {
              "fillmode": "overlay",
              "size": 10,
              "solidity": 0.2
             }
            },
            "type": "bar"
           }
          ],
          "scattergeo": [
           {
            "type": "scattergeo",
            "marker": {
             "colorbar": {
              "outlinewidth": 0,
              "ticks": ""
             }
            }
           }
          ],
          "scatterpolar": [
           {
            "type": "scatterpolar",
            "marker": {
             "colorbar": {
              "outlinewidth": 0,
              "ticks": ""
             }
            }
           }
          ],
          "histogram": [
           {
            "marker": {
             "pattern": {
              "fillmode": "overlay",
              "size": 10,
              "solidity": 0.2
             }
            },
            "type": "histogram"
           }
          ],
          "scattergl": [
           {
            "marker": {
             "line": {
              "color": "#283442"
             }
            },
            "type": "scattergl"
           }
          ],
          "scatter3d": [
           {
            "type": "scatter3d",
            "line": {
             "colorbar": {
              "outlinewidth": 0,
              "ticks": ""
             }
            },
            "marker": {
             "colorbar": {
              "outlinewidth": 0,
              "ticks": ""
             }
            }
           }
          ],
          "scattermapbox": [
           {
            "type": "scattermapbox",
            "marker": {
             "colorbar": {
              "outlinewidth": 0,
              "ticks": ""
             }
            }
           }
          ],
          "scatterternary": [
           {
            "type": "scatterternary",
            "marker": {
             "colorbar": {
              "outlinewidth": 0,
              "ticks": ""
             }
            }
           }
          ],
          "scattercarpet": [
           {
            "type": "scattercarpet",
            "marker": {
             "colorbar": {
              "outlinewidth": 0,
              "ticks": ""
             }
            }
           }
          ],
          "carpet": [
           {
            "aaxis": {
             "endlinecolor": "#A2B1C6",
             "gridcolor": "#506784",
             "linecolor": "#506784",
             "minorgridcolor": "#506784",
             "startlinecolor": "#A2B1C6"
            },
            "baxis": {
             "endlinecolor": "#A2B1C6",
             "gridcolor": "#506784",
             "linecolor": "#506784",
             "minorgridcolor": "#506784",
             "startlinecolor": "#A2B1C6"
            },
            "type": "carpet"
           }
          ],
          "table": [
           {
            "cells": {
             "fill": {
              "color": "#506784"
             },
             "line": {
              "color": "rgb(17,17,17)"
             }
            },
            "header": {
             "fill": {
              "color": "#2a3f5f"
             },
             "line": {
              "color": "rgb(17,17,17)"
             }
            },
            "type": "table"
           }
          ],
          "barpolar": [
           {
            "marker": {
             "line": {
              "color": "rgb(17,17,17)",
              "width": 0.5
             },
             "pattern": {
              "fillmode": "overlay",
              "size": 10,
              "solidity": 0.2
             }
            },
            "type": "barpolar"
           }
          ],
          "pie": [
           {
            "automargin": true,
            "type": "pie"
           }
          ]
         },
         "layout": {
          "autotypenumbers": "strict",
          "colorway": [
           "#636efa",
           "#EF553B",
           "#00cc96",
           "#ab63fa",
           "#FFA15A",
           "#19d3f3",
           "#FF6692",
           "#B6E880",
           "#FF97FF",
           "#FECB52"
          ],
          "font": {
           "color": "#f2f5fa"
          },
          "hovermode": "closest",
          "hoverlabel": {
           "align": "left"
          },
          "paper_bgcolor": "rgb(17,17,17)",
          "plot_bgcolor": "rgb(17,17,17)",
          "polar": {
           "bgcolor": "rgb(17,17,17)",
           "angularaxis": {
            "gridcolor": "#506784",
            "linecolor": "#506784",
            "ticks": ""
           },
           "radialaxis": {
            "gridcolor": "#506784",
            "linecolor": "#506784",
            "ticks": ""
           }
          },
          "ternary": {
           "bgcolor": "rgb(17,17,17)",
           "aaxis": {
            "gridcolor": "#506784",
            "linecolor": "#506784",
            "ticks": ""
           },
           "baxis": {
            "gridcolor": "#506784",
            "linecolor": "#506784",
            "ticks": ""
           },
           "caxis": {
            "gridcolor": "#506784",
            "linecolor": "#506784",
            "ticks": ""
           }
          },
          "coloraxis": {
           "colorbar": {
            "outlinewidth": 0,
            "ticks": ""
           }
          },
          "colorscale": {
           "sequential": [
            [
             0.0,
             "#0d0887"
            ],
            [
             0.1111111111111111,
             "#46039f"
            ],
            [
             0.2222222222222222,
             "#7201a8"
            ],
            [
             0.3333333333333333,
             "#9c179e"
            ],
            [
             0.4444444444444444,
             "#bd3786"
            ],
            [
             0.5555555555555556,
             "#d8576b"
            ],
            [
             0.6666666666666666,
             "#ed7953"
            ],
            [
             0.7777777777777778,
             "#fb9f3a"
            ],
            [
             0.8888888888888888,
             "#fdca26"
            ],
            [
             1.0,
             "#f0f921"
            ]
           ],
           "sequentialminus": [
            [
             0.0,
             "#0d0887"
            ],
            [
             0.1111111111111111,
             "#46039f"
            ],
            [
             0.2222222222222222,
             "#7201a8"
            ],
            [
             0.3333333333333333,
             "#9c179e"
            ],
            [
             0.4444444444444444,
             "#bd3786"
            ],
            [
             0.5555555555555556,
             "#d8576b"
            ],
            [
             0.6666666666666666,
             "#ed7953"
            ],
            [
             0.7777777777777778,
             "#fb9f3a"
            ],
            [
             0.8888888888888888,
             "#fdca26"
            ],
            [
             1.0,
             "#f0f921"
            ]
           ],
           "diverging": [
            [
             0,
             "#8e0152"
            ],
            [
             0.1,
             "#c51b7d"
            ],
            [
             0.2,
             "#de77ae"
            ],
            [
             0.3,
             "#f1b6da"
            ],
            [
             0.4,
             "#fde0ef"
            ],
            [
             0.5,
             "#f7f7f7"
            ],
            [
             0.6,
             "#e6f5d0"
            ],
            [
             0.7,
             "#b8e186"
            ],
            [
             0.8,
             "#7fbc41"
            ],
            [
             0.9,
             "#4d9221"
            ],
            [
             1,
             "#276419"
            ]
           ]
          },
          "xaxis": {
           "gridcolor": "#283442",
           "linecolor": "#506784",
           "ticks": "",
           "title": {
            "standoff": 15
           },
           "zerolinecolor": "#283442",
           "automargin": true,
           "zerolinewidth": 2
          },
          "yaxis": {
           "gridcolor": "#283442",
           "linecolor": "#506784",
           "ticks": "",
           "title": {
            "standoff": 15
           },
           "zerolinecolor": "#283442",
           "automargin": true,
           "zerolinewidth": 2
          },
          "scene": {
           "xaxis": {
            "backgroundcolor": "rgb(17,17,17)",
            "gridcolor": "#506784",
            "linecolor": "#506784",
            "showbackground": true,
            "ticks": "",
            "zerolinecolor": "#C8D4E3",
            "gridwidth": 2
           },
           "yaxis": {
            "backgroundcolor": "rgb(17,17,17)",
            "gridcolor": "#506784",
            "linecolor": "#506784",
            "showbackground": true,
            "ticks": "",
            "zerolinecolor": "#C8D4E3",
            "gridwidth": 2
           },
           "zaxis": {
            "backgroundcolor": "rgb(17,17,17)",
            "gridcolor": "#506784",
            "linecolor": "#506784",
            "showbackground": true,
            "ticks": "",
            "zerolinecolor": "#C8D4E3",
            "gridwidth": 2
           }
          },
          "shapedefaults": {
           "line": {
            "color": "#f2f5fa"
           }
          },
          "annotationdefaults": {
           "arrowcolor": "#f2f5fa",
           "arrowhead": 0,
           "arrowwidth": 1
          },
          "geo": {
           "bgcolor": "rgb(17,17,17)",
           "landcolor": "rgb(17,17,17)",
           "subunitcolor": "#506784",
           "showland": true,
           "showlakes": true,
           "lakecolor": "rgb(17,17,17)"
          },
          "title": {
           "x": 0.05
          },
          "updatemenudefaults": {
           "bgcolor": "#506784",
           "borderwidth": 0
          },
          "sliderdefaults": {
           "bgcolor": "#C8D4E3",
           "borderwidth": 1,
           "bordercolor": "rgb(17,17,17)",
           "tickwidth": 0
          },
          "mapbox": {
           "style": "dark"
          }
         }
        },
        "xaxis": {
         "anchor": "y",
         "domain": [
          0.0,
          1.0
         ],
         "title": {
          "text": "Уровень подготовки"
         }
        },
        "yaxis": {
         "anchor": "x",
         "domain": [
          0.0,
          1.0
         ],
         "title": {
          "text": "count"
         }
        },
        "legend": {
         "tracegroupgap": 0
        },
        "margin": {
         "t": 60
        },
        "barmode": "relative"
       },
       "config": {
        "plotlyServerURL": "https://plot.ly"
       }
      },
      "text/html": "<div>                            <div id=\"a8d9e6d1-9627-4426-b6e1-d4c88ef2c4db\" class=\"plotly-graph-div\" style=\"height:525px; width:100%;\"></div>            <script type=\"text/javascript\">                require([\"plotly\"], function(Plotly) {                    window.PLOTLYENV=window.PLOTLYENV || {};                                    if (document.getElementById(\"a8d9e6d1-9627-4426-b6e1-d4c88ef2c4db\")) {                    Plotly.newPlot(                        \"a8d9e6d1-9627-4426-b6e1-d4c88ef2c4db\",                        [{\"alignmentgroup\":\"True\",\"hovertemplate\":\"\\u0423\\u0440\\u043e\\u0432\\u0435\\u043d\\u044c \\u043f\\u043e\\u0434\\u0433\\u043e\\u0442\\u043e\\u0432\\u043a\\u0438=%{x}\\u003cbr\\u003ecount=%{y}\\u003cextra\\u003e\\u003c\\u002fextra\\u003e\",\"legendgroup\":\"\",\"marker\":{\"color\":\"#636efa\",\"pattern\":{\"shape\":\"\"}},\"name\":\"\",\"offsetgroup\":\"\",\"orientation\":\"v\",\"showlegend\":false,\"textposition\":\"auto\",\"x\":[\"\\u0411\\u0430\\u043a\\u0430\\u043b\\u0430\\u0432\\u0440\",\"\\u041c\\u0430\\u0433\\u0438\\u0441\\u0442\\u0440\",\"\\u0421\\u043f\\u0435\\u0446\\u0438\\u0430\\u043b\\u0438\\u0441\\u0442\"],\"xaxis\":\"x\",\"y\":[5829,2271,998],\"yaxis\":\"y\",\"type\":\"bar\"}],                        {\"template\":{\"data\":{\"histogram2dcontour\":[{\"type\":\"histogram2dcontour\",\"colorbar\":{\"outlinewidth\":0,\"ticks\":\"\"},\"colorscale\":[[0.0,\"#0d0887\"],[0.1111111111111111,\"#46039f\"],[0.2222222222222222,\"#7201a8\"],[0.3333333333333333,\"#9c179e\"],[0.4444444444444444,\"#bd3786\"],[0.5555555555555556,\"#d8576b\"],[0.6666666666666666,\"#ed7953\"],[0.7777777777777778,\"#fb9f3a\"],[0.8888888888888888,\"#fdca26\"],[1.0,\"#f0f921\"]]}],\"choropleth\":[{\"type\":\"choropleth\",\"colorbar\":{\"outlinewidth\":0,\"ticks\":\"\"}}],\"histogram2d\":[{\"type\":\"histogram2d\",\"colorbar\":{\"outlinewidth\":0,\"ticks\":\"\"},\"colorscale\":[[0.0,\"#0d0887\"],[0.1111111111111111,\"#46039f\"],[0.2222222222222222,\"#7201a8\"],[0.3333333333333333,\"#9c179e\"],[0.4444444444444444,\"#bd3786\"],[0.5555555555555556,\"#d8576b\"],[0.6666666666666666,\"#ed7953\"],[0.7777777777777778,\"#fb9f3a\"],[0.8888888888888888,\"#fdca26\"],[1.0,\"#f0f921\"]]}],\"heatmap\":[{\"type\":\"heatmap\",\"colorbar\":{\"outlinewidth\":0,\"ticks\":\"\"},\"colorscale\":[[0.0,\"#0d0887\"],[0.1111111111111111,\"#46039f\"],[0.2222222222222222,\"#7201a8\"],[0.3333333333333333,\"#9c179e\"],[0.4444444444444444,\"#bd3786\"],[0.5555555555555556,\"#d8576b\"],[0.6666666666666666,\"#ed7953\"],[0.7777777777777778,\"#fb9f3a\"],[0.8888888888888888,\"#fdca26\"],[1.0,\"#f0f921\"]]}],\"heatmapgl\":[{\"type\":\"heatmapgl\",\"colorbar\":{\"outlinewidth\":0,\"ticks\":\"\"},\"colorscale\":[[0.0,\"#0d0887\"],[0.1111111111111111,\"#46039f\"],[0.2222222222222222,\"#7201a8\"],[0.3333333333333333,\"#9c179e\"],[0.4444444444444444,\"#bd3786\"],[0.5555555555555556,\"#d8576b\"],[0.6666666666666666,\"#ed7953\"],[0.7777777777777778,\"#fb9f3a\"],[0.8888888888888888,\"#fdca26\"],[1.0,\"#f0f921\"]]}],\"contourcarpet\":[{\"type\":\"contourcarpet\",\"colorbar\":{\"outlinewidth\":0,\"ticks\":\"\"}}],\"contour\":[{\"type\":\"contour\",\"colorbar\":{\"outlinewidth\":0,\"ticks\":\"\"},\"colorscale\":[[0.0,\"#0d0887\"],[0.1111111111111111,\"#46039f\"],[0.2222222222222222,\"#7201a8\"],[0.3333333333333333,\"#9c179e\"],[0.4444444444444444,\"#bd3786\"],[0.5555555555555556,\"#d8576b\"],[0.6666666666666666,\"#ed7953\"],[0.7777777777777778,\"#fb9f3a\"],[0.8888888888888888,\"#fdca26\"],[1.0,\"#f0f921\"]]}],\"surface\":[{\"type\":\"surface\",\"colorbar\":{\"outlinewidth\":0,\"ticks\":\"\"},\"colorscale\":[[0.0,\"#0d0887\"],[0.1111111111111111,\"#46039f\"],[0.2222222222222222,\"#7201a8\"],[0.3333333333333333,\"#9c179e\"],[0.4444444444444444,\"#bd3786\"],[0.5555555555555556,\"#d8576b\"],[0.6666666666666666,\"#ed7953\"],[0.7777777777777778,\"#fb9f3a\"],[0.8888888888888888,\"#fdca26\"],[1.0,\"#f0f921\"]]}],\"mesh3d\":[{\"type\":\"mesh3d\",\"colorbar\":{\"outlinewidth\":0,\"ticks\":\"\"}}],\"scatter\":[{\"marker\":{\"line\":{\"color\":\"#283442\"}},\"type\":\"scatter\"}],\"parcoords\":[{\"type\":\"parcoords\",\"line\":{\"colorbar\":{\"outlinewidth\":0,\"ticks\":\"\"}}}],\"scatterpolargl\":[{\"type\":\"scatterpolargl\",\"marker\":{\"colorbar\":{\"outlinewidth\":0,\"ticks\":\"\"}}}],\"bar\":[{\"error_x\":{\"color\":\"#f2f5fa\"},\"error_y\":{\"color\":\"#f2f5fa\"},\"marker\":{\"line\":{\"color\":\"rgb(17,17,17)\",\"width\":0.5},\"pattern\":{\"fillmode\":\"overlay\",\"size\":10,\"solidity\":0.2}},\"type\":\"bar\"}],\"scattergeo\":[{\"type\":\"scattergeo\",\"marker\":{\"colorbar\":{\"outlinewidth\":0,\"ticks\":\"\"}}}],\"scatterpolar\":[{\"type\":\"scatterpolar\",\"marker\":{\"colorbar\":{\"outlinewidth\":0,\"ticks\":\"\"}}}],\"histogram\":[{\"marker\":{\"pattern\":{\"fillmode\":\"overlay\",\"size\":10,\"solidity\":0.2}},\"type\":\"histogram\"}],\"scattergl\":[{\"marker\":{\"line\":{\"color\":\"#283442\"}},\"type\":\"scattergl\"}],\"scatter3d\":[{\"type\":\"scatter3d\",\"line\":{\"colorbar\":{\"outlinewidth\":0,\"ticks\":\"\"}},\"marker\":{\"colorbar\":{\"outlinewidth\":0,\"ticks\":\"\"}}}],\"scattermapbox\":[{\"type\":\"scattermapbox\",\"marker\":{\"colorbar\":{\"outlinewidth\":0,\"ticks\":\"\"}}}],\"scatterternary\":[{\"type\":\"scatterternary\",\"marker\":{\"colorbar\":{\"outlinewidth\":0,\"ticks\":\"\"}}}],\"scattercarpet\":[{\"type\":\"scattercarpet\",\"marker\":{\"colorbar\":{\"outlinewidth\":0,\"ticks\":\"\"}}}],\"carpet\":[{\"aaxis\":{\"endlinecolor\":\"#A2B1C6\",\"gridcolor\":\"#506784\",\"linecolor\":\"#506784\",\"minorgridcolor\":\"#506784\",\"startlinecolor\":\"#A2B1C6\"},\"baxis\":{\"endlinecolor\":\"#A2B1C6\",\"gridcolor\":\"#506784\",\"linecolor\":\"#506784\",\"minorgridcolor\":\"#506784\",\"startlinecolor\":\"#A2B1C6\"},\"type\":\"carpet\"}],\"table\":[{\"cells\":{\"fill\":{\"color\":\"#506784\"},\"line\":{\"color\":\"rgb(17,17,17)\"}},\"header\":{\"fill\":{\"color\":\"#2a3f5f\"},\"line\":{\"color\":\"rgb(17,17,17)\"}},\"type\":\"table\"}],\"barpolar\":[{\"marker\":{\"line\":{\"color\":\"rgb(17,17,17)\",\"width\":0.5},\"pattern\":{\"fillmode\":\"overlay\",\"size\":10,\"solidity\":0.2}},\"type\":\"barpolar\"}],\"pie\":[{\"automargin\":true,\"type\":\"pie\"}]},\"layout\":{\"autotypenumbers\":\"strict\",\"colorway\":[\"#636efa\",\"#EF553B\",\"#00cc96\",\"#ab63fa\",\"#FFA15A\",\"#19d3f3\",\"#FF6692\",\"#B6E880\",\"#FF97FF\",\"#FECB52\"],\"font\":{\"color\":\"#f2f5fa\"},\"hovermode\":\"closest\",\"hoverlabel\":{\"align\":\"left\"},\"paper_bgcolor\":\"rgb(17,17,17)\",\"plot_bgcolor\":\"rgb(17,17,17)\",\"polar\":{\"bgcolor\":\"rgb(17,17,17)\",\"angularaxis\":{\"gridcolor\":\"#506784\",\"linecolor\":\"#506784\",\"ticks\":\"\"},\"radialaxis\":{\"gridcolor\":\"#506784\",\"linecolor\":\"#506784\",\"ticks\":\"\"}},\"ternary\":{\"bgcolor\":\"rgb(17,17,17)\",\"aaxis\":{\"gridcolor\":\"#506784\",\"linecolor\":\"#506784\",\"ticks\":\"\"},\"baxis\":{\"gridcolor\":\"#506784\",\"linecolor\":\"#506784\",\"ticks\":\"\"},\"caxis\":{\"gridcolor\":\"#506784\",\"linecolor\":\"#506784\",\"ticks\":\"\"}},\"coloraxis\":{\"colorbar\":{\"outlinewidth\":0,\"ticks\":\"\"}},\"colorscale\":{\"sequential\":[[0.0,\"#0d0887\"],[0.1111111111111111,\"#46039f\"],[0.2222222222222222,\"#7201a8\"],[0.3333333333333333,\"#9c179e\"],[0.4444444444444444,\"#bd3786\"],[0.5555555555555556,\"#d8576b\"],[0.6666666666666666,\"#ed7953\"],[0.7777777777777778,\"#fb9f3a\"],[0.8888888888888888,\"#fdca26\"],[1.0,\"#f0f921\"]],\"sequentialminus\":[[0.0,\"#0d0887\"],[0.1111111111111111,\"#46039f\"],[0.2222222222222222,\"#7201a8\"],[0.3333333333333333,\"#9c179e\"],[0.4444444444444444,\"#bd3786\"],[0.5555555555555556,\"#d8576b\"],[0.6666666666666666,\"#ed7953\"],[0.7777777777777778,\"#fb9f3a\"],[0.8888888888888888,\"#fdca26\"],[1.0,\"#f0f921\"]],\"diverging\":[[0,\"#8e0152\"],[0.1,\"#c51b7d\"],[0.2,\"#de77ae\"],[0.3,\"#f1b6da\"],[0.4,\"#fde0ef\"],[0.5,\"#f7f7f7\"],[0.6,\"#e6f5d0\"],[0.7,\"#b8e186\"],[0.8,\"#7fbc41\"],[0.9,\"#4d9221\"],[1,\"#276419\"]]},\"xaxis\":{\"gridcolor\":\"#283442\",\"linecolor\":\"#506784\",\"ticks\":\"\",\"title\":{\"standoff\":15},\"zerolinecolor\":\"#283442\",\"automargin\":true,\"zerolinewidth\":2},\"yaxis\":{\"gridcolor\":\"#283442\",\"linecolor\":\"#506784\",\"ticks\":\"\",\"title\":{\"standoff\":15},\"zerolinecolor\":\"#283442\",\"automargin\":true,\"zerolinewidth\":2},\"scene\":{\"xaxis\":{\"backgroundcolor\":\"rgb(17,17,17)\",\"gridcolor\":\"#506784\",\"linecolor\":\"#506784\",\"showbackground\":true,\"ticks\":\"\",\"zerolinecolor\":\"#C8D4E3\",\"gridwidth\":2},\"yaxis\":{\"backgroundcolor\":\"rgb(17,17,17)\",\"gridcolor\":\"#506784\",\"linecolor\":\"#506784\",\"showbackground\":true,\"ticks\":\"\",\"zerolinecolor\":\"#C8D4E3\",\"gridwidth\":2},\"zaxis\":{\"backgroundcolor\":\"rgb(17,17,17)\",\"gridcolor\":\"#506784\",\"linecolor\":\"#506784\",\"showbackground\":true,\"ticks\":\"\",\"zerolinecolor\":\"#C8D4E3\",\"gridwidth\":2}},\"shapedefaults\":{\"line\":{\"color\":\"#f2f5fa\"}},\"annotationdefaults\":{\"arrowcolor\":\"#f2f5fa\",\"arrowhead\":0,\"arrowwidth\":1},\"geo\":{\"bgcolor\":\"rgb(17,17,17)\",\"landcolor\":\"rgb(17,17,17)\",\"subunitcolor\":\"#506784\",\"showland\":true,\"showlakes\":true,\"lakecolor\":\"rgb(17,17,17)\"},\"title\":{\"x\":0.05},\"updatemenudefaults\":{\"bgcolor\":\"#506784\",\"borderwidth\":0},\"sliderdefaults\":{\"bgcolor\":\"#C8D4E3\",\"borderwidth\":1,\"bordercolor\":\"rgb(17,17,17)\",\"tickwidth\":0},\"mapbox\":{\"style\":\"dark\"}}},\"xaxis\":{\"anchor\":\"y\",\"domain\":[0.0,1.0],\"title\":{\"text\":\"\\u0423\\u0440\\u043e\\u0432\\u0435\\u043d\\u044c \\u043f\\u043e\\u0434\\u0433\\u043e\\u0442\\u043e\\u0432\\u043a\\u0438\"}},\"yaxis\":{\"anchor\":\"x\",\"domain\":[0.0,1.0],\"title\":{\"text\":\"count\"}},\"legend\":{\"tracegroupgap\":0},\"margin\":{\"t\":60},\"barmode\":\"relative\"},                        {\"responsive\": true}                    ).then(function(){\n                            \nvar gd = document.getElementById('a8d9e6d1-9627-4426-b6e1-d4c88ef2c4db');\nvar x = new MutationObserver(function (mutations, observer) {{\n        var display = window.getComputedStyle(gd).display;\n        if (!display || display === 'none') {{\n            console.log([gd, 'removed!']);\n            Plotly.purge(gd);\n            observer.disconnect();\n        }}\n}});\n\n// Listen for the removal of the full notebook cells\nvar notebookContainer = gd.closest('#notebook-container');\nif (notebookContainer) {{\n    x.observe(notebookContainer, {childList: true});\n}}\n\n// Listen for the clearing of the current output cell\nvar outputEl = gd.closest('.output');\nif (outputEl) {{\n    x.observe(outputEl, {childList: true});\n}}\n\n                        })                };                });            </script>        </div>"
     },
     "metadata": {},
     "output_type": "display_data"
    }
   ],
   "source": [
    "# По условию Академический бакалавр == Бакалавр\n",
    "data['Уровень подготовки'] = data['Уровень подготовки'].replace('Академический бакалавр', 'Бакалавр')\n",
    "\n",
    "year_counts = (data\n",
    "               .groupby(['Номер ЛД'])['Уровень подготовки']\n",
    "               .value_counts()\n",
    "               .reset_index()\n",
    "               .loc[:, 'Уровень подготовки']\n",
    "               .value_counts()\n",
    "               .reset_index())\n",
    "\n",
    "fig = px.bar(year_counts, x='Уровень подготовки', y='count')\n",
    "fig.show()"
   ],
   "metadata": {
    "collapsed": false,
    "ExecuteTime": {
     "end_time": "2024-05-27T09:49:33.463371Z",
     "start_time": "2024-05-27T09:49:33.386867Z"
    }
   },
   "id": "1ef6a699609d9132",
   "execution_count": 132
  },
  {
   "cell_type": "code",
   "outputs": [
    {
     "data": {
      "text/plain": "Учебный год\n2023 - 2024    158114\n2022 - 2023    113950\n2021 - 2022     67558\n2020 - 2021     28226\n2019 - 2020      5520\n2018 - 2019      2299\n2024 - 2025       282\n2025 - 2026        37\n2017 - 2018        15\n2026 - 2027         5\n2027 - 2028         1\nName: count, dtype: int64"
     },
     "execution_count": 133,
     "metadata": {},
     "output_type": "execute_result"
    }
   ],
   "source": [
    "data['Учебный год'].value_counts()"
   ],
   "metadata": {
    "collapsed": false,
    "ExecuteTime": {
     "end_time": "2024-05-27T09:49:33.476392Z",
     "start_time": "2024-05-27T09:49:33.463996Z"
    }
   },
   "id": "9b9000a72902695d",
   "execution_count": 133
  },
  {
   "cell_type": "markdown",
   "source": [
    "Удалим данные за будущие года"
   ],
   "metadata": {
    "collapsed": false
   },
   "id": "63f200c15d6c1134"
  },
  {
   "cell_type": "code",
   "outputs": [
    {
     "data": {
      "text/plain": "Учебный год\n2023 - 2024    158114\n2022 - 2023    113950\n2021 - 2022     67558\n2020 - 2021     28226\n2019 - 2020      5520\n2018 - 2019      2299\n2017 - 2018        15\nName: count, dtype: int64"
     },
     "execution_count": 134,
     "metadata": {},
     "output_type": "execute_result"
    }
   ],
   "source": [
    "future_list = ['2024 - 2025', '2025 - 2026', '2026 - 2027', '2027 - 2028']\n",
    "future_index = data[data['Учебный год'].isin(future_list)].index\n",
    "data = data.drop(future_index)\n",
    "data['Учебный год'].value_counts()"
   ],
   "metadata": {
    "collapsed": false,
    "ExecuteTime": {
     "end_time": "2024-05-27T09:49:33.513963Z",
     "start_time": "2024-05-27T09:49:33.476990Z"
    }
   },
   "id": "99ae82bffe65ea01",
   "execution_count": 134
  },
  {
   "cell_type": "code",
   "outputs": [
    {
     "data": {
      "text/plain": "Полугодие\nII полугодие    195684\nI полугодие     179998\nName: count, dtype: int64"
     },
     "execution_count": 135,
     "metadata": {},
     "output_type": "execute_result"
    }
   ],
   "source": [
    "data['Полугодие'].value_counts()"
   ],
   "metadata": {
    "collapsed": false,
    "ExecuteTime": {
     "end_time": "2024-05-27T09:49:33.527516Z",
     "start_time": "2024-05-27T09:49:33.514565Z"
    }
   },
   "id": "b80a23da076065aa",
   "execution_count": 135
  },
  {
   "cell_type": "code",
   "outputs": [
    {
     "data": {
      "text/plain": "Оценка (без пересдач)\nОтлично                 54500\nХорошо                  37402\nзачтено                 34523\nУдовлетворительно       28440\nНеявка                  16339\nНеудовлетворительно     12504\nне зачтено               4840\nНеявка по ув.причине      345\nНе допущен                 13\nName: count, dtype: int64"
     },
     "execution_count": 136,
     "metadata": {},
     "output_type": "execute_result"
    }
   ],
   "source": [
    "data['Оценка (без пересдач)'].value_counts()"
   ],
   "metadata": {
    "collapsed": false,
    "ExecuteTime": {
     "end_time": "2024-05-27T09:49:33.540018Z",
     "start_time": "2024-05-27T09:49:33.529397Z"
    }
   },
   "id": "54b8ac01c57b6326",
   "execution_count": 136
  },
  {
   "cell_type": "code",
   "outputs": [
    {
     "data": {
      "text/plain": "Оценка (успеваемость)\nОтлично                 57818\nУдовлетворительно       44514\nзачтено                 42729\nХорошо                  42694\nНеявка                   5504\nне зачтено               1576\nНеудовлетворительно      1419\nНеявка по ув.причине        9\nНе допущен                  1\nName: count, dtype: int64"
     },
     "execution_count": 137,
     "metadata": {},
     "output_type": "execute_result"
    }
   ],
   "source": [
    "data['Оценка (успеваемость)'].value_counts()"
   ],
   "metadata": {
    "collapsed": false,
    "ExecuteTime": {
     "end_time": "2024-05-27T09:49:33.563625Z",
     "start_time": "2024-05-27T09:49:33.540732Z"
    }
   },
   "id": "e9449f8e770e0481",
   "execution_count": 137
  },
  {
   "cell_type": "markdown",
   "source": [
    "<font size=5>Этап 2. Обработка данных</font>"
   ],
   "metadata": {
    "collapsed": false
   },
   "id": "a3166e329ffbd607"
  },
  {
   "cell_type": "markdown",
   "source": [
    "Переведем оценки в числовой вид.\n",
    "Каждая оценка будет означать балл, который получил студент за экзамен.\n",
    "В дальнейшем будем использовать эти баллы для определения индекса успеваемости студента.\n",
    "\n",
    "Зачет будет оцениваться в 1 балл, если он прошел успешно.\n",
    "Если студент не сдал экзамен - 0 баллов (сюда входит и отсутствие на экзамене)"
   ],
   "metadata": {
    "collapsed": false
   },
   "id": "93270d340e335654"
  },
  {
   "cell_type": "code",
   "outputs": [
    {
     "data": {
      "text/plain": "                               hash  Номер ЛД Уровень подготовки  \\\n0  67a80fffd8d0294a596eda117d7e393c   2010218           Бакалавр   \n1  67a80fffd8d0294a596eda117d7e393c   2010218           Бакалавр   \n2  67a80fffd8d0294a596eda117d7e393c   2010218           Бакалавр   \n3  67a80fffd8d0294a596eda117d7e393c   2010218           Бакалавр   \n4  67a80fffd8d0294a596eda117d7e393c   2010218           Бакалавр   \n\n  Учебная группа             Специальность/направление  Учебный год  \\\n0      БИВТ-20-4  Информатика и вычислительная техника  2020 - 2021   \n1      БИВТ-20-4  Информатика и вычислительная техника  2020 - 2021   \n2      БИВТ-20-4  Информатика и вычислительная техника  2020 - 2021   \n3      БИВТ-20-4  Информатика и вычислительная техника  2020 - 2021   \n4      БИВТ-20-4  Информатика и вычислительная техника  2020 - 2021   \n\n     Полугодие                         Дисциплина  grades     type  \n0  I полугодие    Инженерная компьютерная графика     4.0  экзамен  \n1  I полугодие                   Иностранный язык     3.0  экзамен  \n2  I полугодие                            История     1.0    зачет  \n3  I полугодие                         Математика     4.0  экзамен  \n4  I полугодие  Программирование и алгоритмизация     4.0  экзамен  ",
      "text/html": "<div>\n<style scoped>\n    .dataframe tbody tr th:only-of-type {\n        vertical-align: middle;\n    }\n\n    .dataframe tbody tr th {\n        vertical-align: top;\n    }\n\n    .dataframe thead th {\n        text-align: right;\n    }\n</style>\n<table border=\"1\" class=\"dataframe\">\n  <thead>\n    <tr style=\"text-align: right;\">\n      <th></th>\n      <th>hash</th>\n      <th>Номер ЛД</th>\n      <th>Уровень подготовки</th>\n      <th>Учебная группа</th>\n      <th>Специальность/направление</th>\n      <th>Учебный год</th>\n      <th>Полугодие</th>\n      <th>Дисциплина</th>\n      <th>grades</th>\n      <th>type</th>\n    </tr>\n  </thead>\n  <tbody>\n    <tr>\n      <th>0</th>\n      <td>67a80fffd8d0294a596eda117d7e393c</td>\n      <td>2010218</td>\n      <td>Бакалавр</td>\n      <td>БИВТ-20-4</td>\n      <td>Информатика и вычислительная техника</td>\n      <td>2020 - 2021</td>\n      <td>I полугодие</td>\n      <td>Инженерная компьютерная графика</td>\n      <td>4.0</td>\n      <td>экзамен</td>\n    </tr>\n    <tr>\n      <th>1</th>\n      <td>67a80fffd8d0294a596eda117d7e393c</td>\n      <td>2010218</td>\n      <td>Бакалавр</td>\n      <td>БИВТ-20-4</td>\n      <td>Информатика и вычислительная техника</td>\n      <td>2020 - 2021</td>\n      <td>I полугодие</td>\n      <td>Иностранный язык</td>\n      <td>3.0</td>\n      <td>экзамен</td>\n    </tr>\n    <tr>\n      <th>2</th>\n      <td>67a80fffd8d0294a596eda117d7e393c</td>\n      <td>2010218</td>\n      <td>Бакалавр</td>\n      <td>БИВТ-20-4</td>\n      <td>Информатика и вычислительная техника</td>\n      <td>2020 - 2021</td>\n      <td>I полугодие</td>\n      <td>История</td>\n      <td>1.0</td>\n      <td>зачет</td>\n    </tr>\n    <tr>\n      <th>3</th>\n      <td>67a80fffd8d0294a596eda117d7e393c</td>\n      <td>2010218</td>\n      <td>Бакалавр</td>\n      <td>БИВТ-20-4</td>\n      <td>Информатика и вычислительная техника</td>\n      <td>2020 - 2021</td>\n      <td>I полугодие</td>\n      <td>Математика</td>\n      <td>4.0</td>\n      <td>экзамен</td>\n    </tr>\n    <tr>\n      <th>4</th>\n      <td>67a80fffd8d0294a596eda117d7e393c</td>\n      <td>2010218</td>\n      <td>Бакалавр</td>\n      <td>БИВТ-20-4</td>\n      <td>Информатика и вычислительная техника</td>\n      <td>2020 - 2021</td>\n      <td>I полугодие</td>\n      <td>Программирование и алгоритмизация</td>\n      <td>4.0</td>\n      <td>экзамен</td>\n    </tr>\n  </tbody>\n</table>\n</div>"
     },
     "execution_count": 138,
     "metadata": {},
     "output_type": "execute_result"
    }
   ],
   "source": [
    "grade_to_points = {\n",
    "    \"Отлично\": 5,\n",
    "    \"Хорошо\": 4,\n",
    "    \"Удовлетворительно\": 3,\n",
    "    \"Неудовлетворительно\": 0,\n",
    "    \"зачтено\": 1,\n",
    "    \"не зачтено\": 0,\n",
    "    \"Неявка\": 0,\n",
    "    \"Неявка по ув.причине\": 0,\n",
    "    \"Не допущен\": 0\n",
    "}\n",
    "\n",
    "\n",
    "def exam_type(df: pd.DataFrame):\n",
    "    return df['Оценка (успеваемость)'].map(lambda x: 'зачет' if x in ['зачтено', 'не зачтено'] else 'экзамен')\n",
    "    \n",
    "grade_data = (data\n",
    "              .assign(grades=lambda df: df['Оценка (успеваемость)'].map(grade_to_points),\n",
    "                      type=exam_type)\n",
    "              .drop(['Оценка (без пересдач)', 'Оценка (успеваемость)'], axis=1))\n",
    "grade_data.head()"
   ],
   "metadata": {
    "collapsed": false,
    "ExecuteTime": {
     "end_time": "2024-05-27T09:49:33.707613Z",
     "start_time": "2024-05-27T09:49:33.564303Z"
    }
   },
   "id": "d27cd962b0f97787",
   "execution_count": 138
  },
  {
   "cell_type": "markdown",
   "source": [
    "Во время анализа появилась проблема с интерпретацией пересдач.\n",
    "У некоторых студентов история идеально подходит под понятие пересдачи.\n",
    "Как например 70272 - студент получил неудовлетворительно по математике, а после пересдал. Отсюда можно легко собрать показатель пересдач - сколько раз предмет повторился в семестре (полугодие), а окончательная оценка - наилучшая (в пример 3)."
   ],
   "metadata": {
    "collapsed": false
   },
   "id": "d84261c7644f3bfd"
  },
  {
   "cell_type": "code",
   "outputs": [
    {
     "data": {
      "text/plain": "        Учебный год     Полугодие                    Дисциплина  \\\n156556  2019 - 2020  II полугодие              Иностранный язык   \n156557  2019 - 2020  II полугодие                   Информатика   \n156558  2019 - 2020  II полугодие                       История   \n156559  2019 - 2020  II полугодие  История экономических учений   \n156560  2019 - 2020  II полугодие                    Математика   \n156561  2019 - 2020  II полугодие                    Математика   \n156562  2019 - 2020  II полугодие                Микроэкономика   \n156563  2019 - 2020  II полугодие    Персональная эффективность   \n156564  2019 - 2020  II полугодие                     Философия   \n\n       Оценка (без пересдач) Оценка (успеваемость)  \n156556                   NaN                   NaN  \n156557                   NaN                   NaN  \n156558                   NaN               зачтено  \n156559                   NaN     Удовлетворительно  \n156560                   NaN                   NaN  \n156561                   NaN     Удовлетворительно  \n156562                   NaN     Удовлетворительно  \n156563                   NaN               зачтено  \n156564                   NaN                   NaN  ",
      "text/html": "<div>\n<style scoped>\n    .dataframe tbody tr th:only-of-type {\n        vertical-align: middle;\n    }\n\n    .dataframe tbody tr th {\n        vertical-align: top;\n    }\n\n    .dataframe thead th {\n        text-align: right;\n    }\n</style>\n<table border=\"1\" class=\"dataframe\">\n  <thead>\n    <tr style=\"text-align: right;\">\n      <th></th>\n      <th>Учебный год</th>\n      <th>Полугодие</th>\n      <th>Дисциплина</th>\n      <th>Оценка (без пересдач)</th>\n      <th>Оценка (успеваемость)</th>\n    </tr>\n  </thead>\n  <tbody>\n    <tr>\n      <th>156556</th>\n      <td>2019 - 2020</td>\n      <td>II полугодие</td>\n      <td>Иностранный язык</td>\n      <td>NaN</td>\n      <td>NaN</td>\n    </tr>\n    <tr>\n      <th>156557</th>\n      <td>2019 - 2020</td>\n      <td>II полугодие</td>\n      <td>Информатика</td>\n      <td>NaN</td>\n      <td>NaN</td>\n    </tr>\n    <tr>\n      <th>156558</th>\n      <td>2019 - 2020</td>\n      <td>II полугодие</td>\n      <td>История</td>\n      <td>NaN</td>\n      <td>зачтено</td>\n    </tr>\n    <tr>\n      <th>156559</th>\n      <td>2019 - 2020</td>\n      <td>II полугодие</td>\n      <td>История экономических учений</td>\n      <td>NaN</td>\n      <td>Удовлетворительно</td>\n    </tr>\n    <tr>\n      <th>156560</th>\n      <td>2019 - 2020</td>\n      <td>II полугодие</td>\n      <td>Математика</td>\n      <td>NaN</td>\n      <td>NaN</td>\n    </tr>\n    <tr>\n      <th>156561</th>\n      <td>2019 - 2020</td>\n      <td>II полугодие</td>\n      <td>Математика</td>\n      <td>NaN</td>\n      <td>Удовлетворительно</td>\n    </tr>\n    <tr>\n      <th>156562</th>\n      <td>2019 - 2020</td>\n      <td>II полугодие</td>\n      <td>Микроэкономика</td>\n      <td>NaN</td>\n      <td>Удовлетворительно</td>\n    </tr>\n    <tr>\n      <th>156563</th>\n      <td>2019 - 2020</td>\n      <td>II полугодие</td>\n      <td>Персональная эффективность</td>\n      <td>NaN</td>\n      <td>зачтено</td>\n    </tr>\n    <tr>\n      <th>156564</th>\n      <td>2019 - 2020</td>\n      <td>II полугодие</td>\n      <td>Философия</td>\n      <td>NaN</td>\n      <td>NaN</td>\n    </tr>\n  </tbody>\n</table>\n</div>"
     },
     "execution_count": 139,
     "metadata": {},
     "output_type": "execute_result"
    }
   ],
   "source": [
    "data[data['Номер ЛД'] == 70272].iloc[:9, 5:]"
   ],
   "metadata": {
    "collapsed": false,
    "ExecuteTime": {
     "end_time": "2024-05-27T09:49:33.716106Z",
     "start_time": "2024-05-27T09:49:33.710040Z"
    }
   },
   "id": "65f8861c0995dbf6",
   "execution_count": 139
  },
  {
   "cell_type": "markdown",
   "source": [
    "Но есть другой пример - 2112656.\n",
    "Где результаты словно дублируются."
   ],
   "metadata": {
    "collapsed": false
   },
   "id": "6f00aa607a08ed1f"
  },
  {
   "cell_type": "code",
   "outputs": [
    {
     "data": {
      "text/plain": "                                    hash  Номер ЛД Уровень подготовки  \\\n375475  1179a1580768998448c8b2e07236ddea   2112656            Магистр   \n375476  1179a1580768998448c8b2e07236ddea   2112656            Магистр   \n375477  1179a1580768998448c8b2e07236ddea   2112656            Магистр   \n375478  1179a1580768998448c8b2e07236ddea   2112656            Магистр   \n375479  1179a1580768998448c8b2e07236ddea   2112656            Магистр   \n375480  1179a1580768998448c8b2e07236ddea   2112656            Магистр   \n\n       Учебная группа           Специальность/направление  Учебный год  \\\n375475       МЭЭ-22-1  Электроэнергетика и электротехника  2022 - 2023   \n375476       МЭЭ-22-1  Электроэнергетика и электротехника  2022 - 2023   \n375477       МЭЭ-22-1  Электроэнергетика и электротехника  2022 - 2023   \n375478       МЭЭ-22-1  Электроэнергетика и электротехника  2022 - 2023   \n375479       МЭЭ-22-1  Электроэнергетика и электротехника  2022 - 2023   \n375480       МЭЭ-22-1  Электроэнергетика и электротехника  2022 - 2023   \n\n          Полугодие                       Дисциплина Оценка (без пересдач)  \\\n375475  I полугодие  Дополнительные главы математики               зачтено   \n375476  I полугодие  Дополнительные главы математики            не зачтено   \n375477  I полугодие                 Иностранный язык               зачтено   \n375478  I полугодие                 Иностранный язык            не зачтено   \n375479  I полугодие        Производственная практика                Неявка   \n375480  I полугодие        Производственная практика               Отлично   \n\n       Оценка (успеваемость)  \n375475               зачтено  \n375476               зачтено  \n375477               зачтено  \n375478               зачтено  \n375479               Отлично  \n375480               Отлично  ",
      "text/html": "<div>\n<style scoped>\n    .dataframe tbody tr th:only-of-type {\n        vertical-align: middle;\n    }\n\n    .dataframe tbody tr th {\n        vertical-align: top;\n    }\n\n    .dataframe thead th {\n        text-align: right;\n    }\n</style>\n<table border=\"1\" class=\"dataframe\">\n  <thead>\n    <tr style=\"text-align: right;\">\n      <th></th>\n      <th>hash</th>\n      <th>Номер ЛД</th>\n      <th>Уровень подготовки</th>\n      <th>Учебная группа</th>\n      <th>Специальность/направление</th>\n      <th>Учебный год</th>\n      <th>Полугодие</th>\n      <th>Дисциплина</th>\n      <th>Оценка (без пересдач)</th>\n      <th>Оценка (успеваемость)</th>\n    </tr>\n  </thead>\n  <tbody>\n    <tr>\n      <th>375475</th>\n      <td>1179a1580768998448c8b2e07236ddea</td>\n      <td>2112656</td>\n      <td>Магистр</td>\n      <td>МЭЭ-22-1</td>\n      <td>Электроэнергетика и электротехника</td>\n      <td>2022 - 2023</td>\n      <td>I полугодие</td>\n      <td>Дополнительные главы математики</td>\n      <td>зачтено</td>\n      <td>зачтено</td>\n    </tr>\n    <tr>\n      <th>375476</th>\n      <td>1179a1580768998448c8b2e07236ddea</td>\n      <td>2112656</td>\n      <td>Магистр</td>\n      <td>МЭЭ-22-1</td>\n      <td>Электроэнергетика и электротехника</td>\n      <td>2022 - 2023</td>\n      <td>I полугодие</td>\n      <td>Дополнительные главы математики</td>\n      <td>не зачтено</td>\n      <td>зачтено</td>\n    </tr>\n    <tr>\n      <th>375477</th>\n      <td>1179a1580768998448c8b2e07236ddea</td>\n      <td>2112656</td>\n      <td>Магистр</td>\n      <td>МЭЭ-22-1</td>\n      <td>Электроэнергетика и электротехника</td>\n      <td>2022 - 2023</td>\n      <td>I полугодие</td>\n      <td>Иностранный язык</td>\n      <td>зачтено</td>\n      <td>зачтено</td>\n    </tr>\n    <tr>\n      <th>375478</th>\n      <td>1179a1580768998448c8b2e07236ddea</td>\n      <td>2112656</td>\n      <td>Магистр</td>\n      <td>МЭЭ-22-1</td>\n      <td>Электроэнергетика и электротехника</td>\n      <td>2022 - 2023</td>\n      <td>I полугодие</td>\n      <td>Иностранный язык</td>\n      <td>не зачтено</td>\n      <td>зачтено</td>\n    </tr>\n    <tr>\n      <th>375479</th>\n      <td>1179a1580768998448c8b2e07236ddea</td>\n      <td>2112656</td>\n      <td>Магистр</td>\n      <td>МЭЭ-22-1</td>\n      <td>Электроэнергетика и электротехника</td>\n      <td>2022 - 2023</td>\n      <td>I полугодие</td>\n      <td>Производственная практика</td>\n      <td>Неявка</td>\n      <td>Отлично</td>\n    </tr>\n    <tr>\n      <th>375480</th>\n      <td>1179a1580768998448c8b2e07236ddea</td>\n      <td>2112656</td>\n      <td>Магистр</td>\n      <td>МЭЭ-22-1</td>\n      <td>Электроэнергетика и электротехника</td>\n      <td>2022 - 2023</td>\n      <td>I полугодие</td>\n      <td>Производственная практика</td>\n      <td>Отлично</td>\n      <td>Отлично</td>\n    </tr>\n  </tbody>\n</table>\n</div>"
     },
     "execution_count": 140,
     "metadata": {},
     "output_type": "execute_result"
    }
   ],
   "source": [
    "data[data['Номер ЛД'] == 2112656].head(6)"
   ],
   "metadata": {
    "collapsed": false,
    "ExecuteTime": {
     "end_time": "2024-05-27T09:49:33.722149Z",
     "start_time": "2024-05-27T09:49:33.716847Z"
    }
   },
   "id": "3e4b7be20c31f734",
   "execution_count": 140
  },
  {
   "cell_type": "markdown",
   "source": [
    "Все же попробуем интерпретировать повторение дисциплин в одном семестре, как пересдачу, в иных случаях было бы странно делать дубликат результатов."
   ],
   "metadata": {
    "collapsed": false
   },
   "id": "c719bede88c83daa"
  },
  {
   "cell_type": "markdown",
   "source": [
    "По условию задачи нужно убрать у каждого студента 20% пропусков.\n",
    "\n",
    "Сгруппируем студентов по экзаменам и найдем максимальную оценку, если ее нет, то по экзамену будет NaN). \n",
    "Также найдем сколько раз каждый предмет встретился в семестре."
   ],
   "metadata": {
    "collapsed": false
   },
   "id": "1ad6a2be17f1390b"
  },
  {
   "cell_type": "markdown",
   "source": [],
   "metadata": {
    "collapsed": false
   },
   "id": "309a98094032c08f"
  },
  {
   "cell_type": "code",
   "outputs": [
    {
     "name": "stdout",
     "output_type": "stream",
     "text": [
      "CPU times: user 2.51 s, sys: 80.7 ms, total: 2.59 s\n",
      "Wall time: 2.69 s\n"
     ]
    }
   ],
   "source": [
    "%%time\n",
    "np.random.seed(42)\n",
    "\n",
    "\n",
    "grades_data = (grade_data\n",
    "               .groupby(['Номер ЛД', 'Уровень подготовки', 'Учебная группа',\n",
    "                         'Специальность/направление', 'Учебный год', \n",
    "                         'Полугодие', 'type', 'Дисциплина'])\n",
    "               .agg(repeats=('grades', 'size'),\n",
    "                    grades=('grades', 'max'))\n",
    "               .reset_index())\n",
    "\n",
    "\n",
    "def missing_delete(students: pd.DataFrame, delete_percent: float) -> pd.DataFrame:\n",
    "    \"\"\"\n",
    "    Функция для удаления определенного процента пропусков.\n",
    "    Цикл перебирает каждого студента, находит у него null \n",
    "    и определяет какое количество необходимо удалить.\n",
    "    С помощью рандома выбираются индексы для удаления\n",
    "    и записываются в общий список индексов.\n",
    "    :param students: Датасет студентов;\n",
    "    :param delete_percent: Процент удаленных null;\n",
    "    :return: Датасет студентов с удаленным процентом пропусков\n",
    "    \"\"\"\n",
    "    students_data = students.copy()\n",
    "    all_index_drop = []\n",
    "    \n",
    "    for student_id in students_data['Номер ЛД'].unique():\n",
    "        current_student = students_data[students_data['Номер ЛД'] == student_id]\n",
    "        \n",
    "        missing_grades = current_student[current_student['grades'].isnull()]\n",
    "        subject_num = missing_grades.shape[0]\n",
    "        delete_num = round(subject_num * delete_percent)\n",
    "        \n",
    "        random_indexes = np.random.choice(missing_grades.index, delete_num)\n",
    "        \n",
    "        all_index_drop.extend(random_indexes)\n",
    "    \n",
    "    cleaned_grades_data = (students_data\n",
    "                           .drop(all_index_drop))\n",
    "    \n",
    "    return cleaned_grades_data\n",
    "\n",
    "clear_data = missing_delete(students=grades_data, delete_percent=0.2)"
   ],
   "metadata": {
    "collapsed": false,
    "ExecuteTime": {
     "end_time": "2024-05-27T09:49:36.419651Z",
     "start_time": "2024-05-27T09:49:33.722820Z"
    }
   },
   "id": "7376ab7be37d5928",
   "execution_count": 141
  },
  {
   "cell_type": "markdown",
   "source": [
    "Разделим датасет на отдельные периоды.\n",
    "Пропуски в прошлых семестрах заменил на балл 0 (неудовлетворительно)"
   ],
   "metadata": {
    "collapsed": false
   },
   "id": "fe2da4bc2dfe66b8"
  },
  {
   "cell_type": "code",
   "outputs": [],
   "source": [
    "current_year = clear_data.query('`Учебный год` == \"2023 - 2024\"')\n",
    "previous_year = clear_data.query('`Учебный год` != \"2023 - 2024\"').fillna(0)"
   ],
   "metadata": {
    "collapsed": false,
    "ExecuteTime": {
     "end_time": "2024-05-27T09:49:36.522125Z",
     "start_time": "2024-05-27T09:49:36.420996Z"
    }
   },
   "id": "2bffb18fc9628c20",
   "execution_count": 142
  },
  {
   "cell_type": "code",
   "outputs": [],
   "source": [
    "test_current_year = current_year.query('Полугодие == \"I полугодие\"').fillna(0)\n",
    "predict_current_year = current_year.query('Полугодие == \"II полугодие\"')"
   ],
   "metadata": {
    "collapsed": false,
    "ExecuteTime": {
     "end_time": "2024-05-27T09:49:36.558613Z",
     "start_time": "2024-05-27T09:49:36.523038Z"
    }
   },
   "id": "febdb37733ceb414",
   "execution_count": 143
  },
  {
   "cell_type": "markdown",
   "source": [
    "Теперь необходимо собрать статистику каждого студента по семестрам.\n",
    "Моя идея заключается в определении \"индекса успеваемости\", который способен оценить уровень студента по его экзаменам.\n",
    "\n",
    "Индекс будем находить по формуле:\n",
    "\n",
    "\n",
    "$$\\displaystyle{{performance\\, exam\\, index = \\frac{кол\\!-\\!во\\; эказменов}{кол\\!-\\!во\\; предметов} * \\frac{набранные\\; баллы(экзамены)}{максимальные\\; баллы\\; (зачеты)}}}$$\n",
    "\n",
    "$$\\displaystyle{{максимальные\\; баллы\\; (экзамен) = кол\\!-\\!во\\; экзаменов * 5}}$$\n",
    "\n",
    "$$\\displaystyle{{performance\\, test\\, index = \\frac{кол\\!-\\!во\\; зачетов}{кол\\!-\\!во\\; предметов} * \\frac{набранные\\; баллы(зачеты)}{максимальные\\; баллы\\; (зачеты)}}}$$\n",
    "\n",
    "$$\\displaystyle{{максимальные\\; баллы\\; (зачеты) = кол\\!-\\!во\\; зачетов * 1}}$$\n",
    "\n",
    "<br>\n",
    "<br>\n",
    "\n",
    "$$\\displaystyle{{performance\\, index = performance\\, exam\\, index + performance\\, test\\, index}}$$"
   ],
   "metadata": {
    "collapsed": false
   },
   "id": "5aa877ecc33e7355"
  },
  {
   "cell_type": "markdown",
   "source": [
    "Таким образом, мы можем оценить успеваемость студента от [0, 1]"
   ],
   "metadata": {
    "collapsed": false
   },
   "id": "bc17dc6c410f0a53"
  },
  {
   "cell_type": "markdown",
   "source": [
    "Теперь необходимо обработать датасет, чтобы увидеть историю семестров с точки зрения основных метрик: кол-во пересдач, общее кол-во предметов, индекс успеваемости.\n",
    "\n",
    "Для более удобной работы с периодами обучения переведем их в соответствующий тип данных.\n",
    "Для этого 1 полугодие переведем в 1 декабря, как зимнюю сессию, а 2 полугодие в 1 июня, как летнюю сессию."
   ],
   "metadata": {
    "collapsed": false
   },
   "id": "1d9ff6df84d2ff3"
  },
  {
   "cell_type": "code",
   "outputs": [
    {
     "data": {
      "text/plain": "                                                                                 performance_index  \\\nНомер ЛД Уровень подготовки Учебная группа Специальность/направление period                          \n70272    Бакалавр           БЭК-19-3з      Экономика                 2020-06-01           0.475000   \n                                                                     2021-06-01           0.716667   \n                                                                     2022-06-01           0.581818   \n                                                                     2023-06-01           0.537500   \n100255   Бакалавр           БМН-20-1з      Менеджмент                2020-12-01           0.760000   \n\n                                                                                 repeat_num  \\\nНомер ЛД Уровень подготовки Учебная группа Специальность/направление period                   \n70272    Бакалавр           БЭК-19-3з      Экономика                 2020-06-01           1   \n                                                                     2021-06-01           1   \n                                                                     2022-06-01           1   \n                                                                     2023-06-01           3   \n100255   Бакалавр           БМН-20-1з      Менеджмент                2020-12-01           0   \n\n                                                                                 subject_num  \nНомер ЛД Уровень подготовки Учебная группа Специальность/направление period                   \n70272    Бакалавр           БЭК-19-3з      Экономика                 2020-06-01            8  \n                                                                     2021-06-01           12  \n                                                                     2022-06-01           11  \n                                                                     2023-06-01           16  \n100255   Бакалавр           БМН-20-1з      Менеджмент                2020-12-01            5  ",
      "text/html": "<div>\n<style scoped>\n    .dataframe tbody tr th:only-of-type {\n        vertical-align: middle;\n    }\n\n    .dataframe tbody tr th {\n        vertical-align: top;\n    }\n\n    .dataframe thead th {\n        text-align: right;\n    }\n</style>\n<table border=\"1\" class=\"dataframe\">\n  <thead>\n    <tr style=\"text-align: right;\">\n      <th></th>\n      <th></th>\n      <th></th>\n      <th></th>\n      <th></th>\n      <th>performance_index</th>\n      <th>repeat_num</th>\n      <th>subject_num</th>\n    </tr>\n    <tr>\n      <th>Номер ЛД</th>\n      <th>Уровень подготовки</th>\n      <th>Учебная группа</th>\n      <th>Специальность/направление</th>\n      <th>period</th>\n      <th></th>\n      <th></th>\n      <th></th>\n    </tr>\n  </thead>\n  <tbody>\n    <tr>\n      <th rowspan=\"4\" valign=\"top\">70272</th>\n      <th rowspan=\"4\" valign=\"top\">Бакалавр</th>\n      <th rowspan=\"4\" valign=\"top\">БЭК-19-3з</th>\n      <th rowspan=\"4\" valign=\"top\">Экономика</th>\n      <th>2020-06-01</th>\n      <td>0.475000</td>\n      <td>1</td>\n      <td>8</td>\n    </tr>\n    <tr>\n      <th>2021-06-01</th>\n      <td>0.716667</td>\n      <td>1</td>\n      <td>12</td>\n    </tr>\n    <tr>\n      <th>2022-06-01</th>\n      <td>0.581818</td>\n      <td>1</td>\n      <td>11</td>\n    </tr>\n    <tr>\n      <th>2023-06-01</th>\n      <td>0.537500</td>\n      <td>3</td>\n      <td>16</td>\n    </tr>\n    <tr>\n      <th>100255</th>\n      <th>Бакалавр</th>\n      <th>БМН-20-1з</th>\n      <th>Менеджмент</th>\n      <th>2020-12-01</th>\n      <td>0.760000</td>\n      <td>0</td>\n      <td>5</td>\n    </tr>\n  </tbody>\n</table>\n</div>"
     },
     "execution_count": 144,
     "metadata": {},
     "output_type": "execute_result"
    }
   ],
   "source": [
    "def count_performance(df: pd.DataFrame) -> pd.Series:\n",
    "    \"\"\"\n",
    "    Функция для нахождения коэффициента экзаменов и коэффициента зачетов.\n",
    "    :param df: Датасет со студентами;\n",
    "    :return: Обработанный датасет с индексами экзаменов и коэффициентов\n",
    "    \"\"\"    \n",
    "    subject_coeff = df['subject_unique'] / df['total_subjects']\n",
    "    \n",
    "    max_points = np.where(df['type'] == 'зачет', 1, 5)\n",
    "    grade_coeff = df['total_points'] / (df['subject_unique'] * max_points)\n",
    "    \n",
    "    performance_coef = subject_coeff * grade_coeff\n",
    "    \n",
    "    return performance_coef\n",
    "\n",
    "\n",
    "def metrics_counter(df: pd.DataFrame) -> pd.DataFrame:\n",
    "    \"\"\"\n",
    "    Функция для нахождения основных метрик семестра:\n",
    "    кол-во пересдач, кол-во экзаменов/зачетов, а также\n",
    "    общее кол-во предметов в семестре.\n",
    "    :param df: Датасет со студентами;\n",
    "    :return: Обработанный датасет с основными метриками.\n",
    "    \"\"\"\n",
    "    subject_counter = (df\n",
    "                       .groupby(['Номер ЛД', 'Уровень подготовки',\n",
    "                                 'Учебная группа', 'Специальность/направление', 'period'])\n",
    "                       .agg(total_subjects=('Дисциплина', 'count')))\n",
    "    \n",
    "    metrics_counter =  (df\n",
    "                        .groupby(['Номер ЛД', 'Уровень подготовки', 'Учебная группа', \n",
    "                                  'Специальность/направление', 'period', 'type'])\n",
    "                        .agg(total_points=('grades', 'sum'),\n",
    "                             subject_unique=('Дисциплина', 'nunique'), \n",
    "                             subject_repeat=('repeats', 'sum')))\n",
    "    \n",
    "    return pd.merge(metrics_counter, subject_counter, \n",
    "                     how='outer', left_index=True, right_index=True).reset_index() \n",
    "\n",
    "\n",
    "def convert_period(period_str: str) -> pd.Timestamp:\n",
    "    \"\"\"\n",
    "    Функция для конвертации периода.\n",
    "    Переводит год и полугодие в формате Timestamp.\n",
    "    1 полугодие - зимний семестр, поэтому дата будет 1 декабря\n",
    "    2 полугодие - летний семестр, поэтому дата будет 1 июня\n",
    "    :param period_str: период в формате 'year_start - year_end num_semester'\n",
    "    :return: Timestamp в формате год-12-01 или год-06-01\n",
    "    \"\"\"\n",
    "    period_list = period_str.split()\n",
    "    \n",
    "    year_part = ''.join(period_list[:3])\n",
    "    year_start, year_end = year_part.split('-')\n",
    "\n",
    "    semester_part = ''.join(period_list[3])\n",
    "    \n",
    "    if semester_part == 'I':\n",
    "        return pd.Timestamp(f'{year_start}-12-01') # Зимняя сессия\n",
    "    elif semester_part == 'II':\n",
    "        return pd.Timestamp(f'{year_end}-06-01') # Летняя сессия \n",
    "    \n",
    "    \n",
    "def history_processing(data: pd.DataFrame) -> pd.DataFrame:\n",
    "    \"\"\"\n",
    "    Функция для обработки истории студента.\n",
    "    Ее задача найти метрики семестра: кол-во пересдач, \n",
    "    кол-во предметов и индекс успеваемости\n",
    "    :param data: Датасет со студентами;\n",
    "    :return: Обработанный датасет, где каждая строка \n",
    "    показывает как студент сдал семестр.\n",
    "    \"\"\"\n",
    "    return (data\n",
    "            .assign(period=lambda df: (df['Учебный год'] + ' ' + df['Полугодие']).map(convert_period))\n",
    "            .pipe(metrics_counter)\n",
    "            .assign(repeat_num=lambda df: df['subject_repeat'] - df['subject_unique'],\n",
    "                    type_performance_index=count_performance)\n",
    "            .groupby(['Номер ЛД', 'Уровень подготовки', 'Учебная группа', 'Специальность/направление', 'period'])\n",
    "            .agg(performance_index=('type_performance_index', 'sum'), repeat_num=('repeat_num', 'sum'),\n",
    "                 subject_num=('subject_unique', 'sum')))\n",
    "       \n",
    "    \n",
    "fprevious_year = history_processing(data=previous_year)\n",
    "fprevious_year.head()"
   ],
   "metadata": {
    "collapsed": false,
    "ExecuteTime": {
     "end_time": "2024-05-27T09:49:37.407924Z",
     "start_time": "2024-05-27T09:49:36.559177Z"
    }
   },
   "id": "ba2a903351e25b7e",
   "execution_count": 144
  },
  {
   "cell_type": "code",
   "outputs": [
    {
     "data": {
      "text/plain": "                                                                                 performance_index  \\\nНомер ЛД Уровень подготовки Учебная группа Специальность/направление period                          \n100255   Бакалавр           БМН-20-1з      Менеджмент                2023-12-01           0.800000   \n122905   Бакалавр           БМТ-21-1       Металлургия               2023-12-01           0.400000   \n125428   Специалист         СГД-18-2       Горное дело               2023-12-01           0.733333   \n125738   Специалист         СГД-18-2       Горное дело               2023-12-01           0.600000   \n130264   Бакалавр           БМН-19-1з      Менеджмент                2023-12-01           0.688889   \n\n                                                                                 repeat_num  \\\nНомер ЛД Уровень подготовки Учебная группа Специальность/направление period                   \n100255   Бакалавр           БМН-20-1з      Менеджмент                2023-12-01           0   \n122905   Бакалавр           БМТ-21-1       Металлургия               2023-12-01           0   \n125428   Специалист         СГД-18-2       Горное дело               2023-12-01           0   \n125738   Специалист         СГД-18-2       Горное дело               2023-12-01           1   \n130264   Бакалавр           БМН-19-1з      Менеджмент                2023-12-01           1   \n\n                                                                                 subject_num  \nНомер ЛД Уровень подготовки Учебная группа Специальность/направление period                   \n100255   Бакалавр           БМН-20-1з      Менеджмент                2023-12-01            8  \n122905   Бакалавр           БМТ-21-1       Металлургия               2023-12-01           11  \n125428   Специалист         СГД-18-2       Горное дело               2023-12-01            6  \n125738   Специалист         СГД-18-2       Горное дело               2023-12-01            6  \n130264   Бакалавр           БМН-19-1з      Менеджмент                2023-12-01            9  ",
      "text/html": "<div>\n<style scoped>\n    .dataframe tbody tr th:only-of-type {\n        vertical-align: middle;\n    }\n\n    .dataframe tbody tr th {\n        vertical-align: top;\n    }\n\n    .dataframe thead th {\n        text-align: right;\n    }\n</style>\n<table border=\"1\" class=\"dataframe\">\n  <thead>\n    <tr style=\"text-align: right;\">\n      <th></th>\n      <th></th>\n      <th></th>\n      <th></th>\n      <th></th>\n      <th>performance_index</th>\n      <th>repeat_num</th>\n      <th>subject_num</th>\n    </tr>\n    <tr>\n      <th>Номер ЛД</th>\n      <th>Уровень подготовки</th>\n      <th>Учебная группа</th>\n      <th>Специальность/направление</th>\n      <th>period</th>\n      <th></th>\n      <th></th>\n      <th></th>\n    </tr>\n  </thead>\n  <tbody>\n    <tr>\n      <th>100255</th>\n      <th>Бакалавр</th>\n      <th>БМН-20-1з</th>\n      <th>Менеджмент</th>\n      <th>2023-12-01</th>\n      <td>0.800000</td>\n      <td>0</td>\n      <td>8</td>\n    </tr>\n    <tr>\n      <th>122905</th>\n      <th>Бакалавр</th>\n      <th>БМТ-21-1</th>\n      <th>Металлургия</th>\n      <th>2023-12-01</th>\n      <td>0.400000</td>\n      <td>0</td>\n      <td>11</td>\n    </tr>\n    <tr>\n      <th>125428</th>\n      <th>Специалист</th>\n      <th>СГД-18-2</th>\n      <th>Горное дело</th>\n      <th>2023-12-01</th>\n      <td>0.733333</td>\n      <td>0</td>\n      <td>6</td>\n    </tr>\n    <tr>\n      <th>125738</th>\n      <th>Специалист</th>\n      <th>СГД-18-2</th>\n      <th>Горное дело</th>\n      <th>2023-12-01</th>\n      <td>0.600000</td>\n      <td>1</td>\n      <td>6</td>\n    </tr>\n    <tr>\n      <th>130264</th>\n      <th>Бакалавр</th>\n      <th>БМН-19-1з</th>\n      <th>Менеджмент</th>\n      <th>2023-12-01</th>\n      <td>0.688889</td>\n      <td>1</td>\n      <td>9</td>\n    </tr>\n  </tbody>\n</table>\n</div>"
     },
     "execution_count": 145,
     "metadata": {},
     "output_type": "execute_result"
    }
   ],
   "source": [
    "ftest_current_year = history_processing(data=test_current_year)\n",
    "ftest_current_year.head()"
   ],
   "metadata": {
    "collapsed": false,
    "ExecuteTime": {
     "end_time": "2024-05-27T09:49:37.640113Z",
     "start_time": "2024-05-27T09:49:37.408664Z"
    }
   },
   "id": "396b23e82b04e86d",
   "execution_count": 145
  },
  {
   "cell_type": "markdown",
   "source": [
    "Напишем функцию для отображения динамики индекса успеваемости"
   ],
   "metadata": {
    "collapsed": false
   },
   "id": "30fe7719569684a9"
  },
  {
   "cell_type": "code",
   "outputs": [],
   "source": [
    "import plotly.graph_objects as go\n",
    "\n",
    "\n",
    "def performance_plot(sample_students: pd.DataFrame, \n",
    "                     max_students: int, predicted: bool = False) -> None:\n",
    "    \"\"\"\n",
    "    Функция для отображения динамики индекса успеваемости.\n",
    "    Она способна отображать динамику фактическую и предсказанную.\n",
    "    :param sample_students: Датасет со студентов;\n",
    "    :param max_students: Число студентов для отображения на графике;\n",
    "    :param predicted: Есть предсказанные значения в датасете или нет.\n",
    "    :return: None\n",
    "    \"\"\"\n",
    "    fig = go.Figure()\n",
    "\n",
    "    colors = [\n",
    "        '#AEC6CF', \n",
    "        '#FFB347',  \n",
    "        '#77DD77',  \n",
    "        '#FF6961',\n",
    "        '#CFCFC4', \n",
    "        '#FDFD96', \n",
    "        '#836953', \n",
    "        '#779ECB',  \n",
    "        '#DEA5A4',  \n",
    "        '#B39EB5'\n",
    "    ]\n",
    "\n",
    "    student_ids = sample_students['Номер ЛД'].unique()[:max_students]\n",
    "\n",
    "    for i, student_id in enumerate(student_ids):\n",
    "        student_data = sample_students[sample_students['Номер ЛД'] == student_id]\n",
    "\n",
    "        color = colors[i % len(colors)]\n",
    "\n",
    "        if predicted is True:\n",
    "            real_data = student_data[student_data['real'] == True]\n",
    "            predicted_data = student_data[student_data['real'] == False]\n",
    "            if not real_data.empty:\n",
    "                fig.add_trace(go.Scatter(\n",
    "                    x=real_data['period'],\n",
    "                    y=real_data['performance_index'],\n",
    "                    mode='lines+markers',\n",
    "                    name=f'Student {student_id} (Real)',\n",
    "                    line=dict(color=color)\n",
    "                ))\n",
    "\n",
    "            if not predicted_data.empty:\n",
    "                fig.add_trace(go.Scatter(\n",
    "                    x=predicted_data['period'],\n",
    "                    y=predicted_data['performance_index'],\n",
    "                    mode='markers',\n",
    "                    name=f'Student {student_id} (Predicted)',\n",
    "                    marker=dict(color='purple', symbol='circle', size=10)\n",
    "                ))\n",
    "\n",
    "                if not real_data.empty:\n",
    "                    fig.add_trace(go.Scatter(\n",
    "                        x=[real_data['period'].iloc[-1], predicted_data['period'].iloc[0]],\n",
    "                        y=[real_data['performance_index'].iloc[-1], predicted_data['performance_index'].iloc[0]],\n",
    "                        mode='lines',\n",
    "                        line=dict(color=color, dash='dash'),\n",
    "                        showlegend=False\n",
    "                    ))\n",
    "\n",
    "        else:\n",
    "            fig.add_trace(go.Scatter(\n",
    "                x=student_data['period'],\n",
    "                y=student_data['performance_index'],\n",
    "                mode='lines+markers',\n",
    "                name=f'Student {student_id}',\n",
    "                line=dict(color=color)\n",
    "            ))\n",
    "\n",
    "    fig.update_layout(\n",
    "        title='Индекс успеваемости для выбранных студентов',\n",
    "        xaxis_title='Semester',\n",
    "        yaxis_title='Performance Index',\n",
    "        xaxis=dict(tickangle=-45),\n",
    "        legend_title='Students',\n",
    "    )\n",
    "\n",
    "    fig.show()"
   ],
   "metadata": {
    "collapsed": false,
    "ExecuteTime": {
     "end_time": "2024-05-27T09:49:37.645208Z",
     "start_time": "2024-05-27T09:49:37.640739Z"
    }
   },
   "id": "c084bf376e55d488",
   "execution_count": 146
  },
  {
   "cell_type": "code",
   "outputs": [
    {
     "data": {
      "application/vnd.plotly.v1+json": {
       "data": [
        {
         "line": {
          "color": "#AEC6CF"
         },
         "mode": "lines+markers",
         "name": "Student 70272",
         "x": [
          "2020-06-01T00:00:00",
          "2021-06-01T00:00:00",
          "2022-06-01T00:00:00",
          "2023-06-01T00:00:00"
         ],
         "y": [
          0.475,
          0.7166666666666667,
          0.5818181818181818,
          0.5375
         ],
         "type": "scatter"
        },
        {
         "line": {
          "color": "#FFB347"
         },
         "mode": "lines+markers",
         "name": "Student 100255",
         "x": [
          "2020-12-01T00:00:00",
          "2021-06-01T00:00:00",
          "2021-12-01T00:00:00",
          "2022-06-01T00:00:00",
          "2022-12-01T00:00:00",
          "2023-06-01T00:00:00"
         ],
         "y": [
          0.76,
          0.8799999999999999,
          0.8333333333333333,
          0.5333333333333333,
          0.4,
          0.35555555555555557
         ],
         "type": "scatter"
        },
        {
         "line": {
          "color": "#77DD77"
         },
         "mode": "lines+markers",
         "name": "Student 122905",
         "x": [
          "2021-12-01T00:00:00",
          "2022-06-01T00:00:00",
          "2022-12-01T00:00:00",
          "2023-06-01T00:00:00"
         ],
         "y": [
          0.7666666666666666,
          0.86,
          0.5714285714285714,
          0.55
         ],
         "type": "scatter"
        }
       ],
       "layout": {
        "template": {
         "data": {
          "histogram2dcontour": [
           {
            "type": "histogram2dcontour",
            "colorbar": {
             "outlinewidth": 0,
             "ticks": ""
            },
            "colorscale": [
             [
              0.0,
              "#0d0887"
             ],
             [
              0.1111111111111111,
              "#46039f"
             ],
             [
              0.2222222222222222,
              "#7201a8"
             ],
             [
              0.3333333333333333,
              "#9c179e"
             ],
             [
              0.4444444444444444,
              "#bd3786"
             ],
             [
              0.5555555555555556,
              "#d8576b"
             ],
             [
              0.6666666666666666,
              "#ed7953"
             ],
             [
              0.7777777777777778,
              "#fb9f3a"
             ],
             [
              0.8888888888888888,
              "#fdca26"
             ],
             [
              1.0,
              "#f0f921"
             ]
            ]
           }
          ],
          "choropleth": [
           {
            "type": "choropleth",
            "colorbar": {
             "outlinewidth": 0,
             "ticks": ""
            }
           }
          ],
          "histogram2d": [
           {
            "type": "histogram2d",
            "colorbar": {
             "outlinewidth": 0,
             "ticks": ""
            },
            "colorscale": [
             [
              0.0,
              "#0d0887"
             ],
             [
              0.1111111111111111,
              "#46039f"
             ],
             [
              0.2222222222222222,
              "#7201a8"
             ],
             [
              0.3333333333333333,
              "#9c179e"
             ],
             [
              0.4444444444444444,
              "#bd3786"
             ],
             [
              0.5555555555555556,
              "#d8576b"
             ],
             [
              0.6666666666666666,
              "#ed7953"
             ],
             [
              0.7777777777777778,
              "#fb9f3a"
             ],
             [
              0.8888888888888888,
              "#fdca26"
             ],
             [
              1.0,
              "#f0f921"
             ]
            ]
           }
          ],
          "heatmap": [
           {
            "type": "heatmap",
            "colorbar": {
             "outlinewidth": 0,
             "ticks": ""
            },
            "colorscale": [
             [
              0.0,
              "#0d0887"
             ],
             [
              0.1111111111111111,
              "#46039f"
             ],
             [
              0.2222222222222222,
              "#7201a8"
             ],
             [
              0.3333333333333333,
              "#9c179e"
             ],
             [
              0.4444444444444444,
              "#bd3786"
             ],
             [
              0.5555555555555556,
              "#d8576b"
             ],
             [
              0.6666666666666666,
              "#ed7953"
             ],
             [
              0.7777777777777778,
              "#fb9f3a"
             ],
             [
              0.8888888888888888,
              "#fdca26"
             ],
             [
              1.0,
              "#f0f921"
             ]
            ]
           }
          ],
          "heatmapgl": [
           {
            "type": "heatmapgl",
            "colorbar": {
             "outlinewidth": 0,
             "ticks": ""
            },
            "colorscale": [
             [
              0.0,
              "#0d0887"
             ],
             [
              0.1111111111111111,
              "#46039f"
             ],
             [
              0.2222222222222222,
              "#7201a8"
             ],
             [
              0.3333333333333333,
              "#9c179e"
             ],
             [
              0.4444444444444444,
              "#bd3786"
             ],
             [
              0.5555555555555556,
              "#d8576b"
             ],
             [
              0.6666666666666666,
              "#ed7953"
             ],
             [
              0.7777777777777778,
              "#fb9f3a"
             ],
             [
              0.8888888888888888,
              "#fdca26"
             ],
             [
              1.0,
              "#f0f921"
             ]
            ]
           }
          ],
          "contourcarpet": [
           {
            "type": "contourcarpet",
            "colorbar": {
             "outlinewidth": 0,
             "ticks": ""
            }
           }
          ],
          "contour": [
           {
            "type": "contour",
            "colorbar": {
             "outlinewidth": 0,
             "ticks": ""
            },
            "colorscale": [
             [
              0.0,
              "#0d0887"
             ],
             [
              0.1111111111111111,
              "#46039f"
             ],
             [
              0.2222222222222222,
              "#7201a8"
             ],
             [
              0.3333333333333333,
              "#9c179e"
             ],
             [
              0.4444444444444444,
              "#bd3786"
             ],
             [
              0.5555555555555556,
              "#d8576b"
             ],
             [
              0.6666666666666666,
              "#ed7953"
             ],
             [
              0.7777777777777778,
              "#fb9f3a"
             ],
             [
              0.8888888888888888,
              "#fdca26"
             ],
             [
              1.0,
              "#f0f921"
             ]
            ]
           }
          ],
          "surface": [
           {
            "type": "surface",
            "colorbar": {
             "outlinewidth": 0,
             "ticks": ""
            },
            "colorscale": [
             [
              0.0,
              "#0d0887"
             ],
             [
              0.1111111111111111,
              "#46039f"
             ],
             [
              0.2222222222222222,
              "#7201a8"
             ],
             [
              0.3333333333333333,
              "#9c179e"
             ],
             [
              0.4444444444444444,
              "#bd3786"
             ],
             [
              0.5555555555555556,
              "#d8576b"
             ],
             [
              0.6666666666666666,
              "#ed7953"
             ],
             [
              0.7777777777777778,
              "#fb9f3a"
             ],
             [
              0.8888888888888888,
              "#fdca26"
             ],
             [
              1.0,
              "#f0f921"
             ]
            ]
           }
          ],
          "mesh3d": [
           {
            "type": "mesh3d",
            "colorbar": {
             "outlinewidth": 0,
             "ticks": ""
            }
           }
          ],
          "scatter": [
           {
            "marker": {
             "line": {
              "color": "#283442"
             }
            },
            "type": "scatter"
           }
          ],
          "parcoords": [
           {
            "type": "parcoords",
            "line": {
             "colorbar": {
              "outlinewidth": 0,
              "ticks": ""
             }
            }
           }
          ],
          "scatterpolargl": [
           {
            "type": "scatterpolargl",
            "marker": {
             "colorbar": {
              "outlinewidth": 0,
              "ticks": ""
             }
            }
           }
          ],
          "bar": [
           {
            "error_x": {
             "color": "#f2f5fa"
            },
            "error_y": {
             "color": "#f2f5fa"
            },
            "marker": {
             "line": {
              "color": "rgb(17,17,17)",
              "width": 0.5
             },
             "pattern": {
              "fillmode": "overlay",
              "size": 10,
              "solidity": 0.2
             }
            },
            "type": "bar"
           }
          ],
          "scattergeo": [
           {
            "type": "scattergeo",
            "marker": {
             "colorbar": {
              "outlinewidth": 0,
              "ticks": ""
             }
            }
           }
          ],
          "scatterpolar": [
           {
            "type": "scatterpolar",
            "marker": {
             "colorbar": {
              "outlinewidth": 0,
              "ticks": ""
             }
            }
           }
          ],
          "histogram": [
           {
            "marker": {
             "pattern": {
              "fillmode": "overlay",
              "size": 10,
              "solidity": 0.2
             }
            },
            "type": "histogram"
           }
          ],
          "scattergl": [
           {
            "marker": {
             "line": {
              "color": "#283442"
             }
            },
            "type": "scattergl"
           }
          ],
          "scatter3d": [
           {
            "type": "scatter3d",
            "line": {
             "colorbar": {
              "outlinewidth": 0,
              "ticks": ""
             }
            },
            "marker": {
             "colorbar": {
              "outlinewidth": 0,
              "ticks": ""
             }
            }
           }
          ],
          "scattermapbox": [
           {
            "type": "scattermapbox",
            "marker": {
             "colorbar": {
              "outlinewidth": 0,
              "ticks": ""
             }
            }
           }
          ],
          "scatterternary": [
           {
            "type": "scatterternary",
            "marker": {
             "colorbar": {
              "outlinewidth": 0,
              "ticks": ""
             }
            }
           }
          ],
          "scattercarpet": [
           {
            "type": "scattercarpet",
            "marker": {
             "colorbar": {
              "outlinewidth": 0,
              "ticks": ""
             }
            }
           }
          ],
          "carpet": [
           {
            "aaxis": {
             "endlinecolor": "#A2B1C6",
             "gridcolor": "#506784",
             "linecolor": "#506784",
             "minorgridcolor": "#506784",
             "startlinecolor": "#A2B1C6"
            },
            "baxis": {
             "endlinecolor": "#A2B1C6",
             "gridcolor": "#506784",
             "linecolor": "#506784",
             "minorgridcolor": "#506784",
             "startlinecolor": "#A2B1C6"
            },
            "type": "carpet"
           }
          ],
          "table": [
           {
            "cells": {
             "fill": {
              "color": "#506784"
             },
             "line": {
              "color": "rgb(17,17,17)"
             }
            },
            "header": {
             "fill": {
              "color": "#2a3f5f"
             },
             "line": {
              "color": "rgb(17,17,17)"
             }
            },
            "type": "table"
           }
          ],
          "barpolar": [
           {
            "marker": {
             "line": {
              "color": "rgb(17,17,17)",
              "width": 0.5
             },
             "pattern": {
              "fillmode": "overlay",
              "size": 10,
              "solidity": 0.2
             }
            },
            "type": "barpolar"
           }
          ],
          "pie": [
           {
            "automargin": true,
            "type": "pie"
           }
          ]
         },
         "layout": {
          "autotypenumbers": "strict",
          "colorway": [
           "#636efa",
           "#EF553B",
           "#00cc96",
           "#ab63fa",
           "#FFA15A",
           "#19d3f3",
           "#FF6692",
           "#B6E880",
           "#FF97FF",
           "#FECB52"
          ],
          "font": {
           "color": "#f2f5fa"
          },
          "hovermode": "closest",
          "hoverlabel": {
           "align": "left"
          },
          "paper_bgcolor": "rgb(17,17,17)",
          "plot_bgcolor": "rgb(17,17,17)",
          "polar": {
           "bgcolor": "rgb(17,17,17)",
           "angularaxis": {
            "gridcolor": "#506784",
            "linecolor": "#506784",
            "ticks": ""
           },
           "radialaxis": {
            "gridcolor": "#506784",
            "linecolor": "#506784",
            "ticks": ""
           }
          },
          "ternary": {
           "bgcolor": "rgb(17,17,17)",
           "aaxis": {
            "gridcolor": "#506784",
            "linecolor": "#506784",
            "ticks": ""
           },
           "baxis": {
            "gridcolor": "#506784",
            "linecolor": "#506784",
            "ticks": ""
           },
           "caxis": {
            "gridcolor": "#506784",
            "linecolor": "#506784",
            "ticks": ""
           }
          },
          "coloraxis": {
           "colorbar": {
            "outlinewidth": 0,
            "ticks": ""
           }
          },
          "colorscale": {
           "sequential": [
            [
             0.0,
             "#0d0887"
            ],
            [
             0.1111111111111111,
             "#46039f"
            ],
            [
             0.2222222222222222,
             "#7201a8"
            ],
            [
             0.3333333333333333,
             "#9c179e"
            ],
            [
             0.4444444444444444,
             "#bd3786"
            ],
            [
             0.5555555555555556,
             "#d8576b"
            ],
            [
             0.6666666666666666,
             "#ed7953"
            ],
            [
             0.7777777777777778,
             "#fb9f3a"
            ],
            [
             0.8888888888888888,
             "#fdca26"
            ],
            [
             1.0,
             "#f0f921"
            ]
           ],
           "sequentialminus": [
            [
             0.0,
             "#0d0887"
            ],
            [
             0.1111111111111111,
             "#46039f"
            ],
            [
             0.2222222222222222,
             "#7201a8"
            ],
            [
             0.3333333333333333,
             "#9c179e"
            ],
            [
             0.4444444444444444,
             "#bd3786"
            ],
            [
             0.5555555555555556,
             "#d8576b"
            ],
            [
             0.6666666666666666,
             "#ed7953"
            ],
            [
             0.7777777777777778,
             "#fb9f3a"
            ],
            [
             0.8888888888888888,
             "#fdca26"
            ],
            [
             1.0,
             "#f0f921"
            ]
           ],
           "diverging": [
            [
             0,
             "#8e0152"
            ],
            [
             0.1,
             "#c51b7d"
            ],
            [
             0.2,
             "#de77ae"
            ],
            [
             0.3,
             "#f1b6da"
            ],
            [
             0.4,
             "#fde0ef"
            ],
            [
             0.5,
             "#f7f7f7"
            ],
            [
             0.6,
             "#e6f5d0"
            ],
            [
             0.7,
             "#b8e186"
            ],
            [
             0.8,
             "#7fbc41"
            ],
            [
             0.9,
             "#4d9221"
            ],
            [
             1,
             "#276419"
            ]
           ]
          },
          "xaxis": {
           "gridcolor": "#283442",
           "linecolor": "#506784",
           "ticks": "",
           "title": {
            "standoff": 15
           },
           "zerolinecolor": "#283442",
           "automargin": true,
           "zerolinewidth": 2
          },
          "yaxis": {
           "gridcolor": "#283442",
           "linecolor": "#506784",
           "ticks": "",
           "title": {
            "standoff": 15
           },
           "zerolinecolor": "#283442",
           "automargin": true,
           "zerolinewidth": 2
          },
          "scene": {
           "xaxis": {
            "backgroundcolor": "rgb(17,17,17)",
            "gridcolor": "#506784",
            "linecolor": "#506784",
            "showbackground": true,
            "ticks": "",
            "zerolinecolor": "#C8D4E3",
            "gridwidth": 2
           },
           "yaxis": {
            "backgroundcolor": "rgb(17,17,17)",
            "gridcolor": "#506784",
            "linecolor": "#506784",
            "showbackground": true,
            "ticks": "",
            "zerolinecolor": "#C8D4E3",
            "gridwidth": 2
           },
           "zaxis": {
            "backgroundcolor": "rgb(17,17,17)",
            "gridcolor": "#506784",
            "linecolor": "#506784",
            "showbackground": true,
            "ticks": "",
            "zerolinecolor": "#C8D4E3",
            "gridwidth": 2
           }
          },
          "shapedefaults": {
           "line": {
            "color": "#f2f5fa"
           }
          },
          "annotationdefaults": {
           "arrowcolor": "#f2f5fa",
           "arrowhead": 0,
           "arrowwidth": 1
          },
          "geo": {
           "bgcolor": "rgb(17,17,17)",
           "landcolor": "rgb(17,17,17)",
           "subunitcolor": "#506784",
           "showland": true,
           "showlakes": true,
           "lakecolor": "rgb(17,17,17)"
          },
          "title": {
           "x": 0.05
          },
          "updatemenudefaults": {
           "bgcolor": "#506784",
           "borderwidth": 0
          },
          "sliderdefaults": {
           "bgcolor": "#C8D4E3",
           "borderwidth": 1,
           "bordercolor": "rgb(17,17,17)",
           "tickwidth": 0
          },
          "mapbox": {
           "style": "dark"
          }
         }
        },
        "xaxis": {
         "title": {
          "text": "Semester"
         },
         "tickangle": -45
        },
        "title": {
         "text": "Индекс успеваемости для выбранных студентов"
        },
        "yaxis": {
         "title": {
          "text": "Performance Index"
         }
        },
        "legend": {
         "title": {
          "text": "Students"
         }
        }
       },
       "config": {
        "plotlyServerURL": "https://plot.ly"
       }
      },
      "text/html": "<div>                            <div id=\"6615af05-a4a3-4f0d-87f7-20d9c38aee19\" class=\"plotly-graph-div\" style=\"height:525px; width:100%;\"></div>            <script type=\"text/javascript\">                require([\"plotly\"], function(Plotly) {                    window.PLOTLYENV=window.PLOTLYENV || {};                                    if (document.getElementById(\"6615af05-a4a3-4f0d-87f7-20d9c38aee19\")) {                    Plotly.newPlot(                        \"6615af05-a4a3-4f0d-87f7-20d9c38aee19\",                        [{\"line\":{\"color\":\"#AEC6CF\"},\"mode\":\"lines+markers\",\"name\":\"Student 70272\",\"x\":[\"2020-06-01T00:00:00\",\"2021-06-01T00:00:00\",\"2022-06-01T00:00:00\",\"2023-06-01T00:00:00\"],\"y\":[0.475,0.7166666666666667,0.5818181818181818,0.5375],\"type\":\"scatter\"},{\"line\":{\"color\":\"#FFB347\"},\"mode\":\"lines+markers\",\"name\":\"Student 100255\",\"x\":[\"2020-12-01T00:00:00\",\"2021-06-01T00:00:00\",\"2021-12-01T00:00:00\",\"2022-06-01T00:00:00\",\"2022-12-01T00:00:00\",\"2023-06-01T00:00:00\"],\"y\":[0.76,0.8799999999999999,0.8333333333333333,0.5333333333333333,0.4,0.35555555555555557],\"type\":\"scatter\"},{\"line\":{\"color\":\"#77DD77\"},\"mode\":\"lines+markers\",\"name\":\"Student 122905\",\"x\":[\"2021-12-01T00:00:00\",\"2022-06-01T00:00:00\",\"2022-12-01T00:00:00\",\"2023-06-01T00:00:00\"],\"y\":[0.7666666666666666,0.86,0.5714285714285714,0.55],\"type\":\"scatter\"}],                        {\"template\":{\"data\":{\"histogram2dcontour\":[{\"type\":\"histogram2dcontour\",\"colorbar\":{\"outlinewidth\":0,\"ticks\":\"\"},\"colorscale\":[[0.0,\"#0d0887\"],[0.1111111111111111,\"#46039f\"],[0.2222222222222222,\"#7201a8\"],[0.3333333333333333,\"#9c179e\"],[0.4444444444444444,\"#bd3786\"],[0.5555555555555556,\"#d8576b\"],[0.6666666666666666,\"#ed7953\"],[0.7777777777777778,\"#fb9f3a\"],[0.8888888888888888,\"#fdca26\"],[1.0,\"#f0f921\"]]}],\"choropleth\":[{\"type\":\"choropleth\",\"colorbar\":{\"outlinewidth\":0,\"ticks\":\"\"}}],\"histogram2d\":[{\"type\":\"histogram2d\",\"colorbar\":{\"outlinewidth\":0,\"ticks\":\"\"},\"colorscale\":[[0.0,\"#0d0887\"],[0.1111111111111111,\"#46039f\"],[0.2222222222222222,\"#7201a8\"],[0.3333333333333333,\"#9c179e\"],[0.4444444444444444,\"#bd3786\"],[0.5555555555555556,\"#d8576b\"],[0.6666666666666666,\"#ed7953\"],[0.7777777777777778,\"#fb9f3a\"],[0.8888888888888888,\"#fdca26\"],[1.0,\"#f0f921\"]]}],\"heatmap\":[{\"type\":\"heatmap\",\"colorbar\":{\"outlinewidth\":0,\"ticks\":\"\"},\"colorscale\":[[0.0,\"#0d0887\"],[0.1111111111111111,\"#46039f\"],[0.2222222222222222,\"#7201a8\"],[0.3333333333333333,\"#9c179e\"],[0.4444444444444444,\"#bd3786\"],[0.5555555555555556,\"#d8576b\"],[0.6666666666666666,\"#ed7953\"],[0.7777777777777778,\"#fb9f3a\"],[0.8888888888888888,\"#fdca26\"],[1.0,\"#f0f921\"]]}],\"heatmapgl\":[{\"type\":\"heatmapgl\",\"colorbar\":{\"outlinewidth\":0,\"ticks\":\"\"},\"colorscale\":[[0.0,\"#0d0887\"],[0.1111111111111111,\"#46039f\"],[0.2222222222222222,\"#7201a8\"],[0.3333333333333333,\"#9c179e\"],[0.4444444444444444,\"#bd3786\"],[0.5555555555555556,\"#d8576b\"],[0.6666666666666666,\"#ed7953\"],[0.7777777777777778,\"#fb9f3a\"],[0.8888888888888888,\"#fdca26\"],[1.0,\"#f0f921\"]]}],\"contourcarpet\":[{\"type\":\"contourcarpet\",\"colorbar\":{\"outlinewidth\":0,\"ticks\":\"\"}}],\"contour\":[{\"type\":\"contour\",\"colorbar\":{\"outlinewidth\":0,\"ticks\":\"\"},\"colorscale\":[[0.0,\"#0d0887\"],[0.1111111111111111,\"#46039f\"],[0.2222222222222222,\"#7201a8\"],[0.3333333333333333,\"#9c179e\"],[0.4444444444444444,\"#bd3786\"],[0.5555555555555556,\"#d8576b\"],[0.6666666666666666,\"#ed7953\"],[0.7777777777777778,\"#fb9f3a\"],[0.8888888888888888,\"#fdca26\"],[1.0,\"#f0f921\"]]}],\"surface\":[{\"type\":\"surface\",\"colorbar\":{\"outlinewidth\":0,\"ticks\":\"\"},\"colorscale\":[[0.0,\"#0d0887\"],[0.1111111111111111,\"#46039f\"],[0.2222222222222222,\"#7201a8\"],[0.3333333333333333,\"#9c179e\"],[0.4444444444444444,\"#bd3786\"],[0.5555555555555556,\"#d8576b\"],[0.6666666666666666,\"#ed7953\"],[0.7777777777777778,\"#fb9f3a\"],[0.8888888888888888,\"#fdca26\"],[1.0,\"#f0f921\"]]}],\"mesh3d\":[{\"type\":\"mesh3d\",\"colorbar\":{\"outlinewidth\":0,\"ticks\":\"\"}}],\"scatter\":[{\"marker\":{\"line\":{\"color\":\"#283442\"}},\"type\":\"scatter\"}],\"parcoords\":[{\"type\":\"parcoords\",\"line\":{\"colorbar\":{\"outlinewidth\":0,\"ticks\":\"\"}}}],\"scatterpolargl\":[{\"type\":\"scatterpolargl\",\"marker\":{\"colorbar\":{\"outlinewidth\":0,\"ticks\":\"\"}}}],\"bar\":[{\"error_x\":{\"color\":\"#f2f5fa\"},\"error_y\":{\"color\":\"#f2f5fa\"},\"marker\":{\"line\":{\"color\":\"rgb(17,17,17)\",\"width\":0.5},\"pattern\":{\"fillmode\":\"overlay\",\"size\":10,\"solidity\":0.2}},\"type\":\"bar\"}],\"scattergeo\":[{\"type\":\"scattergeo\",\"marker\":{\"colorbar\":{\"outlinewidth\":0,\"ticks\":\"\"}}}],\"scatterpolar\":[{\"type\":\"scatterpolar\",\"marker\":{\"colorbar\":{\"outlinewidth\":0,\"ticks\":\"\"}}}],\"histogram\":[{\"marker\":{\"pattern\":{\"fillmode\":\"overlay\",\"size\":10,\"solidity\":0.2}},\"type\":\"histogram\"}],\"scattergl\":[{\"marker\":{\"line\":{\"color\":\"#283442\"}},\"type\":\"scattergl\"}],\"scatter3d\":[{\"type\":\"scatter3d\",\"line\":{\"colorbar\":{\"outlinewidth\":0,\"ticks\":\"\"}},\"marker\":{\"colorbar\":{\"outlinewidth\":0,\"ticks\":\"\"}}}],\"scattermapbox\":[{\"type\":\"scattermapbox\",\"marker\":{\"colorbar\":{\"outlinewidth\":0,\"ticks\":\"\"}}}],\"scatterternary\":[{\"type\":\"scatterternary\",\"marker\":{\"colorbar\":{\"outlinewidth\":0,\"ticks\":\"\"}}}],\"scattercarpet\":[{\"type\":\"scattercarpet\",\"marker\":{\"colorbar\":{\"outlinewidth\":0,\"ticks\":\"\"}}}],\"carpet\":[{\"aaxis\":{\"endlinecolor\":\"#A2B1C6\",\"gridcolor\":\"#506784\",\"linecolor\":\"#506784\",\"minorgridcolor\":\"#506784\",\"startlinecolor\":\"#A2B1C6\"},\"baxis\":{\"endlinecolor\":\"#A2B1C6\",\"gridcolor\":\"#506784\",\"linecolor\":\"#506784\",\"minorgridcolor\":\"#506784\",\"startlinecolor\":\"#A2B1C6\"},\"type\":\"carpet\"}],\"table\":[{\"cells\":{\"fill\":{\"color\":\"#506784\"},\"line\":{\"color\":\"rgb(17,17,17)\"}},\"header\":{\"fill\":{\"color\":\"#2a3f5f\"},\"line\":{\"color\":\"rgb(17,17,17)\"}},\"type\":\"table\"}],\"barpolar\":[{\"marker\":{\"line\":{\"color\":\"rgb(17,17,17)\",\"width\":0.5},\"pattern\":{\"fillmode\":\"overlay\",\"size\":10,\"solidity\":0.2}},\"type\":\"barpolar\"}],\"pie\":[{\"automargin\":true,\"type\":\"pie\"}]},\"layout\":{\"autotypenumbers\":\"strict\",\"colorway\":[\"#636efa\",\"#EF553B\",\"#00cc96\",\"#ab63fa\",\"#FFA15A\",\"#19d3f3\",\"#FF6692\",\"#B6E880\",\"#FF97FF\",\"#FECB52\"],\"font\":{\"color\":\"#f2f5fa\"},\"hovermode\":\"closest\",\"hoverlabel\":{\"align\":\"left\"},\"paper_bgcolor\":\"rgb(17,17,17)\",\"plot_bgcolor\":\"rgb(17,17,17)\",\"polar\":{\"bgcolor\":\"rgb(17,17,17)\",\"angularaxis\":{\"gridcolor\":\"#506784\",\"linecolor\":\"#506784\",\"ticks\":\"\"},\"radialaxis\":{\"gridcolor\":\"#506784\",\"linecolor\":\"#506784\",\"ticks\":\"\"}},\"ternary\":{\"bgcolor\":\"rgb(17,17,17)\",\"aaxis\":{\"gridcolor\":\"#506784\",\"linecolor\":\"#506784\",\"ticks\":\"\"},\"baxis\":{\"gridcolor\":\"#506784\",\"linecolor\":\"#506784\",\"ticks\":\"\"},\"caxis\":{\"gridcolor\":\"#506784\",\"linecolor\":\"#506784\",\"ticks\":\"\"}},\"coloraxis\":{\"colorbar\":{\"outlinewidth\":0,\"ticks\":\"\"}},\"colorscale\":{\"sequential\":[[0.0,\"#0d0887\"],[0.1111111111111111,\"#46039f\"],[0.2222222222222222,\"#7201a8\"],[0.3333333333333333,\"#9c179e\"],[0.4444444444444444,\"#bd3786\"],[0.5555555555555556,\"#d8576b\"],[0.6666666666666666,\"#ed7953\"],[0.7777777777777778,\"#fb9f3a\"],[0.8888888888888888,\"#fdca26\"],[1.0,\"#f0f921\"]],\"sequentialminus\":[[0.0,\"#0d0887\"],[0.1111111111111111,\"#46039f\"],[0.2222222222222222,\"#7201a8\"],[0.3333333333333333,\"#9c179e\"],[0.4444444444444444,\"#bd3786\"],[0.5555555555555556,\"#d8576b\"],[0.6666666666666666,\"#ed7953\"],[0.7777777777777778,\"#fb9f3a\"],[0.8888888888888888,\"#fdca26\"],[1.0,\"#f0f921\"]],\"diverging\":[[0,\"#8e0152\"],[0.1,\"#c51b7d\"],[0.2,\"#de77ae\"],[0.3,\"#f1b6da\"],[0.4,\"#fde0ef\"],[0.5,\"#f7f7f7\"],[0.6,\"#e6f5d0\"],[0.7,\"#b8e186\"],[0.8,\"#7fbc41\"],[0.9,\"#4d9221\"],[1,\"#276419\"]]},\"xaxis\":{\"gridcolor\":\"#283442\",\"linecolor\":\"#506784\",\"ticks\":\"\",\"title\":{\"standoff\":15},\"zerolinecolor\":\"#283442\",\"automargin\":true,\"zerolinewidth\":2},\"yaxis\":{\"gridcolor\":\"#283442\",\"linecolor\":\"#506784\",\"ticks\":\"\",\"title\":{\"standoff\":15},\"zerolinecolor\":\"#283442\",\"automargin\":true,\"zerolinewidth\":2},\"scene\":{\"xaxis\":{\"backgroundcolor\":\"rgb(17,17,17)\",\"gridcolor\":\"#506784\",\"linecolor\":\"#506784\",\"showbackground\":true,\"ticks\":\"\",\"zerolinecolor\":\"#C8D4E3\",\"gridwidth\":2},\"yaxis\":{\"backgroundcolor\":\"rgb(17,17,17)\",\"gridcolor\":\"#506784\",\"linecolor\":\"#506784\",\"showbackground\":true,\"ticks\":\"\",\"zerolinecolor\":\"#C8D4E3\",\"gridwidth\":2},\"zaxis\":{\"backgroundcolor\":\"rgb(17,17,17)\",\"gridcolor\":\"#506784\",\"linecolor\":\"#506784\",\"showbackground\":true,\"ticks\":\"\",\"zerolinecolor\":\"#C8D4E3\",\"gridwidth\":2}},\"shapedefaults\":{\"line\":{\"color\":\"#f2f5fa\"}},\"annotationdefaults\":{\"arrowcolor\":\"#f2f5fa\",\"arrowhead\":0,\"arrowwidth\":1},\"geo\":{\"bgcolor\":\"rgb(17,17,17)\",\"landcolor\":\"rgb(17,17,17)\",\"subunitcolor\":\"#506784\",\"showland\":true,\"showlakes\":true,\"lakecolor\":\"rgb(17,17,17)\"},\"title\":{\"x\":0.05},\"updatemenudefaults\":{\"bgcolor\":\"#506784\",\"borderwidth\":0},\"sliderdefaults\":{\"bgcolor\":\"#C8D4E3\",\"borderwidth\":1,\"bordercolor\":\"rgb(17,17,17)\",\"tickwidth\":0},\"mapbox\":{\"style\":\"dark\"}}},\"xaxis\":{\"title\":{\"text\":\"Semester\"},\"tickangle\":-45},\"title\":{\"text\":\"\\u0418\\u043d\\u0434\\u0435\\u043a\\u0441 \\u0443\\u0441\\u043f\\u0435\\u0432\\u0430\\u0435\\u043c\\u043e\\u0441\\u0442\\u0438 \\u0434\\u043b\\u044f \\u0432\\u044b\\u0431\\u0440\\u0430\\u043d\\u043d\\u044b\\u0445 \\u0441\\u0442\\u0443\\u0434\\u0435\\u043d\\u0442\\u043e\\u0432\"},\"yaxis\":{\"title\":{\"text\":\"Performance Index\"}},\"legend\":{\"title\":{\"text\":\"Students\"}}},                        {\"responsive\": true}                    ).then(function(){\n                            \nvar gd = document.getElementById('6615af05-a4a3-4f0d-87f7-20d9c38aee19');\nvar x = new MutationObserver(function (mutations, observer) {{\n        var display = window.getComputedStyle(gd).display;\n        if (!display || display === 'none') {{\n            console.log([gd, 'removed!']);\n            Plotly.purge(gd);\n            observer.disconnect();\n        }}\n}});\n\n// Listen for the removal of the full notebook cells\nvar notebookContainer = gd.closest('#notebook-container');\nif (notebookContainer) {{\n    x.observe(notebookContainer, {childList: true});\n}}\n\n// Listen for the clearing of the current output cell\nvar outputEl = gd.closest('.output');\nif (outputEl) {{\n    x.observe(outputEl, {childList: true});\n}}\n\n                        })                };                });            </script>        </div>"
     },
     "metadata": {},
     "output_type": "display_data"
    }
   ],
   "source": [
    "rfprevious_year = fprevious_year.reset_index()\n",
    "performance_plot(sample_students=rfprevious_year, max_students=3)"
   ],
   "metadata": {
    "collapsed": false,
    "ExecuteTime": {
     "end_time": "2024-05-27T09:49:37.655527Z",
     "start_time": "2024-05-27T09:49:37.645980Z"
    }
   },
   "id": "727482f25f11b86e",
   "execution_count": 147
  },
  {
   "cell_type": "markdown",
   "source": [
    "<font size=5>Этап 3. Создание и Обучение модели</font>"
   ],
   "metadata": {
    "collapsed": false
   },
   "id": "2b31c0bea17bbbdb"
  },
  {
   "cell_type": "markdown",
   "source": [
    "Первое о чем я подумал - сделать предсказание на основе временного ряда.\n",
    "То есть взять период семестров, индекс успеваемости и делать предсказания на следующий семестр."
   ],
   "metadata": {
    "collapsed": false
   },
   "id": "bcb2e104ac099dd4"
  },
  {
   "cell_type": "markdown",
   "source": [
    "<font size=4>Предсказание индекса успеваемости на основе временного ряда. sktime</font>"
   ],
   "metadata": {
    "collapsed": false
   },
   "id": "3bbf6d96c25ddb93"
  },
  {
   "cell_type": "code",
   "outputs": [],
   "source": [
    "from sktime.split import temporal_train_test_split\n",
    "from sktime.forecasting.compose import make_reduction\n",
    "from sktime.forecasting.base import ForecastingHorizon\n",
    "from sklearn.ensemble import RandomForestRegressor\n",
    "from sktime.performance_metrics.forecasting import mean_absolute_error\n",
    "\n",
    "\n",
    "def time_prediction(student_data: pd.DataFrame, \n",
    "                    predict_date: pd.Timestamp = None,\n",
    "                    wl: int = 3) -> tuple[float, pd.Series]:\n",
    "    student_data.set_index('period', inplace=True)\n",
    "    student_data.index = student_data.index.to_period('6M')\n",
    "    \n",
    "    y_train, y_test = temporal_train_test_split(student_data.loc[:, 'performance_index'], test_size=0.2)\n",
    "    if predict_date is not None:\n",
    "        fh = ForecastingHorizon(predict_date, is_relative=False)\n",
    "    else:\n",
    "        fh = ForecastingHorizon(y_test.index, is_relative=False)\n",
    "        \n",
    "    regressor = RandomForestRegressor()\n",
    "    model = make_reduction(regressor, window_length=wl, strategy='recursive')\n",
    "    model.fit(y_train)\n",
    "    predict = model.predict(fh)\n",
    "\n",
    "    mae = mean_absolute_error(predict, y_test)\n",
    "    return mae, predict"
   ],
   "metadata": {
    "collapsed": false,
    "ExecuteTime": {
     "end_time": "2024-05-27T09:49:37.659046Z",
     "start_time": "2024-05-27T09:49:37.656347Z"
    }
   },
   "id": "bcfc2a1ba11fed39",
   "execution_count": 148
  },
  {
   "cell_type": "code",
   "outputs": [
    {
     "name": "stdout",
     "output_type": "stream",
     "text": [
      "MAE total: 0.11\n",
      "CPU times: user 35 s, sys: 406 ms, total: 35.4 s\n",
      "Wall time: 35.8 s\n"
     ]
    }
   ],
   "source": [
    "%%time\n",
    "error_list = []\n",
    "for student_id in rfprevious_year['Номер ЛД'].unique()[:1000]:\n",
    "    try:\n",
    "        student_data = rfprevious_year[rfprevious_year['Номер ЛД'] == student_id]\n",
    "        \n",
    "        mae, _ = time_prediction(student_data=student_data)\n",
    "        error_list.append(mae)\n",
    "    except ValueError:\n",
    "        continue\n",
    "\n",
    "print('MAE total:', round(sum(error_list) / len(error_list), 2))"
   ],
   "metadata": {
    "collapsed": false,
    "ExecuteTime": {
     "end_time": "2024-05-27T09:50:13.417681Z",
     "start_time": "2024-05-27T09:49:37.659678Z"
    }
   },
   "id": "cef4fb9e23c21b33",
   "execution_count": 149
  },
  {
   "cell_type": "markdown",
   "source": [
    "Ошибка получилась небольшая, но это только внутри студента, сама реализация является запутанной\n",
    "и тяжело настраиваемой. \n",
    "\n",
    "Поэтому я решил реализовать более понятную функцию, воспользовавшись только sklearn\n",
    "В этой реализации я использовал LinearRegression."
   ],
   "metadata": {
    "collapsed": false
   },
   "id": "4c6b4a4a143aabf8"
  },
  {
   "cell_type": "markdown",
   "source": [
    "<font size=4>Предсказание индекса успеваемости на основе временного ряда. sklearn</font>"
   ],
   "metadata": {
    "collapsed": false
   },
   "id": "8c84aff69ec32003"
  },
  {
   "cell_type": "code",
   "outputs": [],
   "source": [
    "def predict_performance(student_data: pd.DataFrame, \n",
    "                        test_data: pd.DataFrame = None):\n",
    "    \"\"\"\n",
    "    Функция для предсказания индекса успеваемости.\n",
    "    Она способна делать предсказания и находить среднюю абсолютную\n",
    "    ошибку, если передан проверяющий датасет.\n",
    "    :param student_data: Датасет со студентами;\n",
    "    :param test_data: Датасет для проверки предсказаний\n",
    "    :return: \n",
    "    \"\"\"\n",
    "    X = np.array((student_data['period'] - student_data['period'].min()).dt.days).reshape(-1, 1)\n",
    "    y = student_data['performance_index'].values\n",
    "\n",
    "    # Обучение модели\n",
    "    model = LinearRegression()\n",
    "    model.fit(X, y)\n",
    "\n",
    "    next_year = student_data['period'].max() + pd.DateOffset(months=6)\n",
    "    X_next = np.array((next_year - student_data['period'].min()).days).reshape(-1, 1)\n",
    "    \n",
    "    performance_index_pred = model.predict(X_next)\n",
    "    mae = None\n",
    "    \n",
    "    if test_data is not None:\n",
    "        y_next = test_data[test_data['period'] == next_year]['performance_index'].values\n",
    "        mae = mean_absolute_error(performance_index_pred, y_next)\n",
    "        \n",
    "    performance_index_pred = round(performance_index_pred[0], 2)\n",
    "\n",
    "    return performance_index_pred, mae, next_year"
   ],
   "metadata": {
    "collapsed": false,
    "ExecuteTime": {
     "end_time": "2024-05-27T09:50:13.421307Z",
     "start_time": "2024-05-27T09:50:13.418451Z"
    }
   },
   "id": "f90942d5c3d5223f",
   "execution_count": 150
  },
  {
   "cell_type": "code",
   "outputs": [
    {
     "name": "stdout",
     "output_type": "stream",
     "text": [
      "MAE:  0.12\n",
      "Обработано студентов: 6095/6171\n"
     ]
    }
   ],
   "source": [
    "pred_data = rfprevious_year[rfprevious_year['period'] < pd.to_datetime('2023-06-01')]\n",
    "test_data = rfprevious_year[rfprevious_year['period'] == pd.to_datetime('2023-06-01')]\n",
    "\n",
    "counter = 0\n",
    "predictions = []\n",
    "for student_id in test_data['Номер ЛД'].unique():\n",
    "    try:\n",
    "        predict_data = pred_data[pred_data['Номер ЛД'] == student_id]\n",
    "        validate_data = test_data[test_data['Номер ЛД'] == student_id]\n",
    "        pred, mae, _ = predict_performance(predict_data, validate_data)\n",
    "        predictions.append({'student_id': student_id, 'predicted_performance_index': pred, 'MAE': mae})\n",
    "        counter += 1\n",
    "    except KeyError:\n",
    "        continue\n",
    "    except ValueError:\n",
    "        continue\n",
    "\n",
    "predictions_df = pd.DataFrame(predictions)\n",
    "print('MAE: ', round(predictions_df['MAE'].mean(), 2))\n",
    "print(f'Обработано студентов: {counter}/{test_data['Номер ЛД'].nunique()}')"
   ],
   "metadata": {
    "collapsed": false,
    "ExecuteTime": {
     "end_time": "2024-05-27T09:50:18.622896Z",
     "start_time": "2024-05-27T09:50:13.421959Z"
    }
   },
   "id": "48255d7a8e292e9",
   "execution_count": 151
  },
  {
   "cell_type": "markdown",
   "source": [
    "Модель показала себя хорошо и получилось создать удобную функцию для обучения и предсказания\n",
    "Поэтому попробуем взять рандомных студентов и получить для них предсказания на 2024 год"
   ],
   "metadata": {
    "collapsed": false
   },
   "id": "c84b0305615ec87e"
  },
  {
   "cell_type": "code",
   "outputs": [],
   "source": [
    "def get_predict(predict_data: pd.DataFrame):\n",
    "    predictions = []\n",
    "    for student_id in predict_data['Номер ЛД'].unique():\n",
    "        student_data = predict_data[predict_data['Номер ЛД'] == student_id]\n",
    "        pred, _, next_year = predict_performance(student_data)\n",
    "        predictions.append({'student_id': student_id, \n",
    "                            'predicted_performance_index': pred,\n",
    "                            'period': next_year})\n",
    "        \n",
    "    predictions_df = pd.DataFrame(predictions)\n",
    "    return predictions_df"
   ],
   "metadata": {
    "collapsed": false,
    "ExecuteTime": {
     "end_time": "2024-05-27T09:50:18.625991Z",
     "start_time": "2024-05-27T09:50:18.623672Z"
    }
   },
   "id": "c8be66f93ce511a3",
   "execution_count": 152
  },
  {
   "cell_type": "code",
   "outputs": [],
   "source": [
    "np.random.seed(5)\n",
    "\n",
    "merge_index = fprevious_year.index.names\n",
    "\n",
    "# соединяем семестры прошлых годов обучения (до 2023-2024) и текущего (2023-2024 1 полугодие)\n",
    "# На 2023-2024 2 полугодие будем делать предсказания\n",
    "total_predict_data = pd.merge(fprevious_year, ftest_current_year, on=merge_index, how='outer')\n",
    "total_predict_data = (total_predict_data['performance_index_x']\n",
    "                      .combine_first(total_predict_data['performance_index_y'])\n",
    "                      .reset_index()\n",
    "                      .rename(columns={'performance_index_x': 'performance_index'}))\n",
    "\n",
    "# Выбираем 3 студентов\n",
    "random_students_id = np.random.choice(predict_current_year['Номер ЛД'].unique(), 3)\n",
    "# Находим студентов среди всей истории семестров\n",
    "random_students_data = total_predict_data[total_predict_data['Номер ЛД'].isin(random_students_id)]\n",
    "# Делаем предсказания для 3 студентов\n",
    "pred_performance = get_predict(random_students_data).rename(columns={'student_id': 'Номер ЛД'})"
   ],
   "metadata": {
    "collapsed": false,
    "ExecuteTime": {
     "end_time": "2024-05-27T09:50:18.683883Z",
     "start_time": "2024-05-27T09:50:18.626683Z"
    }
   },
   "id": "9a43e79dc6bc3a4d",
   "execution_count": 153
  },
  {
   "cell_type": "code",
   "outputs": [
    {
     "data": {
      "text/plain": "   Номер ЛД     period  performance_index  real\n0   2104406 2021-12-01           0.866667   1.0\n1   2104406 2022-06-01           0.825000   1.0\n2   2104406 2022-12-01           0.742857   1.0\n3   2104406 2023-06-01           0.840000   1.0\n4   2104406 2023-12-01           0.066667   1.0\n5   2104406 2024-06-01           0.190000   0.0\n6   2110260 2021-12-01           1.000000   1.0\n7   2110260 2022-06-01           1.000000   1.0\n8   2110260 2022-12-01           1.000000   1.0\n9   2110260 2023-06-01           1.000000   1.0",
      "text/html": "<div>\n<style scoped>\n    .dataframe tbody tr th:only-of-type {\n        vertical-align: middle;\n    }\n\n    .dataframe tbody tr th {\n        vertical-align: top;\n    }\n\n    .dataframe thead th {\n        text-align: right;\n    }\n</style>\n<table border=\"1\" class=\"dataframe\">\n  <thead>\n    <tr style=\"text-align: right;\">\n      <th></th>\n      <th>Номер ЛД</th>\n      <th>period</th>\n      <th>performance_index</th>\n      <th>real</th>\n    </tr>\n  </thead>\n  <tbody>\n    <tr>\n      <th>0</th>\n      <td>2104406</td>\n      <td>2021-12-01</td>\n      <td>0.866667</td>\n      <td>1.0</td>\n    </tr>\n    <tr>\n      <th>1</th>\n      <td>2104406</td>\n      <td>2022-06-01</td>\n      <td>0.825000</td>\n      <td>1.0</td>\n    </tr>\n    <tr>\n      <th>2</th>\n      <td>2104406</td>\n      <td>2022-12-01</td>\n      <td>0.742857</td>\n      <td>1.0</td>\n    </tr>\n    <tr>\n      <th>3</th>\n      <td>2104406</td>\n      <td>2023-06-01</td>\n      <td>0.840000</td>\n      <td>1.0</td>\n    </tr>\n    <tr>\n      <th>4</th>\n      <td>2104406</td>\n      <td>2023-12-01</td>\n      <td>0.066667</td>\n      <td>1.0</td>\n    </tr>\n    <tr>\n      <th>5</th>\n      <td>2104406</td>\n      <td>2024-06-01</td>\n      <td>0.190000</td>\n      <td>0.0</td>\n    </tr>\n    <tr>\n      <th>6</th>\n      <td>2110260</td>\n      <td>2021-12-01</td>\n      <td>1.000000</td>\n      <td>1.0</td>\n    </tr>\n    <tr>\n      <th>7</th>\n      <td>2110260</td>\n      <td>2022-06-01</td>\n      <td>1.000000</td>\n      <td>1.0</td>\n    </tr>\n    <tr>\n      <th>8</th>\n      <td>2110260</td>\n      <td>2022-12-01</td>\n      <td>1.000000</td>\n      <td>1.0</td>\n    </tr>\n    <tr>\n      <th>9</th>\n      <td>2110260</td>\n      <td>2023-06-01</td>\n      <td>1.000000</td>\n      <td>1.0</td>\n    </tr>\n  </tbody>\n</table>\n</div>"
     },
     "execution_count": 154,
     "metadata": {},
     "output_type": "execute_result"
    }
   ],
   "source": [
    "# Обрабатываем датафрейм, чтобы соединить фактические значения и предсказанные\n",
    "students = (random_students_data\n",
    "            .drop(['Уровень подготовки', 'Учебная группа', \n",
    "                   'Специальность/направление'], axis=1)\n",
    "            .assign(real=1)\n",
    "            .merge(pred_performance, on=['Номер ЛД', 'period'], how='outer')\n",
    "            .assign(performance_index=lambda df: df['performance_index']\n",
    "                    .combine_first(df['predicted_performance_index']))\n",
    "            .drop('predicted_performance_index', axis=1)\n",
    "            .fillna(0))\n",
    "students.head(10)"
   ],
   "metadata": {
    "collapsed": false,
    "ExecuteTime": {
     "end_time": "2024-05-27T09:50:18.695597Z",
     "start_time": "2024-05-27T09:50:18.687480Z"
    }
   },
   "id": "a13163a15eae8455",
   "execution_count": 154
  },
  {
   "cell_type": "code",
   "outputs": [
    {
     "data": {
      "application/vnd.plotly.v1+json": {
       "data": [
        {
         "line": {
          "color": "#AEC6CF"
         },
         "mode": "lines+markers",
         "name": "Student 2104406 (Real)",
         "x": [
          "2021-12-01T00:00:00",
          "2022-06-01T00:00:00",
          "2022-12-01T00:00:00",
          "2023-06-01T00:00:00",
          "2023-12-01T00:00:00"
         ],
         "y": [
          0.8666666666666667,
          0.8250000000000001,
          0.7428571428571429,
          0.8400000000000001,
          0.06666666666666667
         ],
         "type": "scatter"
        },
        {
         "marker": {
          "color": "purple",
          "size": 10,
          "symbol": "circle"
         },
         "mode": "markers",
         "name": "Student 2104406 (Predicted)",
         "x": [
          "2024-06-01T00:00:00"
         ],
         "y": [
          0.19
         ],
         "type": "scatter"
        },
        {
         "line": {
          "color": "#AEC6CF",
          "dash": "dash"
         },
         "mode": "lines",
         "showlegend": false,
         "x": [
          "2023-12-01T00:00:00",
          "2024-06-01T00:00:00"
         ],
         "y": [
          0.06666666666666667,
          0.19
         ],
         "type": "scatter"
        },
        {
         "line": {
          "color": "#FFB347"
         },
         "mode": "lines+markers",
         "name": "Student 2110260 (Real)",
         "x": [
          "2021-12-01T00:00:00",
          "2022-06-01T00:00:00",
          "2022-12-01T00:00:00",
          "2023-06-01T00:00:00",
          "2023-12-01T00:00:00"
         ],
         "y": [
          1.0,
          1.0,
          1.0,
          1.0,
          0.4285714285714286
         ],
         "type": "scatter"
        },
        {
         "marker": {
          "color": "purple",
          "size": 10,
          "symbol": "circle"
         },
         "mode": "markers",
         "name": "Student 2110260 (Predicted)",
         "x": [
          "2024-06-01T00:00:00"
         ],
         "y": [
          0.54
         ],
         "type": "scatter"
        },
        {
         "line": {
          "color": "#FFB347",
          "dash": "dash"
         },
         "mode": "lines",
         "showlegend": false,
         "x": [
          "2023-12-01T00:00:00",
          "2024-06-01T00:00:00"
         ],
         "y": [
          0.4285714285714286,
          0.54
         ],
         "type": "scatter"
        },
        {
         "line": {
          "color": "#77DD77"
         },
         "mode": "lines+markers",
         "name": "Student 2203989 (Real)",
         "x": [
          "2022-12-01T00:00:00",
          "2023-06-01T00:00:00",
          "2023-12-01T00:00:00"
         ],
         "y": [
          0.925,
          0.975,
          0.5
         ],
         "type": "scatter"
        },
        {
         "marker": {
          "color": "purple",
          "size": 10,
          "symbol": "circle"
         },
         "mode": "markers",
         "name": "Student 2203989 (Predicted)",
         "x": [
          "2024-06-01T00:00:00"
         ],
         "y": [
          0.37
         ],
         "type": "scatter"
        },
        {
         "line": {
          "color": "#77DD77",
          "dash": "dash"
         },
         "mode": "lines",
         "showlegend": false,
         "x": [
          "2023-12-01T00:00:00",
          "2024-06-01T00:00:00"
         ],
         "y": [
          0.5,
          0.37
         ],
         "type": "scatter"
        }
       ],
       "layout": {
        "template": {
         "data": {
          "histogram2dcontour": [
           {
            "type": "histogram2dcontour",
            "colorbar": {
             "outlinewidth": 0,
             "ticks": ""
            },
            "colorscale": [
             [
              0.0,
              "#0d0887"
             ],
             [
              0.1111111111111111,
              "#46039f"
             ],
             [
              0.2222222222222222,
              "#7201a8"
             ],
             [
              0.3333333333333333,
              "#9c179e"
             ],
             [
              0.4444444444444444,
              "#bd3786"
             ],
             [
              0.5555555555555556,
              "#d8576b"
             ],
             [
              0.6666666666666666,
              "#ed7953"
             ],
             [
              0.7777777777777778,
              "#fb9f3a"
             ],
             [
              0.8888888888888888,
              "#fdca26"
             ],
             [
              1.0,
              "#f0f921"
             ]
            ]
           }
          ],
          "choropleth": [
           {
            "type": "choropleth",
            "colorbar": {
             "outlinewidth": 0,
             "ticks": ""
            }
           }
          ],
          "histogram2d": [
           {
            "type": "histogram2d",
            "colorbar": {
             "outlinewidth": 0,
             "ticks": ""
            },
            "colorscale": [
             [
              0.0,
              "#0d0887"
             ],
             [
              0.1111111111111111,
              "#46039f"
             ],
             [
              0.2222222222222222,
              "#7201a8"
             ],
             [
              0.3333333333333333,
              "#9c179e"
             ],
             [
              0.4444444444444444,
              "#bd3786"
             ],
             [
              0.5555555555555556,
              "#d8576b"
             ],
             [
              0.6666666666666666,
              "#ed7953"
             ],
             [
              0.7777777777777778,
              "#fb9f3a"
             ],
             [
              0.8888888888888888,
              "#fdca26"
             ],
             [
              1.0,
              "#f0f921"
             ]
            ]
           }
          ],
          "heatmap": [
           {
            "type": "heatmap",
            "colorbar": {
             "outlinewidth": 0,
             "ticks": ""
            },
            "colorscale": [
             [
              0.0,
              "#0d0887"
             ],
             [
              0.1111111111111111,
              "#46039f"
             ],
             [
              0.2222222222222222,
              "#7201a8"
             ],
             [
              0.3333333333333333,
              "#9c179e"
             ],
             [
              0.4444444444444444,
              "#bd3786"
             ],
             [
              0.5555555555555556,
              "#d8576b"
             ],
             [
              0.6666666666666666,
              "#ed7953"
             ],
             [
              0.7777777777777778,
              "#fb9f3a"
             ],
             [
              0.8888888888888888,
              "#fdca26"
             ],
             [
              1.0,
              "#f0f921"
             ]
            ]
           }
          ],
          "heatmapgl": [
           {
            "type": "heatmapgl",
            "colorbar": {
             "outlinewidth": 0,
             "ticks": ""
            },
            "colorscale": [
             [
              0.0,
              "#0d0887"
             ],
             [
              0.1111111111111111,
              "#46039f"
             ],
             [
              0.2222222222222222,
              "#7201a8"
             ],
             [
              0.3333333333333333,
              "#9c179e"
             ],
             [
              0.4444444444444444,
              "#bd3786"
             ],
             [
              0.5555555555555556,
              "#d8576b"
             ],
             [
              0.6666666666666666,
              "#ed7953"
             ],
             [
              0.7777777777777778,
              "#fb9f3a"
             ],
             [
              0.8888888888888888,
              "#fdca26"
             ],
             [
              1.0,
              "#f0f921"
             ]
            ]
           }
          ],
          "contourcarpet": [
           {
            "type": "contourcarpet",
            "colorbar": {
             "outlinewidth": 0,
             "ticks": ""
            }
           }
          ],
          "contour": [
           {
            "type": "contour",
            "colorbar": {
             "outlinewidth": 0,
             "ticks": ""
            },
            "colorscale": [
             [
              0.0,
              "#0d0887"
             ],
             [
              0.1111111111111111,
              "#46039f"
             ],
             [
              0.2222222222222222,
              "#7201a8"
             ],
             [
              0.3333333333333333,
              "#9c179e"
             ],
             [
              0.4444444444444444,
              "#bd3786"
             ],
             [
              0.5555555555555556,
              "#d8576b"
             ],
             [
              0.6666666666666666,
              "#ed7953"
             ],
             [
              0.7777777777777778,
              "#fb9f3a"
             ],
             [
              0.8888888888888888,
              "#fdca26"
             ],
             [
              1.0,
              "#f0f921"
             ]
            ]
           }
          ],
          "surface": [
           {
            "type": "surface",
            "colorbar": {
             "outlinewidth": 0,
             "ticks": ""
            },
            "colorscale": [
             [
              0.0,
              "#0d0887"
             ],
             [
              0.1111111111111111,
              "#46039f"
             ],
             [
              0.2222222222222222,
              "#7201a8"
             ],
             [
              0.3333333333333333,
              "#9c179e"
             ],
             [
              0.4444444444444444,
              "#bd3786"
             ],
             [
              0.5555555555555556,
              "#d8576b"
             ],
             [
              0.6666666666666666,
              "#ed7953"
             ],
             [
              0.7777777777777778,
              "#fb9f3a"
             ],
             [
              0.8888888888888888,
              "#fdca26"
             ],
             [
              1.0,
              "#f0f921"
             ]
            ]
           }
          ],
          "mesh3d": [
           {
            "type": "mesh3d",
            "colorbar": {
             "outlinewidth": 0,
             "ticks": ""
            }
           }
          ],
          "scatter": [
           {
            "marker": {
             "line": {
              "color": "#283442"
             }
            },
            "type": "scatter"
           }
          ],
          "parcoords": [
           {
            "type": "parcoords",
            "line": {
             "colorbar": {
              "outlinewidth": 0,
              "ticks": ""
             }
            }
           }
          ],
          "scatterpolargl": [
           {
            "type": "scatterpolargl",
            "marker": {
             "colorbar": {
              "outlinewidth": 0,
              "ticks": ""
             }
            }
           }
          ],
          "bar": [
           {
            "error_x": {
             "color": "#f2f5fa"
            },
            "error_y": {
             "color": "#f2f5fa"
            },
            "marker": {
             "line": {
              "color": "rgb(17,17,17)",
              "width": 0.5
             },
             "pattern": {
              "fillmode": "overlay",
              "size": 10,
              "solidity": 0.2
             }
            },
            "type": "bar"
           }
          ],
          "scattergeo": [
           {
            "type": "scattergeo",
            "marker": {
             "colorbar": {
              "outlinewidth": 0,
              "ticks": ""
             }
            }
           }
          ],
          "scatterpolar": [
           {
            "type": "scatterpolar",
            "marker": {
             "colorbar": {
              "outlinewidth": 0,
              "ticks": ""
             }
            }
           }
          ],
          "histogram": [
           {
            "marker": {
             "pattern": {
              "fillmode": "overlay",
              "size": 10,
              "solidity": 0.2
             }
            },
            "type": "histogram"
           }
          ],
          "scattergl": [
           {
            "marker": {
             "line": {
              "color": "#283442"
             }
            },
            "type": "scattergl"
           }
          ],
          "scatter3d": [
           {
            "type": "scatter3d",
            "line": {
             "colorbar": {
              "outlinewidth": 0,
              "ticks": ""
             }
            },
            "marker": {
             "colorbar": {
              "outlinewidth": 0,
              "ticks": ""
             }
            }
           }
          ],
          "scattermapbox": [
           {
            "type": "scattermapbox",
            "marker": {
             "colorbar": {
              "outlinewidth": 0,
              "ticks": ""
             }
            }
           }
          ],
          "scatterternary": [
           {
            "type": "scatterternary",
            "marker": {
             "colorbar": {
              "outlinewidth": 0,
              "ticks": ""
             }
            }
           }
          ],
          "scattercarpet": [
           {
            "type": "scattercarpet",
            "marker": {
             "colorbar": {
              "outlinewidth": 0,
              "ticks": ""
             }
            }
           }
          ],
          "carpet": [
           {
            "aaxis": {
             "endlinecolor": "#A2B1C6",
             "gridcolor": "#506784",
             "linecolor": "#506784",
             "minorgridcolor": "#506784",
             "startlinecolor": "#A2B1C6"
            },
            "baxis": {
             "endlinecolor": "#A2B1C6",
             "gridcolor": "#506784",
             "linecolor": "#506784",
             "minorgridcolor": "#506784",
             "startlinecolor": "#A2B1C6"
            },
            "type": "carpet"
           }
          ],
          "table": [
           {
            "cells": {
             "fill": {
              "color": "#506784"
             },
             "line": {
              "color": "rgb(17,17,17)"
             }
            },
            "header": {
             "fill": {
              "color": "#2a3f5f"
             },
             "line": {
              "color": "rgb(17,17,17)"
             }
            },
            "type": "table"
           }
          ],
          "barpolar": [
           {
            "marker": {
             "line": {
              "color": "rgb(17,17,17)",
              "width": 0.5
             },
             "pattern": {
              "fillmode": "overlay",
              "size": 10,
              "solidity": 0.2
             }
            },
            "type": "barpolar"
           }
          ],
          "pie": [
           {
            "automargin": true,
            "type": "pie"
           }
          ]
         },
         "layout": {
          "autotypenumbers": "strict",
          "colorway": [
           "#636efa",
           "#EF553B",
           "#00cc96",
           "#ab63fa",
           "#FFA15A",
           "#19d3f3",
           "#FF6692",
           "#B6E880",
           "#FF97FF",
           "#FECB52"
          ],
          "font": {
           "color": "#f2f5fa"
          },
          "hovermode": "closest",
          "hoverlabel": {
           "align": "left"
          },
          "paper_bgcolor": "rgb(17,17,17)",
          "plot_bgcolor": "rgb(17,17,17)",
          "polar": {
           "bgcolor": "rgb(17,17,17)",
           "angularaxis": {
            "gridcolor": "#506784",
            "linecolor": "#506784",
            "ticks": ""
           },
           "radialaxis": {
            "gridcolor": "#506784",
            "linecolor": "#506784",
            "ticks": ""
           }
          },
          "ternary": {
           "bgcolor": "rgb(17,17,17)",
           "aaxis": {
            "gridcolor": "#506784",
            "linecolor": "#506784",
            "ticks": ""
           },
           "baxis": {
            "gridcolor": "#506784",
            "linecolor": "#506784",
            "ticks": ""
           },
           "caxis": {
            "gridcolor": "#506784",
            "linecolor": "#506784",
            "ticks": ""
           }
          },
          "coloraxis": {
           "colorbar": {
            "outlinewidth": 0,
            "ticks": ""
           }
          },
          "colorscale": {
           "sequential": [
            [
             0.0,
             "#0d0887"
            ],
            [
             0.1111111111111111,
             "#46039f"
            ],
            [
             0.2222222222222222,
             "#7201a8"
            ],
            [
             0.3333333333333333,
             "#9c179e"
            ],
            [
             0.4444444444444444,
             "#bd3786"
            ],
            [
             0.5555555555555556,
             "#d8576b"
            ],
            [
             0.6666666666666666,
             "#ed7953"
            ],
            [
             0.7777777777777778,
             "#fb9f3a"
            ],
            [
             0.8888888888888888,
             "#fdca26"
            ],
            [
             1.0,
             "#f0f921"
            ]
           ],
           "sequentialminus": [
            [
             0.0,
             "#0d0887"
            ],
            [
             0.1111111111111111,
             "#46039f"
            ],
            [
             0.2222222222222222,
             "#7201a8"
            ],
            [
             0.3333333333333333,
             "#9c179e"
            ],
            [
             0.4444444444444444,
             "#bd3786"
            ],
            [
             0.5555555555555556,
             "#d8576b"
            ],
            [
             0.6666666666666666,
             "#ed7953"
            ],
            [
             0.7777777777777778,
             "#fb9f3a"
            ],
            [
             0.8888888888888888,
             "#fdca26"
            ],
            [
             1.0,
             "#f0f921"
            ]
           ],
           "diverging": [
            [
             0,
             "#8e0152"
            ],
            [
             0.1,
             "#c51b7d"
            ],
            [
             0.2,
             "#de77ae"
            ],
            [
             0.3,
             "#f1b6da"
            ],
            [
             0.4,
             "#fde0ef"
            ],
            [
             0.5,
             "#f7f7f7"
            ],
            [
             0.6,
             "#e6f5d0"
            ],
            [
             0.7,
             "#b8e186"
            ],
            [
             0.8,
             "#7fbc41"
            ],
            [
             0.9,
             "#4d9221"
            ],
            [
             1,
             "#276419"
            ]
           ]
          },
          "xaxis": {
           "gridcolor": "#283442",
           "linecolor": "#506784",
           "ticks": "",
           "title": {
            "standoff": 15
           },
           "zerolinecolor": "#283442",
           "automargin": true,
           "zerolinewidth": 2
          },
          "yaxis": {
           "gridcolor": "#283442",
           "linecolor": "#506784",
           "ticks": "",
           "title": {
            "standoff": 15
           },
           "zerolinecolor": "#283442",
           "automargin": true,
           "zerolinewidth": 2
          },
          "scene": {
           "xaxis": {
            "backgroundcolor": "rgb(17,17,17)",
            "gridcolor": "#506784",
            "linecolor": "#506784",
            "showbackground": true,
            "ticks": "",
            "zerolinecolor": "#C8D4E3",
            "gridwidth": 2
           },
           "yaxis": {
            "backgroundcolor": "rgb(17,17,17)",
            "gridcolor": "#506784",
            "linecolor": "#506784",
            "showbackground": true,
            "ticks": "",
            "zerolinecolor": "#C8D4E3",
            "gridwidth": 2
           },
           "zaxis": {
            "backgroundcolor": "rgb(17,17,17)",
            "gridcolor": "#506784",
            "linecolor": "#506784",
            "showbackground": true,
            "ticks": "",
            "zerolinecolor": "#C8D4E3",
            "gridwidth": 2
           }
          },
          "shapedefaults": {
           "line": {
            "color": "#f2f5fa"
           }
          },
          "annotationdefaults": {
           "arrowcolor": "#f2f5fa",
           "arrowhead": 0,
           "arrowwidth": 1
          },
          "geo": {
           "bgcolor": "rgb(17,17,17)",
           "landcolor": "rgb(17,17,17)",
           "subunitcolor": "#506784",
           "showland": true,
           "showlakes": true,
           "lakecolor": "rgb(17,17,17)"
          },
          "title": {
           "x": 0.05
          },
          "updatemenudefaults": {
           "bgcolor": "#506784",
           "borderwidth": 0
          },
          "sliderdefaults": {
           "bgcolor": "#C8D4E3",
           "borderwidth": 1,
           "bordercolor": "rgb(17,17,17)",
           "tickwidth": 0
          },
          "mapbox": {
           "style": "dark"
          }
         }
        },
        "xaxis": {
         "title": {
          "text": "Semester"
         },
         "tickangle": -45
        },
        "title": {
         "text": "Индекс успеваемости для выбранных студентов"
        },
        "yaxis": {
         "title": {
          "text": "Performance Index"
         }
        },
        "legend": {
         "title": {
          "text": "Students"
         }
        }
       },
       "config": {
        "plotlyServerURL": "https://plot.ly"
       }
      },
      "text/html": "<div>                            <div id=\"ddd26153-ad9a-477e-9e16-798b9f1736b7\" class=\"plotly-graph-div\" style=\"height:525px; width:100%;\"></div>            <script type=\"text/javascript\">                require([\"plotly\"], function(Plotly) {                    window.PLOTLYENV=window.PLOTLYENV || {};                                    if (document.getElementById(\"ddd26153-ad9a-477e-9e16-798b9f1736b7\")) {                    Plotly.newPlot(                        \"ddd26153-ad9a-477e-9e16-798b9f1736b7\",                        [{\"line\":{\"color\":\"#AEC6CF\"},\"mode\":\"lines+markers\",\"name\":\"Student 2104406 (Real)\",\"x\":[\"2021-12-01T00:00:00\",\"2022-06-01T00:00:00\",\"2022-12-01T00:00:00\",\"2023-06-01T00:00:00\",\"2023-12-01T00:00:00\"],\"y\":[0.8666666666666667,0.8250000000000001,0.7428571428571429,0.8400000000000001,0.06666666666666667],\"type\":\"scatter\"},{\"marker\":{\"color\":\"purple\",\"size\":10,\"symbol\":\"circle\"},\"mode\":\"markers\",\"name\":\"Student 2104406 (Predicted)\",\"x\":[\"2024-06-01T00:00:00\"],\"y\":[0.19],\"type\":\"scatter\"},{\"line\":{\"color\":\"#AEC6CF\",\"dash\":\"dash\"},\"mode\":\"lines\",\"showlegend\":false,\"x\":[\"2023-12-01T00:00:00\",\"2024-06-01T00:00:00\"],\"y\":[0.06666666666666667,0.19],\"type\":\"scatter\"},{\"line\":{\"color\":\"#FFB347\"},\"mode\":\"lines+markers\",\"name\":\"Student 2110260 (Real)\",\"x\":[\"2021-12-01T00:00:00\",\"2022-06-01T00:00:00\",\"2022-12-01T00:00:00\",\"2023-06-01T00:00:00\",\"2023-12-01T00:00:00\"],\"y\":[1.0,1.0,1.0,1.0,0.4285714285714286],\"type\":\"scatter\"},{\"marker\":{\"color\":\"purple\",\"size\":10,\"symbol\":\"circle\"},\"mode\":\"markers\",\"name\":\"Student 2110260 (Predicted)\",\"x\":[\"2024-06-01T00:00:00\"],\"y\":[0.54],\"type\":\"scatter\"},{\"line\":{\"color\":\"#FFB347\",\"dash\":\"dash\"},\"mode\":\"lines\",\"showlegend\":false,\"x\":[\"2023-12-01T00:00:00\",\"2024-06-01T00:00:00\"],\"y\":[0.4285714285714286,0.54],\"type\":\"scatter\"},{\"line\":{\"color\":\"#77DD77\"},\"mode\":\"lines+markers\",\"name\":\"Student 2203989 (Real)\",\"x\":[\"2022-12-01T00:00:00\",\"2023-06-01T00:00:00\",\"2023-12-01T00:00:00\"],\"y\":[0.925,0.975,0.5],\"type\":\"scatter\"},{\"marker\":{\"color\":\"purple\",\"size\":10,\"symbol\":\"circle\"},\"mode\":\"markers\",\"name\":\"Student 2203989 (Predicted)\",\"x\":[\"2024-06-01T00:00:00\"],\"y\":[0.37],\"type\":\"scatter\"},{\"line\":{\"color\":\"#77DD77\",\"dash\":\"dash\"},\"mode\":\"lines\",\"showlegend\":false,\"x\":[\"2023-12-01T00:00:00\",\"2024-06-01T00:00:00\"],\"y\":[0.5,0.37],\"type\":\"scatter\"}],                        {\"template\":{\"data\":{\"histogram2dcontour\":[{\"type\":\"histogram2dcontour\",\"colorbar\":{\"outlinewidth\":0,\"ticks\":\"\"},\"colorscale\":[[0.0,\"#0d0887\"],[0.1111111111111111,\"#46039f\"],[0.2222222222222222,\"#7201a8\"],[0.3333333333333333,\"#9c179e\"],[0.4444444444444444,\"#bd3786\"],[0.5555555555555556,\"#d8576b\"],[0.6666666666666666,\"#ed7953\"],[0.7777777777777778,\"#fb9f3a\"],[0.8888888888888888,\"#fdca26\"],[1.0,\"#f0f921\"]]}],\"choropleth\":[{\"type\":\"choropleth\",\"colorbar\":{\"outlinewidth\":0,\"ticks\":\"\"}}],\"histogram2d\":[{\"type\":\"histogram2d\",\"colorbar\":{\"outlinewidth\":0,\"ticks\":\"\"},\"colorscale\":[[0.0,\"#0d0887\"],[0.1111111111111111,\"#46039f\"],[0.2222222222222222,\"#7201a8\"],[0.3333333333333333,\"#9c179e\"],[0.4444444444444444,\"#bd3786\"],[0.5555555555555556,\"#d8576b\"],[0.6666666666666666,\"#ed7953\"],[0.7777777777777778,\"#fb9f3a\"],[0.8888888888888888,\"#fdca26\"],[1.0,\"#f0f921\"]]}],\"heatmap\":[{\"type\":\"heatmap\",\"colorbar\":{\"outlinewidth\":0,\"ticks\":\"\"},\"colorscale\":[[0.0,\"#0d0887\"],[0.1111111111111111,\"#46039f\"],[0.2222222222222222,\"#7201a8\"],[0.3333333333333333,\"#9c179e\"],[0.4444444444444444,\"#bd3786\"],[0.5555555555555556,\"#d8576b\"],[0.6666666666666666,\"#ed7953\"],[0.7777777777777778,\"#fb9f3a\"],[0.8888888888888888,\"#fdca26\"],[1.0,\"#f0f921\"]]}],\"heatmapgl\":[{\"type\":\"heatmapgl\",\"colorbar\":{\"outlinewidth\":0,\"ticks\":\"\"},\"colorscale\":[[0.0,\"#0d0887\"],[0.1111111111111111,\"#46039f\"],[0.2222222222222222,\"#7201a8\"],[0.3333333333333333,\"#9c179e\"],[0.4444444444444444,\"#bd3786\"],[0.5555555555555556,\"#d8576b\"],[0.6666666666666666,\"#ed7953\"],[0.7777777777777778,\"#fb9f3a\"],[0.8888888888888888,\"#fdca26\"],[1.0,\"#f0f921\"]]}],\"contourcarpet\":[{\"type\":\"contourcarpet\",\"colorbar\":{\"outlinewidth\":0,\"ticks\":\"\"}}],\"contour\":[{\"type\":\"contour\",\"colorbar\":{\"outlinewidth\":0,\"ticks\":\"\"},\"colorscale\":[[0.0,\"#0d0887\"],[0.1111111111111111,\"#46039f\"],[0.2222222222222222,\"#7201a8\"],[0.3333333333333333,\"#9c179e\"],[0.4444444444444444,\"#bd3786\"],[0.5555555555555556,\"#d8576b\"],[0.6666666666666666,\"#ed7953\"],[0.7777777777777778,\"#fb9f3a\"],[0.8888888888888888,\"#fdca26\"],[1.0,\"#f0f921\"]]}],\"surface\":[{\"type\":\"surface\",\"colorbar\":{\"outlinewidth\":0,\"ticks\":\"\"},\"colorscale\":[[0.0,\"#0d0887\"],[0.1111111111111111,\"#46039f\"],[0.2222222222222222,\"#7201a8\"],[0.3333333333333333,\"#9c179e\"],[0.4444444444444444,\"#bd3786\"],[0.5555555555555556,\"#d8576b\"],[0.6666666666666666,\"#ed7953\"],[0.7777777777777778,\"#fb9f3a\"],[0.8888888888888888,\"#fdca26\"],[1.0,\"#f0f921\"]]}],\"mesh3d\":[{\"type\":\"mesh3d\",\"colorbar\":{\"outlinewidth\":0,\"ticks\":\"\"}}],\"scatter\":[{\"marker\":{\"line\":{\"color\":\"#283442\"}},\"type\":\"scatter\"}],\"parcoords\":[{\"type\":\"parcoords\",\"line\":{\"colorbar\":{\"outlinewidth\":0,\"ticks\":\"\"}}}],\"scatterpolargl\":[{\"type\":\"scatterpolargl\",\"marker\":{\"colorbar\":{\"outlinewidth\":0,\"ticks\":\"\"}}}],\"bar\":[{\"error_x\":{\"color\":\"#f2f5fa\"},\"error_y\":{\"color\":\"#f2f5fa\"},\"marker\":{\"line\":{\"color\":\"rgb(17,17,17)\",\"width\":0.5},\"pattern\":{\"fillmode\":\"overlay\",\"size\":10,\"solidity\":0.2}},\"type\":\"bar\"}],\"scattergeo\":[{\"type\":\"scattergeo\",\"marker\":{\"colorbar\":{\"outlinewidth\":0,\"ticks\":\"\"}}}],\"scatterpolar\":[{\"type\":\"scatterpolar\",\"marker\":{\"colorbar\":{\"outlinewidth\":0,\"ticks\":\"\"}}}],\"histogram\":[{\"marker\":{\"pattern\":{\"fillmode\":\"overlay\",\"size\":10,\"solidity\":0.2}},\"type\":\"histogram\"}],\"scattergl\":[{\"marker\":{\"line\":{\"color\":\"#283442\"}},\"type\":\"scattergl\"}],\"scatter3d\":[{\"type\":\"scatter3d\",\"line\":{\"colorbar\":{\"outlinewidth\":0,\"ticks\":\"\"}},\"marker\":{\"colorbar\":{\"outlinewidth\":0,\"ticks\":\"\"}}}],\"scattermapbox\":[{\"type\":\"scattermapbox\",\"marker\":{\"colorbar\":{\"outlinewidth\":0,\"ticks\":\"\"}}}],\"scatterternary\":[{\"type\":\"scatterternary\",\"marker\":{\"colorbar\":{\"outlinewidth\":0,\"ticks\":\"\"}}}],\"scattercarpet\":[{\"type\":\"scattercarpet\",\"marker\":{\"colorbar\":{\"outlinewidth\":0,\"ticks\":\"\"}}}],\"carpet\":[{\"aaxis\":{\"endlinecolor\":\"#A2B1C6\",\"gridcolor\":\"#506784\",\"linecolor\":\"#506784\",\"minorgridcolor\":\"#506784\",\"startlinecolor\":\"#A2B1C6\"},\"baxis\":{\"endlinecolor\":\"#A2B1C6\",\"gridcolor\":\"#506784\",\"linecolor\":\"#506784\",\"minorgridcolor\":\"#506784\",\"startlinecolor\":\"#A2B1C6\"},\"type\":\"carpet\"}],\"table\":[{\"cells\":{\"fill\":{\"color\":\"#506784\"},\"line\":{\"color\":\"rgb(17,17,17)\"}},\"header\":{\"fill\":{\"color\":\"#2a3f5f\"},\"line\":{\"color\":\"rgb(17,17,17)\"}},\"type\":\"table\"}],\"barpolar\":[{\"marker\":{\"line\":{\"color\":\"rgb(17,17,17)\",\"width\":0.5},\"pattern\":{\"fillmode\":\"overlay\",\"size\":10,\"solidity\":0.2}},\"type\":\"barpolar\"}],\"pie\":[{\"automargin\":true,\"type\":\"pie\"}]},\"layout\":{\"autotypenumbers\":\"strict\",\"colorway\":[\"#636efa\",\"#EF553B\",\"#00cc96\",\"#ab63fa\",\"#FFA15A\",\"#19d3f3\",\"#FF6692\",\"#B6E880\",\"#FF97FF\",\"#FECB52\"],\"font\":{\"color\":\"#f2f5fa\"},\"hovermode\":\"closest\",\"hoverlabel\":{\"align\":\"left\"},\"paper_bgcolor\":\"rgb(17,17,17)\",\"plot_bgcolor\":\"rgb(17,17,17)\",\"polar\":{\"bgcolor\":\"rgb(17,17,17)\",\"angularaxis\":{\"gridcolor\":\"#506784\",\"linecolor\":\"#506784\",\"ticks\":\"\"},\"radialaxis\":{\"gridcolor\":\"#506784\",\"linecolor\":\"#506784\",\"ticks\":\"\"}},\"ternary\":{\"bgcolor\":\"rgb(17,17,17)\",\"aaxis\":{\"gridcolor\":\"#506784\",\"linecolor\":\"#506784\",\"ticks\":\"\"},\"baxis\":{\"gridcolor\":\"#506784\",\"linecolor\":\"#506784\",\"ticks\":\"\"},\"caxis\":{\"gridcolor\":\"#506784\",\"linecolor\":\"#506784\",\"ticks\":\"\"}},\"coloraxis\":{\"colorbar\":{\"outlinewidth\":0,\"ticks\":\"\"}},\"colorscale\":{\"sequential\":[[0.0,\"#0d0887\"],[0.1111111111111111,\"#46039f\"],[0.2222222222222222,\"#7201a8\"],[0.3333333333333333,\"#9c179e\"],[0.4444444444444444,\"#bd3786\"],[0.5555555555555556,\"#d8576b\"],[0.6666666666666666,\"#ed7953\"],[0.7777777777777778,\"#fb9f3a\"],[0.8888888888888888,\"#fdca26\"],[1.0,\"#f0f921\"]],\"sequentialminus\":[[0.0,\"#0d0887\"],[0.1111111111111111,\"#46039f\"],[0.2222222222222222,\"#7201a8\"],[0.3333333333333333,\"#9c179e\"],[0.4444444444444444,\"#bd3786\"],[0.5555555555555556,\"#d8576b\"],[0.6666666666666666,\"#ed7953\"],[0.7777777777777778,\"#fb9f3a\"],[0.8888888888888888,\"#fdca26\"],[1.0,\"#f0f921\"]],\"diverging\":[[0,\"#8e0152\"],[0.1,\"#c51b7d\"],[0.2,\"#de77ae\"],[0.3,\"#f1b6da\"],[0.4,\"#fde0ef\"],[0.5,\"#f7f7f7\"],[0.6,\"#e6f5d0\"],[0.7,\"#b8e186\"],[0.8,\"#7fbc41\"],[0.9,\"#4d9221\"],[1,\"#276419\"]]},\"xaxis\":{\"gridcolor\":\"#283442\",\"linecolor\":\"#506784\",\"ticks\":\"\",\"title\":{\"standoff\":15},\"zerolinecolor\":\"#283442\",\"automargin\":true,\"zerolinewidth\":2},\"yaxis\":{\"gridcolor\":\"#283442\",\"linecolor\":\"#506784\",\"ticks\":\"\",\"title\":{\"standoff\":15},\"zerolinecolor\":\"#283442\",\"automargin\":true,\"zerolinewidth\":2},\"scene\":{\"xaxis\":{\"backgroundcolor\":\"rgb(17,17,17)\",\"gridcolor\":\"#506784\",\"linecolor\":\"#506784\",\"showbackground\":true,\"ticks\":\"\",\"zerolinecolor\":\"#C8D4E3\",\"gridwidth\":2},\"yaxis\":{\"backgroundcolor\":\"rgb(17,17,17)\",\"gridcolor\":\"#506784\",\"linecolor\":\"#506784\",\"showbackground\":true,\"ticks\":\"\",\"zerolinecolor\":\"#C8D4E3\",\"gridwidth\":2},\"zaxis\":{\"backgroundcolor\":\"rgb(17,17,17)\",\"gridcolor\":\"#506784\",\"linecolor\":\"#506784\",\"showbackground\":true,\"ticks\":\"\",\"zerolinecolor\":\"#C8D4E3\",\"gridwidth\":2}},\"shapedefaults\":{\"line\":{\"color\":\"#f2f5fa\"}},\"annotationdefaults\":{\"arrowcolor\":\"#f2f5fa\",\"arrowhead\":0,\"arrowwidth\":1},\"geo\":{\"bgcolor\":\"rgb(17,17,17)\",\"landcolor\":\"rgb(17,17,17)\",\"subunitcolor\":\"#506784\",\"showland\":true,\"showlakes\":true,\"lakecolor\":\"rgb(17,17,17)\"},\"title\":{\"x\":0.05},\"updatemenudefaults\":{\"bgcolor\":\"#506784\",\"borderwidth\":0},\"sliderdefaults\":{\"bgcolor\":\"#C8D4E3\",\"borderwidth\":1,\"bordercolor\":\"rgb(17,17,17)\",\"tickwidth\":0},\"mapbox\":{\"style\":\"dark\"}}},\"xaxis\":{\"title\":{\"text\":\"Semester\"},\"tickangle\":-45},\"title\":{\"text\":\"\\u0418\\u043d\\u0434\\u0435\\u043a\\u0441 \\u0443\\u0441\\u043f\\u0435\\u0432\\u0430\\u0435\\u043c\\u043e\\u0441\\u0442\\u0438 \\u0434\\u043b\\u044f \\u0432\\u044b\\u0431\\u0440\\u0430\\u043d\\u043d\\u044b\\u0445 \\u0441\\u0442\\u0443\\u0434\\u0435\\u043d\\u0442\\u043e\\u0432\"},\"yaxis\":{\"title\":{\"text\":\"Performance Index\"}},\"legend\":{\"title\":{\"text\":\"Students\"}}},                        {\"responsive\": true}                    ).then(function(){\n                            \nvar gd = document.getElementById('ddd26153-ad9a-477e-9e16-798b9f1736b7');\nvar x = new MutationObserver(function (mutations, observer) {{\n        var display = window.getComputedStyle(gd).display;\n        if (!display || display === 'none') {{\n            console.log([gd, 'removed!']);\n            Plotly.purge(gd);\n            observer.disconnect();\n        }}\n}});\n\n// Listen for the removal of the full notebook cells\nvar notebookContainer = gd.closest('#notebook-container');\nif (notebookContainer) {{\n    x.observe(notebookContainer, {childList: true});\n}}\n\n// Listen for the clearing of the current output cell\nvar outputEl = gd.closest('.output');\nif (outputEl) {{\n    x.observe(outputEl, {childList: true});\n}}\n\n                        })                };                });            </script>        </div>"
     },
     "metadata": {},
     "output_type": "display_data"
    }
   ],
   "source": [
    "performance_plot(sample_students=students, max_students=3, predicted=True)"
   ],
   "metadata": {
    "collapsed": false,
    "ExecuteTime": {
     "end_time": "2024-05-27T09:50:18.710544Z",
     "start_time": "2024-05-27T09:50:18.696241Z"
    }
   },
   "id": "43af64afc987b8",
   "execution_count": 155
  },
  {
   "cell_type": "markdown",
   "source": [
    "<font size=4>Кластеризация студентов. KMeans</font>"
   ],
   "metadata": {
    "collapsed": false
   },
   "id": "ee13af9987164bde"
  },
  {
   "cell_type": "markdown",
   "source": [
    "Следующей идеей была кластеризация студентов - возможность разбирать студентов на группы и провести анализ.\n",
    "Такой способ может помочь определить студентов, которым стоит уделить внимание. \n",
    "Например, советовать курсы двоечникам и олимпиады отличникам."
   ],
   "metadata": {
    "collapsed": false
   },
   "id": "481079957ee0e41e"
  },
  {
   "cell_type": "markdown",
   "source": [
    "Для примера я взял Бакалавров по специальности \"Информатика и вычислительная техника\""
   ],
   "metadata": {
    "collapsed": false
   },
   "id": "4af619c3862220e9"
  },
  {
   "cell_type": "code",
   "outputs": [
    {
     "data": {
      "text/plain": "   Номер ЛД  performance_index  repeat_num\n0   1603860           0.612169    0.333333\n1   1606068           0.503704    0.000000\n2   1700282           0.609286    0.166667\n3   1801366           0.617183    0.166667\n4   1809323           0.641772    0.333333",
      "text/html": "<div>\n<style scoped>\n    .dataframe tbody tr th:only-of-type {\n        vertical-align: middle;\n    }\n\n    .dataframe tbody tr th {\n        vertical-align: top;\n    }\n\n    .dataframe thead th {\n        text-align: right;\n    }\n</style>\n<table border=\"1\" class=\"dataframe\">\n  <thead>\n    <tr style=\"text-align: right;\">\n      <th></th>\n      <th>Номер ЛД</th>\n      <th>performance_index</th>\n      <th>repeat_num</th>\n    </tr>\n  </thead>\n  <tbody>\n    <tr>\n      <th>0</th>\n      <td>1603860</td>\n      <td>0.612169</td>\n      <td>0.333333</td>\n    </tr>\n    <tr>\n      <th>1</th>\n      <td>1606068</td>\n      <td>0.503704</td>\n      <td>0.000000</td>\n    </tr>\n    <tr>\n      <th>2</th>\n      <td>1700282</td>\n      <td>0.609286</td>\n      <td>0.166667</td>\n    </tr>\n    <tr>\n      <th>3</th>\n      <td>1801366</td>\n      <td>0.617183</td>\n      <td>0.166667</td>\n    </tr>\n    <tr>\n      <th>4</th>\n      <td>1809323</td>\n      <td>0.641772</td>\n      <td>0.333333</td>\n    </tr>\n  </tbody>\n</table>\n</div>"
     },
     "execution_count": 156,
     "metadata": {},
     "output_type": "execute_result"
    }
   ],
   "source": [
    "bachelor_data = (rfprevious_year\n",
    "                 .query('`Уровень подготовки` == \"Бакалавр\" & '\n",
    "                         '`Специальность/направление` == \"Информатика и вычислительная техника\"')\n",
    "                 .drop(['Уровень подготовки', 'Учебная группа', 'Специальность/направление'], axis=1)\n",
    "                 .groupby(['Номер ЛД'])\n",
    "                 .agg({'performance_index': 'mean', 'repeat_num': 'mean'})\n",
    "                 .reset_index())\n",
    "bachelor_data.head()"
   ],
   "metadata": {
    "collapsed": false,
    "ExecuteTime": {
     "end_time": "2024-05-27T09:50:18.720634Z",
     "start_time": "2024-05-27T09:50:18.711352Z"
    }
   },
   "id": "45aa497285dfced9",
   "execution_count": 156
  },
  {
   "cell_type": "code",
   "outputs": [
    {
     "data": {
      "application/vnd.plotly.v1+json": {
       "data": [
        {
         "customdata": [
          [
           1603860
          ],
          [
           1606068
          ],
          [
           1700282
          ],
          [
           1801366
          ],
          [
           1809323
          ],
          [
           1809440
          ],
          [
           1900928
          ],
          [
           1901745
          ],
          [
           1902532
          ],
          [
           1906213
          ],
          [
           1909860
          ],
          [
           1911699
          ],
          [
           2000231
          ],
          [
           2000512
          ],
          [
           2001664
          ],
          [
           2001946
          ],
          [
           2003293
          ],
          [
           2004065
          ],
          [
           2004618
          ],
          [
           2005547
          ],
          [
           2005577
          ],
          [
           2005621
          ],
          [
           2006499
          ],
          [
           2006583
          ],
          [
           2006604
          ],
          [
           2006815
          ],
          [
           2006851
          ],
          [
           2007169
          ],
          [
           2007240
          ],
          [
           2008659
          ],
          [
           2009543
          ],
          [
           2010709
          ],
          [
           2010742
          ],
          [
           2011143
          ],
          [
           2011163
          ],
          [
           2100101
          ],
          [
           2103642
          ],
          [
           2104060
          ],
          [
           2104094
          ],
          [
           2104421
          ],
          [
           2104583
          ],
          [
           2104686
          ],
          [
           2104716
          ],
          [
           2104966
          ],
          [
           2104994
          ],
          [
           2105369
          ],
          [
           2105392
          ],
          [
           2105893
          ],
          [
           2105968
          ],
          [
           2106039
          ],
          [
           2107435
          ],
          [
           2107669
          ],
          [
           2107727
          ],
          [
           2107739
          ],
          [
           2108025
          ],
          [
           2108050
          ],
          [
           2108299
          ],
          [
           2109832
          ],
          [
           2110321
          ],
          [
           2110638
          ],
          [
           2110830
          ],
          [
           2110866
          ],
          [
           2111842
          ],
          [
           2111921
          ],
          [
           2112181
          ],
          [
           2112316
          ],
          [
           2112492
          ],
          [
           2112527
          ],
          [
           2112548
          ],
          [
           2112552
          ],
          [
           2112604
          ],
          [
           2112644
          ],
          [
           2200298
          ],
          [
           2200736
          ],
          [
           2201846
          ],
          [
           2202739
          ],
          [
           2203480
          ],
          [
           2203686
          ],
          [
           2203707
          ],
          [
           2203765
          ],
          [
           2203788
          ],
          [
           2203964
          ],
          [
           2204487
          ],
          [
           2206095
          ],
          [
           2206166
          ],
          [
           2206835
          ],
          [
           2206919
          ],
          [
           2207512
          ],
          [
           2208149
          ],
          [
           2208730
          ],
          [
           2209080
          ],
          [
           2209348
          ],
          [
           2210231
          ],
          [
           2211361
          ],
          [
           2212597
          ],
          [
           2212963
          ],
          [
           2213080
          ],
          [
           2213646
          ],
          [
           2213654
          ],
          [
           2213661
          ],
          [
           2214036
          ],
          [
           2214038
          ],
          [
           2300055
          ],
          [
           2300227
          ],
          [
           2315845
          ],
          [
           2315851
          ]
         ],
         "hovertemplate": "cluster=3<br>Индекс успеваемости=%{x}<br>Количество пересдач=%{y}<br>Номер ЛД=%{customdata[0]}<extra></extra>",
         "legendgroup": "3",
         "marker": {
          "color": "#636efa",
          "symbol": "circle"
         },
         "mode": "markers",
         "name": "3",
         "orientation": "v",
         "showlegend": true,
         "x": [
          0.6121693121693121,
          0.5037037037037037,
          0.6092857142857143,
          0.6171825396825397,
          0.6417724867724868,
          0.4880291005291005,
          0.46071428571428574,
          0.506904761904762,
          0.6486243386243387,
          0.44719576719576715,
          0.5800925925925925,
          0.5996825396825397,
          0.37777777777777777,
          0.32499999999999996,
          0.5,
          0.6197420634920634,
          0.6145238095238095,
          0.6119047619047618,
          0.5012896825396825,
          0.5857142857142856,
          0.6479100529100529,
          0.696957671957672,
          0.6561772486772487,
          0.5964947089947089,
          0.5344973544973545,
          0.5952645502645503,
          0.4348015873015873,
          0.5214285714285715,
          0.5803571428571429,
          0.3342857142857143,
          0.5684523809523809,
          0.6605820105820106,
          0.6288888888888889,
          0.4642857142857143,
          0.6579761904761905,
          0.5794179894179894,
          0.5773809523809523,
          0.6365079365079365,
          0.6194444444444445,
          0.6,
          0.5488095238095239,
          0.49874999999999997,
          0.5357142857142857,
          0.39976190476190476,
          0.6432539682539682,
          0.4172619047619047,
          0.4,
          0.6908730158730159,
          0.5815476190476191,
          0.641765873015873,
          0.6395833333333333,
          0.6163095238095238,
          0.5277777777777778,
          0.41333333333333333,
          0.5869047619047618,
          0.5360119047619047,
          0.6487499999999999,
          0.544047619047619,
          0.6669642857142857,
          0.4357142857142857,
          0.6229166666666667,
          0.43952380952380954,
          0.5358333333333333,
          0.6257936507936508,
          0.4338095238095238,
          0.6208333333333333,
          0.6829166666666666,
          0.30857142857142855,
          0.40208333333333335,
          0.609920634920635,
          0.4341666666666667,
          0.606845238095238,
          0.6321428571428571,
          0.39166666666666666,
          0.5428571428571428,
          0.6624999999999999,
          0.6666666666666666,
          0.5333333333333333,
          0.6458333333333333,
          0.5708333333333333,
          0.6119047619047618,
          0.6547619047619047,
          0.48571428571428565,
          0.6333333333333333,
          0.6124999999999999,
          0.38571428571428573,
          0.6166666666666667,
          0.47916666666666663,
          0.6624999999999999,
          0.48333333333333334,
          0.3514285714285714,
          0.5371428571428571,
          0.6,
          0.4857142857142857,
          0.5238095238095237,
          0.638095238095238,
          0.6775,
          0.6004166666666666,
          0.6641666666666667,
          0.4083333333333333,
          0.5783333333333333,
          0.6520767195767195,
          0.45999999999999996,
          0.5404761904761904,
          0.5,
          0.5375
         ],
         "xaxis": "x",
         "y": [
          0.3333333333333333,
          0.0,
          0.16666666666666666,
          0.16666666666666666,
          0.3333333333333333,
          0.8333333333333334,
          0.0,
          0.0,
          0.16666666666666666,
          0.3333333333333333,
          0.3333333333333333,
          0.3333333333333333,
          0.3333333333333333,
          0.0,
          0.5,
          0.25,
          0.3333333333333333,
          0.0,
          0.75,
          0.5,
          0.5,
          0.16666666666666666,
          0.16666666666666666,
          0.3333333333333333,
          0.5,
          0.5,
          0.5,
          0.0,
          0.5,
          0.5,
          0.25,
          0.16666666666666666,
          0.3333333333333333,
          0.5,
          0.25,
          0.3333333333333333,
          0.5,
          0.5,
          0.0,
          0.5,
          0.0,
          0.25,
          0.5,
          0.5,
          0.0,
          0.5,
          1.0,
          0.0,
          0.75,
          0.25,
          0.25,
          0.25,
          0.0,
          0.5,
          0.0,
          0.5,
          0.0,
          0.25,
          0.25,
          0.25,
          0.5,
          0.25,
          0.25,
          0.25,
          0.75,
          0.5,
          0.25,
          0.25,
          0.25,
          0.0,
          0.25,
          0.25,
          0.25,
          0.0,
          0.0,
          0.0,
          0.0,
          0.5,
          0.5,
          0.5,
          0.5,
          0.0,
          0.0,
          0.5,
          0.5,
          0.5,
          0.5,
          0.0,
          0.0,
          0.5,
          0.0,
          0.0,
          0.5,
          0.5,
          0.5,
          0.0,
          0.0,
          0.5,
          0.25,
          0.0,
          0.0,
          0.0,
          0.5,
          0.0,
          0.0,
          0.5
         ],
         "yaxis": "y",
         "type": "scatter"
        },
        {
         "customdata": [
          [
           1900978
          ],
          [
           2000196
          ],
          [
           2000732
          ],
          [
           2000933
          ],
          [
           2002208
          ],
          [
           2002568
          ],
          [
           2002622
          ],
          [
           2002852
          ],
          [
           2003022
          ],
          [
           2003035
          ],
          [
           2003503
          ],
          [
           2004118
          ],
          [
           2004321
          ],
          [
           2004350
          ],
          [
           2004380
          ],
          [
           2004626
          ],
          [
           2004750
          ],
          [
           2004837
          ],
          [
           2004859
          ],
          [
           2004862
          ],
          [
           2005280
          ],
          [
           2005305
          ],
          [
           2005351
          ],
          [
           2005352
          ],
          [
           2005491
          ],
          [
           2005570
          ],
          [
           2005581
          ],
          [
           2005814
          ],
          [
           2005872
          ],
          [
           2005925
          ],
          [
           2005939
          ],
          [
           2005975
          ],
          [
           2006062
          ],
          [
           2006154
          ],
          [
           2006284
          ],
          [
           2006450
          ],
          [
           2006556
          ],
          [
           2006746
          ],
          [
           2006868
          ],
          [
           2007036
          ],
          [
           2007054
          ],
          [
           2007102
          ],
          [
           2007119
          ],
          [
           2007123
          ],
          [
           2007196
          ],
          [
           2007279
          ],
          [
           2007344
          ],
          [
           2007566
          ],
          [
           2007725
          ],
          [
           2007731
          ],
          [
           2008037
          ],
          [
           2008047
          ],
          [
           2008133
          ],
          [
           2008301
          ],
          [
           2008409
          ],
          [
           2008489
          ],
          [
           2008520
          ],
          [
           2008583
          ],
          [
           2008656
          ],
          [
           2008992
          ],
          [
           2009187
          ],
          [
           2010876
          ],
          [
           2011167
          ],
          [
           2011229
          ],
          [
           2011232
          ],
          [
           2100754
          ],
          [
           2100790
          ],
          [
           2100982
          ],
          [
           2101840
          ],
          [
           2102039
          ],
          [
           2102779
          ],
          [
           2102914
          ],
          [
           2102992
          ],
          [
           2103087
          ],
          [
           2103464
          ],
          [
           2103829
          ],
          [
           2103839
          ],
          [
           2103869
          ],
          [
           2103919
          ],
          [
           2104105
          ],
          [
           2104140
          ],
          [
           2104162
          ],
          [
           2104289
          ],
          [
           2104367
          ],
          [
           2104603
          ],
          [
           2104763
          ],
          [
           2104884
          ],
          [
           2104955
          ],
          [
           2105106
          ],
          [
           2105145
          ],
          [
           2105176
          ],
          [
           2105211
          ],
          [
           2105264
          ],
          [
           2105486
          ],
          [
           2105489
          ],
          [
           2105497
          ],
          [
           2105555
          ],
          [
           2105816
          ],
          [
           2105839
          ],
          [
           2105905
          ],
          [
           2106179
          ],
          [
           2106309
          ],
          [
           2106658
          ],
          [
           2106663
          ],
          [
           2106725
          ],
          [
           2106762
          ],
          [
           2106790
          ],
          [
           2106876
          ],
          [
           2107026
          ],
          [
           2107095
          ],
          [
           2107178
          ],
          [
           2107344
          ],
          [
           2107366
          ],
          [
           2107522
          ],
          [
           2107538
          ],
          [
           2107676
          ],
          [
           2107847
          ],
          [
           2107957
          ],
          [
           2108089
          ],
          [
           2108125
          ],
          [
           2108448
          ],
          [
           2108491
          ],
          [
           2108676
          ],
          [
           2108766
          ],
          [
           2109128
          ],
          [
           2109333
          ],
          [
           2109464
          ],
          [
           2109465
          ],
          [
           2109509
          ],
          [
           2109611
          ],
          [
           2109658
          ],
          [
           2109660
          ],
          [
           2109711
          ],
          [
           2109806
          ],
          [
           2110034
          ],
          [
           2110259
          ],
          [
           2110260
          ],
          [
           2110361
          ],
          [
           2110580
          ],
          [
           2110810
          ],
          [
           2110899
          ],
          [
           2110977
          ],
          [
           2111116
          ],
          [
           2111214
          ],
          [
           2111402
          ],
          [
           2111718
          ],
          [
           2111730
          ],
          [
           2111815
          ],
          [
           2111930
          ],
          [
           2111937
          ],
          [
           2112502
          ],
          [
           2112505
          ],
          [
           2112628
          ],
          [
           2112652
          ],
          [
           2200122
          ],
          [
           2200585
          ],
          [
           2200595
          ],
          [
           2200633
          ],
          [
           2200667
          ],
          [
           2200769
          ],
          [
           2200837
          ],
          [
           2200928
          ],
          [
           2201132
          ],
          [
           2201193
          ],
          [
           2201317
          ],
          [
           2201395
          ],
          [
           2201416
          ],
          [
           2201646
          ],
          [
           2201700
          ],
          [
           2201785
          ],
          [
           2201858
          ],
          [
           2201863
          ],
          [
           2201902
          ],
          [
           2201949
          ],
          [
           2202014
          ],
          [
           2202071
          ],
          [
           2202170
          ],
          [
           2202206
          ],
          [
           2202211
          ],
          [
           2202295
          ],
          [
           2202473
          ],
          [
           2202494
          ],
          [
           2202526
          ],
          [
           2202539
          ],
          [
           2202578
          ],
          [
           2202622
          ],
          [
           2202816
          ],
          [
           2202835
          ],
          [
           2202853
          ],
          [
           2202909
          ],
          [
           2202917
          ],
          [
           2202965
          ],
          [
           2202968
          ],
          [
           2203091
          ],
          [
           2203114
          ],
          [
           2203139
          ],
          [
           2203165
          ],
          [
           2203208
          ],
          [
           2203257
          ],
          [
           2203333
          ],
          [
           2203430
          ],
          [
           2203450
          ],
          [
           2203545
          ],
          [
           2203605
          ],
          [
           2203609
          ],
          [
           2203677
          ],
          [
           2203755
          ],
          [
           2203771
          ],
          [
           2203848
          ],
          [
           2203900
          ],
          [
           2203904
          ],
          [
           2203992
          ],
          [
           2204062
          ],
          [
           2204193
          ],
          [
           2204204
          ],
          [
           2204263
          ],
          [
           2204278
          ],
          [
           2204307
          ],
          [
           2204347
          ],
          [
           2204414
          ],
          [
           2204450
          ],
          [
           2204507
          ],
          [
           2204549
          ],
          [
           2204611
          ],
          [
           2204613
          ],
          [
           2204702
          ],
          [
           2204739
          ],
          [
           2204818
          ],
          [
           2204851
          ],
          [
           2204881
          ],
          [
           2204899
          ],
          [
           2204938
          ],
          [
           2205013
          ],
          [
           2205049
          ],
          [
           2205183
          ],
          [
           2205214
          ],
          [
           2205232
          ],
          [
           2205233
          ],
          [
           2205454
          ],
          [
           2205492
          ],
          [
           2205543
          ],
          [
           2205544
          ],
          [
           2205572
          ],
          [
           2205600
          ],
          [
           2205630
          ],
          [
           2205648
          ],
          [
           2205668
          ],
          [
           2205673
          ],
          [
           2205710
          ],
          [
           2205733
          ],
          [
           2205737
          ],
          [
           2205749
          ],
          [
           2205762
          ],
          [
           2205775
          ],
          [
           2205777
          ],
          [
           2205797
          ],
          [
           2205799
          ],
          [
           2205813
          ],
          [
           2205819
          ],
          [
           2205945
          ],
          [
           2206041
          ],
          [
           2206078
          ],
          [
           2206093
          ],
          [
           2206157
          ],
          [
           2206161
          ],
          [
           2206250
          ],
          [
           2206297
          ],
          [
           2206332
          ],
          [
           2206338
          ],
          [
           2206360
          ],
          [
           2206368
          ],
          [
           2206461
          ],
          [
           2206474
          ],
          [
           2206483
          ],
          [
           2206585
          ],
          [
           2206591
          ],
          [
           2206613
          ],
          [
           2206650
          ],
          [
           2206662
          ],
          [
           2206664
          ],
          [
           2206701
          ],
          [
           2206716
          ],
          [
           2206731
          ],
          [
           2206734
          ],
          [
           2206742
          ],
          [
           2206750
          ],
          [
           2206768
          ],
          [
           2206882
          ],
          [
           2206979
          ],
          [
           2207052
          ],
          [
           2207093
          ],
          [
           2207245
          ],
          [
           2207267
          ],
          [
           2207291
          ],
          [
           2207334
          ],
          [
           2207368
          ],
          [
           2207374
          ],
          [
           2207453
          ],
          [
           2207460
          ],
          [
           2207553
          ],
          [
           2207629
          ],
          [
           2207679
          ],
          [
           2207733
          ],
          [
           2207769
          ],
          [
           2207772
          ],
          [
           2207825
          ],
          [
           2207851
          ],
          [
           2207879
          ],
          [
           2207892
          ],
          [
           2207922
          ],
          [
           2207930
          ],
          [
           2207963
          ],
          [
           2207976
          ],
          [
           2208112
          ],
          [
           2208235
          ],
          [
           2208269
          ],
          [
           2208273
          ],
          [
           2208442
          ],
          [
           2208463
          ],
          [
           2208485
          ],
          [
           2208568
          ],
          [
           2208579
          ],
          [
           2208632
          ],
          [
           2208633
          ],
          [
           2208679
          ],
          [
           2208680
          ],
          [
           2208720
          ],
          [
           2208723
          ],
          [
           2208794
          ],
          [
           2208810
          ],
          [
           2208812
          ],
          [
           2208837
          ],
          [
           2208877
          ],
          [
           2208911
          ],
          [
           2208946
          ],
          [
           2209017
          ],
          [
           2209160
          ],
          [
           2209287
          ],
          [
           2209419
          ],
          [
           2209429
          ],
          [
           2209458
          ],
          [
           2209576
          ],
          [
           2209580
          ],
          [
           2209779
          ],
          [
           2209827
          ],
          [
           2209836
          ],
          [
           2209856
          ],
          [
           2209924
          ],
          [
           2209973
          ],
          [
           2210196
          ],
          [
           2210208
          ],
          [
           2210256
          ],
          [
           2210359
          ],
          [
           2210362
          ],
          [
           2210656
          ],
          [
           2210748
          ],
          [
           2210757
          ],
          [
           2210773
          ],
          [
           2210824
          ],
          [
           2210887
          ],
          [
           2210896
          ],
          [
           2210908
          ],
          [
           2211013
          ],
          [
           2211144
          ],
          [
           2211185
          ],
          [
           2211227
          ],
          [
           2211476
          ],
          [
           2211782
          ],
          [
           2211796
          ],
          [
           2211836
          ],
          [
           2211848
          ],
          [
           2212856
          ],
          [
           2212925
          ],
          [
           2212997
          ],
          [
           2213012
          ],
          [
           2213129
          ],
          [
           2213205
          ],
          [
           2213614
          ],
          [
           2213630
          ],
          [
           2300250
          ]
         ],
         "hovertemplate": "cluster=0<br>Индекс успеваемости=%{x}<br>Количество пересдач=%{y}<br>Номер ЛД=%{customdata[0]}<extra></extra>",
         "legendgroup": "0",
         "marker": {
          "color": "#EF553B",
          "symbol": "circle"
         },
         "mode": "markers",
         "name": "0",
         "orientation": "v",
         "showlegend": true,
         "x": [
          0.9732539682539683,
          0.9944444444444445,
          0.8328835978835979,
          0.9240608465608466,
          0.9094973544973545,
          0.9711640211640211,
          0.9644047619047619,
          1.0,
          0.8013359788359788,
          0.916600529100529,
          0.7768386243386244,
          0.8903042328042328,
          0.8753306878306878,
          0.9516269841269841,
          0.8029232804232804,
          0.9748677248677248,
          0.973015873015873,
          0.936031746031746,
          0.9585317460317461,
          0.991111111111111,
          0.8339021164021164,
          0.8306216931216931,
          0.9226587301587301,
          0.9472354497354498,
          0.9933333333333333,
          0.9587169312169311,
          0.8308333333333334,
          1.0,
          0.900621693121693,
          0.9364550264550263,
          0.9343650793650794,
          0.8852645502645502,
          0.8515740740740741,
          0.8305820105820105,
          0.8814285714285713,
          0.7139153439153438,
          0.9183068783068783,
          0.985515873015873,
          0.7895502645502646,
          0.9793650793650794,
          0.8011640211640212,
          0.900952380952381,
          0.8396164021164022,
          0.823994708994709,
          0.8474603174603175,
          0.8718783068783069,
          0.9468253968253967,
          0.8507671957671957,
          0.9074338624338624,
          0.7415343915343916,
          0.8994312169312169,
          0.7956547619047618,
          0.8375793650793651,
          0.9844047619047619,
          0.9925925925925926,
          0.9178306878306878,
          0.9381216931216931,
          0.9744047619047619,
          0.9477116402116402,
          0.9944444444444445,
          0.8229100529100529,
          0.9418783068783069,
          0.8503174603174602,
          0.8683862433862434,
          0.7894642857142857,
          0.8513690476190476,
          0.9269047619047619,
          0.995,
          0.8689285714285714,
          1.0,
          0.9269642857142857,
          0.857936507936508,
          0.8985119047619048,
          0.7157142857142857,
          0.7694444444444444,
          0.8625,
          0.9214285714285714,
          0.9007936507936507,
          0.910952380952381,
          0.875,
          0.9432539682539682,
          0.8527777777777777,
          0.8967857142857143,
          0.7936904761904762,
          0.8134920634920635,
          0.9678571428571429,
          0.8998809523809523,
          0.9073214285714285,
          0.9377380952380951,
          0.9085119047619048,
          0.9515476190476191,
          0.7873809523809524,
          0.7817460317460317,
          0.7307142857142856,
          0.9577380952380952,
          0.9464880952380952,
          0.9235714285714285,
          0.7869047619047619,
          0.9539682539682539,
          0.969047619047619,
          0.9857142857142858,
          0.9182539682539682,
          1.0,
          0.9285714285714286,
          1.0,
          0.927797619047619,
          0.9027777777777778,
          0.9541666666666666,
          0.9888888888888889,
          0.9452380952380952,
          0.7051587301587301,
          0.9186507936507936,
          1.0,
          0.9854166666666666,
          0.9619047619047619,
          0.7837301587301587,
          0.7674603174603174,
          0.7646825396825396,
          0.9310714285714285,
          0.9305555555555556,
          0.9586309523809524,
          0.8591666666666666,
          0.937797619047619,
          0.8075396825396826,
          0.7904761904761906,
          0.7773809523809524,
          0.9944444444444445,
          0.765079365079365,
          0.7130952380952381,
          0.9341269841269841,
          0.9523809523809523,
          0.9253968253968253,
          0.7345833333333334,
          0.9172619047619047,
          0.7582738095238095,
          0.7206349206349206,
          1.0,
          0.8701785714285715,
          0.9595238095238096,
          0.9099206349206349,
          0.7444642857142857,
          0.9928571428571429,
          0.9944444444444445,
          0.7857142857142857,
          0.915952380952381,
          0.8776785714285714,
          0.7325396825396825,
          0.7015873015873015,
          0.8764285714285714,
          0.8373015873015873,
          0.9711309523809524,
          0.99375,
          0.8700595238095239,
          0.9158928571428571,
          0.7456349206349207,
          0.8583333333333334,
          0.8583333333333334,
          0.8942857142857144,
          0.8208333333333333,
          0.9166666666666667,
          0.7124999999999999,
          0.8625,
          0.7999999999999999,
          0.9166666666666667,
          0.8583333333333334,
          0.8625,
          0.7833333333333332,
          0.8875,
          0.95,
          0.8875,
          0.8708333333333333,
          0.9249999999999999,
          0.875,
          0.9583333333333333,
          1.0,
          0.8625,
          0.7833333333333332,
          0.9333333333333333,
          0.8458333333333334,
          0.7291666666666666,
          0.7874999999999999,
          0.8257142857142858,
          0.8291666666666666,
          0.8666666666666667,
          0.8916666666666667,
          0.9625,
          0.9416666666666667,
          0.825,
          0.7583333333333333,
          0.9666666666666667,
          0.9333333333333333,
          0.8458333333333334,
          0.9041666666666667,
          0.8333333333333333,
          0.8166666666666667,
          0.9041666666666667,
          0.8499999999999999,
          0.7749999999999999,
          0.9541666666666666,
          0.9333333333333333,
          0.9458333333333333,
          0.8916666666666667,
          0.9291666666666667,
          0.9583333333333333,
          0.8583333333333334,
          0.9171428571428573,
          0.9375,
          0.8333333333333333,
          0.9041666666666667,
          0.8625,
          0.8166666666666667,
          0.8416666666666667,
          0.8666666666666667,
          0.7916666666666666,
          0.8875,
          1.0,
          0.8416666666666667,
          0.7166666666666666,
          0.7291666666666666,
          1.0,
          1.0,
          0.9166666666666667,
          0.7749999999999999,
          0.8791666666666667,
          0.7833333333333332,
          0.9583333333333333,
          0.9571428571428571,
          0.7971428571428572,
          0.7833333333333332,
          0.8708333333333333,
          0.9166666666666667,
          0.9875,
          0.8458333333333334,
          0.9083333333333333,
          0.9708333333333332,
          0.9291666666666667,
          0.8708333333333333,
          0.7708333333333334,
          0.7541666666666667,
          0.8708333333333333,
          0.8625,
          0.9875,
          0.975,
          0.8875,
          0.9142857142857144,
          0.975,
          0.8583333333333334,
          0.98,
          0.8625,
          0.9708333333333332,
          0.9166666666666667,
          0.9583333333333333,
          0.7416666666666667,
          0.7833333333333333,
          0.7666666666666666,
          0.9166666666666667,
          0.7333333333333334,
          0.9166666666666667,
          0.9416666666666667,
          0.9085714285714286,
          0.9166666666666667,
          0.825,
          0.875,
          0.7791666666666666,
          0.8625,
          0.9583333333333333,
          0.9249999999999999,
          0.8742857142857143,
          0.9028571428571429,
          0.7458333333333333,
          0.8583333333333334,
          0.9514285714285714,
          0.8374999999999999,
          0.9166666666666667,
          0.9228571428571428,
          0.7761904761904762,
          0.8916666666666667,
          0.9833333333333333,
          0.9249999999999999,
          0.9833333333333333,
          0.7958333333333334,
          0.875,
          0.9708333333333332,
          0.8666666666666667,
          0.7375,
          0.875,
          0.8208333333333333,
          0.9875,
          0.8583333333333334,
          0.7999999999999999,
          0.8625,
          0.8333333333333333,
          0.9583333333333333,
          0.9291666666666667,
          0.7791666666666666,
          0.7291666666666666,
          0.8916666666666667,
          0.9228571428571428,
          0.9416666666666667,
          0.8083333333333333,
          0.9028571428571429,
          0.8499999999999999,
          0.7958333333333334,
          0.825,
          0.88,
          0.8999999999999999,
          0.8785714285714286,
          0.8916666666666667,
          0.7880952380952381,
          0.9514285714285714,
          0.8542857142857143,
          0.8958333333333334,
          0.9458333333333333,
          1.0,
          0.8476190476190476,
          0.8374999999999999,
          0.9458333333333333,
          0.9708333333333332,
          0.9583333333333333,
          0.9833333333333333,
          0.8583333333333334,
          0.9583333333333333,
          0.8583333333333334,
          0.7416666666666667,
          0.9514285714285714,
          0.9228571428571428,
          0.95,
          0.8514285714285714,
          0.8374999999999999,
          0.7749999999999999,
          0.9583333333333333,
          0.9333333333333333,
          1.0,
          0.7749999999999999,
          0.9625,
          0.8499999999999999,
          0.7571428571428571,
          0.9285714285714286,
          0.9041666666666667,
          0.7628571428571429,
          0.9085714285714286,
          0.8791666666666667,
          0.9583333333333333,
          0.937142857142857,
          0.9291666666666667,
          0.9583333333333333,
          0.9857142857142858,
          1.0,
          0.8047619047619048,
          0.9416666666666667,
          0.8257142857142858,
          0.9458333333333333,
          0.9458333333333333,
          0.9249999999999999,
          0.9875,
          0.875,
          0.8791666666666667,
          0.8916666666666666,
          0.7666666666666666,
          0.9514285714285714,
          0.98,
          0.9375,
          0.9125,
          0.8942857142857144,
          0.9458333333333333,
          0.8583333333333334,
          0.9166666666666667,
          0.9166666666666667,
          0.9041666666666667,
          0.8416666666666667,
          0.8708333333333333,
          0.7708333333333334,
          0.7124999999999999,
          0.8833333333333333,
          0.8999999999999999,
          0.8833333333333333,
          0.9375,
          0.9333333333333333,
          0.7047619047619047,
          0.8291666666666666
         ],
         "xaxis": "x",
         "y": [
          0.16666666666666666,
          0.0,
          0.16666666666666666,
          0.16666666666666666,
          0.0,
          0.0,
          0.3333333333333333,
          0.0,
          0.16666666666666666,
          0.0,
          0.16666666666666666,
          0.0,
          0.16666666666666666,
          0.16666666666666666,
          0.16666666666666666,
          0.0,
          0.0,
          0.0,
          0.0,
          0.0,
          0.16666666666666666,
          0.16666666666666666,
          0.16666666666666666,
          0.0,
          0.0,
          0.3333333333333333,
          0.16666666666666666,
          0.0,
          0.0,
          0.16666666666666666,
          0.0,
          0.0,
          0.16666666666666666,
          0.16666666666666666,
          0.16666666666666666,
          0.0,
          0.16666666666666666,
          0.0,
          0.16666666666666666,
          0.0,
          0.16666666666666666,
          0.0,
          0.0,
          0.0,
          0.0,
          0.16666666666666666,
          0.0,
          0.16666666666666666,
          0.0,
          0.0,
          0.0,
          0.0,
          0.0,
          0.0,
          0.0,
          0.0,
          0.0,
          0.0,
          0.16666666666666666,
          0.0,
          0.16666666666666666,
          0.3333333333333333,
          0.0,
          0.16666666666666666,
          0.0,
          0.25,
          0.0,
          0.0,
          0.25,
          0.0,
          0.25,
          0.0,
          0.25,
          0.0,
          0.0,
          0.0,
          0.0,
          0.0,
          0.25,
          0.0,
          0.0,
          0.25,
          0.0,
          0.0,
          0.0,
          0.0,
          0.25,
          0.0,
          0.25,
          0.25,
          0.0,
          0.0,
          0.0,
          0.0,
          0.0,
          0.25,
          0.25,
          0.0,
          0.0,
          0.0,
          0.0,
          0.0,
          0.0,
          0.0,
          0.0,
          0.25,
          0.0,
          0.0,
          0.0,
          0.0,
          0.0,
          0.0,
          0.0,
          0.0,
          0.0,
          0.0,
          0.0,
          0.0,
          0.25,
          0.0,
          0.25,
          0.25,
          0.0,
          0.0,
          0.0,
          0.0,
          0.0,
          0.0,
          0.0,
          0.0,
          0.0,
          0.0,
          0.0,
          0.25,
          0.0,
          0.0,
          0.0,
          0.25,
          0.0,
          0.0,
          0.0,
          0.0,
          0.0,
          0.0,
          0.25,
          0.25,
          0.0,
          0.0,
          0.25,
          0.0,
          0.0,
          0.0,
          0.0,
          0.25,
          0.0,
          0.0,
          0.0,
          0.0,
          0.0,
          0.0,
          0.0,
          0.0,
          0.0,
          0.0,
          0.0,
          0.0,
          0.0,
          0.0,
          0.0,
          0.0,
          0.0,
          0.0,
          0.0,
          0.0,
          0.0,
          0.0,
          0.0,
          0.0,
          0.0,
          0.0,
          0.0,
          0.0,
          0.0,
          0.0,
          0.0,
          0.0,
          0.0,
          0.0,
          0.0,
          0.0,
          0.0,
          0.0,
          0.0,
          0.0,
          0.0,
          0.0,
          0.0,
          0.0,
          0.0,
          0.0,
          0.0,
          0.0,
          0.0,
          0.0,
          0.0,
          0.0,
          0.0,
          0.0,
          0.0,
          0.0,
          0.0,
          0.0,
          0.0,
          0.0,
          0.0,
          0.0,
          0.0,
          0.0,
          0.0,
          0.0,
          0.0,
          0.0,
          0.0,
          0.0,
          0.0,
          0.0,
          0.0,
          0.0,
          0.0,
          0.0,
          0.0,
          0.0,
          0.0,
          0.0,
          0.0,
          0.0,
          0.0,
          0.0,
          0.0,
          0.0,
          0.0,
          0.0,
          0.0,
          0.0,
          0.0,
          0.0,
          0.0,
          0.0,
          0.0,
          0.0,
          0.0,
          0.0,
          0.0,
          0.0,
          0.0,
          0.0,
          0.0,
          0.0,
          0.0,
          0.0,
          0.0,
          0.0,
          0.0,
          0.0,
          0.0,
          0.0,
          0.0,
          0.0,
          0.0,
          0.0,
          0.0,
          0.0,
          0.0,
          0.0,
          0.0,
          0.0,
          0.0,
          0.0,
          0.0,
          0.0,
          0.0,
          0.0,
          0.0,
          0.0,
          0.0,
          0.0,
          0.0,
          0.0,
          0.0,
          0.0,
          0.0,
          0.0,
          0.0,
          0.0,
          0.0,
          0.0,
          0.0,
          0.0,
          0.0,
          0.0,
          0.0,
          0.0,
          0.0,
          0.0,
          0.0,
          0.0,
          0.0,
          0.0,
          0.0,
          0.0,
          0.0,
          0.0,
          0.0,
          0.0,
          0.0,
          0.0,
          0.0,
          0.0,
          0.0,
          0.0,
          0.0,
          0.0,
          0.0,
          0.0,
          0.0,
          0.0,
          0.0,
          0.0,
          0.0,
          0.0,
          0.0,
          0.0,
          0.0,
          0.0,
          0.0,
          0.0,
          0.0,
          0.0,
          0.0,
          0.0,
          0.0,
          0.0,
          0.0,
          0.0,
          0.0,
          0.0,
          0.0,
          0.0,
          0.0,
          0.0,
          0.0,
          0.0,
          0.0,
          0.0,
          0.0,
          0.0,
          0.0,
          0.0,
          0.0,
          0.0,
          0.0,
          0.0,
          0.0,
          0.0,
          0.0,
          0.0,
          0.0,
          0.0,
          0.0,
          0.0,
          0.0,
          0.0,
          0.0,
          0.0,
          0.0,
          0.0,
          0.0,
          0.0,
          0.0,
          0.0
         ],
         "yaxis": "y",
         "type": "scatter"
        },
        {
         "customdata": [
          [
           1901399
          ],
          [
           1904355
          ],
          [
           1906385
          ],
          [
           1910759
          ],
          [
           2005322
          ],
          [
           2006895
          ],
          [
           2105680
          ],
          [
           2201841
          ],
          [
           2203420
          ],
          [
           2208674
          ]
         ],
         "hovertemplate": "cluster=2<br>Индекс успеваемости=%{x}<br>Количество пересдач=%{y}<br>Номер ЛД=%{customdata[0]}<extra></extra>",
         "legendgroup": "2",
         "marker": {
          "color": "#00cc96",
          "symbol": "circle"
         },
         "mode": "markers",
         "name": "2",
         "orientation": "v",
         "showlegend": true,
         "x": [
          0.6554232804232804,
          0.8002976190476191,
          0.5493055555555555,
          0.43976190476190474,
          0.5721230158730158,
          0.7129166666666666,
          0.8416666666666667,
          0.49583333333333335,
          0.5657142857142857,
          0.7547619047619047
         ],
         "xaxis": "x",
         "y": [
          1.6666666666666667,
          3.0,
          2.25,
          1.75,
          1.25,
          1.25,
          2.0,
          2.0,
          1.5,
          1.5
         ],
         "yaxis": "y",
         "type": "scatter"
        },
        {
         "customdata": [
          [
           1902754
          ],
          [
           1905782
          ],
          [
           1908111
          ],
          [
           2000367
          ],
          [
           2000389
          ],
          [
           2001555
          ],
          [
           2002725
          ],
          [
           2003135
          ],
          [
           2003342
          ],
          [
           2003447
          ],
          [
           2003573
          ],
          [
           2003701
          ],
          [
           2003965
          ],
          [
           2003973
          ],
          [
           2003982
          ],
          [
           2004102
          ],
          [
           2004492
          ],
          [
           2004596
          ],
          [
           2004622
          ],
          [
           2004712
          ],
          [
           2004813
          ],
          [
           2004903
          ],
          [
           2004918
          ],
          [
           2004958
          ],
          [
           2005230
          ],
          [
           2005509
          ],
          [
           2005594
          ],
          [
           2005619
          ],
          [
           2005826
          ],
          [
           2006042
          ],
          [
           2006116
          ],
          [
           2006169
          ],
          [
           2006485
          ],
          [
           2006712
          ],
          [
           2006761
          ],
          [
           2007394
          ],
          [
           2007447
          ],
          [
           2007576
          ],
          [
           2007751
          ],
          [
           2007923
          ],
          [
           2007980
          ],
          [
           2008518
          ],
          [
           2008750
          ],
          [
           2008803
          ],
          [
           2008811
          ],
          [
           2009005
          ],
          [
           2009010
          ],
          [
           2009021
          ],
          [
           2009121
          ],
          [
           2009222
          ],
          [
           2009435
          ],
          [
           2009705
          ],
          [
           2009758
          ],
          [
           2009841
          ],
          [
           2010218
          ],
          [
           2010247
          ],
          [
           2010530
          ],
          [
           2010712
          ],
          [
           2011090
          ],
          [
           2100100
          ],
          [
           2100604
          ],
          [
           2101119
          ],
          [
           2101722
          ],
          [
           2101813
          ],
          [
           2102425
          ],
          [
           2103290
          ],
          [
           2103545
          ],
          [
           2103547
          ],
          [
           2103637
          ],
          [
           2103665
          ],
          [
           2103988
          ],
          [
           2104150
          ],
          [
           2104319
          ],
          [
           2104685
          ],
          [
           2104828
          ],
          [
           2104888
          ],
          [
           2105058
          ],
          [
           2105538
          ],
          [
           2105826
          ],
          [
           2106008
          ],
          [
           2106565
          ],
          [
           2107072
          ],
          [
           2107923
          ],
          [
           2108103
          ],
          [
           2108312
          ],
          [
           2108347
          ],
          [
           2108353
          ],
          [
           2108364
          ],
          [
           2109138
          ],
          [
           2109367
          ],
          [
           2109923
          ],
          [
           2110098
          ],
          [
           2110234
          ],
          [
           2110950
          ],
          [
           2111017
          ],
          [
           2111184
          ],
          [
           2111439
          ],
          [
           2111823
          ],
          [
           2111927
          ],
          [
           2112462
          ],
          [
           2112481
          ],
          [
           2112543
          ],
          [
           2112554
          ],
          [
           2112602
          ],
          [
           2112613
          ],
          [
           2112614
          ],
          [
           2112627
          ],
          [
           2112813
          ],
          [
           2200666
          ],
          [
           2201876
          ],
          [
           2201880
          ],
          [
           2202023
          ],
          [
           2202278
          ],
          [
           2202392
          ],
          [
           2202405
          ],
          [
           2202518
          ],
          [
           2202575
          ],
          [
           2202650
          ],
          [
           2203052
          ],
          [
           2203119
          ],
          [
           2203284
          ],
          [
           2203287
          ],
          [
           2203343
          ],
          [
           2203368
          ],
          [
           2203565
          ],
          [
           2203621
          ],
          [
           2203701
          ],
          [
           2204012
          ],
          [
           2204084
          ],
          [
           2204381
          ],
          [
           2204480
          ],
          [
           2204685
          ],
          [
           2204950
          ],
          [
           2205029
          ],
          [
           2205288
          ],
          [
           2205455
          ],
          [
           2205637
          ],
          [
           2205768
          ],
          [
           2205779
          ],
          [
           2206107
          ],
          [
           2206182
          ],
          [
           2206343
          ],
          [
           2206671
          ],
          [
           2206722
          ],
          [
           2207556
          ],
          [
           2207808
          ],
          [
           2207838
          ],
          [
           2208116
          ],
          [
           2209065
          ],
          [
           2209417
          ],
          [
           2209473
          ],
          [
           2209487
          ],
          [
           2210044
          ],
          [
           2210781
          ],
          [
           2210977
          ],
          [
           2211121
          ],
          [
           2211177
          ],
          [
           2211368
          ],
          [
           2211487
          ],
          [
           2211702
          ],
          [
           2211854
          ],
          [
           2213034
          ],
          [
           2213062
          ],
          [
           2213064
          ],
          [
           2213103
          ],
          [
           2213240
          ],
          [
           2213996
          ],
          [
           2213997
          ],
          [
           2213999
          ],
          [
           2214005
          ],
          [
           2214018
          ],
          [
           2214019
          ],
          [
           2214034
          ],
          [
           2214035
          ],
          [
           2214091
          ],
          [
           2315861
          ]
         ],
         "hovertemplate": "cluster=1<br>Индекс успеваемости=%{x}<br>Количество пересдач=%{y}<br>Номер ЛД=%{customdata[0]}<extra></extra>",
         "legendgroup": "1",
         "marker": {
          "color": "#ab63fa",
          "symbol": "circle"
         },
         "mode": "markers",
         "name": "1",
         "orientation": "v",
         "showlegend": true,
         "x": [
          0.8111507936507937,
          0.9416666666666667,
          0.8164153439153439,
          0.8684126984126984,
          0.9109920634920634,
          0.7142989417989417,
          0.8998677248677248,
          0.7394444444444445,
          0.7681481481481481,
          0.7516798941798942,
          0.770952380952381,
          0.788994708994709,
          0.7449338624338625,
          0.774563492063492,
          0.6770238095238095,
          0.7573412698412699,
          0.7227513227513227,
          0.722089947089947,
          0.7443783068783069,
          0.750462962962963,
          0.7631349206349206,
          0.7558862433862433,
          0.6696031746031745,
          0.8691666666666666,
          0.7472354497354496,
          0.8368518518518518,
          0.7249206349206349,
          0.7237566137566137,
          0.9854166666666666,
          0.6899603174603174,
          0.7873809523809524,
          0.885542328042328,
          0.7568650793650793,
          0.8865608465608465,
          0.754047619047619,
          0.7460119047619047,
          0.773531746031746,
          0.6642328042328042,
          0.7512433862433863,
          0.7011507936507937,
          0.714589947089947,
          0.7782407407407407,
          0.694100529100529,
          0.6827910052910053,
          0.8807275132275132,
          0.7932407407407407,
          0.7916798941798943,
          0.9066534391534392,
          0.7288359788359787,
          0.7202910052910053,
          0.6428571428571428,
          0.714021164021164,
          0.851058201058201,
          0.7733465608465608,
          0.7866666666666666,
          0.7075,
          0.751957671957672,
          0.6488095238095237,
          0.7883730158730158,
          0.8105820105820105,
          0.8611904761904762,
          0.8801785714285714,
          0.7928571428571428,
          0.7928571428571428,
          0.7385912698412698,
          0.7986309523809524,
          0.789047619047619,
          0.9598214285714286,
          0.7958333333333334,
          0.7501190476190476,
          0.7188690476190476,
          0.7602380952380952,
          0.808531746031746,
          0.846547619047619,
          0.7610119047619047,
          0.7555952380952381,
          0.7541666666666667,
          0.8329761904761905,
          0.7508928571428571,
          0.785595238095238,
          0.8248809523809524,
          0.7494642857142857,
          0.7661904761904761,
          0.7873809523809524,
          0.763452380952381,
          0.9219047619047619,
          0.8266071428571428,
          0.7291666666666667,
          0.8275,
          0.8191666666666667,
          0.8191071428571428,
          0.9289285714285714,
          0.6902777777777778,
          0.6604166666666667,
          0.7444047619047619,
          0.7685714285714285,
          0.84,
          0.7650000000000001,
          0.7377380952380952,
          0.7012499999999999,
          0.7820238095238096,
          0.7435515873015872,
          0.7644047619047618,
          0.8179166666666667,
          0.7661309523809524,
          0.7489880952380952,
          0.6938492063492063,
          0.7917989417989418,
          0.7958333333333334,
          0.8999999999999999,
          0.7916666666666666,
          0.8023809523809524,
          0.9541666666666666,
          0.8499999999999999,
          0.8333333333333333,
          0.8583333333333334,
          0.8208333333333333,
          0.7708333333333333,
          0.7416666666666667,
          0.7738095238095237,
          0.7047619047619047,
          0.8625,
          0.7874999999999999,
          0.8125,
          0.6523809523809523,
          0.8041666666666666,
          0.7208333333333333,
          0.75,
          0.8166666666666667,
          0.7749999999999999,
          0.9041666666666667,
          0.6583333333333333,
          0.7875,
          0.9708333333333332,
          0.8541666666666666,
          0.7285714285714285,
          0.8041666666666666,
          0.7416666666666667,
          0.8416666666666667,
          0.7791666666666667,
          0.937142857142857,
          0.7208333333333333,
          0.8291666666666666,
          0.7999999999999999,
          0.8166666666666667,
          0.7071428571428571,
          0.8047619047619048,
          0.725,
          0.8125,
          0.9166666666666667,
          0.6958333333333333,
          0.9114285714285715,
          0.8499999999999999,
          0.9041666666666667,
          0.8,
          0.7916666666666666,
          0.825,
          0.875,
          0.7333333333333333,
          0.6333333333333333,
          0.85,
          0.7999999999999999,
          0.7999999999999999,
          0.7428571428571429,
          0.9249999999999999,
          0.7119047619047618,
          0.7369642857142857,
          0.7497619047619047,
          0.8135714285714285,
          0.7992857142857143,
          0.7354761904761904,
          0.7551785714285714,
          0.7816071428571428,
          0.6991666666666667,
          0.8229761904761905,
          0.7170833333333333
         ],
         "xaxis": "x",
         "y": [
          0.3333333333333333,
          0.5,
          0.3333333333333333,
          0.3333333333333333,
          0.5,
          0.16666666666666666,
          0.3333333333333333,
          0.3333333333333333,
          0.5,
          0.16666666666666666,
          0.3333333333333333,
          0.5,
          0.5,
          0.5,
          0.3333333333333333,
          0.16666666666666666,
          0.16666666666666666,
          0.16666666666666666,
          0.16666666666666666,
          0.3333333333333333,
          0.16666666666666666,
          0.5,
          0.5,
          0.3333333333333333,
          0.5,
          0.5,
          0.3333333333333333,
          0.3333333333333333,
          0.5,
          0.3333333333333333,
          0.3333333333333333,
          0.3333333333333333,
          0.5,
          0.3333333333333333,
          0.3333333333333333,
          0.5,
          0.3333333333333333,
          0.5,
          0.5,
          0.16666666666666666,
          0.3333333333333333,
          0.3333333333333333,
          0.3333333333333333,
          0.3333333333333333,
          0.3333333333333333,
          0.3333333333333333,
          0.5,
          0.3333333333333333,
          0.3333333333333333,
          0.3333333333333333,
          1.0,
          0.3333333333333333,
          0.3333333333333333,
          0.3333333333333333,
          0.3333333333333333,
          0.25,
          0.3333333333333333,
          1.0,
          0.3333333333333333,
          0.5,
          0.75,
          0.5,
          0.5,
          0.5,
          0.25,
          0.5,
          0.5,
          0.5,
          0.5,
          0.5,
          0.5,
          0.25,
          0.5,
          0.25,
          0.25,
          0.25,
          0.5,
          0.25,
          0.75,
          0.25,
          0.25,
          0.5,
          0.75,
          0.5,
          0.25,
          0.75,
          0.25,
          0.5,
          0.5,
          0.5,
          0.25,
          0.5,
          0.5,
          0.75,
          0.25,
          0.25,
          0.5,
          0.5,
          0.25,
          0.25,
          0.25,
          0.25,
          0.5,
          0.25,
          0.75,
          0.5,
          0.25,
          0.5,
          0.5,
          0.5,
          0.5,
          0.5,
          0.5,
          0.5,
          0.5,
          0.5,
          0.5,
          0.5,
          0.5,
          0.5,
          0.5,
          0.5,
          0.5,
          0.5,
          0.5,
          0.5,
          0.5,
          0.5,
          0.5,
          0.5,
          0.5,
          0.5,
          0.5,
          0.5,
          0.5,
          0.5,
          0.5,
          0.5,
          0.5,
          0.5,
          0.5,
          0.5,
          0.5,
          0.5,
          0.5,
          0.5,
          0.5,
          0.5,
          0.5,
          0.5,
          0.5,
          1.0,
          0.5,
          0.5,
          0.5,
          0.5,
          0.5,
          0.5,
          0.5,
          1.0,
          0.5,
          0.5,
          0.5,
          0.5,
          0.5,
          0.5,
          0.25,
          0.75,
          0.5,
          0.5,
          0.75,
          0.5,
          0.25,
          0.25,
          0.25,
          0.25
         ],
         "yaxis": "y",
         "type": "scatter"
        }
       ],
       "layout": {
        "template": {
         "data": {
          "histogram2dcontour": [
           {
            "type": "histogram2dcontour",
            "colorbar": {
             "outlinewidth": 0,
             "ticks": ""
            },
            "colorscale": [
             [
              0.0,
              "#0d0887"
             ],
             [
              0.1111111111111111,
              "#46039f"
             ],
             [
              0.2222222222222222,
              "#7201a8"
             ],
             [
              0.3333333333333333,
              "#9c179e"
             ],
             [
              0.4444444444444444,
              "#bd3786"
             ],
             [
              0.5555555555555556,
              "#d8576b"
             ],
             [
              0.6666666666666666,
              "#ed7953"
             ],
             [
              0.7777777777777778,
              "#fb9f3a"
             ],
             [
              0.8888888888888888,
              "#fdca26"
             ],
             [
              1.0,
              "#f0f921"
             ]
            ]
           }
          ],
          "choropleth": [
           {
            "type": "choropleth",
            "colorbar": {
             "outlinewidth": 0,
             "ticks": ""
            }
           }
          ],
          "histogram2d": [
           {
            "type": "histogram2d",
            "colorbar": {
             "outlinewidth": 0,
             "ticks": ""
            },
            "colorscale": [
             [
              0.0,
              "#0d0887"
             ],
             [
              0.1111111111111111,
              "#46039f"
             ],
             [
              0.2222222222222222,
              "#7201a8"
             ],
             [
              0.3333333333333333,
              "#9c179e"
             ],
             [
              0.4444444444444444,
              "#bd3786"
             ],
             [
              0.5555555555555556,
              "#d8576b"
             ],
             [
              0.6666666666666666,
              "#ed7953"
             ],
             [
              0.7777777777777778,
              "#fb9f3a"
             ],
             [
              0.8888888888888888,
              "#fdca26"
             ],
             [
              1.0,
              "#f0f921"
             ]
            ]
           }
          ],
          "heatmap": [
           {
            "type": "heatmap",
            "colorbar": {
             "outlinewidth": 0,
             "ticks": ""
            },
            "colorscale": [
             [
              0.0,
              "#0d0887"
             ],
             [
              0.1111111111111111,
              "#46039f"
             ],
             [
              0.2222222222222222,
              "#7201a8"
             ],
             [
              0.3333333333333333,
              "#9c179e"
             ],
             [
              0.4444444444444444,
              "#bd3786"
             ],
             [
              0.5555555555555556,
              "#d8576b"
             ],
             [
              0.6666666666666666,
              "#ed7953"
             ],
             [
              0.7777777777777778,
              "#fb9f3a"
             ],
             [
              0.8888888888888888,
              "#fdca26"
             ],
             [
              1.0,
              "#f0f921"
             ]
            ]
           }
          ],
          "heatmapgl": [
           {
            "type": "heatmapgl",
            "colorbar": {
             "outlinewidth": 0,
             "ticks": ""
            },
            "colorscale": [
             [
              0.0,
              "#0d0887"
             ],
             [
              0.1111111111111111,
              "#46039f"
             ],
             [
              0.2222222222222222,
              "#7201a8"
             ],
             [
              0.3333333333333333,
              "#9c179e"
             ],
             [
              0.4444444444444444,
              "#bd3786"
             ],
             [
              0.5555555555555556,
              "#d8576b"
             ],
             [
              0.6666666666666666,
              "#ed7953"
             ],
             [
              0.7777777777777778,
              "#fb9f3a"
             ],
             [
              0.8888888888888888,
              "#fdca26"
             ],
             [
              1.0,
              "#f0f921"
             ]
            ]
           }
          ],
          "contourcarpet": [
           {
            "type": "contourcarpet",
            "colorbar": {
             "outlinewidth": 0,
             "ticks": ""
            }
           }
          ],
          "contour": [
           {
            "type": "contour",
            "colorbar": {
             "outlinewidth": 0,
             "ticks": ""
            },
            "colorscale": [
             [
              0.0,
              "#0d0887"
             ],
             [
              0.1111111111111111,
              "#46039f"
             ],
             [
              0.2222222222222222,
              "#7201a8"
             ],
             [
              0.3333333333333333,
              "#9c179e"
             ],
             [
              0.4444444444444444,
              "#bd3786"
             ],
             [
              0.5555555555555556,
              "#d8576b"
             ],
             [
              0.6666666666666666,
              "#ed7953"
             ],
             [
              0.7777777777777778,
              "#fb9f3a"
             ],
             [
              0.8888888888888888,
              "#fdca26"
             ],
             [
              1.0,
              "#f0f921"
             ]
            ]
           }
          ],
          "surface": [
           {
            "type": "surface",
            "colorbar": {
             "outlinewidth": 0,
             "ticks": ""
            },
            "colorscale": [
             [
              0.0,
              "#0d0887"
             ],
             [
              0.1111111111111111,
              "#46039f"
             ],
             [
              0.2222222222222222,
              "#7201a8"
             ],
             [
              0.3333333333333333,
              "#9c179e"
             ],
             [
              0.4444444444444444,
              "#bd3786"
             ],
             [
              0.5555555555555556,
              "#d8576b"
             ],
             [
              0.6666666666666666,
              "#ed7953"
             ],
             [
              0.7777777777777778,
              "#fb9f3a"
             ],
             [
              0.8888888888888888,
              "#fdca26"
             ],
             [
              1.0,
              "#f0f921"
             ]
            ]
           }
          ],
          "mesh3d": [
           {
            "type": "mesh3d",
            "colorbar": {
             "outlinewidth": 0,
             "ticks": ""
            }
           }
          ],
          "scatter": [
           {
            "marker": {
             "line": {
              "color": "#283442"
             }
            },
            "type": "scatter"
           }
          ],
          "parcoords": [
           {
            "type": "parcoords",
            "line": {
             "colorbar": {
              "outlinewidth": 0,
              "ticks": ""
             }
            }
           }
          ],
          "scatterpolargl": [
           {
            "type": "scatterpolargl",
            "marker": {
             "colorbar": {
              "outlinewidth": 0,
              "ticks": ""
             }
            }
           }
          ],
          "bar": [
           {
            "error_x": {
             "color": "#f2f5fa"
            },
            "error_y": {
             "color": "#f2f5fa"
            },
            "marker": {
             "line": {
              "color": "rgb(17,17,17)",
              "width": 0.5
             },
             "pattern": {
              "fillmode": "overlay",
              "size": 10,
              "solidity": 0.2
             }
            },
            "type": "bar"
           }
          ],
          "scattergeo": [
           {
            "type": "scattergeo",
            "marker": {
             "colorbar": {
              "outlinewidth": 0,
              "ticks": ""
             }
            }
           }
          ],
          "scatterpolar": [
           {
            "type": "scatterpolar",
            "marker": {
             "colorbar": {
              "outlinewidth": 0,
              "ticks": ""
             }
            }
           }
          ],
          "histogram": [
           {
            "marker": {
             "pattern": {
              "fillmode": "overlay",
              "size": 10,
              "solidity": 0.2
             }
            },
            "type": "histogram"
           }
          ],
          "scattergl": [
           {
            "marker": {
             "line": {
              "color": "#283442"
             }
            },
            "type": "scattergl"
           }
          ],
          "scatter3d": [
           {
            "type": "scatter3d",
            "line": {
             "colorbar": {
              "outlinewidth": 0,
              "ticks": ""
             }
            },
            "marker": {
             "colorbar": {
              "outlinewidth": 0,
              "ticks": ""
             }
            }
           }
          ],
          "scattermapbox": [
           {
            "type": "scattermapbox",
            "marker": {
             "colorbar": {
              "outlinewidth": 0,
              "ticks": ""
             }
            }
           }
          ],
          "scatterternary": [
           {
            "type": "scatterternary",
            "marker": {
             "colorbar": {
              "outlinewidth": 0,
              "ticks": ""
             }
            }
           }
          ],
          "scattercarpet": [
           {
            "type": "scattercarpet",
            "marker": {
             "colorbar": {
              "outlinewidth": 0,
              "ticks": ""
             }
            }
           }
          ],
          "carpet": [
           {
            "aaxis": {
             "endlinecolor": "#A2B1C6",
             "gridcolor": "#506784",
             "linecolor": "#506784",
             "minorgridcolor": "#506784",
             "startlinecolor": "#A2B1C6"
            },
            "baxis": {
             "endlinecolor": "#A2B1C6",
             "gridcolor": "#506784",
             "linecolor": "#506784",
             "minorgridcolor": "#506784",
             "startlinecolor": "#A2B1C6"
            },
            "type": "carpet"
           }
          ],
          "table": [
           {
            "cells": {
             "fill": {
              "color": "#506784"
             },
             "line": {
              "color": "rgb(17,17,17)"
             }
            },
            "header": {
             "fill": {
              "color": "#2a3f5f"
             },
             "line": {
              "color": "rgb(17,17,17)"
             }
            },
            "type": "table"
           }
          ],
          "barpolar": [
           {
            "marker": {
             "line": {
              "color": "rgb(17,17,17)",
              "width": 0.5
             },
             "pattern": {
              "fillmode": "overlay",
              "size": 10,
              "solidity": 0.2
             }
            },
            "type": "barpolar"
           }
          ],
          "pie": [
           {
            "automargin": true,
            "type": "pie"
           }
          ]
         },
         "layout": {
          "autotypenumbers": "strict",
          "colorway": [
           "#636efa",
           "#EF553B",
           "#00cc96",
           "#ab63fa",
           "#FFA15A",
           "#19d3f3",
           "#FF6692",
           "#B6E880",
           "#FF97FF",
           "#FECB52"
          ],
          "font": {
           "color": "#f2f5fa"
          },
          "hovermode": "closest",
          "hoverlabel": {
           "align": "left"
          },
          "paper_bgcolor": "rgb(17,17,17)",
          "plot_bgcolor": "rgb(17,17,17)",
          "polar": {
           "bgcolor": "rgb(17,17,17)",
           "angularaxis": {
            "gridcolor": "#506784",
            "linecolor": "#506784",
            "ticks": ""
           },
           "radialaxis": {
            "gridcolor": "#506784",
            "linecolor": "#506784",
            "ticks": ""
           }
          },
          "ternary": {
           "bgcolor": "rgb(17,17,17)",
           "aaxis": {
            "gridcolor": "#506784",
            "linecolor": "#506784",
            "ticks": ""
           },
           "baxis": {
            "gridcolor": "#506784",
            "linecolor": "#506784",
            "ticks": ""
           },
           "caxis": {
            "gridcolor": "#506784",
            "linecolor": "#506784",
            "ticks": ""
           }
          },
          "coloraxis": {
           "colorbar": {
            "outlinewidth": 0,
            "ticks": ""
           }
          },
          "colorscale": {
           "sequential": [
            [
             0.0,
             "#0d0887"
            ],
            [
             0.1111111111111111,
             "#46039f"
            ],
            [
             0.2222222222222222,
             "#7201a8"
            ],
            [
             0.3333333333333333,
             "#9c179e"
            ],
            [
             0.4444444444444444,
             "#bd3786"
            ],
            [
             0.5555555555555556,
             "#d8576b"
            ],
            [
             0.6666666666666666,
             "#ed7953"
            ],
            [
             0.7777777777777778,
             "#fb9f3a"
            ],
            [
             0.8888888888888888,
             "#fdca26"
            ],
            [
             1.0,
             "#f0f921"
            ]
           ],
           "sequentialminus": [
            [
             0.0,
             "#0d0887"
            ],
            [
             0.1111111111111111,
             "#46039f"
            ],
            [
             0.2222222222222222,
             "#7201a8"
            ],
            [
             0.3333333333333333,
             "#9c179e"
            ],
            [
             0.4444444444444444,
             "#bd3786"
            ],
            [
             0.5555555555555556,
             "#d8576b"
            ],
            [
             0.6666666666666666,
             "#ed7953"
            ],
            [
             0.7777777777777778,
             "#fb9f3a"
            ],
            [
             0.8888888888888888,
             "#fdca26"
            ],
            [
             1.0,
             "#f0f921"
            ]
           ],
           "diverging": [
            [
             0,
             "#8e0152"
            ],
            [
             0.1,
             "#c51b7d"
            ],
            [
             0.2,
             "#de77ae"
            ],
            [
             0.3,
             "#f1b6da"
            ],
            [
             0.4,
             "#fde0ef"
            ],
            [
             0.5,
             "#f7f7f7"
            ],
            [
             0.6,
             "#e6f5d0"
            ],
            [
             0.7,
             "#b8e186"
            ],
            [
             0.8,
             "#7fbc41"
            ],
            [
             0.9,
             "#4d9221"
            ],
            [
             1,
             "#276419"
            ]
           ]
          },
          "xaxis": {
           "gridcolor": "#283442",
           "linecolor": "#506784",
           "ticks": "",
           "title": {
            "standoff": 15
           },
           "zerolinecolor": "#283442",
           "automargin": true,
           "zerolinewidth": 2
          },
          "yaxis": {
           "gridcolor": "#283442",
           "linecolor": "#506784",
           "ticks": "",
           "title": {
            "standoff": 15
           },
           "zerolinecolor": "#283442",
           "automargin": true,
           "zerolinewidth": 2
          },
          "scene": {
           "xaxis": {
            "backgroundcolor": "rgb(17,17,17)",
            "gridcolor": "#506784",
            "linecolor": "#506784",
            "showbackground": true,
            "ticks": "",
            "zerolinecolor": "#C8D4E3",
            "gridwidth": 2
           },
           "yaxis": {
            "backgroundcolor": "rgb(17,17,17)",
            "gridcolor": "#506784",
            "linecolor": "#506784",
            "showbackground": true,
            "ticks": "",
            "zerolinecolor": "#C8D4E3",
            "gridwidth": 2
           },
           "zaxis": {
            "backgroundcolor": "rgb(17,17,17)",
            "gridcolor": "#506784",
            "linecolor": "#506784",
            "showbackground": true,
            "ticks": "",
            "zerolinecolor": "#C8D4E3",
            "gridwidth": 2
           }
          },
          "shapedefaults": {
           "line": {
            "color": "#f2f5fa"
           }
          },
          "annotationdefaults": {
           "arrowcolor": "#f2f5fa",
           "arrowhead": 0,
           "arrowwidth": 1
          },
          "geo": {
           "bgcolor": "rgb(17,17,17)",
           "landcolor": "rgb(17,17,17)",
           "subunitcolor": "#506784",
           "showland": true,
           "showlakes": true,
           "lakecolor": "rgb(17,17,17)"
          },
          "title": {
           "x": 0.05
          },
          "updatemenudefaults": {
           "bgcolor": "#506784",
           "borderwidth": 0
          },
          "sliderdefaults": {
           "bgcolor": "#C8D4E3",
           "borderwidth": 1,
           "bordercolor": "rgb(17,17,17)",
           "tickwidth": 0
          },
          "mapbox": {
           "style": "dark"
          }
         }
        },
        "xaxis": {
         "anchor": "y",
         "domain": [
          0.0,
          1.0
         ],
         "title": {
          "text": "Индекс успеваемости"
         }
        },
        "yaxis": {
         "anchor": "x",
         "domain": [
          0.0,
          1.0
         ],
         "title": {
          "text": "Количество пересдач"
         }
        },
        "legend": {
         "title": {
          "text": "Кластер"
         },
         "tracegroupgap": 0
        },
        "title": {
         "text": "Кластеризация студентов по индексу успеваемости и количеству пересдач"
        }
       },
       "config": {
        "plotlyServerURL": "https://plot.ly"
       }
      },
      "text/html": "<div>                            <div id=\"8cb1f0d7-7739-45c3-b8a0-621ac9149db4\" class=\"plotly-graph-div\" style=\"height:525px; width:100%;\"></div>            <script type=\"text/javascript\">                require([\"plotly\"], function(Plotly) {                    window.PLOTLYENV=window.PLOTLYENV || {};                                    if (document.getElementById(\"8cb1f0d7-7739-45c3-b8a0-621ac9149db4\")) {                    Plotly.newPlot(                        \"8cb1f0d7-7739-45c3-b8a0-621ac9149db4\",                        [{\"customdata\":[[1603860],[1606068],[1700282],[1801366],[1809323],[1809440],[1900928],[1901745],[1902532],[1906213],[1909860],[1911699],[2000231],[2000512],[2001664],[2001946],[2003293],[2004065],[2004618],[2005547],[2005577],[2005621],[2006499],[2006583],[2006604],[2006815],[2006851],[2007169],[2007240],[2008659],[2009543],[2010709],[2010742],[2011143],[2011163],[2100101],[2103642],[2104060],[2104094],[2104421],[2104583],[2104686],[2104716],[2104966],[2104994],[2105369],[2105392],[2105893],[2105968],[2106039],[2107435],[2107669],[2107727],[2107739],[2108025],[2108050],[2108299],[2109832],[2110321],[2110638],[2110830],[2110866],[2111842],[2111921],[2112181],[2112316],[2112492],[2112527],[2112548],[2112552],[2112604],[2112644],[2200298],[2200736],[2201846],[2202739],[2203480],[2203686],[2203707],[2203765],[2203788],[2203964],[2204487],[2206095],[2206166],[2206835],[2206919],[2207512],[2208149],[2208730],[2209080],[2209348],[2210231],[2211361],[2212597],[2212963],[2213080],[2213646],[2213654],[2213661],[2214036],[2214038],[2300055],[2300227],[2315845],[2315851]],\"hovertemplate\":\"cluster=3\\u003cbr\\u003e\\u0418\\u043d\\u0434\\u0435\\u043a\\u0441 \\u0443\\u0441\\u043f\\u0435\\u0432\\u0430\\u0435\\u043c\\u043e\\u0441\\u0442\\u0438=%{x}\\u003cbr\\u003e\\u041a\\u043e\\u043b\\u0438\\u0447\\u0435\\u0441\\u0442\\u0432\\u043e \\u043f\\u0435\\u0440\\u0435\\u0441\\u0434\\u0430\\u0447=%{y}\\u003cbr\\u003e\\u041d\\u043e\\u043c\\u0435\\u0440 \\u041b\\u0414=%{customdata[0]}\\u003cextra\\u003e\\u003c\\u002fextra\\u003e\",\"legendgroup\":\"3\",\"marker\":{\"color\":\"#636efa\",\"symbol\":\"circle\"},\"mode\":\"markers\",\"name\":\"3\",\"orientation\":\"v\",\"showlegend\":true,\"x\":[0.6121693121693121,0.5037037037037037,0.6092857142857143,0.6171825396825397,0.6417724867724868,0.4880291005291005,0.46071428571428574,0.506904761904762,0.6486243386243387,0.44719576719576715,0.5800925925925925,0.5996825396825397,0.37777777777777777,0.32499999999999996,0.5,0.6197420634920634,0.6145238095238095,0.6119047619047618,0.5012896825396825,0.5857142857142856,0.6479100529100529,0.696957671957672,0.6561772486772487,0.5964947089947089,0.5344973544973545,0.5952645502645503,0.4348015873015873,0.5214285714285715,0.5803571428571429,0.3342857142857143,0.5684523809523809,0.6605820105820106,0.6288888888888889,0.4642857142857143,0.6579761904761905,0.5794179894179894,0.5773809523809523,0.6365079365079365,0.6194444444444445,0.6,0.5488095238095239,0.49874999999999997,0.5357142857142857,0.39976190476190476,0.6432539682539682,0.4172619047619047,0.4,0.6908730158730159,0.5815476190476191,0.641765873015873,0.6395833333333333,0.6163095238095238,0.5277777777777778,0.41333333333333333,0.5869047619047618,0.5360119047619047,0.6487499999999999,0.544047619047619,0.6669642857142857,0.4357142857142857,0.6229166666666667,0.43952380952380954,0.5358333333333333,0.6257936507936508,0.4338095238095238,0.6208333333333333,0.6829166666666666,0.30857142857142855,0.40208333333333335,0.609920634920635,0.4341666666666667,0.606845238095238,0.6321428571428571,0.39166666666666666,0.5428571428571428,0.6624999999999999,0.6666666666666666,0.5333333333333333,0.6458333333333333,0.5708333333333333,0.6119047619047618,0.6547619047619047,0.48571428571428565,0.6333333333333333,0.6124999999999999,0.38571428571428573,0.6166666666666667,0.47916666666666663,0.6624999999999999,0.48333333333333334,0.3514285714285714,0.5371428571428571,0.6,0.4857142857142857,0.5238095238095237,0.638095238095238,0.6775,0.6004166666666666,0.6641666666666667,0.4083333333333333,0.5783333333333333,0.6520767195767195,0.45999999999999996,0.5404761904761904,0.5,0.5375],\"xaxis\":\"x\",\"y\":[0.3333333333333333,0.0,0.16666666666666666,0.16666666666666666,0.3333333333333333,0.8333333333333334,0.0,0.0,0.16666666666666666,0.3333333333333333,0.3333333333333333,0.3333333333333333,0.3333333333333333,0.0,0.5,0.25,0.3333333333333333,0.0,0.75,0.5,0.5,0.16666666666666666,0.16666666666666666,0.3333333333333333,0.5,0.5,0.5,0.0,0.5,0.5,0.25,0.16666666666666666,0.3333333333333333,0.5,0.25,0.3333333333333333,0.5,0.5,0.0,0.5,0.0,0.25,0.5,0.5,0.0,0.5,1.0,0.0,0.75,0.25,0.25,0.25,0.0,0.5,0.0,0.5,0.0,0.25,0.25,0.25,0.5,0.25,0.25,0.25,0.75,0.5,0.25,0.25,0.25,0.0,0.25,0.25,0.25,0.0,0.0,0.0,0.0,0.5,0.5,0.5,0.5,0.0,0.0,0.5,0.5,0.5,0.5,0.0,0.0,0.5,0.0,0.0,0.5,0.5,0.5,0.0,0.0,0.5,0.25,0.0,0.0,0.0,0.5,0.0,0.0,0.5],\"yaxis\":\"y\",\"type\":\"scatter\"},{\"customdata\":[[1900978],[2000196],[2000732],[2000933],[2002208],[2002568],[2002622],[2002852],[2003022],[2003035],[2003503],[2004118],[2004321],[2004350],[2004380],[2004626],[2004750],[2004837],[2004859],[2004862],[2005280],[2005305],[2005351],[2005352],[2005491],[2005570],[2005581],[2005814],[2005872],[2005925],[2005939],[2005975],[2006062],[2006154],[2006284],[2006450],[2006556],[2006746],[2006868],[2007036],[2007054],[2007102],[2007119],[2007123],[2007196],[2007279],[2007344],[2007566],[2007725],[2007731],[2008037],[2008047],[2008133],[2008301],[2008409],[2008489],[2008520],[2008583],[2008656],[2008992],[2009187],[2010876],[2011167],[2011229],[2011232],[2100754],[2100790],[2100982],[2101840],[2102039],[2102779],[2102914],[2102992],[2103087],[2103464],[2103829],[2103839],[2103869],[2103919],[2104105],[2104140],[2104162],[2104289],[2104367],[2104603],[2104763],[2104884],[2104955],[2105106],[2105145],[2105176],[2105211],[2105264],[2105486],[2105489],[2105497],[2105555],[2105816],[2105839],[2105905],[2106179],[2106309],[2106658],[2106663],[2106725],[2106762],[2106790],[2106876],[2107026],[2107095],[2107178],[2107344],[2107366],[2107522],[2107538],[2107676],[2107847],[2107957],[2108089],[2108125],[2108448],[2108491],[2108676],[2108766],[2109128],[2109333],[2109464],[2109465],[2109509],[2109611],[2109658],[2109660],[2109711],[2109806],[2110034],[2110259],[2110260],[2110361],[2110580],[2110810],[2110899],[2110977],[2111116],[2111214],[2111402],[2111718],[2111730],[2111815],[2111930],[2111937],[2112502],[2112505],[2112628],[2112652],[2200122],[2200585],[2200595],[2200633],[2200667],[2200769],[2200837],[2200928],[2201132],[2201193],[2201317],[2201395],[2201416],[2201646],[2201700],[2201785],[2201858],[2201863],[2201902],[2201949],[2202014],[2202071],[2202170],[2202206],[2202211],[2202295],[2202473],[2202494],[2202526],[2202539],[2202578],[2202622],[2202816],[2202835],[2202853],[2202909],[2202917],[2202965],[2202968],[2203091],[2203114],[2203139],[2203165],[2203208],[2203257],[2203333],[2203430],[2203450],[2203545],[2203605],[2203609],[2203677],[2203755],[2203771],[2203848],[2203900],[2203904],[2203992],[2204062],[2204193],[2204204],[2204263],[2204278],[2204307],[2204347],[2204414],[2204450],[2204507],[2204549],[2204611],[2204613],[2204702],[2204739],[2204818],[2204851],[2204881],[2204899],[2204938],[2205013],[2205049],[2205183],[2205214],[2205232],[2205233],[2205454],[2205492],[2205543],[2205544],[2205572],[2205600],[2205630],[2205648],[2205668],[2205673],[2205710],[2205733],[2205737],[2205749],[2205762],[2205775],[2205777],[2205797],[2205799],[2205813],[2205819],[2205945],[2206041],[2206078],[2206093],[2206157],[2206161],[2206250],[2206297],[2206332],[2206338],[2206360],[2206368],[2206461],[2206474],[2206483],[2206585],[2206591],[2206613],[2206650],[2206662],[2206664],[2206701],[2206716],[2206731],[2206734],[2206742],[2206750],[2206768],[2206882],[2206979],[2207052],[2207093],[2207245],[2207267],[2207291],[2207334],[2207368],[2207374],[2207453],[2207460],[2207553],[2207629],[2207679],[2207733],[2207769],[2207772],[2207825],[2207851],[2207879],[2207892],[2207922],[2207930],[2207963],[2207976],[2208112],[2208235],[2208269],[2208273],[2208442],[2208463],[2208485],[2208568],[2208579],[2208632],[2208633],[2208679],[2208680],[2208720],[2208723],[2208794],[2208810],[2208812],[2208837],[2208877],[2208911],[2208946],[2209017],[2209160],[2209287],[2209419],[2209429],[2209458],[2209576],[2209580],[2209779],[2209827],[2209836],[2209856],[2209924],[2209973],[2210196],[2210208],[2210256],[2210359],[2210362],[2210656],[2210748],[2210757],[2210773],[2210824],[2210887],[2210896],[2210908],[2211013],[2211144],[2211185],[2211227],[2211476],[2211782],[2211796],[2211836],[2211848],[2212856],[2212925],[2212997],[2213012],[2213129],[2213205],[2213614],[2213630],[2300250]],\"hovertemplate\":\"cluster=0\\u003cbr\\u003e\\u0418\\u043d\\u0434\\u0435\\u043a\\u0441 \\u0443\\u0441\\u043f\\u0435\\u0432\\u0430\\u0435\\u043c\\u043e\\u0441\\u0442\\u0438=%{x}\\u003cbr\\u003e\\u041a\\u043e\\u043b\\u0438\\u0447\\u0435\\u0441\\u0442\\u0432\\u043e \\u043f\\u0435\\u0440\\u0435\\u0441\\u0434\\u0430\\u0447=%{y}\\u003cbr\\u003e\\u041d\\u043e\\u043c\\u0435\\u0440 \\u041b\\u0414=%{customdata[0]}\\u003cextra\\u003e\\u003c\\u002fextra\\u003e\",\"legendgroup\":\"0\",\"marker\":{\"color\":\"#EF553B\",\"symbol\":\"circle\"},\"mode\":\"markers\",\"name\":\"0\",\"orientation\":\"v\",\"showlegend\":true,\"x\":[0.9732539682539683,0.9944444444444445,0.8328835978835979,0.9240608465608466,0.9094973544973545,0.9711640211640211,0.9644047619047619,1.0,0.8013359788359788,0.916600529100529,0.7768386243386244,0.8903042328042328,0.8753306878306878,0.9516269841269841,0.8029232804232804,0.9748677248677248,0.973015873015873,0.936031746031746,0.9585317460317461,0.991111111111111,0.8339021164021164,0.8306216931216931,0.9226587301587301,0.9472354497354498,0.9933333333333333,0.9587169312169311,0.8308333333333334,1.0,0.900621693121693,0.9364550264550263,0.9343650793650794,0.8852645502645502,0.8515740740740741,0.8305820105820105,0.8814285714285713,0.7139153439153438,0.9183068783068783,0.985515873015873,0.7895502645502646,0.9793650793650794,0.8011640211640212,0.900952380952381,0.8396164021164022,0.823994708994709,0.8474603174603175,0.8718783068783069,0.9468253968253967,0.8507671957671957,0.9074338624338624,0.7415343915343916,0.8994312169312169,0.7956547619047618,0.8375793650793651,0.9844047619047619,0.9925925925925926,0.9178306878306878,0.9381216931216931,0.9744047619047619,0.9477116402116402,0.9944444444444445,0.8229100529100529,0.9418783068783069,0.8503174603174602,0.8683862433862434,0.7894642857142857,0.8513690476190476,0.9269047619047619,0.995,0.8689285714285714,1.0,0.9269642857142857,0.857936507936508,0.8985119047619048,0.7157142857142857,0.7694444444444444,0.8625,0.9214285714285714,0.9007936507936507,0.910952380952381,0.875,0.9432539682539682,0.8527777777777777,0.8967857142857143,0.7936904761904762,0.8134920634920635,0.9678571428571429,0.8998809523809523,0.9073214285714285,0.9377380952380951,0.9085119047619048,0.9515476190476191,0.7873809523809524,0.7817460317460317,0.7307142857142856,0.9577380952380952,0.9464880952380952,0.9235714285714285,0.7869047619047619,0.9539682539682539,0.969047619047619,0.9857142857142858,0.9182539682539682,1.0,0.9285714285714286,1.0,0.927797619047619,0.9027777777777778,0.9541666666666666,0.9888888888888889,0.9452380952380952,0.7051587301587301,0.9186507936507936,1.0,0.9854166666666666,0.9619047619047619,0.7837301587301587,0.7674603174603174,0.7646825396825396,0.9310714285714285,0.9305555555555556,0.9586309523809524,0.8591666666666666,0.937797619047619,0.8075396825396826,0.7904761904761906,0.7773809523809524,0.9944444444444445,0.765079365079365,0.7130952380952381,0.9341269841269841,0.9523809523809523,0.9253968253968253,0.7345833333333334,0.9172619047619047,0.7582738095238095,0.7206349206349206,1.0,0.8701785714285715,0.9595238095238096,0.9099206349206349,0.7444642857142857,0.9928571428571429,0.9944444444444445,0.7857142857142857,0.915952380952381,0.8776785714285714,0.7325396825396825,0.7015873015873015,0.8764285714285714,0.8373015873015873,0.9711309523809524,0.99375,0.8700595238095239,0.9158928571428571,0.7456349206349207,0.8583333333333334,0.8583333333333334,0.8942857142857144,0.8208333333333333,0.9166666666666667,0.7124999999999999,0.8625,0.7999999999999999,0.9166666666666667,0.8583333333333334,0.8625,0.7833333333333332,0.8875,0.95,0.8875,0.8708333333333333,0.9249999999999999,0.875,0.9583333333333333,1.0,0.8625,0.7833333333333332,0.9333333333333333,0.8458333333333334,0.7291666666666666,0.7874999999999999,0.8257142857142858,0.8291666666666666,0.8666666666666667,0.8916666666666667,0.9625,0.9416666666666667,0.825,0.7583333333333333,0.9666666666666667,0.9333333333333333,0.8458333333333334,0.9041666666666667,0.8333333333333333,0.8166666666666667,0.9041666666666667,0.8499999999999999,0.7749999999999999,0.9541666666666666,0.9333333333333333,0.9458333333333333,0.8916666666666667,0.9291666666666667,0.9583333333333333,0.8583333333333334,0.9171428571428573,0.9375,0.8333333333333333,0.9041666666666667,0.8625,0.8166666666666667,0.8416666666666667,0.8666666666666667,0.7916666666666666,0.8875,1.0,0.8416666666666667,0.7166666666666666,0.7291666666666666,1.0,1.0,0.9166666666666667,0.7749999999999999,0.8791666666666667,0.7833333333333332,0.9583333333333333,0.9571428571428571,0.7971428571428572,0.7833333333333332,0.8708333333333333,0.9166666666666667,0.9875,0.8458333333333334,0.9083333333333333,0.9708333333333332,0.9291666666666667,0.8708333333333333,0.7708333333333334,0.7541666666666667,0.8708333333333333,0.8625,0.9875,0.975,0.8875,0.9142857142857144,0.975,0.8583333333333334,0.98,0.8625,0.9708333333333332,0.9166666666666667,0.9583333333333333,0.7416666666666667,0.7833333333333333,0.7666666666666666,0.9166666666666667,0.7333333333333334,0.9166666666666667,0.9416666666666667,0.9085714285714286,0.9166666666666667,0.825,0.875,0.7791666666666666,0.8625,0.9583333333333333,0.9249999999999999,0.8742857142857143,0.9028571428571429,0.7458333333333333,0.8583333333333334,0.9514285714285714,0.8374999999999999,0.9166666666666667,0.9228571428571428,0.7761904761904762,0.8916666666666667,0.9833333333333333,0.9249999999999999,0.9833333333333333,0.7958333333333334,0.875,0.9708333333333332,0.8666666666666667,0.7375,0.875,0.8208333333333333,0.9875,0.8583333333333334,0.7999999999999999,0.8625,0.8333333333333333,0.9583333333333333,0.9291666666666667,0.7791666666666666,0.7291666666666666,0.8916666666666667,0.9228571428571428,0.9416666666666667,0.8083333333333333,0.9028571428571429,0.8499999999999999,0.7958333333333334,0.825,0.88,0.8999999999999999,0.8785714285714286,0.8916666666666667,0.7880952380952381,0.9514285714285714,0.8542857142857143,0.8958333333333334,0.9458333333333333,1.0,0.8476190476190476,0.8374999999999999,0.9458333333333333,0.9708333333333332,0.9583333333333333,0.9833333333333333,0.8583333333333334,0.9583333333333333,0.8583333333333334,0.7416666666666667,0.9514285714285714,0.9228571428571428,0.95,0.8514285714285714,0.8374999999999999,0.7749999999999999,0.9583333333333333,0.9333333333333333,1.0,0.7749999999999999,0.9625,0.8499999999999999,0.7571428571428571,0.9285714285714286,0.9041666666666667,0.7628571428571429,0.9085714285714286,0.8791666666666667,0.9583333333333333,0.937142857142857,0.9291666666666667,0.9583333333333333,0.9857142857142858,1.0,0.8047619047619048,0.9416666666666667,0.8257142857142858,0.9458333333333333,0.9458333333333333,0.9249999999999999,0.9875,0.875,0.8791666666666667,0.8916666666666666,0.7666666666666666,0.9514285714285714,0.98,0.9375,0.9125,0.8942857142857144,0.9458333333333333,0.8583333333333334,0.9166666666666667,0.9166666666666667,0.9041666666666667,0.8416666666666667,0.8708333333333333,0.7708333333333334,0.7124999999999999,0.8833333333333333,0.8999999999999999,0.8833333333333333,0.9375,0.9333333333333333,0.7047619047619047,0.8291666666666666],\"xaxis\":\"x\",\"y\":[0.16666666666666666,0.0,0.16666666666666666,0.16666666666666666,0.0,0.0,0.3333333333333333,0.0,0.16666666666666666,0.0,0.16666666666666666,0.0,0.16666666666666666,0.16666666666666666,0.16666666666666666,0.0,0.0,0.0,0.0,0.0,0.16666666666666666,0.16666666666666666,0.16666666666666666,0.0,0.0,0.3333333333333333,0.16666666666666666,0.0,0.0,0.16666666666666666,0.0,0.0,0.16666666666666666,0.16666666666666666,0.16666666666666666,0.0,0.16666666666666666,0.0,0.16666666666666666,0.0,0.16666666666666666,0.0,0.0,0.0,0.0,0.16666666666666666,0.0,0.16666666666666666,0.0,0.0,0.0,0.0,0.0,0.0,0.0,0.0,0.0,0.0,0.16666666666666666,0.0,0.16666666666666666,0.3333333333333333,0.0,0.16666666666666666,0.0,0.25,0.0,0.0,0.25,0.0,0.25,0.0,0.25,0.0,0.0,0.0,0.0,0.0,0.25,0.0,0.0,0.25,0.0,0.0,0.0,0.0,0.25,0.0,0.25,0.25,0.0,0.0,0.0,0.0,0.0,0.25,0.25,0.0,0.0,0.0,0.0,0.0,0.0,0.0,0.0,0.25,0.0,0.0,0.0,0.0,0.0,0.0,0.0,0.0,0.0,0.0,0.0,0.0,0.25,0.0,0.25,0.25,0.0,0.0,0.0,0.0,0.0,0.0,0.0,0.0,0.0,0.0,0.0,0.25,0.0,0.0,0.0,0.25,0.0,0.0,0.0,0.0,0.0,0.0,0.25,0.25,0.0,0.0,0.25,0.0,0.0,0.0,0.0,0.25,0.0,0.0,0.0,0.0,0.0,0.0,0.0,0.0,0.0,0.0,0.0,0.0,0.0,0.0,0.0,0.0,0.0,0.0,0.0,0.0,0.0,0.0,0.0,0.0,0.0,0.0,0.0,0.0,0.0,0.0,0.0,0.0,0.0,0.0,0.0,0.0,0.0,0.0,0.0,0.0,0.0,0.0,0.0,0.0,0.0,0.0,0.0,0.0,0.0,0.0,0.0,0.0,0.0,0.0,0.0,0.0,0.0,0.0,0.0,0.0,0.0,0.0,0.0,0.0,0.0,0.0,0.0,0.0,0.0,0.0,0.0,0.0,0.0,0.0,0.0,0.0,0.0,0.0,0.0,0.0,0.0,0.0,0.0,0.0,0.0,0.0,0.0,0.0,0.0,0.0,0.0,0.0,0.0,0.0,0.0,0.0,0.0,0.0,0.0,0.0,0.0,0.0,0.0,0.0,0.0,0.0,0.0,0.0,0.0,0.0,0.0,0.0,0.0,0.0,0.0,0.0,0.0,0.0,0.0,0.0,0.0,0.0,0.0,0.0,0.0,0.0,0.0,0.0,0.0,0.0,0.0,0.0,0.0,0.0,0.0,0.0,0.0,0.0,0.0,0.0,0.0,0.0,0.0,0.0,0.0,0.0,0.0,0.0,0.0,0.0,0.0,0.0,0.0,0.0,0.0,0.0,0.0,0.0,0.0,0.0,0.0,0.0,0.0,0.0,0.0,0.0,0.0,0.0,0.0,0.0,0.0,0.0,0.0,0.0,0.0,0.0,0.0,0.0,0.0,0.0,0.0,0.0,0.0,0.0,0.0,0.0,0.0,0.0,0.0,0.0,0.0,0.0,0.0,0.0,0.0,0.0,0.0,0.0,0.0,0.0,0.0,0.0,0.0,0.0,0.0,0.0,0.0,0.0,0.0,0.0,0.0,0.0,0.0,0.0,0.0,0.0,0.0,0.0,0.0,0.0,0.0,0.0,0.0,0.0,0.0,0.0],\"yaxis\":\"y\",\"type\":\"scatter\"},{\"customdata\":[[1901399],[1904355],[1906385],[1910759],[2005322],[2006895],[2105680],[2201841],[2203420],[2208674]],\"hovertemplate\":\"cluster=2\\u003cbr\\u003e\\u0418\\u043d\\u0434\\u0435\\u043a\\u0441 \\u0443\\u0441\\u043f\\u0435\\u0432\\u0430\\u0435\\u043c\\u043e\\u0441\\u0442\\u0438=%{x}\\u003cbr\\u003e\\u041a\\u043e\\u043b\\u0438\\u0447\\u0435\\u0441\\u0442\\u0432\\u043e \\u043f\\u0435\\u0440\\u0435\\u0441\\u0434\\u0430\\u0447=%{y}\\u003cbr\\u003e\\u041d\\u043e\\u043c\\u0435\\u0440 \\u041b\\u0414=%{customdata[0]}\\u003cextra\\u003e\\u003c\\u002fextra\\u003e\",\"legendgroup\":\"2\",\"marker\":{\"color\":\"#00cc96\",\"symbol\":\"circle\"},\"mode\":\"markers\",\"name\":\"2\",\"orientation\":\"v\",\"showlegend\":true,\"x\":[0.6554232804232804,0.8002976190476191,0.5493055555555555,0.43976190476190474,0.5721230158730158,0.7129166666666666,0.8416666666666667,0.49583333333333335,0.5657142857142857,0.7547619047619047],\"xaxis\":\"x\",\"y\":[1.6666666666666667,3.0,2.25,1.75,1.25,1.25,2.0,2.0,1.5,1.5],\"yaxis\":\"y\",\"type\":\"scatter\"},{\"customdata\":[[1902754],[1905782],[1908111],[2000367],[2000389],[2001555],[2002725],[2003135],[2003342],[2003447],[2003573],[2003701],[2003965],[2003973],[2003982],[2004102],[2004492],[2004596],[2004622],[2004712],[2004813],[2004903],[2004918],[2004958],[2005230],[2005509],[2005594],[2005619],[2005826],[2006042],[2006116],[2006169],[2006485],[2006712],[2006761],[2007394],[2007447],[2007576],[2007751],[2007923],[2007980],[2008518],[2008750],[2008803],[2008811],[2009005],[2009010],[2009021],[2009121],[2009222],[2009435],[2009705],[2009758],[2009841],[2010218],[2010247],[2010530],[2010712],[2011090],[2100100],[2100604],[2101119],[2101722],[2101813],[2102425],[2103290],[2103545],[2103547],[2103637],[2103665],[2103988],[2104150],[2104319],[2104685],[2104828],[2104888],[2105058],[2105538],[2105826],[2106008],[2106565],[2107072],[2107923],[2108103],[2108312],[2108347],[2108353],[2108364],[2109138],[2109367],[2109923],[2110098],[2110234],[2110950],[2111017],[2111184],[2111439],[2111823],[2111927],[2112462],[2112481],[2112543],[2112554],[2112602],[2112613],[2112614],[2112627],[2112813],[2200666],[2201876],[2201880],[2202023],[2202278],[2202392],[2202405],[2202518],[2202575],[2202650],[2203052],[2203119],[2203284],[2203287],[2203343],[2203368],[2203565],[2203621],[2203701],[2204012],[2204084],[2204381],[2204480],[2204685],[2204950],[2205029],[2205288],[2205455],[2205637],[2205768],[2205779],[2206107],[2206182],[2206343],[2206671],[2206722],[2207556],[2207808],[2207838],[2208116],[2209065],[2209417],[2209473],[2209487],[2210044],[2210781],[2210977],[2211121],[2211177],[2211368],[2211487],[2211702],[2211854],[2213034],[2213062],[2213064],[2213103],[2213240],[2213996],[2213997],[2213999],[2214005],[2214018],[2214019],[2214034],[2214035],[2214091],[2315861]],\"hovertemplate\":\"cluster=1\\u003cbr\\u003e\\u0418\\u043d\\u0434\\u0435\\u043a\\u0441 \\u0443\\u0441\\u043f\\u0435\\u0432\\u0430\\u0435\\u043c\\u043e\\u0441\\u0442\\u0438=%{x}\\u003cbr\\u003e\\u041a\\u043e\\u043b\\u0438\\u0447\\u0435\\u0441\\u0442\\u0432\\u043e \\u043f\\u0435\\u0440\\u0435\\u0441\\u0434\\u0430\\u0447=%{y}\\u003cbr\\u003e\\u041d\\u043e\\u043c\\u0435\\u0440 \\u041b\\u0414=%{customdata[0]}\\u003cextra\\u003e\\u003c\\u002fextra\\u003e\",\"legendgroup\":\"1\",\"marker\":{\"color\":\"#ab63fa\",\"symbol\":\"circle\"},\"mode\":\"markers\",\"name\":\"1\",\"orientation\":\"v\",\"showlegend\":true,\"x\":[0.8111507936507937,0.9416666666666667,0.8164153439153439,0.8684126984126984,0.9109920634920634,0.7142989417989417,0.8998677248677248,0.7394444444444445,0.7681481481481481,0.7516798941798942,0.770952380952381,0.788994708994709,0.7449338624338625,0.774563492063492,0.6770238095238095,0.7573412698412699,0.7227513227513227,0.722089947089947,0.7443783068783069,0.750462962962963,0.7631349206349206,0.7558862433862433,0.6696031746031745,0.8691666666666666,0.7472354497354496,0.8368518518518518,0.7249206349206349,0.7237566137566137,0.9854166666666666,0.6899603174603174,0.7873809523809524,0.885542328042328,0.7568650793650793,0.8865608465608465,0.754047619047619,0.7460119047619047,0.773531746031746,0.6642328042328042,0.7512433862433863,0.7011507936507937,0.714589947089947,0.7782407407407407,0.694100529100529,0.6827910052910053,0.8807275132275132,0.7932407407407407,0.7916798941798943,0.9066534391534392,0.7288359788359787,0.7202910052910053,0.6428571428571428,0.714021164021164,0.851058201058201,0.7733465608465608,0.7866666666666666,0.7075,0.751957671957672,0.6488095238095237,0.7883730158730158,0.8105820105820105,0.8611904761904762,0.8801785714285714,0.7928571428571428,0.7928571428571428,0.7385912698412698,0.7986309523809524,0.789047619047619,0.9598214285714286,0.7958333333333334,0.7501190476190476,0.7188690476190476,0.7602380952380952,0.808531746031746,0.846547619047619,0.7610119047619047,0.7555952380952381,0.7541666666666667,0.8329761904761905,0.7508928571428571,0.785595238095238,0.8248809523809524,0.7494642857142857,0.7661904761904761,0.7873809523809524,0.763452380952381,0.9219047619047619,0.8266071428571428,0.7291666666666667,0.8275,0.8191666666666667,0.8191071428571428,0.9289285714285714,0.6902777777777778,0.6604166666666667,0.7444047619047619,0.7685714285714285,0.84,0.7650000000000001,0.7377380952380952,0.7012499999999999,0.7820238095238096,0.7435515873015872,0.7644047619047618,0.8179166666666667,0.7661309523809524,0.7489880952380952,0.6938492063492063,0.7917989417989418,0.7958333333333334,0.8999999999999999,0.7916666666666666,0.8023809523809524,0.9541666666666666,0.8499999999999999,0.8333333333333333,0.8583333333333334,0.8208333333333333,0.7708333333333333,0.7416666666666667,0.7738095238095237,0.7047619047619047,0.8625,0.7874999999999999,0.8125,0.6523809523809523,0.8041666666666666,0.7208333333333333,0.75,0.8166666666666667,0.7749999999999999,0.9041666666666667,0.6583333333333333,0.7875,0.9708333333333332,0.8541666666666666,0.7285714285714285,0.8041666666666666,0.7416666666666667,0.8416666666666667,0.7791666666666667,0.937142857142857,0.7208333333333333,0.8291666666666666,0.7999999999999999,0.8166666666666667,0.7071428571428571,0.8047619047619048,0.725,0.8125,0.9166666666666667,0.6958333333333333,0.9114285714285715,0.8499999999999999,0.9041666666666667,0.8,0.7916666666666666,0.825,0.875,0.7333333333333333,0.6333333333333333,0.85,0.7999999999999999,0.7999999999999999,0.7428571428571429,0.9249999999999999,0.7119047619047618,0.7369642857142857,0.7497619047619047,0.8135714285714285,0.7992857142857143,0.7354761904761904,0.7551785714285714,0.7816071428571428,0.6991666666666667,0.8229761904761905,0.7170833333333333],\"xaxis\":\"x\",\"y\":[0.3333333333333333,0.5,0.3333333333333333,0.3333333333333333,0.5,0.16666666666666666,0.3333333333333333,0.3333333333333333,0.5,0.16666666666666666,0.3333333333333333,0.5,0.5,0.5,0.3333333333333333,0.16666666666666666,0.16666666666666666,0.16666666666666666,0.16666666666666666,0.3333333333333333,0.16666666666666666,0.5,0.5,0.3333333333333333,0.5,0.5,0.3333333333333333,0.3333333333333333,0.5,0.3333333333333333,0.3333333333333333,0.3333333333333333,0.5,0.3333333333333333,0.3333333333333333,0.5,0.3333333333333333,0.5,0.5,0.16666666666666666,0.3333333333333333,0.3333333333333333,0.3333333333333333,0.3333333333333333,0.3333333333333333,0.3333333333333333,0.5,0.3333333333333333,0.3333333333333333,0.3333333333333333,1.0,0.3333333333333333,0.3333333333333333,0.3333333333333333,0.3333333333333333,0.25,0.3333333333333333,1.0,0.3333333333333333,0.5,0.75,0.5,0.5,0.5,0.25,0.5,0.5,0.5,0.5,0.5,0.5,0.25,0.5,0.25,0.25,0.25,0.5,0.25,0.75,0.25,0.25,0.5,0.75,0.5,0.25,0.75,0.25,0.5,0.5,0.5,0.25,0.5,0.5,0.75,0.25,0.25,0.5,0.5,0.25,0.25,0.25,0.25,0.5,0.25,0.75,0.5,0.25,0.5,0.5,0.5,0.5,0.5,0.5,0.5,0.5,0.5,0.5,0.5,0.5,0.5,0.5,0.5,0.5,0.5,0.5,0.5,0.5,0.5,0.5,0.5,0.5,0.5,0.5,0.5,0.5,0.5,0.5,0.5,0.5,0.5,0.5,0.5,0.5,0.5,0.5,0.5,0.5,0.5,0.5,0.5,0.5,1.0,0.5,0.5,0.5,0.5,0.5,0.5,0.5,1.0,0.5,0.5,0.5,0.5,0.5,0.5,0.25,0.75,0.5,0.5,0.75,0.5,0.25,0.25,0.25,0.25],\"yaxis\":\"y\",\"type\":\"scatter\"}],                        {\"template\":{\"data\":{\"histogram2dcontour\":[{\"type\":\"histogram2dcontour\",\"colorbar\":{\"outlinewidth\":0,\"ticks\":\"\"},\"colorscale\":[[0.0,\"#0d0887\"],[0.1111111111111111,\"#46039f\"],[0.2222222222222222,\"#7201a8\"],[0.3333333333333333,\"#9c179e\"],[0.4444444444444444,\"#bd3786\"],[0.5555555555555556,\"#d8576b\"],[0.6666666666666666,\"#ed7953\"],[0.7777777777777778,\"#fb9f3a\"],[0.8888888888888888,\"#fdca26\"],[1.0,\"#f0f921\"]]}],\"choropleth\":[{\"type\":\"choropleth\",\"colorbar\":{\"outlinewidth\":0,\"ticks\":\"\"}}],\"histogram2d\":[{\"type\":\"histogram2d\",\"colorbar\":{\"outlinewidth\":0,\"ticks\":\"\"},\"colorscale\":[[0.0,\"#0d0887\"],[0.1111111111111111,\"#46039f\"],[0.2222222222222222,\"#7201a8\"],[0.3333333333333333,\"#9c179e\"],[0.4444444444444444,\"#bd3786\"],[0.5555555555555556,\"#d8576b\"],[0.6666666666666666,\"#ed7953\"],[0.7777777777777778,\"#fb9f3a\"],[0.8888888888888888,\"#fdca26\"],[1.0,\"#f0f921\"]]}],\"heatmap\":[{\"type\":\"heatmap\",\"colorbar\":{\"outlinewidth\":0,\"ticks\":\"\"},\"colorscale\":[[0.0,\"#0d0887\"],[0.1111111111111111,\"#46039f\"],[0.2222222222222222,\"#7201a8\"],[0.3333333333333333,\"#9c179e\"],[0.4444444444444444,\"#bd3786\"],[0.5555555555555556,\"#d8576b\"],[0.6666666666666666,\"#ed7953\"],[0.7777777777777778,\"#fb9f3a\"],[0.8888888888888888,\"#fdca26\"],[1.0,\"#f0f921\"]]}],\"heatmapgl\":[{\"type\":\"heatmapgl\",\"colorbar\":{\"outlinewidth\":0,\"ticks\":\"\"},\"colorscale\":[[0.0,\"#0d0887\"],[0.1111111111111111,\"#46039f\"],[0.2222222222222222,\"#7201a8\"],[0.3333333333333333,\"#9c179e\"],[0.4444444444444444,\"#bd3786\"],[0.5555555555555556,\"#d8576b\"],[0.6666666666666666,\"#ed7953\"],[0.7777777777777778,\"#fb9f3a\"],[0.8888888888888888,\"#fdca26\"],[1.0,\"#f0f921\"]]}],\"contourcarpet\":[{\"type\":\"contourcarpet\",\"colorbar\":{\"outlinewidth\":0,\"ticks\":\"\"}}],\"contour\":[{\"type\":\"contour\",\"colorbar\":{\"outlinewidth\":0,\"ticks\":\"\"},\"colorscale\":[[0.0,\"#0d0887\"],[0.1111111111111111,\"#46039f\"],[0.2222222222222222,\"#7201a8\"],[0.3333333333333333,\"#9c179e\"],[0.4444444444444444,\"#bd3786\"],[0.5555555555555556,\"#d8576b\"],[0.6666666666666666,\"#ed7953\"],[0.7777777777777778,\"#fb9f3a\"],[0.8888888888888888,\"#fdca26\"],[1.0,\"#f0f921\"]]}],\"surface\":[{\"type\":\"surface\",\"colorbar\":{\"outlinewidth\":0,\"ticks\":\"\"},\"colorscale\":[[0.0,\"#0d0887\"],[0.1111111111111111,\"#46039f\"],[0.2222222222222222,\"#7201a8\"],[0.3333333333333333,\"#9c179e\"],[0.4444444444444444,\"#bd3786\"],[0.5555555555555556,\"#d8576b\"],[0.6666666666666666,\"#ed7953\"],[0.7777777777777778,\"#fb9f3a\"],[0.8888888888888888,\"#fdca26\"],[1.0,\"#f0f921\"]]}],\"mesh3d\":[{\"type\":\"mesh3d\",\"colorbar\":{\"outlinewidth\":0,\"ticks\":\"\"}}],\"scatter\":[{\"marker\":{\"line\":{\"color\":\"#283442\"}},\"type\":\"scatter\"}],\"parcoords\":[{\"type\":\"parcoords\",\"line\":{\"colorbar\":{\"outlinewidth\":0,\"ticks\":\"\"}}}],\"scatterpolargl\":[{\"type\":\"scatterpolargl\",\"marker\":{\"colorbar\":{\"outlinewidth\":0,\"ticks\":\"\"}}}],\"bar\":[{\"error_x\":{\"color\":\"#f2f5fa\"},\"error_y\":{\"color\":\"#f2f5fa\"},\"marker\":{\"line\":{\"color\":\"rgb(17,17,17)\",\"width\":0.5},\"pattern\":{\"fillmode\":\"overlay\",\"size\":10,\"solidity\":0.2}},\"type\":\"bar\"}],\"scattergeo\":[{\"type\":\"scattergeo\",\"marker\":{\"colorbar\":{\"outlinewidth\":0,\"ticks\":\"\"}}}],\"scatterpolar\":[{\"type\":\"scatterpolar\",\"marker\":{\"colorbar\":{\"outlinewidth\":0,\"ticks\":\"\"}}}],\"histogram\":[{\"marker\":{\"pattern\":{\"fillmode\":\"overlay\",\"size\":10,\"solidity\":0.2}},\"type\":\"histogram\"}],\"scattergl\":[{\"marker\":{\"line\":{\"color\":\"#283442\"}},\"type\":\"scattergl\"}],\"scatter3d\":[{\"type\":\"scatter3d\",\"line\":{\"colorbar\":{\"outlinewidth\":0,\"ticks\":\"\"}},\"marker\":{\"colorbar\":{\"outlinewidth\":0,\"ticks\":\"\"}}}],\"scattermapbox\":[{\"type\":\"scattermapbox\",\"marker\":{\"colorbar\":{\"outlinewidth\":0,\"ticks\":\"\"}}}],\"scatterternary\":[{\"type\":\"scatterternary\",\"marker\":{\"colorbar\":{\"outlinewidth\":0,\"ticks\":\"\"}}}],\"scattercarpet\":[{\"type\":\"scattercarpet\",\"marker\":{\"colorbar\":{\"outlinewidth\":0,\"ticks\":\"\"}}}],\"carpet\":[{\"aaxis\":{\"endlinecolor\":\"#A2B1C6\",\"gridcolor\":\"#506784\",\"linecolor\":\"#506784\",\"minorgridcolor\":\"#506784\",\"startlinecolor\":\"#A2B1C6\"},\"baxis\":{\"endlinecolor\":\"#A2B1C6\",\"gridcolor\":\"#506784\",\"linecolor\":\"#506784\",\"minorgridcolor\":\"#506784\",\"startlinecolor\":\"#A2B1C6\"},\"type\":\"carpet\"}],\"table\":[{\"cells\":{\"fill\":{\"color\":\"#506784\"},\"line\":{\"color\":\"rgb(17,17,17)\"}},\"header\":{\"fill\":{\"color\":\"#2a3f5f\"},\"line\":{\"color\":\"rgb(17,17,17)\"}},\"type\":\"table\"}],\"barpolar\":[{\"marker\":{\"line\":{\"color\":\"rgb(17,17,17)\",\"width\":0.5},\"pattern\":{\"fillmode\":\"overlay\",\"size\":10,\"solidity\":0.2}},\"type\":\"barpolar\"}],\"pie\":[{\"automargin\":true,\"type\":\"pie\"}]},\"layout\":{\"autotypenumbers\":\"strict\",\"colorway\":[\"#636efa\",\"#EF553B\",\"#00cc96\",\"#ab63fa\",\"#FFA15A\",\"#19d3f3\",\"#FF6692\",\"#B6E880\",\"#FF97FF\",\"#FECB52\"],\"font\":{\"color\":\"#f2f5fa\"},\"hovermode\":\"closest\",\"hoverlabel\":{\"align\":\"left\"},\"paper_bgcolor\":\"rgb(17,17,17)\",\"plot_bgcolor\":\"rgb(17,17,17)\",\"polar\":{\"bgcolor\":\"rgb(17,17,17)\",\"angularaxis\":{\"gridcolor\":\"#506784\",\"linecolor\":\"#506784\",\"ticks\":\"\"},\"radialaxis\":{\"gridcolor\":\"#506784\",\"linecolor\":\"#506784\",\"ticks\":\"\"}},\"ternary\":{\"bgcolor\":\"rgb(17,17,17)\",\"aaxis\":{\"gridcolor\":\"#506784\",\"linecolor\":\"#506784\",\"ticks\":\"\"},\"baxis\":{\"gridcolor\":\"#506784\",\"linecolor\":\"#506784\",\"ticks\":\"\"},\"caxis\":{\"gridcolor\":\"#506784\",\"linecolor\":\"#506784\",\"ticks\":\"\"}},\"coloraxis\":{\"colorbar\":{\"outlinewidth\":0,\"ticks\":\"\"}},\"colorscale\":{\"sequential\":[[0.0,\"#0d0887\"],[0.1111111111111111,\"#46039f\"],[0.2222222222222222,\"#7201a8\"],[0.3333333333333333,\"#9c179e\"],[0.4444444444444444,\"#bd3786\"],[0.5555555555555556,\"#d8576b\"],[0.6666666666666666,\"#ed7953\"],[0.7777777777777778,\"#fb9f3a\"],[0.8888888888888888,\"#fdca26\"],[1.0,\"#f0f921\"]],\"sequentialminus\":[[0.0,\"#0d0887\"],[0.1111111111111111,\"#46039f\"],[0.2222222222222222,\"#7201a8\"],[0.3333333333333333,\"#9c179e\"],[0.4444444444444444,\"#bd3786\"],[0.5555555555555556,\"#d8576b\"],[0.6666666666666666,\"#ed7953\"],[0.7777777777777778,\"#fb9f3a\"],[0.8888888888888888,\"#fdca26\"],[1.0,\"#f0f921\"]],\"diverging\":[[0,\"#8e0152\"],[0.1,\"#c51b7d\"],[0.2,\"#de77ae\"],[0.3,\"#f1b6da\"],[0.4,\"#fde0ef\"],[0.5,\"#f7f7f7\"],[0.6,\"#e6f5d0\"],[0.7,\"#b8e186\"],[0.8,\"#7fbc41\"],[0.9,\"#4d9221\"],[1,\"#276419\"]]},\"xaxis\":{\"gridcolor\":\"#283442\",\"linecolor\":\"#506784\",\"ticks\":\"\",\"title\":{\"standoff\":15},\"zerolinecolor\":\"#283442\",\"automargin\":true,\"zerolinewidth\":2},\"yaxis\":{\"gridcolor\":\"#283442\",\"linecolor\":\"#506784\",\"ticks\":\"\",\"title\":{\"standoff\":15},\"zerolinecolor\":\"#283442\",\"automargin\":true,\"zerolinewidth\":2},\"scene\":{\"xaxis\":{\"backgroundcolor\":\"rgb(17,17,17)\",\"gridcolor\":\"#506784\",\"linecolor\":\"#506784\",\"showbackground\":true,\"ticks\":\"\",\"zerolinecolor\":\"#C8D4E3\",\"gridwidth\":2},\"yaxis\":{\"backgroundcolor\":\"rgb(17,17,17)\",\"gridcolor\":\"#506784\",\"linecolor\":\"#506784\",\"showbackground\":true,\"ticks\":\"\",\"zerolinecolor\":\"#C8D4E3\",\"gridwidth\":2},\"zaxis\":{\"backgroundcolor\":\"rgb(17,17,17)\",\"gridcolor\":\"#506784\",\"linecolor\":\"#506784\",\"showbackground\":true,\"ticks\":\"\",\"zerolinecolor\":\"#C8D4E3\",\"gridwidth\":2}},\"shapedefaults\":{\"line\":{\"color\":\"#f2f5fa\"}},\"annotationdefaults\":{\"arrowcolor\":\"#f2f5fa\",\"arrowhead\":0,\"arrowwidth\":1},\"geo\":{\"bgcolor\":\"rgb(17,17,17)\",\"landcolor\":\"rgb(17,17,17)\",\"subunitcolor\":\"#506784\",\"showland\":true,\"showlakes\":true,\"lakecolor\":\"rgb(17,17,17)\"},\"title\":{\"x\":0.05},\"updatemenudefaults\":{\"bgcolor\":\"#506784\",\"borderwidth\":0},\"sliderdefaults\":{\"bgcolor\":\"#C8D4E3\",\"borderwidth\":1,\"bordercolor\":\"rgb(17,17,17)\",\"tickwidth\":0},\"mapbox\":{\"style\":\"dark\"}}},\"xaxis\":{\"anchor\":\"y\",\"domain\":[0.0,1.0],\"title\":{\"text\":\"\\u0418\\u043d\\u0434\\u0435\\u043a\\u0441 \\u0443\\u0441\\u043f\\u0435\\u0432\\u0430\\u0435\\u043c\\u043e\\u0441\\u0442\\u0438\"}},\"yaxis\":{\"anchor\":\"x\",\"domain\":[0.0,1.0],\"title\":{\"text\":\"\\u041a\\u043e\\u043b\\u0438\\u0447\\u0435\\u0441\\u0442\\u0432\\u043e \\u043f\\u0435\\u0440\\u0435\\u0441\\u0434\\u0430\\u0447\"}},\"legend\":{\"title\":{\"text\":\"\\u041a\\u043b\\u0430\\u0441\\u0442\\u0435\\u0440\"},\"tracegroupgap\":0},\"title\":{\"text\":\"\\u041a\\u043b\\u0430\\u0441\\u0442\\u0435\\u0440\\u0438\\u0437\\u0430\\u0446\\u0438\\u044f \\u0441\\u0442\\u0443\\u0434\\u0435\\u043d\\u0442\\u043e\\u0432 \\u043f\\u043e \\u0438\\u043d\\u0434\\u0435\\u043a\\u0441\\u0443 \\u0443\\u0441\\u043f\\u0435\\u0432\\u0430\\u0435\\u043c\\u043e\\u0441\\u0442\\u0438 \\u0438 \\u043a\\u043e\\u043b\\u0438\\u0447\\u0435\\u0441\\u0442\\u0432\\u0443 \\u043f\\u0435\\u0440\\u0435\\u0441\\u0434\\u0430\\u0447\"}},                        {\"responsive\": true}                    ).then(function(){\n                            \nvar gd = document.getElementById('8cb1f0d7-7739-45c3-b8a0-621ac9149db4');\nvar x = new MutationObserver(function (mutations, observer) {{\n        var display = window.getComputedStyle(gd).display;\n        if (!display || display === 'none') {{\n            console.log([gd, 'removed!']);\n            Plotly.purge(gd);\n            observer.disconnect();\n        }}\n}});\n\n// Listen for the removal of the full notebook cells\nvar notebookContainer = gd.closest('#notebook-container');\nif (notebookContainer) {{\n    x.observe(notebookContainer, {childList: true});\n}}\n\n// Listen for the clearing of the current output cell\nvar outputEl = gd.closest('.output');\nif (outputEl) {{\n    x.observe(outputEl, {childList: true});\n}}\n\n                        })                };                });            </script>        </div>"
     },
     "metadata": {},
     "output_type": "display_data"
    }
   ],
   "source": [
    "# Нормализация данных\n",
    "scaler = StandardScaler()\n",
    "scaled_features = scaler.fit_transform(bachelor_data[['performance_index', 'repeat_num']])\n",
    "\n",
    "kmeans = KMeans(n_clusters=4, random_state=42)\n",
    "bachelor_data['cluster'] = kmeans.fit_predict(scaled_features)\n",
    "bachelor_data['cluster'] = bachelor_data['cluster'].astype(str)\n",
    "\n",
    "fig = px.scatter(\n",
    "    bachelor_data,\n",
    "    x='performance_index',\n",
    "    y='repeat_num',\n",
    "    title='Кластеризация студентов по индексу успеваемости и количеству пересдач',\n",
    "    labels={'performance_index': 'Индекс успеваемости', \n",
    "            'repeat_num': 'Количество пересдач'},\n",
    "    color='cluster',\n",
    "    hover_data='Номер ЛД',\n",
    ")\n",
    "\n",
    "fig.update_layout(legend_title_text='Кластер')\n",
    "fig.show()"
   ],
   "metadata": {
    "collapsed": false,
    "ExecuteTime": {
     "end_time": "2024-05-27T09:50:18.755608Z",
     "start_time": "2024-05-27T09:50:18.721236Z"
    }
   },
   "id": "46d92204b383d1a9",
   "execution_count": 157
  },
  {
   "cell_type": "code",
   "outputs": [
    {
     "data": {
      "text/plain": "  cluster performance_index           repeat_num          \n                       mean       std       mean       std\n0       0          0.884676  0.076267   0.026974  0.073295\n1       1          0.785272  0.070414   0.441761  0.155716\n2       2          0.638780  0.135115   1.816667  0.529675\n3       3          0.554389  0.094262   0.286950  0.232618",
      "text/html": "<div>\n<style scoped>\n    .dataframe tbody tr th:only-of-type {\n        vertical-align: middle;\n    }\n\n    .dataframe tbody tr th {\n        vertical-align: top;\n    }\n\n    .dataframe thead tr th {\n        text-align: left;\n    }\n</style>\n<table border=\"1\" class=\"dataframe\">\n  <thead>\n    <tr>\n      <th></th>\n      <th>cluster</th>\n      <th colspan=\"2\" halign=\"left\">performance_index</th>\n      <th colspan=\"2\" halign=\"left\">repeat_num</th>\n    </tr>\n    <tr>\n      <th></th>\n      <th></th>\n      <th>mean</th>\n      <th>std</th>\n      <th>mean</th>\n      <th>std</th>\n    </tr>\n  </thead>\n  <tbody>\n    <tr>\n      <th>0</th>\n      <td>0</td>\n      <td>0.884676</td>\n      <td>0.076267</td>\n      <td>0.026974</td>\n      <td>0.073295</td>\n    </tr>\n    <tr>\n      <th>1</th>\n      <td>1</td>\n      <td>0.785272</td>\n      <td>0.070414</td>\n      <td>0.441761</td>\n      <td>0.155716</td>\n    </tr>\n    <tr>\n      <th>2</th>\n      <td>2</td>\n      <td>0.638780</td>\n      <td>0.135115</td>\n      <td>1.816667</td>\n      <td>0.529675</td>\n    </tr>\n    <tr>\n      <th>3</th>\n      <td>3</td>\n      <td>0.554389</td>\n      <td>0.094262</td>\n      <td>0.286950</td>\n      <td>0.232618</td>\n    </tr>\n  </tbody>\n</table>\n</div>"
     },
     "execution_count": 158,
     "metadata": {},
     "output_type": "execute_result"
    }
   ],
   "source": [
    "cluster_stats = (bachelor_data\n",
    "                 .groupby('cluster')\n",
    "                 .agg({'performance_index': ['mean', 'std'],\n",
    "                       'repeat_num': ['mean', 'std'],})\n",
    "                 .reset_index())\n",
    "cluster_stats"
   ],
   "metadata": {
    "collapsed": false,
    "ExecuteTime": {
     "end_time": "2024-05-27T09:50:18.768762Z",
     "start_time": "2024-05-27T09:50:18.757629Z"
    }
   },
   "id": "18f06cb3333a9e90",
   "execution_count": 158
  },
  {
   "cell_type": "markdown",
   "source": [
    "Самым оптимальным решением было установить n_cluster = 4.\n",
    "Таким образом, мы смогли разбить студентов на группы.\n",
    "0 группа - относится к студентам со средним индексом 0.88 - отличники \n",
    "1 группа - относится к студентам со средним индексом 0.78 - хорошисты\n",
    "2 группа - относится к студентам со средним индексом 0.63 - между троечниками и хорошистами\n",
    "3 группа - относится к студентам со средним индексом 0.55 - между троечниками и двоечниками"
   ],
   "metadata": {
    "collapsed": false
   },
   "id": "e83eb9cd9dab1355"
  }
 ],
 "metadata": {
  "kernelspec": {
   "display_name": "Python 3",
   "language": "python",
   "name": "python3"
  },
  "language_info": {
   "codemirror_mode": {
    "name": "ipython",
    "version": 2
   },
   "file_extension": ".py",
   "mimetype": "text/x-python",
   "name": "python",
   "nbconvert_exporter": "python",
   "pygments_lexer": "ipython2",
   "version": "2.7.6"
  }
 },
 "nbformat": 4,
 "nbformat_minor": 5
}
